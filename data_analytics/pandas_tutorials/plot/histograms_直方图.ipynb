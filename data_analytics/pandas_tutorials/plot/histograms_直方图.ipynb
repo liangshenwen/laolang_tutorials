{
 "cells": [
  {
   "cell_type": "markdown",
   "id": "eca740b3-f64a-4110-9e55-acd1660f7ba2",
   "metadata": {},
   "source": [
    "https://pandas.pydata.org/docs/user_guide/visualization.html#histograms"
   ]
  },
  {
   "cell_type": "code",
   "execution_count": 1,
   "id": "81de6f47-01d4-4e2a-a6c7-3a3b7be5559b",
   "metadata": {},
   "outputs": [],
   "source": [
    "%matplotlib inline"
   ]
  },
  {
   "cell_type": "code",
   "execution_count": 2,
   "id": "c5a010e8-fd20-4900-b3d4-6cb9bc616e15",
   "metadata": {},
   "outputs": [],
   "source": [
    "import pandas as pd\n",
    "import numpy as np\n",
    "import matplotlib as plt"
   ]
  },
  {
   "cell_type": "code",
   "execution_count": 3,
   "id": "d570d4aa-251b-4418-8ca9-bf972585fe83",
   "metadata": {},
   "outputs": [
    {
     "data": {
      "text/html": [
       "<div>\n",
       "<style scoped>\n",
       "    .dataframe tbody tr th:only-of-type {\n",
       "        vertical-align: middle;\n",
       "    }\n",
       "\n",
       "    .dataframe tbody tr th {\n",
       "        vertical-align: top;\n",
       "    }\n",
       "\n",
       "    .dataframe thead th {\n",
       "        text-align: right;\n",
       "    }\n",
       "</style>\n",
       "<table border=\"1\" class=\"dataframe\">\n",
       "  <thead>\n",
       "    <tr style=\"text-align: right;\">\n",
       "      <th></th>\n",
       "      <th>a</th>\n",
       "      <th>b</th>\n",
       "      <th>c</th>\n",
       "    </tr>\n",
       "  </thead>\n",
       "  <tbody>\n",
       "    <tr>\n",
       "      <th>0</th>\n",
       "      <td>1.933458</td>\n",
       "      <td>1.344636</td>\n",
       "      <td>0.416947</td>\n",
       "    </tr>\n",
       "    <tr>\n",
       "      <th>1</th>\n",
       "      <td>2.002344</td>\n",
       "      <td>-1.979772</td>\n",
       "      <td>-0.585782</td>\n",
       "    </tr>\n",
       "    <tr>\n",
       "      <th>2</th>\n",
       "      <td>-0.479244</td>\n",
       "      <td>0.670085</td>\n",
       "      <td>-2.146185</td>\n",
       "    </tr>\n",
       "    <tr>\n",
       "      <th>3</th>\n",
       "      <td>1.620688</td>\n",
       "      <td>0.666979</td>\n",
       "      <td>0.261140</td>\n",
       "    </tr>\n",
       "    <tr>\n",
       "      <th>4</th>\n",
       "      <td>0.593626</td>\n",
       "      <td>0.760431</td>\n",
       "      <td>-3.049977</td>\n",
       "    </tr>\n",
       "    <tr>\n",
       "      <th>...</th>\n",
       "      <td>...</td>\n",
       "      <td>...</td>\n",
       "      <td>...</td>\n",
       "    </tr>\n",
       "    <tr>\n",
       "      <th>995</th>\n",
       "      <td>3.302113</td>\n",
       "      <td>0.060083</td>\n",
       "      <td>-1.466008</td>\n",
       "    </tr>\n",
       "    <tr>\n",
       "      <th>996</th>\n",
       "      <td>0.916596</td>\n",
       "      <td>-0.536093</td>\n",
       "      <td>-1.342828</td>\n",
       "    </tr>\n",
       "    <tr>\n",
       "      <th>997</th>\n",
       "      <td>1.561571</td>\n",
       "      <td>0.320112</td>\n",
       "      <td>-0.076122</td>\n",
       "    </tr>\n",
       "    <tr>\n",
       "      <th>998</th>\n",
       "      <td>1.887106</td>\n",
       "      <td>-1.295178</td>\n",
       "      <td>-0.864115</td>\n",
       "    </tr>\n",
       "    <tr>\n",
       "      <th>999</th>\n",
       "      <td>0.865617</td>\n",
       "      <td>-1.481212</td>\n",
       "      <td>0.670513</td>\n",
       "    </tr>\n",
       "  </tbody>\n",
       "</table>\n",
       "<p>1000 rows × 3 columns</p>\n",
       "</div>"
      ],
      "text/plain": [
       "            a         b         c\n",
       "0    1.933458  1.344636  0.416947\n",
       "1    2.002344 -1.979772 -0.585782\n",
       "2   -0.479244  0.670085 -2.146185\n",
       "3    1.620688  0.666979  0.261140\n",
       "4    0.593626  0.760431 -3.049977\n",
       "..        ...       ...       ...\n",
       "995  3.302113  0.060083 -1.466008\n",
       "996  0.916596 -0.536093 -1.342828\n",
       "997  1.561571  0.320112 -0.076122\n",
       "998  1.887106 -1.295178 -0.864115\n",
       "999  0.865617 -1.481212  0.670513\n",
       "\n",
       "[1000 rows x 3 columns]"
      ]
     },
     "execution_count": 3,
     "metadata": {},
     "output_type": "execute_result"
    }
   ],
   "source": [
    "df4 = pd.DataFrame(\n",
    "    {\n",
    "        \"a\": np.random.randn(1000) + 1,\n",
    "        \"b\": np.random.randn(1000),\n",
    "        \"c\": np.random.randn(1000) - 1,\n",
    "    },\n",
    "    columns=[\"a\", \"b\", \"c\"],\n",
    ")\n",
    "\n",
    "\n",
    "df4"
   ]
  },
  {
   "cell_type": "code",
   "execution_count": 4,
   "id": "6afb4b19-d63f-47b3-8011-a19fbc2b7165",
   "metadata": {},
   "outputs": [
    {
     "data": {
      "text/plain": [
       "<AxesSubplot:ylabel='Frequency'>"
      ]
     },
     "execution_count": 4,
     "metadata": {},
     "output_type": "execute_result"
    },
    {
     "data": {
      "image/png": "[encoded data removed]",
      "text/plain": [
       "<Figure size 432x288 with 1 Axes>"
      ]
     },
     "metadata": {
      "needs_background": "light"
     },
     "output_type": "display_data"
    }
   ],
   "source": [
    "df4.plot.hist(alpha=0.5)"
   ]
  },
  {
   "cell_type": "code",
   "execution_count": 6,
   "id": "e368c8cc-04a8-48be-aa63-071bf40f728e",
   "metadata": {},
   "outputs": [
    {
     "data": {
      "text/plain": [
       "<AxesSubplot:ylabel='Frequency'>"
      ]
     },
     "execution_count": 6,
     "metadata": {},
     "output_type": "execute_result"
    },
    {
     "data": {
      "image/png": "[encoded data removed]",
      "text/plain": [
       "<Figure size 432x288 with 1 Axes>"
      ]
     },
     "metadata": {
      "needs_background": "light"
     },
     "output_type": "display_data"
    }
   ],
   "source": [
    "df4.plot.hist(stacked=False, bins=20)"
   ]
  },
  {
   "cell_type": "code",
   "execution_count": 7,
   "id": "6ae96bed-c6b1-4aa5-b6b0-8b7b1cfb2cf7",
   "metadata": {},
   "outputs": [
    {
     "data": {
      "text/plain": [
       "<AxesSubplot:ylabel='Frequency'>"
      ]
     },
     "execution_count": 7,
     "metadata": {},
     "output_type": "execute_result"
    },
    {
     "data": {
      "image/png": "[encoded data removed]",
      "text/plain": [
       "<Figure size 432x288 with 1 Axes>"
      ]
     },
     "metadata": {
      "needs_background": "light"
     },
     "output_type": "display_data"
    }
   ],
   "source": [
    "df4.plot.hist(stacked=True, bins=20)"
   ]
  },
  {
   "cell_type": "code",
   "execution_count": 9,
   "id": "c4b080a5-9738-48f3-9e24-5d4be8476b00",
   "metadata": {},
   "outputs": [
    {
     "data": {
      "image/png": "[encoded data removed]",
      "text/plain": [
       "<Figure size 432x288 with 1 Axes>"
      ]
     },
     "metadata": {
      "needs_background": "light"
     },
     "output_type": "display_data"
    }
   ],
   "source": [
    "df4[\"a\"].plot.hist(orientation=\"horizontal\", cumulative=True)"
   ]
  },
  {
   "cell_type": "code",
   "execution_count": 10,
   "id": "5c89a49f-869b-478b-8396-06162a4fa201",
   "metadata": {},
   "outputs": [
    {
     "data": {
      "text/plain": [
       "<AxesSubplot:xlabel='Frequency'>"
      ]
     },
     "execution_count": 10,
     "metadata": {},
     "output_type": "execute_result"
    },
    {
     "data": {
      "image/png": "[encoded data removed]",
      "text/plain": [
       "<Figure size 432x288 with 1 Axes>"
      ]
     },
     "metadata": {
      "needs_background": "light"
     },
     "output_type": "display_data"
    }
   ],
   "source": [
    "df4[\"a\"].plot.hist(orientation=\"horizontal\", cumulative=False)"
   ]
  },
  {
   "cell_type": "code",
   "execution_count": 14,
   "id": "75e3bf6a-582e-48f9-af61-8c6a74119b18",
   "metadata": {},
   "outputs": [
    {
     "data": {
      "text/plain": [
       "0           NaN\n",
       "1      0.068887\n",
       "2     -2.481588\n",
       "3      2.099931\n",
       "4     -1.027061\n",
       "         ...   \n",
       "995    1.433023\n",
       "996   -2.385518\n",
       "997    0.644976\n",
       "998    0.325534\n",
       "999   -1.021489\n",
       "Name: a, Length: 1000, dtype: float64"
      ]
     },
     "execution_count": 14,
     "metadata": {},
     "output_type": "execute_result"
    }
   ],
   "source": [
    "df4[\"a\"].diff()"
   ]
  },
  {
   "cell_type": "code",
   "execution_count": 13,
   "id": "89328ad6-a805-4af8-87fe-a5fb6a75d8a2",
   "metadata": {},
   "outputs": [
    {
     "data": {
      "text/plain": [
       "<AxesSubplot:>"
      ]
     },
     "execution_count": 13,
     "metadata": {},
     "output_type": "execute_result"
    },
    {
     "data": {
      "image/png": "[encoded data removed]",
      "text/plain": [
       "<Figure size 432x288 with 1 Axes>"
      ]
     },
     "metadata": {
      "needs_background": "light"
     },
     "output_type": "display_data"
    }
   ],
   "source": [
    "df4[\"a\"].diff().hist()"
   ]
  },
  {
   "cell_type": "code",
   "execution_count": 18,
   "id": "4089186e-3222-4e72-af27-06f55c1e2e00",
   "metadata": {},
   "outputs": [
    {
     "data": {
      "text/plain": [
       "array([[<AxesSubplot:title={'center':'a'}>,\n",
       "        <AxesSubplot:title={'center':'c'}>]], dtype=object)"
      ]
     },
     "execution_count": 18,
     "metadata": {},
     "output_type": "execute_result"
    },
    {
     "data": {
      "image/png": "[encoded data removed]",
      "text/plain": [
       "<Figure size 432x288 with 2 Axes>"
      ]
     },
     "metadata": {
      "needs_background": "light"
     },
     "output_type": "display_data"
    }
   ],
   "source": [
    "df4.diff().hist(column=[\"a\",\"c\"], color=\"red\", alpha=0.5, bins=50)"
   ]
  },
  {
   "cell_type": "code",
   "execution_count": 19,
   "id": "398b0f18-1744-417a-bd91-dcc3ee2ddba0",
   "metadata": {},
   "outputs": [
    {
     "data": {
      "text/plain": [
       "0     -0.473181\n",
       "1     -0.104878\n",
       "2     -0.980295\n",
       "3      1.741827\n",
       "4      0.603235\n",
       "         ...   \n",
       "995   -1.053160\n",
       "996   -2.735232\n",
       "997    0.759756\n",
       "998   -0.264140\n",
       "999    0.376014\n",
       "Length: 1000, dtype: float64"
      ]
     },
     "execution_count": 19,
     "metadata": {},
     "output_type": "execute_result"
    }
   ],
   "source": [
    "data = pd.Series(np.random.randn(1000))\n",
    "data"
   ]
  },
  {
   "cell_type": "code",
   "execution_count": 20,
   "id": "ef50b1d1-f381-4b3e-a84b-80daf520e34b",
   "metadata": {},
   "outputs": [
    {
     "data": {
      "text/plain": [
       "array([2, 2, 1, 3, 1, 0, 0, 0, 3, 0, 1, 2, 0, 3, 3, 2, 1, 3, 2, 3, 2, 2,\n",
       "       1, 0, 0, 2, 2, 2, 1, 0, 3, 0, 2, 0, 0, 0, 0, 0, 3, 1, 2, 3, 0, 2,\n",
       "       2, 1, 3, 0, 0, 1, 3, 2, 1, 0, 1, 3, 3, 1, 3, 2, 0, 1, 1, 1, 3, 2,\n",
       "       1, 1, 2, 0, 1, 3, 3, 1, 2, 1, 1, 0, 0, 3, 2, 1, 3, 3, 1, 2, 1, 3,\n",
       "       2, 3, 3, 2, 2, 0, 1, 0, 2, 0, 0, 0, 2, 3, 3, 3, 1, 3, 0, 0, 0, 0,\n",
       "       2, 1, 2, 1, 2, 1, 0, 3, 3, 1, 0, 1, 0, 2, 0, 1, 0, 1, 3, 2, 3, 0,\n",
       "       0, 2, 1, 1, 3, 0, 0, 2, 1, 3, 0, 0, 1, 1, 0, 2, 1, 1, 1, 2, 0, 2,\n",
       "       2, 2, 1, 0, 0, 3, 0, 2, 1, 0, 0, 3, 2, 0, 2, 3, 3, 1, 1, 0, 1, 2,\n",
       "       0, 2, 0, 3, 1, 0, 0, 3, 1, 0, 1, 3, 0, 2, 3, 2, 3, 2, 2, 2, 1, 0,\n",
       "       3, 1, 1, 2, 0, 0, 1, 1, 2, 0, 0, 2, 1, 1, 3, 1, 3, 0, 0, 0, 0, 1,\n",
       "       0, 3, 3, 2, 0, 2, 1, 0, 3, 3, 0, 1, 3, 2, 0, 1, 2, 1, 2, 3, 0, 2,\n",
       "       0, 1, 3, 3, 3, 0, 0, 0, 3, 2, 0, 2, 3, 1, 2, 1, 3, 0, 3, 1, 2, 0,\n",
       "       2, 3, 3, 0, 3, 2, 3, 2, 3, 0, 3, 2, 0, 3, 0, 0, 2, 1, 1, 3, 1, 1,\n",
       "       3, 0, 0, 1, 1, 3, 3, 1, 3, 2, 0, 1, 1, 0, 3, 1, 3, 1, 0, 2, 0, 3,\n",
       "       0, 2, 3, 3, 1, 1, 3, 2, 0, 3, 3, 0, 1, 0, 0, 1, 1, 2, 2, 1, 2, 2,\n",
       "       3, 3, 1, 1, 1, 1, 3, 2, 3, 0, 3, 2, 3, 3, 1, 2, 0, 3, 1, 2, 0, 3,\n",
       "       1, 3, 2, 3, 2, 0, 0, 0, 2, 3, 3, 0, 0, 3, 3, 1, 1, 2, 1, 0, 2, 3,\n",
       "       0, 0, 0, 1, 3, 3, 2, 1, 0, 3, 3, 2, 0, 2, 1, 2, 3, 0, 3, 2, 0, 2,\n",
       "       3, 2, 0, 3, 1, 0, 2, 1, 3, 2, 0, 1, 0, 3, 2, 0, 2, 0, 1, 1, 1, 2,\n",
       "       0, 0, 2, 0, 0, 2, 1, 1, 0, 1, 3, 0, 3, 3, 3, 2, 0, 1, 0, 2, 1, 1,\n",
       "       1, 2, 1, 1, 2, 3, 0, 3, 2, 2, 3, 3, 0, 3, 2, 3, 0, 1, 3, 0, 1, 0,\n",
       "       0, 2, 3, 1, 0, 2, 0, 1, 1, 1, 1, 2, 2, 1, 3, 2, 2, 1, 2, 2, 3, 0,\n",
       "       0, 1, 1, 1, 0, 3, 1, 3, 1, 3, 2, 1, 2, 1, 1, 2, 1, 2, 2, 1, 0, 0,\n",
       "       2, 0, 0, 3, 0, 1, 3, 0, 1, 0, 1, 3, 3, 1, 3, 0, 1, 3, 3, 1, 3, 2,\n",
       "       2, 0, 0, 0, 2, 3, 0, 0, 3, 3, 3, 3, 2, 2, 0, 0, 3, 1, 1, 0, 2, 3,\n",
       "       1, 3, 2, 0, 1, 3, 2, 2, 3, 3, 2, 0, 1, 2, 3, 0, 3, 3, 3, 0, 1, 2,\n",
       "       2, 1, 1, 1, 1, 2, 1, 0, 3, 3, 3, 0, 2, 0, 2, 0, 3, 1, 2, 0, 0, 2,\n",
       "       1, 0, 0, 2, 3, 0, 0, 3, 1, 0, 1, 3, 0, 0, 3, 0, 3, 0, 3, 2, 0, 0,\n",
       "       1, 0, 2, 3, 3, 1, 0, 3, 0, 2, 0, 0, 3, 3, 3, 3, 2, 0, 0, 1, 0, 3,\n",
       "       0, 0, 1, 3, 2, 2, 0, 2, 1, 0, 3, 2, 3, 1, 0, 0, 0, 0, 2, 1, 0, 1,\n",
       "       1, 3, 0, 2, 2, 1, 3, 3, 1, 2, 0, 3, 1, 2, 1, 1, 2, 0, 3, 1, 0, 0,\n",
       "       3, 3, 2, 0, 3, 0, 2, 0, 2, 2, 2, 3, 3, 2, 1, 0, 2, 1, 1, 0, 3, 1,\n",
       "       2, 3, 2, 2, 0, 0, 0, 2, 2, 0, 3, 2, 1, 2, 1, 3, 2, 3, 3, 2, 0, 2,\n",
       "       1, 2, 0, 3, 1, 2, 2, 1, 3, 0, 2, 0, 0, 1, 0, 0, 1, 0, 3, 1, 1, 2,\n",
       "       0, 2, 0, 1, 3, 2, 2, 0, 1, 0, 2, 2, 1, 2, 1, 1, 1, 1, 3, 2, 0, 1,\n",
       "       1, 1, 2, 0, 3, 0, 3, 3, 2, 2, 0, 0, 0, 1, 3, 1, 0, 0, 1, 3, 1, 0,\n",
       "       0, 3, 3, 3, 0, 3, 3, 2, 1, 0, 2, 1, 1, 0, 0, 2, 1, 2, 1, 3, 2, 1,\n",
       "       2, 2, 1, 3, 1, 3, 1, 2, 0, 0, 3, 1, 3, 1, 1, 0, 3, 1, 2, 1, 3, 3,\n",
       "       1, 3, 1, 1, 3, 1, 1, 3, 1, 1, 0, 3, 1, 1, 1, 2, 3, 0, 3, 3, 1, 3,\n",
       "       0, 2, 3, 1, 3, 2, 1, 3, 3, 2, 0, 1, 1, 3, 2, 0, 3, 1, 1, 2, 0, 1,\n",
       "       1, 3, 3, 1, 2, 2, 0, 2, 2, 1, 1, 0, 0, 2, 0, 3, 3, 0, 2, 3, 2, 1,\n",
       "       0, 2, 2, 3, 0, 0, 0, 1, 1, 1, 3, 0, 3, 2, 0, 3, 3, 1, 1, 1, 1, 3,\n",
       "       3, 3, 0, 0, 1, 1, 3, 2, 3, 2, 3, 0, 3, 0, 2, 1, 1, 2, 1, 0, 3, 0,\n",
       "       0, 3, 2, 2, 1, 2, 3, 0, 0, 1, 0, 3, 0, 3, 0, 2, 1, 0, 1, 0, 0, 2,\n",
       "       1, 3, 3, 0, 1, 0, 3, 1, 1, 3, 1, 2, 1, 1, 1, 2, 2, 2, 1, 2, 0, 3,\n",
       "       3, 1, 2, 2, 3, 1, 0, 1, 2, 1])"
      ]
     },
     "execution_count": 20,
     "metadata": {},
     "output_type": "execute_result"
    }
   ],
   "source": [
    "np.random.randint(0, 4, 1000)"
   ]
  },
  {
   "cell_type": "code",
   "execution_count": 21,
   "id": "c73377ff-34b0-4c22-9f3d-df92b6f8e16e",
   "metadata": {},
   "outputs": [
    {
     "data": {
      "text/plain": [
       "array([[<AxesSubplot:title={'center':'0'}>,\n",
       "        <AxesSubplot:title={'center':'1'}>],\n",
       "       [<AxesSubplot:title={'center':'2'}>,\n",
       "        <AxesSubplot:title={'center':'3'}>]], dtype=object)"
      ]
     },
     "execution_count": 21,
     "metadata": {},
     "output_type": "execute_result"
    },
    {
     "data": {
      "image/png": "[encoded data removed]",
      "text/plain": [
       "<Figure size 432x288 with 4 Axes>"
      ]
     },
     "metadata": {
      "needs_background": "light"
     },
     "output_type": "display_data"
    }
   ],
   "source": [
    "data.hist(by=np.random.randint(0, 4, 1000), figsize=(6, 4))"
   ]
  },
  {
   "cell_type": "code",
   "execution_count": 22,
   "id": "c3ce0edf-b2fc-4bc1-837e-61342bc9e051",
   "metadata": {},
   "outputs": [
    {
     "data": {
      "text/html": [
       "<div>\n",
       "<style scoped>\n",
       "    .dataframe tbody tr th:only-of-type {\n",
       "        vertical-align: middle;\n",
       "    }\n",
       "\n",
       "    .dataframe tbody tr th {\n",
       "        vertical-align: top;\n",
       "    }\n",
       "\n",
       "    .dataframe thead th {\n",
       "        text-align: right;\n",
       "    }\n",
       "</style>\n",
       "<table border=\"1\" class=\"dataframe\">\n",
       "  <thead>\n",
       "    <tr style=\"text-align: right;\">\n",
       "      <th></th>\n",
       "      <th>a</th>\n",
       "      <th>b</th>\n",
       "      <th>c</th>\n",
       "      <th>d</th>\n",
       "    </tr>\n",
       "  </thead>\n",
       "  <tbody>\n",
       "    <tr>\n",
       "      <th>0</th>\n",
       "      <td>z</td>\n",
       "      <td>f</td>\n",
       "      <td>1.613561</td>\n",
       "      <td>0.054449</td>\n",
       "    </tr>\n",
       "    <tr>\n",
       "      <th>1</th>\n",
       "      <td>z</td>\n",
       "      <td>g</td>\n",
       "      <td>-0.690437</td>\n",
       "      <td>-1.073349</td>\n",
       "    </tr>\n",
       "    <tr>\n",
       "      <th>2</th>\n",
       "      <td>y</td>\n",
       "      <td>g</td>\n",
       "      <td>1.707040</td>\n",
       "      <td>-1.449829</td>\n",
       "    </tr>\n",
       "    <tr>\n",
       "      <th>3</th>\n",
       "      <td>z</td>\n",
       "      <td>e</td>\n",
       "      <td>-0.546126</td>\n",
       "      <td>0.472737</td>\n",
       "    </tr>\n",
       "    <tr>\n",
       "      <th>4</th>\n",
       "      <td>x</td>\n",
       "      <td>e</td>\n",
       "      <td>-0.330136</td>\n",
       "      <td>-1.260199</td>\n",
       "    </tr>\n",
       "    <tr>\n",
       "      <th>...</th>\n",
       "      <td>...</td>\n",
       "      <td>...</td>\n",
       "      <td>...</td>\n",
       "      <td>...</td>\n",
       "    </tr>\n",
       "    <tr>\n",
       "      <th>995</th>\n",
       "      <td>x</td>\n",
       "      <td>e</td>\n",
       "      <td>0.943747</td>\n",
       "      <td>-1.644215</td>\n",
       "    </tr>\n",
       "    <tr>\n",
       "      <th>996</th>\n",
       "      <td>z</td>\n",
       "      <td>e</td>\n",
       "      <td>-0.088684</td>\n",
       "      <td>-0.527415</td>\n",
       "    </tr>\n",
       "    <tr>\n",
       "      <th>997</th>\n",
       "      <td>z</td>\n",
       "      <td>e</td>\n",
       "      <td>-1.910442</td>\n",
       "      <td>-0.676891</td>\n",
       "    </tr>\n",
       "    <tr>\n",
       "      <th>998</th>\n",
       "      <td>y</td>\n",
       "      <td>g</td>\n",
       "      <td>0.482217</td>\n",
       "      <td>-0.915609</td>\n",
       "    </tr>\n",
       "    <tr>\n",
       "      <th>999</th>\n",
       "      <td>z</td>\n",
       "      <td>g</td>\n",
       "      <td>-1.959536</td>\n",
       "      <td>-1.325079</td>\n",
       "    </tr>\n",
       "  </tbody>\n",
       "</table>\n",
       "<p>1000 rows × 4 columns</p>\n",
       "</div>"
      ],
      "text/plain": [
       "     a  b         c         d\n",
       "0    z  f  1.613561  0.054449\n",
       "1    z  g -0.690437 -1.073349\n",
       "2    y  g  1.707040 -1.449829\n",
       "3    z  e -0.546126  0.472737\n",
       "4    x  e -0.330136 -1.260199\n",
       "..  .. ..       ...       ...\n",
       "995  x  e  0.943747 -1.644215\n",
       "996  z  e -0.088684 -0.527415\n",
       "997  z  e -1.910442 -0.676891\n",
       "998  y  g  0.482217 -0.915609\n",
       "999  z  g -1.959536 -1.325079\n",
       "\n",
       "[1000 rows x 4 columns]"
      ]
     },
     "execution_count": 22,
     "metadata": {},
     "output_type": "execute_result"
    }
   ],
   "source": [
    "data = pd.DataFrame(\n",
    "    {\n",
    "        \"a\": np.random.choice([\"x\", \"y\", \"z\"], 1000),\n",
    "        \"b\": np.random.choice([\"e\", \"f\", \"g\"], 1000),\n",
    "        \"c\": np.random.randn(1000),\n",
    "        \"d\": np.random.randn(1000) - 1,\n",
    "    }\n",
    ")\n",
    "data"
   ]
  },
  {
   "cell_type": "code",
   "execution_count": 23,
   "id": "52efc567-c58d-4cbe-8895-8b11fa3a9def",
   "metadata": {},
   "outputs": [
    {
     "data": {
      "image/png": "[encoded data removed]",
      "text/plain": [
       "<Figure size 720x360 with 9 Axes>"
      ]
     },
     "metadata": {
      "needs_background": "light"
     },
     "output_type": "display_data"
    }
   ],
   "source": [
    "data.plot.hist(by=[\"a\", \"b\"], figsize=(10, 5));"
   ]
  },
  {
   "cell_type": "code",
   "execution_count": 8,
   "id": "a9136d61-6cc5-4f8f-ab00-f8e617a9ca94",
   "metadata": {},
   "outputs": [
    {
     "name": "stdout",
     "output_type": "stream",
     "text": [
      "Help on method hist in module pandas.plotting._core:\n",
      "\n",
      "hist(by=None, bins=10, **kwargs) method of pandas.plotting._core.PlotAccessor instance\n",
      "    Draw one histogram of the DataFrame's columns.\n",
      "    \n",
      "    A histogram is a representation of the distribution of data.\n",
      "    This function groups the values of all given Series in the DataFrame\n",
      "    into bins and draws all bins in one :class:`matplotlib.axes.Axes`.\n",
      "    This is useful when the DataFrame's Series are in a similar scale.\n",
      "    \n",
      "    Parameters\n",
      "    ----------\n",
      "    by : str or sequence, optional\n",
      "        Column in the DataFrame to group by.\n",
      "    \n",
      "        .. versionchanged:: 1.4.0\n",
      "    \n",
      "           Previously, `by` is silently ignore and makes no groupings\n",
      "    \n",
      "    bins : int, default 10\n",
      "        Number of histogram bins to be used.\n",
      "    **kwargs\n",
      "        Additional keyword arguments are documented in\n",
      "        :meth:`DataFrame.plot`.\n",
      "    \n",
      "    Returns\n",
      "    -------\n",
      "    class:`matplotlib.AxesSubplot`\n",
      "        Return a histogram plot.\n",
      "    \n",
      "    See Also\n",
      "    --------\n",
      "    DataFrame.hist : Draw histograms per DataFrame's Series.\n",
      "    Series.hist : Draw a histogram with Series' data.\n",
      "    \n",
      "    Examples\n",
      "    --------\n",
      "    When we roll a die 6000 times, we expect to get each value around 1000\n",
      "    times. But when we roll two dice and sum the result, the distribution\n",
      "    is going to be quite different. A histogram illustrates those\n",
      "    distributions.\n",
      "    \n",
      "    .. plot::\n",
      "        :context: close-figs\n",
      "    \n",
      "        >>> df = pd.DataFrame(\n",
      "        ...     np.random.randint(1, 7, 6000),\n",
      "        ...     columns = ['one'])\n",
      "        >>> df['two'] = df['one'] + np.random.randint(1, 7, 6000)\n",
      "        >>> ax = df.plot.hist(bins=12, alpha=0.5)\n",
      "    \n",
      "    A grouped histogram can be generated by providing the parameter `by` (which\n",
      "    can be a column name, or a list of column names):\n",
      "    \n",
      "    .. plot::\n",
      "        :context: close-figs\n",
      "    \n",
      "        >>> age_list = [8, 10, 12, 14, 72, 74, 76, 78, 20, 25, 30, 35, 60, 85]\n",
      "        >>> df = pd.DataFrame({\"gender\": list(\"MMMMMMMMFFFFFF\"), \"age\": age_list})\n",
      "        >>> ax = df.plot.hist(column=[\"age\"], by=\"gender\", figsize=(10, 8))\n",
      "\n"
     ]
    }
   ],
   "source": [
    "help(df4.plot.hist)"
   ]
  },
  {
   "cell_type": "code",
   "execution_count": null,
   "id": "9d3a24ea-e160-4830-ae0f-10ac1b20e067",
   "metadata": {},
   "outputs": [],
   "source": []
  }
 ],
 "metadata": {
  "kernelspec": {
   "display_name": "Python 3 (ipykernel)",
   "language": "python",
   "name": "python3"
  },
  "language_info": {
   "codemirror_mode": {
    "name": "ipython",
    "version": 3
   },
   "file_extension": ".py",
   "mimetype": "text/x-python",
   "name": "python",
   "nbconvert_exporter": "python",
   "pygments_lexer": "ipython3",
   "version": "3.10.5"
  }
 },
 "nbformat": 4,
 "nbformat_minor": 5
}
