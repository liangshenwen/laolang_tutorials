{
 "cells": [
  {
   "cell_type": "markdown",
   "id": "eca740b3-f64a-4110-9e55-acd1660f7ba2",
   "metadata": {},
   "source": [
    "https://pandas.pydata.org/docs/user_guide/visualization.html#bar-plots"
   ]
  },
  {
   "cell_type": "code",
   "execution_count": 1,
   "id": "81de6f47-01d4-4e2a-a6c7-3a3b7be5559b",
   "metadata": {},
   "outputs": [],
   "source": [
    "%matplotlib inline"
   ]
  },
  {
   "cell_type": "code",
   "execution_count": 2,
   "id": "c5a010e8-fd20-4900-b3d4-6cb9bc616e15",
   "metadata": {},
   "outputs": [],
   "source": [
    "import pandas as pd\n",
    "import numpy as np\n",
    "import matplotlib as plt"
   ]
  },
  {
   "cell_type": "code",
   "execution_count": 3,
   "id": "51570b9c-2e9a-4f91-8059-54432388d78f",
   "metadata": {},
   "outputs": [
    {
     "data": {
      "text/html": [
       "<div>\n",
       "<style scoped>\n",
       "    .dataframe tbody tr th:only-of-type {\n",
       "        vertical-align: middle;\n",
       "    }\n",
       "\n",
       "    .dataframe tbody tr th {\n",
       "        vertical-align: top;\n",
       "    }\n",
       "\n",
       "    .dataframe thead th {\n",
       "        text-align: right;\n",
       "    }\n",
       "</style>\n",
       "<table border=\"1\" class=\"dataframe\">\n",
       "  <thead>\n",
       "    <tr style=\"text-align: right;\">\n",
       "      <th></th>\n",
       "      <th>a</th>\n",
       "      <th>b</th>\n",
       "      <th>c</th>\n",
       "      <th>d</th>\n",
       "    </tr>\n",
       "  </thead>\n",
       "  <tbody>\n",
       "    <tr>\n",
       "      <th>0</th>\n",
       "      <td>0.284190</td>\n",
       "      <td>0.693197</td>\n",
       "      <td>0.768891</td>\n",
       "      <td>0.988229</td>\n",
       "    </tr>\n",
       "    <tr>\n",
       "      <th>1</th>\n",
       "      <td>0.533077</td>\n",
       "      <td>0.117894</td>\n",
       "      <td>0.320993</td>\n",
       "      <td>0.109480</td>\n",
       "    </tr>\n",
       "    <tr>\n",
       "      <th>2</th>\n",
       "      <td>0.071881</td>\n",
       "      <td>0.102833</td>\n",
       "      <td>0.303696</td>\n",
       "      <td>0.552387</td>\n",
       "    </tr>\n",
       "    <tr>\n",
       "      <th>3</th>\n",
       "      <td>0.452948</td>\n",
       "      <td>0.264492</td>\n",
       "      <td>0.893015</td>\n",
       "      <td>0.211948</td>\n",
       "    </tr>\n",
       "    <tr>\n",
       "      <th>4</th>\n",
       "      <td>0.311677</td>\n",
       "      <td>0.107785</td>\n",
       "      <td>0.125975</td>\n",
       "      <td>0.146942</td>\n",
       "    </tr>\n",
       "    <tr>\n",
       "      <th>5</th>\n",
       "      <td>0.512940</td>\n",
       "      <td>0.313073</td>\n",
       "      <td>0.812495</td>\n",
       "      <td>0.618489</td>\n",
       "    </tr>\n",
       "    <tr>\n",
       "      <th>6</th>\n",
       "      <td>0.573529</td>\n",
       "      <td>0.570779</td>\n",
       "      <td>0.299526</td>\n",
       "      <td>0.862571</td>\n",
       "    </tr>\n",
       "    <tr>\n",
       "      <th>7</th>\n",
       "      <td>0.468988</td>\n",
       "      <td>0.730209</td>\n",
       "      <td>0.425395</td>\n",
       "      <td>0.789793</td>\n",
       "    </tr>\n",
       "    <tr>\n",
       "      <th>8</th>\n",
       "      <td>0.111549</td>\n",
       "      <td>0.069901</td>\n",
       "      <td>0.664758</td>\n",
       "      <td>0.267516</td>\n",
       "    </tr>\n",
       "    <tr>\n",
       "      <th>9</th>\n",
       "      <td>0.194475</td>\n",
       "      <td>0.797306</td>\n",
       "      <td>0.816757</td>\n",
       "      <td>0.493862</td>\n",
       "    </tr>\n",
       "  </tbody>\n",
       "</table>\n",
       "</div>"
      ],
      "text/plain": [
       "          a         b         c         d\n",
       "0  0.284190  0.693197  0.768891  0.988229\n",
       "1  0.533077  0.117894  0.320993  0.109480\n",
       "2  0.071881  0.102833  0.303696  0.552387\n",
       "3  0.452948  0.264492  0.893015  0.211948\n",
       "4  0.311677  0.107785  0.125975  0.146942\n",
       "5  0.512940  0.313073  0.812495  0.618489\n",
       "6  0.573529  0.570779  0.299526  0.862571\n",
       "7  0.468988  0.730209  0.425395  0.789793\n",
       "8  0.111549  0.069901  0.664758  0.267516\n",
       "9  0.194475  0.797306  0.816757  0.493862"
      ]
     },
     "execution_count": 3,
     "metadata": {},
     "output_type": "execute_result"
    }
   ],
   "source": [
    "df2 = pd.DataFrame(np.random.rand(10, 4), columns=[\"a\", \"b\", \"c\", \"d\"])\n",
    "df2"
   ]
  },
  {
   "cell_type": "code",
   "execution_count": 6,
   "id": "40eb2093-86b0-4402-8714-92e5c8e024aa",
   "metadata": {},
   "outputs": [
    {
     "data": {
      "text/plain": [
       "<AxesSubplot:>"
      ]
     },
     "execution_count": 6,
     "metadata": {},
     "output_type": "execute_result"
    },
    {
     "data": {
      "image/png": "[encoded data removed]",
      "text/plain": [
       "<Figure size 432x288 with 1 Axes>"
      ]
     },
     "metadata": {
      "needs_background": "light"
     },
     "output_type": "display_data"
    }
   ],
   "source": [
    "df2.plot.bar()"
   ]
  },
  {
   "cell_type": "code",
   "execution_count": 5,
   "id": "ebb511f8-2755-44bc-9f73-e9be6544d784",
   "metadata": {},
   "outputs": [
    {
     "data": {
      "text/plain": [
       "<AxesSubplot:>"
      ]
     },
     "execution_count": 5,
     "metadata": {},
     "output_type": "execute_result"
    },
    {
     "data": {
      "image/png": "[encoded data removed]",
      "text/plain": [
       "<Figure size 432x288 with 1 Axes>"
      ]
     },
     "metadata": {
      "needs_background": "light"
     },
     "output_type": "display_data"
    }
   ],
   "source": [
    "df2.plot.bar(stacked=True)"
   ]
  },
  {
   "cell_type": "code",
   "execution_count": 7,
   "id": "425e53df-9237-4df3-b5b2-e5ebca183aa1",
   "metadata": {},
   "outputs": [
    {
     "data": {
      "text/plain": [
       "<AxesSubplot:>"
      ]
     },
     "execution_count": 7,
     "metadata": {},
     "output_type": "execute_result"
    },
    {
     "data": {
      "image/png": "[encoded data removed]",
      "text/plain": [
       "<Figure size 432x288 with 1 Axes>"
      ]
     },
     "metadata": {
      "needs_background": "light"
     },
     "output_type": "display_data"
    }
   ],
   "source": [
    "df2.plot.barh(stacked=True)"
   ]
  },
  {
   "cell_type": "code",
   "execution_count": null,
   "id": "00a59a8c-5c87-4f43-9270-4fe7b7dbb187",
   "metadata": {},
   "outputs": [],
   "source": []
  }
 ],
 "metadata": {
  "kernelspec": {
   "display_name": "Python 3 (ipykernel)",
   "language": "python",
   "name": "python3"
  },
  "language_info": {
   "codemirror_mode": {
    "name": "ipython",
    "version": 3
   },
   "file_extension": ".py",
   "mimetype": "text/x-python",
   "name": "python",
   "nbconvert_exporter": "python",
   "pygments_lexer": "ipython3",
   "version": "3.10.5"
  }
 },
 "nbformat": 4,
 "nbformat_minor": 5
}
