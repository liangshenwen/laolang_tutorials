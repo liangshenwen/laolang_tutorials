{
 "cells": [
  {
   "cell_type": "code",
   "execution_count": 1,
   "id": "92e6073f",
   "metadata": {},
   "outputs": [],
   "source": [
    "# 安装依赖\n",
    "!python -m pip install parquet-tools pandas pyarrow > pip_intall.log"
   ]
  },
  {
   "cell_type": "markdown",
   "id": "739ca290",
   "metadata": {},
   "source": [
    "本文尝试的是如何定义 Parquet 的 Schema, 然后据此填充数据并生成 Parquet 文件。 \n",
    "\n",
    "将演示两个例子，一个是没有层级的两个字段，另一个是含于嵌套级别的字段，将要使用到的 Python 模块有 pandas 和 pyarrow\n",
    "\n",
    "# 简单字段定义\n",
    "## 定义 Schema 并生成 Parquet 文件"
   ]
  },
  {
   "cell_type": "code",
   "execution_count": 2,
   "id": "63358d80",
   "metadata": {},
   "outputs": [],
   "source": [
    "import pandas as pd\n",
    "import pyarrow as pa\n",
    "import pyarrow.parquet as pq\n",
    "\n",
    "# 定义 Schema\n",
    "schema = pa.schema([\n",
    "    ('id', pa.int32()),\n",
    "    ('email', pa.string())\n",
    "])\n",
    "\n",
    "# 准备数据\n",
    "ids = pa.array([1, 2], type=pa.int32())\n",
    "emails = pa.array(['first@example.com', 'second@example.com'], type=pa.string())\n",
    "\n",
    "# 生成 Parquet 数据\n",
    "batch = pa.RecordBatch.from_arrays(\n",
    "    [ids, emails],\n",
    "    schema = schema\n",
    ")\n",
    "table = pa.Table.from_batches([batch])\n",
    "\n",
    "# 写 Parquet 文件 plain.parquet\n",
    "pq.write_table(table, 'plain.parquet')"
   ]
  },
  {
   "cell_type": "markdown",
   "id": "09df2fcb",
   "metadata": {},
   "source": [
    "## 写 Parquet 文件 plain.parquet\n",
    "```\n",
    "pq.write_table(table, ‘plain.parquet’ )\n",
    "```\n",
    "\n",
    "## 验证 Parquet 数据文件\n",
    "我们可以用工具 parquet-tools 来查看 plain.parquet 文件的数据和 Schema"
   ]
  },
  {
   "cell_type": "code",
   "execution_count": 3,
   "id": "be62088e",
   "metadata": {},
   "outputs": [
    {
     "name": "stdout",
     "output_type": "stream",
     "text": [
      "\n",
      "############ file meta data ############\n",
      "created_by: parquet-cpp-arrow version 8.0.0\n",
      "num_columns: 2\n",
      "num_rows: 2\n",
      "num_row_groups: 1\n",
      "format_version: 1.0\n",
      "serialized_size: 533\n",
      "\n",
      "\n",
      "############ Columns ############\n",
      "id\n",
      "email\n",
      "\n",
      "############ Column(id) ############\n",
      "name: id\n",
      "path: id\n",
      "max_definition_level: 1\n",
      "max_repetition_level: 0\n",
      "physical_type: INT32\n",
      "logical_type: None\n",
      "converted_type (legacy): NONE\n",
      "compression: SNAPPY (space_saved: -5%)\n",
      "\n",
      "############ Column(email) ############\n",
      "name: email\n",
      "path: email\n",
      "max_definition_level: 1\n",
      "max_repetition_level: 0\n",
      "physical_type: BYTE_ARRAY\n",
      "logical_type: String\n",
      "converted_type (legacy): UTF8\n",
      "compression: SNAPPY (space_saved: -3%)\n",
      "\n"
     ]
    }
   ],
   "source": [
    "! parquet-tools inspect plain.parquet"
   ]
  },
  {
   "cell_type": "code",
   "execution_count": 4,
   "id": "290c6406",
   "metadata": {},
   "outputs": [
    {
     "name": "stdout",
     "output_type": "stream",
     "text": [
      "+------+--------------------+\n",
      "|   id | email              |\n",
      "|------+--------------------|\n",
      "|    1 | first@example.com  |\n",
      "|    2 | second@example.com |\n",
      "+------+--------------------+\n"
     ]
    }
   ],
   "source": [
    "! parquet-tools show plain.parquet"
   ]
  },
  {
   "cell_type": "code",
   "execution_count": 5,
   "id": "c6a74260",
   "metadata": {},
   "outputs": [
    {
     "name": "stdout",
     "output_type": "stream",
     "text": [
      "id,email\n",
      "\n",
      "1,first@example.com\n",
      "\n",
      "2,second@example.com\n",
      "\n",
      "\n"
     ]
    }
   ],
   "source": [
    "! parquet-tools csv plain.parquet"
   ]
  },
  {
   "cell_type": "markdown",
   "id": "a0212c4d",
   "metadata": {},
   "source": [
    "没问题，与我们期望的一致。也可以用 pyarrow 代码来获取其中的 Schema 和数据"
   ]
  },
  {
   "cell_type": "code",
   "execution_count": 6,
   "id": "599970c9",
   "metadata": {},
   "outputs": [
    {
     "data": {
      "text/plain": [
       "id: int32\n",
       "email: string"
      ]
     },
     "execution_count": 6,
     "metadata": {},
     "output_type": "execute_result"
    }
   ],
   "source": [
    "schema = pq.read_schema('plain.parquet')\n",
    "schema"
   ]
  },
  {
   "cell_type": "code",
   "execution_count": 7,
   "id": "b3129da7",
   "metadata": {},
   "outputs": [
    {
     "data": {
      "text/plain": [
       "'{\"id\":{\"0\":1,\"1\":2},\"email\":{\"0\":\"first@example.com\",\"1\":\"second@example.com\"}}'"
      ]
     },
     "execution_count": 7,
     "metadata": {},
     "output_type": "execute_result"
    }
   ],
   "source": [
    "df = pd.read_parquet('plain.parquet')\n",
    "df.to_json()"
   ]
  },
  {
   "cell_type": "code",
   "execution_count": 8,
   "id": "79944d24",
   "metadata": {},
   "outputs": [
    {
     "data": {
      "text/html": [
       "<div>\n",
       "<style scoped>\n",
       "    .dataframe tbody tr th:only-of-type {\n",
       "        vertical-align: middle;\n",
       "    }\n",
       "\n",
       "    .dataframe tbody tr th {\n",
       "        vertical-align: top;\n",
       "    }\n",
       "\n",
       "    .dataframe thead th {\n",
       "        text-align: right;\n",
       "    }\n",
       "</style>\n",
       "<table border=\"1\" class=\"dataframe\">\n",
       "  <thead>\n",
       "    <tr style=\"text-align: right;\">\n",
       "      <th></th>\n",
       "      <th>id</th>\n",
       "      <th>email</th>\n",
       "    </tr>\n",
       "  </thead>\n",
       "  <tbody>\n",
       "    <tr>\n",
       "      <th>0</th>\n",
       "      <td>1</td>\n",
       "      <td>first@example.com</td>\n",
       "    </tr>\n",
       "    <tr>\n",
       "      <th>1</th>\n",
       "      <td>2</td>\n",
       "      <td>second@example.com</td>\n",
       "    </tr>\n",
       "  </tbody>\n",
       "</table>\n",
       "</div>"
      ],
      "text/plain": [
       "   id               email\n",
       "0   1   first@example.com\n",
       "1   2  second@example.com"
      ]
     },
     "execution_count": 8,
     "metadata": {},
     "output_type": "execute_result"
    }
   ],
   "source": [
    "df"
   ]
  },
  {
   "cell_type": "markdown",
   "id": "fb43ad00",
   "metadata": {},
   "source": [
    "# 含嵌套字段定义\n",
    "下面的 Schema 定义加入一个嵌套对象，在 address 下分 email_address 和 post_address，Schema 定义及生成 Parquet 文件的代码如下"
   ]
  },
  {
   "cell_type": "code",
   "execution_count": 9,
   "id": "9cd7ff64",
   "metadata": {},
   "outputs": [],
   "source": [
    "import pandas as pd\n",
    "import pyarrow as pa\n",
    "import pyarrow.parquet as pq\n",
    "\n",
    "# 内部字段\n",
    "address_fields = [\n",
    "    ('email_address', pa.string()),\n",
    "    ('post_address', pa.string()),\n",
    "]\n",
    "\n",
    "# 定义 Parquet Schema，address 嵌套了 address_fields\n",
    "schema = pa.schema([\n",
    "    ('id', pa.int32()),\n",
    "    ('email', pa.struct(address_fields))\n",
    "])\n",
    "\n",
    "# 准备数据\n",
    "ids = pa.array([1, 2], type = pa.int32())\n",
    "addresses = pa.array(\n",
    "    [('first@example.com', 'city1'), ('second@example.com', 'city2')],\n",
    "    pa.struct(address_fields)\n",
    ")\n",
    "\n",
    "# 生成 Parquet 数据\n",
    "batch = pa.RecordBatch.from_arrays(\n",
    "    [ids, addresses],\n",
    "    schema = schema\n",
    ")\n",
    "table = pa.Table.from_batches([batch])\n",
    "\n",
    "# 写 Parquet 数据到文件\n",
    "pq.write_table(table, 'nested.parquet')"
   ]
  },
  {
   "cell_type": "markdown",
   "id": "7f347e1c",
   "metadata": {},
   "source": [
    "# 验证 Parquet 数据文件\n",
    "同样用 parquet-tools 来查看下 nested.parquet 文件\n"
   ]
  },
  {
   "cell_type": "code",
   "execution_count": 10,
   "id": "03244337",
   "metadata": {},
   "outputs": [
    {
     "name": "stdout",
     "output_type": "stream",
     "text": [
      "\n",
      "############ file meta data ############\n",
      "created_by: parquet-cpp-arrow version 8.0.0\n",
      "num_columns: 3\n",
      "num_rows: 2\n",
      "num_row_groups: 1\n",
      "format_version: 1.0\n",
      "serialized_size: 819\n",
      "\n",
      "\n",
      "############ Columns ############\n",
      "id\n",
      "email_address\n",
      "post_address\n",
      "\n",
      "############ Column(id) ############\n",
      "name: id\n",
      "path: id\n",
      "max_definition_level: 1\n",
      "max_repetition_level: 0\n",
      "physical_type: INT32\n",
      "logical_type: None\n",
      "converted_type (legacy): NONE\n",
      "compression: SNAPPY (space_saved: -5%)\n",
      "\n",
      "############ Column(email_address) ############\n",
      "name: email_address\n",
      "path: email.email_address\n",
      "max_definition_level: 2\n",
      "max_repetition_level: 0\n",
      "physical_type: BYTE_ARRAY\n",
      "logical_type: String\n",
      "converted_type (legacy): UTF8\n",
      "compression: SNAPPY (space_saved: -3%)\n",
      "\n",
      "############ Column(post_address) ############\n",
      "name: post_address\n",
      "path: email.post_address\n",
      "max_definition_level: 2\n",
      "max_repetition_level: 0\n",
      "physical_type: BYTE_ARRAY\n",
      "logical_type: String\n",
      "converted_type (legacy): UTF8\n",
      "compression: SNAPPY (space_saved: -5%)\n",
      "\n"
     ]
    }
   ],
   "source": [
    "! parquet-tools inspect nested.parquet"
   ]
  },
  {
   "cell_type": "code",
   "execution_count": 11,
   "id": "1b482f25",
   "metadata": {},
   "outputs": [
    {
     "name": "stdout",
     "output_type": "stream",
     "text": [
      "+------+------------------------------------------------------------------+\n",
      "|   id | email                                                            |\n",
      "|------+------------------------------------------------------------------|\n",
      "|    1 | {'email_address': 'first@example.com', 'post_address': 'city1'}  |\n",
      "|    2 | {'email_address': 'second@example.com', 'post_address': 'city2'} |\n",
      "+------+------------------------------------------------------------------+\n"
     ]
    }
   ],
   "source": [
    "! parquet-tools show nested.parquet"
   ]
  },
  {
   "cell_type": "code",
   "execution_count": 12,
   "id": "a58f6dc5",
   "metadata": {},
   "outputs": [
    {
     "name": "stdout",
     "output_type": "stream",
     "text": [
      "id,email\n",
      "\n",
      "1,\"{'email_address': 'first@example.com', 'post_address': 'city1'}\"\n",
      "\n",
      "2,\"{'email_address': 'second@example.com', 'post_address': 'city2'}\"\n",
      "\n",
      "\n"
     ]
    }
   ],
   "source": [
    "! parquet-tools csv nested.parquet"
   ]
  },
  {
   "cell_type": "markdown",
   "id": "a7bece06",
   "metadata": {},
   "source": [
    "用 parquet-tools 看到的 Schama 并没有 struct 的字样，但体现了它 address 与下级属性的嵌套关系。\n",
    "\n",
    "用 pyarrow 代码来读取 nested.parquet 文件的 Schema 和数据是什么样子"
   ]
  },
  {
   "cell_type": "code",
   "execution_count": 13,
   "id": "52d8f492",
   "metadata": {},
   "outputs": [
    {
     "data": {
      "text/plain": [
       "id: int32\n",
       "email: struct<email_address: string, post_address: string>\n",
       "  child 0, email_address: string\n",
       "  child 1, post_address: string"
      ]
     },
     "execution_count": 13,
     "metadata": {},
     "output_type": "execute_result"
    }
   ],
   "source": [
    "schema = pq.read_schema(\"nested.parquet\")\n",
    "schema"
   ]
  },
  {
   "cell_type": "code",
   "execution_count": 14,
   "id": "7d3b7293",
   "metadata": {},
   "outputs": [
    {
     "data": {
      "text/plain": [
       "'{\"id\":{\"0\":1,\"1\":2},\"email\":{\"0\":{\"email_address\":\"first@example.com\",\"post_address\":\"city1\"},\"1\":{\"email_address\":\"second@example.com\",\"post_address\":\"city2\"}}}'"
      ]
     },
     "execution_count": 14,
     "metadata": {},
     "output_type": "execute_result"
    }
   ],
   "source": [
    "df = pd.read_parquet('nested.parquet')\n",
    "df.to_json()"
   ]
  },
  {
   "cell_type": "code",
   "execution_count": 15,
   "id": "44e433cf",
   "metadata": {},
   "outputs": [
    {
     "data": {
      "text/html": [
       "<div>\n",
       "<style scoped>\n",
       "    .dataframe tbody tr th:only-of-type {\n",
       "        vertical-align: middle;\n",
       "    }\n",
       "\n",
       "    .dataframe tbody tr th {\n",
       "        vertical-align: top;\n",
       "    }\n",
       "\n",
       "    .dataframe thead th {\n",
       "        text-align: right;\n",
       "    }\n",
       "</style>\n",
       "<table border=\"1\" class=\"dataframe\">\n",
       "  <thead>\n",
       "    <tr style=\"text-align: right;\">\n",
       "      <th></th>\n",
       "      <th>id</th>\n",
       "      <th>email</th>\n",
       "    </tr>\n",
       "  </thead>\n",
       "  <tbody>\n",
       "    <tr>\n",
       "      <th>0</th>\n",
       "      <td>1</td>\n",
       "      <td>{'email_address': 'first@example.com', 'post_a...</td>\n",
       "    </tr>\n",
       "    <tr>\n",
       "      <th>1</th>\n",
       "      <td>2</td>\n",
       "      <td>{'email_address': 'second@example.com', 'post_...</td>\n",
       "    </tr>\n",
       "  </tbody>\n",
       "</table>\n",
       "</div>"
      ],
      "text/plain": [
       "   id                                              email\n",
       "0   1  {'email_address': 'first@example.com', 'post_a...\n",
       "1   2  {'email_address': 'second@example.com', 'post_..."
      ]
     },
     "execution_count": 15,
     "metadata": {},
     "output_type": "execute_result"
    }
   ],
   "source": [
    "df"
   ]
  },
  {
   "cell_type": "markdown",
   "id": "984b4e4a",
   "metadata": {},
   "source": [
    "数据当然是一样的，有略微不同的是显示的 Schema 中, address 标识为 struct<email_address: string, post_address: string> , 明确的表明它是一个 struct 类型，而不是只展示嵌套层次。\n",
    "\n",
    "最后留下一个问题，前面我们定义 Parquet Schema 都是在 Python 代码中完成了，Parquet 是否也能像 Avro 一样用外部文件来定义 Schema, 然后编译给 Python 用？"
   ]
  },
  {
   "cell_type": "code",
   "execution_count": null,
   "id": "ff23ed56",
   "metadata": {},
   "outputs": [],
   "source": []
  }
 ],
 "metadata": {
  "kernelspec": {
   "display_name": "Python 3 (ipykernel)",
   "language": "python",
   "name": "python3"
  },
  "language_info": {
   "codemirror_mode": {
    "name": "ipython",
    "version": 3
   },
   "file_extension": ".py",
   "mimetype": "text/x-python",
   "name": "python",
   "nbconvert_exporter": "python",
   "pygments_lexer": "ipython3",
   "version": "3.10.5"
  }
 },
 "nbformat": 4,
 "nbformat_minor": 5
}
