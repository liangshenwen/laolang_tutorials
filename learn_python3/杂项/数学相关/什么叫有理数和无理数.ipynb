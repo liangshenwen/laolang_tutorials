{
 "cells": [
  {
   "cell_type": "markdown",
   "id": "e1ba6ece",
   "metadata": {},
   "source": [
    "# 什么叫有理数和无理数\n",
    "\n",
    "有理数为**整数**（正整数、0、负整数）和**分数**的统称，不是有理数的实数称为无理数。接下来看一下具体的内容。\n",
    "\n",
    "## 有理数的定义及分类\n",
    "\n",
    "**有理数是指两个整数的比。**有理数是**整数和分数的集合**。**整数也可看做是分母为一的分数。**有理数的**小数部分是有限或为无限循环的数**。\n",
    "\n",
    "(一)按有理数的定义分类：\n",
    "\n",
    "(1)整数：整数就是像-3,-2,-1,0,1,2,3,10等这样的数。整数包括正整数、0、负整数。其中**零和正整数统称自然数**。\n",
    "\n",
    "(2)分数：分数是一个整数a和一个正整数b的不等于整数的比。分数表示一个数是另一个数的几分之几，或一个事件与所有事件的比例。\n",
    "\n",
    "(二)按有理数的性质分类:\n",
    "\n",
    "(1)正有理数：除了负数、0、无理数的数字都是正有理数。正有理数还被分为正整数和正分数。\n",
    "\n",
    "(2)0：0是介于-1和1之间的整数，是**最小的自然数**，也是有理数。\n",
    "\n",
    "(3)负有理数：负有理数指小于0的有理数，就是小于零并能用小数表示的数。\n",
    "\n",
    "## 什么叫无理数\n",
    "\n",
    "无理数，也称为**无限不循环小数，不能写作两整数之比**。若将它写成小数形式，小数点之后的数字有无限多个，并且不会循环。\n",
    "\n",
    "常见的无理数\n",
    "\n",
    "(1)无限不循环小数\n",
    "\n",
    "0.101001000100001……、3.1415926……0.107856386510……等。\n",
    "\n",
    "(2)含有π的数\n",
    "\n",
    "π、4π、π/2、√7π、π+3等。\n",
    "\n",
    "(3)开方开不尽的数\n",
    "\n",
    "√2、√3、√5、2√2等\n",
    "\n",
    "(4)某些三角函数值\n",
    "\n",
    "sin25°、tan78°等等。"
   ]
  },
  {
   "cell_type": "markdown",
   "id": "fbf3c21b",
   "metadata": {},
   "source": [
    "# Python3 中怎样处理无理数和有理数\n",
    "\n",
    "## 有理数"
   ]
  },
  {
   "cell_type": "code",
   "execution_count": 6,
   "id": "c3cf2a5d",
   "metadata": {},
   "outputs": [
    {
     "name": "stdout",
     "output_type": "stream",
     "text": [
      "0 1 21231312321 -1\n",
      "3/5 1/3 -1/3 0.6 3 0.3333333333333333 -0.3333333333333333 3\n"
     ]
    }
   ],
   "source": [
    "# 用整数来表示自然数\n",
    "a = 0 # 最小自然数\n",
    "b = 1 # 正有理数,并且是自然数\n",
    "c = 21231312321 # 正有理数, 并且是自然数\n",
    "d = -1 # 负有理数\n",
    "print(a, b, c, d)\n",
    "\n",
    "# 使用分数来表示有理数, 也可是使用float类型来表示有理数\n",
    "from fractions import Fraction  #导入内置的分数模块\n",
    "x = Fraction(3,5)  # 有限小数位\n",
    "y = Fraction(1,3)  # 无限循环小数位\n",
    "z = Fraction(-1, 3)  # 负有理数\n",
    "\n",
    "i = Fraction(3, 1) # 使用分数来表示整数\n",
    "print(x, y, z, float(x), i, float(y), float(z), int(i))"
   ]
  },
  {
   "cell_type": "markdown",
   "id": "4db14b46",
   "metadata": {},
   "source": [
    "## 无理数"
   ]
  },
  {
   "cell_type": "code",
   "execution_count": 14,
   "id": "172fd912",
   "metadata": {},
   "outputs": [
    {
     "name": "stdout",
     "output_type": "stream",
     "text": [
      "<class 'float'>\n",
      "3.141592653589793\n",
      "4.141592653589793\n",
      "3.141592653589793\n",
      "-0.13235175009777303 -0.5991799983411151\n",
      "884279719003555/281474976710656\n"
     ]
    }
   ],
   "source": [
    "# 使用float来表示无理数\n",
    "import math\n",
    "pi = math.pi\n",
    "print(type(pi))\n",
    "print(pi) # 含有π的数\n",
    "print(pi + 1) # 含有π的数\n",
    "\n",
    "i = 3.141592653589793238462643383279502884197169399375105820974944592307816  # π是一个无限不循环小数\n",
    "print(i)\n",
    "\n",
    "print(math.sin(25),math.tan(78))  # 某些三角函数值sin25°，tan78°\n",
    "\n",
    "print(Fraction(pi)) # 把无理数转换成分数，单这个分数只是一个约等数"
   ]
  },
  {
   "cell_type": "code",
   "execution_count": null,
   "id": "803fffbd",
   "metadata": {},
   "outputs": [],
   "source": []
  }
 ],
 "metadata": {
  "kernelspec": {
   "display_name": "Python 3 (ipykernel)",
   "language": "python",
   "name": "python3"
  },
  "language_info": {
   "codemirror_mode": {
    "name": "ipython",
    "version": 3
   },
   "file_extension": ".py",
   "mimetype": "text/x-python",
   "name": "python",
   "nbconvert_exporter": "python",
   "pygments_lexer": "ipython3",
   "version": "3.10.4"
  }
 },
 "nbformat": 4,
 "nbformat_minor": 5
}
