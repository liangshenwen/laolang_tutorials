{
 "cells": [
  {
   "cell_type": "code",
   "execution_count": 1,
   "id": "2ee1cd80-584c-4be4-92f1-901e785c66ed",
   "metadata": {},
   "outputs": [
    {
     "name": "stdout",
     "output_type": "stream",
     "text": [
      "The Zen of Python, by Tim Peters\n",
      "\n",
      "Beautiful is better than ugly.\n",
      "Explicit is better than implicit.\n",
      "Simple is better than complex.\n",
      "Complex is better than complicated.\n",
      "Flat is better than nested.\n",
      "Sparse is better than dense.\n",
      "Readability counts.\n",
      "Special cases aren't special enough to break the rules.\n",
      "Although practicality beats purity.\n",
      "Errors should never pass silently.\n",
      "Unless explicitly silenced.\n",
      "In the face of ambiguity, refuse the temptation to guess.\n",
      "There should be one-- and preferably only one --obvious way to do it.\n",
      "Although that way may not be obvious at first unless you're Dutch.\n",
      "Now is better than never.\n",
      "Although never is often better than *right* now.\n",
      "If the implementation is hard to explain, it's a bad idea.\n",
      "If the implementation is easy to explain, it may be a good idea.\n",
      "Namespaces are one honking great idea -- let's do more of those!\n"
     ]
    }
   ],
   "source": [
    "import this"
   ]
  },
  {
   "cell_type": "markdown",
   "id": "970c9f32-e243-4ad2-89dd-362166f34530",
   "metadata": {},
   "source": [
    "Python 之禅， by Tim Peters  \n",
    "\n",
    "Beautiful is better than ugly. 优美胜于丑陋（Python 以编写优美的代码为目标）   \n",
    "Explicit is better than implicit. 明了胜于晦涩（优美的代码应当是明了的，命名规范，风格相似） \n",
    "Simple is better than complex. 简洁胜于复杂（优美的代码应当是简洁的，不要有复杂的内部实现） \n",
    "Complex is better than complicated.  复杂胜于凌乱（如果复杂不可避免，那代码间也不能有难懂的关系，要保持接口简洁）  \n",
    "Flat is better than nested.  扁平胜于嵌套（优美的代码应当是扁平的，不能有太多的嵌套）  \n",
    "Sparse is better than dense. 间隔胜于紧凑（优美的代码有适当的间隔，不要奢望一行代码解决问题）  \n",
    "Readability counts.  可读性很重要（优美的代码是可读的） \n",
    "Special cases aren't special enough to break the rules.  即便假借特例的实用性之名，也不可违背这些规则（这些规则至高无上）  \n",
    "Although practicality beats purity.   尽管实践性可以战胜单纯性  \n",
    "Errors should never pass silently.  不要包容所有错误，除非你确定需要这样做（精准地捕获异常，不写except:pass风格的代码）  \n",
    "In the face of ambiguity, refuse the temptation to guess.  当存在多种可能，不要尝试去猜测  \n",
    "There should be one-- and preferably only one --obvious way to do it.  而是尽量找一种，最好是唯一一种明显的解决方案（如果不确定，就用穷举法） \n",
    "Although that way may not be obvious at first unless you're Dutch.  虽然这并不容易，因为你不是 Python 之父（这里的 Dutch 是指 Guido）\n",
    "Now is better than never.  做也许好过不做，但不假思索就动手还不如不做（动手之前要细思量）\n",
    "If the implementation is hard to explain, it's a bad idea.  如果你无法向人描述你的方案，那肯定不是一个好方案；反之亦然（方案测评标准）\n",
    "If the implementation is easy to explain, it may be a good idea. 如果完善很容易解释，那应该不错\n",
    "Namespaces are one honking great idea -- let's do more of those! 命名空间是一种绝妙的理念，我们应当多加利用（倡导与号召）"
   ]
  },
  {
   "cell_type": "code",
   "execution_count": null,
   "id": "e4862f1c-de44-473a-b6ef-21c79a8dbdeb",
   "metadata": {},
   "outputs": [],
   "source": []
  }
 ],
 "metadata": {
  "kernelspec": {
   "display_name": "Python 3 (ipykernel)",
   "language": "python",
   "name": "python3"
  },
  "language_info": {
   "codemirror_mode": {
    "name": "ipython",
    "version": 3
   },
   "file_extension": ".py",
   "mimetype": "text/x-python",
   "name": "python",
   "nbconvert_exporter": "python",
   "pygments_lexer": "ipython3",
   "version": "3.10.4"
  }
 },
 "nbformat": 4,
 "nbformat_minor": 5
}
