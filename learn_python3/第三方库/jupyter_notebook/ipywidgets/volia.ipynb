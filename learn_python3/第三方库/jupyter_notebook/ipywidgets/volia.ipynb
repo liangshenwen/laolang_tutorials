{
 "cells": [
  {
   "cell_type": "code",
   "execution_count": 1,
   "id": "442980d8-8136-4ea2-82f5-b6d021c5040b",
   "metadata": {},
   "outputs": [],
   "source": [
    "# !python -m pip install voila > pip_install.log"
   ]
  },
  {
   "cell_type": "markdown",
   "id": "4e379efa-9772-4f1b-b985-06c7d273bf63",
   "metadata": {},
   "source": [
    "Voilà allows you to convert a Jupyter Notebook into an interactive dashboard that allows you to share your work with others. It is secure and customizable, giving you control over what your readers experience.  \n",
    "\n",
    "https://voila.readthedocs.io/en/stable/index.html \n",
    "\n",
    "\n",
    "To let the Voilà standalone app serve the nbextensions, use the enable_nbextensions flag as follows:\n",
    "\n",
    "```commandline\n",
    "voila --enable_nbextensions=True --Voila.root_dir=C:\\\\Users\\\\sliang\\\\development\\\\github\\\\laolang_tutorials\n",
    "```\n",
    "\n",
    "When using Voilà as a server extension:\n",
    "\n",
    "```commandline\n",
    "jupyter notebook --VoilaConfiguration.enable_nbextensions=True\n",
    "```\n",
    "or  \n",
    "```commandline\n",
    "jupyter-lab --VoilaConfiguration.enable_nbextensions=True\n",
    "```"
   ]
  },
  {
   "cell_type": "code",
   "execution_count": 2,
   "id": "7c61153e-988a-40c1-92a5-8b0152564aa3",
   "metadata": {},
   "outputs": [
    {
     "name": "stdout",
     "output_type": "stream",
     "text": [
      "^C\n"
     ]
    }
   ],
   "source": [
    "!voila A加B.ipynb"
   ]
  },
  {
   "cell_type": "code",
   "execution_count": 3,
   "id": "fad4eabe-3f90-4571-b48a-4f1870003452",
   "metadata": {},
   "outputs": [
    {
     "name": "stdout",
     "output_type": "stream",
     "text": [
      "^C\n"
     ]
    }
   ],
   "source": [
    "!voila K线图.ipynb"
   ]
  },
  {
   "cell_type": "markdown",
   "id": "7838dd45-40d4-4eb8-b768-ccef2706930f",
   "metadata": {},
   "source": [
    "Deploy a Jupyter Notebook Online with Voila and Heroku:   \n",
    "https://pythonforundergradengineers.com/deploy-jupyter-notebook-voila-heroku.html"
   ]
  },
  {
   "cell_type": "code",
   "execution_count": null,
   "id": "ce025ff7-2dbb-483b-8345-5d2758e59716",
   "metadata": {},
   "outputs": [],
   "source": []
  }
 ],
 "metadata": {
  "kernelspec": {
   "display_name": "Python 3 (ipykernel)",
   "language": "python",
   "name": "python3"
  },
  "language_info": {
   "codemirror_mode": {
    "name": "ipython",
    "version": 3
   },
   "file_extension": ".py",
   "mimetype": "text/x-python",
   "name": "python",
   "nbconvert_exporter": "python",
   "pygments_lexer": "ipython3",
   "version": "3.10.5"
  }
 },
 "nbformat": 4,
 "nbformat_minor": 5
}
