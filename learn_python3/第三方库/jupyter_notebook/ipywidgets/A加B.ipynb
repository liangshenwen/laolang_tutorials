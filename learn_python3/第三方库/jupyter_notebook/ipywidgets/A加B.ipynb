{
 "cells": [
  {
   "cell_type": "code",
   "execution_count": 1,
   "id": "8cc62ab2-7854-49c0-a63e-4a3512f5e12f",
   "metadata": {},
   "outputs": [],
   "source": [
    "#!python -m pip install ipywidgets > pip_install.log"
   ]
  },
  {
   "cell_type": "code",
   "execution_count": 2,
   "id": "04bd7e07-b6f1-4f44-ad19-5720f8ce8d85",
   "metadata": {},
   "outputs": [
    {
     "data": {
      "application/vnd.jupyter.widget-view+json": {
       "model_id": "4bd0773d50324fc3b59f842812e4ee1c",
       "version_major": 2,
       "version_minor": 0
      },
      "text/plain": [
       "VBox(children=(HBox(children=(Text(value='', description='A='), Label(value='+', layout=Layout(left='30px')), …"
      ]
     },
     "metadata": {},
     "output_type": "display_data"
    }
   ],
   "source": [
    "import ipywidgets as widgets\n",
    "\n",
    "# 两个文本框\n",
    "\n",
    "input_text = widgets.Text(description='A=')\n",
    "input_text2 = widgets.Text(description='B=')\n",
    "\n",
    "# 一个label作为加号，向右偏移30px，也就是距离左侧30px\n",
    "\n",
    "plus_text = widgets.Label(value='+', layout=widgets.Layout(left='30px'))\n",
    "\n",
    "# 提交按钮\n",
    "\n",
    "submit_button = widgets.Button(\n",
    "    description='A + B = ?',\n",
    "    layout=widgets.Layout(left='220px'))\n",
    "\n",
    "\n",
    "# 显示结果的HTML组件\n",
    "\n",
    "html = widgets.HTML(value='')\n",
    "\n",
    "# 设立一个事件响应函数submit，并把按钮的on_click事件绑定到这个函数上\n",
    "\n",
    "def submit(*ignore):\n",
    "    a = input_text.value\n",
    "    b = input_text2.value\n",
    "    html.value = f'<b>{a + b}</b>'\n",
    "    \n",
    "submit_button.on_click(submit)\n",
    "\n",
    "# 最后显示所有这些控件，下面的VBox和HBox就分别是竖向排列组件和横向排列组件，可以任何组合\n",
    "\n",
    "widgets.VBox([\n",
    "    widgets.HBox([\n",
    "        input_text,\n",
    "        plus_text,\n",
    "        input_text2\n",
    "    ]),\n",
    "    submit_button,\n",
    "    html\n",
    "])"
   ]
  },
  {
   "cell_type": "code",
   "execution_count": null,
   "id": "e6488366-c1af-4806-a291-2c16d8a5709e",
   "metadata": {},
   "outputs": [],
   "source": []
  }
 ],
 "metadata": {
  "kernelspec": {
   "display_name": "Python 3 (ipykernel)",
   "language": "python",
   "name": "python3"
  },
  "language_info": {
   "codemirror_mode": {
    "name": "ipython",
    "version": 3
   },
   "file_extension": ".py",
   "mimetype": "text/x-python",
   "name": "python",
   "nbconvert_exporter": "python",
   "pygments_lexer": "ipython3",
   "version": "3.10.5"
  }
 },
 "nbformat": 4,
 "nbformat_minor": 5
}
