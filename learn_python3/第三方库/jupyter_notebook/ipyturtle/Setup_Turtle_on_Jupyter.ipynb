{
 "cells": [
  {
   "cell_type": "markdown",
   "id": "12639c16-94de-45a6-aa36-c8d458480f3c",
   "metadata": {},
   "source": [
    "Setup Turtle on Jupyter:  \n",
    "https://www.coderdojotc.org/python/jupyter/01-setup/  \n",
    "\n",
    "https://github.com/takluyver/mobilechelonian  "
   ]
  },
  {
   "cell_type": "code",
   "execution_count": 1,
   "id": "4613db2c-7949-422b-bf61-ec8009090c63",
   "metadata": {},
   "outputs": [],
   "source": [
    "# !python -m pip install mobilechelonian widgetsnbextension > pip_install.log"
   ]
  },
  {
   "cell_type": "code",
   "execution_count": 5,
   "id": "3a9d769d-8c24-4003-a9e4-01d2feb5e6bd",
   "metadata": {},
   "outputs": [
    {
     "name": "stdout",
     "output_type": "stream",
     "text": [
      "Requirement already satisfied: jupyterlab_widgets in c:\\users\\sliang\\development\\python\\python310\\lib\\site-packages (1.1.1)\n"
     ]
    }
   ],
   "source": [
    "!python -m pip install jupyterlab_widgets"
   ]
  },
  {
   "cell_type": "code",
   "execution_count": 2,
   "id": "a380f4e5-e385-41cb-accf-9994b5408e71",
   "metadata": {},
   "outputs": [],
   "source": [
    "# !jupyter nbextension enable --py widgetsnbextension"
   ]
  },
  {
   "cell_type": "code",
   "execution_count": 3,
   "id": "85a670ea-2e8f-4437-9a52-3cc65be2d46e",
   "metadata": {},
   "outputs": [
    {
     "data": {
      "application/vnd.jupyter.widget-view+json": {
       "model_id": "2012e1b48ea5489c8bab036c5f26ad54",
       "version_major": 2,
       "version_minor": 0
      },
      "text/plain": [
       "Turtle()"
      ]
     },
     "metadata": {},
     "output_type": "display_data"
    }
   ],
   "source": [
    "# example\n",
    "from mobilechelonian import Turtle\n",
    "t = Turtle()\n",
    "t.speed(5)\n",
    "colours=[\"red\",\"blue\",\"yellow\",\"brown\",\"black\",\"purple\",\"green\"]\n",
    "\n",
    "t.penup(); t.left(90); t.forward(200);t.right(90);t.pendown()\n",
    "for i in range (0,18):\n",
    "    t.pencolor(colours[i%7])\n",
    "    t.right(20)\n",
    "    t.forward(50)\n",
    "\n",
    "t.right(180)\n",
    "t.home()"
   ]
  },
  {
   "cell_type": "code",
   "execution_count": null,
   "id": "172ab494-b898-429c-b095-aec7c43f0b5a",
   "metadata": {},
   "outputs": [],
   "source": []
  }
 ],
 "metadata": {
  "kernelspec": {
   "display_name": "Python 3 (ipykernel)",
   "language": "python",
   "name": "python3"
  },
  "language_info": {
   "codemirror_mode": {
    "name": "ipython",
    "version": 3
   },
   "file_extension": ".py",
   "mimetype": "text/x-python",
   "name": "python",
   "nbconvert_exporter": "python",
   "pygments_lexer": "ipython3",
   "version": "3.10.5"
  }
 },
 "nbformat": 4,
 "nbformat_minor": 5
}
