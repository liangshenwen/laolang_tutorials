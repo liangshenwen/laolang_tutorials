{
 "cells": [
  {
   "cell_type": "markdown",
   "id": "337b373a-739b-4acf-814b-f6a102495169",
   "metadata": {},
   "source": [
    "https://github.com/gkvoelkl/ipython-turtle-widget  \n",
    "\n",
    "Creating Turtle Graphics in IPython/Jupyter.\n"
   ]
  },
  {
   "cell_type": "code",
   "execution_count": 1,
   "id": "a50bb3d5-99c0-49ed-95a5-886f62aebd67",
   "metadata": {},
   "outputs": [],
   "source": [
    "# Install\n",
    "#!python -m pip install ipyturtle > pip_install.log"
   ]
  },
  {
   "cell_type": "code",
   "execution_count": 2,
   "id": "c6672ab4-d596-425c-ac26-16a71ba0ac99",
   "metadata": {},
   "outputs": [
    {
     "name": "stderr",
     "output_type": "stream",
     "text": [
      "Enabling notebook extension ipyturtle/extension...\n",
      "      - Validating: ok\n"
     ]
    }
   ],
   "source": [
    "# Enable notebook extension\n",
    "!jupyter nbextension enable --py --sys-prefix ipyturtle"
   ]
  },
  {
   "cell_type": "code",
   "execution_count": 10,
   "id": "7a2cf07f-d131-44c7-b9b8-ff1ee973481d",
   "metadata": {},
   "outputs": [
    {
     "data": {
      "application/vnd.jupyter.widget-view+json": {
       "model_id": "c532939c5db942fb9b5d888680ad9a82",
       "version_major": 2,
       "version_minor": 0
      },
      "text/plain": [
       "Turtle()"
      ]
     },
     "metadata": {},
     "output_type": "display_data"
    }
   ],
   "source": [
    "# basic example\n",
    "from ipyturtle import Turtle\n",
    "t = Turtle()\n",
    "t"
   ]
  },
  {
   "cell_type": "code",
   "execution_count": 4,
   "id": "f745c046-7152-41b5-aeda-5eca5932d885",
   "metadata": {},
   "outputs": [
    {
     "data": {
      "text/plain": [
       "(0.0, 60.0)"
      ]
     },
     "execution_count": 4,
     "metadata": {},
     "output_type": "execute_result"
    }
   ],
   "source": [
    "t.back(40)\n",
    "t.forward(100)\n",
    "t.position()"
   ]
  },
  {
   "cell_type": "code",
   "execution_count": 5,
   "id": "9270c5a0-34d5-46c2-ab88-1ad61d98427a",
   "metadata": {},
   "outputs": [
    {
     "data": {
      "text/plain": [
       "0.0"
      ]
     },
     "execution_count": 5,
     "metadata": {},
     "output_type": "execute_result"
    }
   ],
   "source": [
    "t.right(90)\n",
    "t.heading()"
   ]
  },
  {
   "cell_type": "code",
   "execution_count": 6,
   "id": "16849576-6da4-4353-9573-b4d05551d273",
   "metadata": {},
   "outputs": [],
   "source": [
    "t.forward(150)\n",
    "t.left(45)"
   ]
  },
  {
   "cell_type": "code",
   "execution_count": 7,
   "id": "bce32777-0354-43db-bec2-ad45304ad854",
   "metadata": {},
   "outputs": [],
   "source": [
    "t.back(100)"
   ]
  },
  {
   "cell_type": "code",
   "execution_count": 8,
   "id": "e6e84b9d-c31f-48c8-9f37-b320e1624234",
   "metadata": {},
   "outputs": [],
   "source": [
    "t.left(45)\n",
    "t.penup()\n",
    "t.forward(100)"
   ]
  },
  {
   "cell_type": "code",
   "execution_count": 9,
   "id": "6ba4f144-e5f3-4a34-b734-09ea9ebd208e",
   "metadata": {},
   "outputs": [
    {
     "data": {
      "application/vnd.jupyter.widget-view+json": {
       "model_id": "90d1a37ad39c4b469154223d63fcfe08",
       "version_major": 2,
       "version_minor": 0
      },
      "text/plain": [
       "Turtle()"
      ]
     },
     "metadata": {},
     "output_type": "display_data"
    }
   ],
   "source": []
  },
  {
   "cell_type": "code",
   "execution_count": null,
   "id": "e53d2770-0743-4b39-a6c9-845d928e548a",
   "metadata": {},
   "outputs": [],
   "source": []
  }
 ],
 "metadata": {
  "kernelspec": {
   "display_name": "Python 3 (ipykernel)",
   "language": "python",
   "name": "python3"
  },
  "language_info": {
   "codemirror_mode": {
    "name": "ipython",
    "version": 3
   },
   "file_extension": ".py",
   "mimetype": "text/x-python",
   "name": "python",
   "nbconvert_exporter": "python",
   "pygments_lexer": "ipython3",
   "version": "3.10.5"
  }
 },
 "nbformat": 4,
 "nbformat_minor": 5
}
