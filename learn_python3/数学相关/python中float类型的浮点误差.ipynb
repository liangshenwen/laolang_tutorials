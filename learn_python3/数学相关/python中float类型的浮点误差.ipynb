{
 "cells": [
  {
   "cell_type": "markdown",
   "id": "782bb235-cbe8-4218-89ca-3ff5251f56b1",
   "metadata": {},
   "source": [
    "# 引子\n",
    "python中为什么0.1 + 0.2 不等于0.3"
   ]
  },
  {
   "cell_type": "code",
   "execution_count": 1,
   "id": "c3369003-38d0-4a7f-97e5-88358a4caeba",
   "metadata": {},
   "outputs": [
    {
     "name": "stdout",
     "output_type": "stream",
     "text": [
      "False\n"
     ]
    }
   ],
   "source": [
    "print(0.1 + 0.2 == 0.3)"
   ]
  },
  {
   "cell_type": "code",
   "execution_count": 2,
   "id": "67a299cd-bddc-4fe9-b80b-f7737d800d17",
   "metadata": {},
   "outputs": [
    {
     "name": "stdout",
     "output_type": "stream",
     "text": [
      "0.1\n",
      "0.2\n"
     ]
    }
   ],
   "source": [
    "a = 0.1\n",
    "b = 0.2\n",
    "\n",
    "print(a)\n",
    "print(b)"
   ]
  },
  {
   "cell_type": "code",
   "execution_count": 3,
   "id": "beb0edd7-d441-4a44-b026-87ec23fdf0d2",
   "metadata": {},
   "outputs": [
    {
     "name": "stdout",
     "output_type": "stream",
     "text": [
      "0.3\n",
      "0.30000000000000004\n"
     ]
    }
   ],
   "source": [
    "c1 = 0.3\n",
    "c2 = a + b\n",
    "print(c1)\n",
    "print(c2)"
   ]
  },
  {
   "cell_type": "markdown",
   "id": "0b105922-a1f3-4f15-8214-b611eb6fff12",
   "metadata": {},
   "source": [
    "# Python 3.X对于浮点数默认的是提供17位数字的精度\n",
    "浮点数是用机器上浮点数的本机双精度(64 bit)表示的。提供大约17位的精度和范围从-308到308的指数。和C语言里面的double类型相同。Python不支持32bit的单精度浮点数。"
   ]
  },
  {
   "cell_type": "code",
   "execution_count": 4,
   "id": "04b58278-184a-46b9-ba7b-f8f6880164f6",
   "metadata": {},
   "outputs": [
    {
     "name": "stdout",
     "output_type": "stream",
     "text": [
      "0.3333333333333333\n",
      "18\n",
      "3.3333333333333335\n",
      "18\n",
      "33.333333333333336\n",
      "18\n",
      "333.3333333333333\n",
      "17\n",
      "3333.3333333333335\n",
      "18\n",
      "1.2132131444443324e+19\n"
     ]
    }
   ],
   "source": [
    "a = 1/3\n",
    "print(a)\n",
    "print(len(str(a)))\n",
    "\n",
    "a = 10/3\n",
    "print(a)\n",
    "print(len(str(a)))\n",
    "\n",
    "a = 100/3\n",
    "print(a)\n",
    "print(len(str(a)))\n",
    "\n",
    "a = 1000/3\n",
    "print(a)\n",
    "print(len(str(a)))\n",
    "\n",
    "a = 10000/3\n",
    "print(a)\n",
    "print(len(str(a)))\n",
    "\n",
    "print(float('12132131444443324444.214444444444441'))"
   ]
  },
  {
   "cell_type": "markdown",
   "id": "73fed35b-1ad3-4dca-8355-e6d78a9d3ce6",
   "metadata": {},
   "source": [
    "# 浮点数格式化"
   ]
  },
  {
   "cell_type": "code",
   "execution_count": 5,
   "id": "0a03419c-b810-4108-8561-b873cd49bcf0",
   "metadata": {},
   "outputs": [
    {
     "name": "stdout",
     "output_type": "stream",
     "text": [
      "0.333333\n",
      "0.333333333333333314829616256247\n"
     ]
    }
   ],
   "source": [
    "# python默认的是17位小数的精度\n",
    "print(\"%f\" % (1/3)) # 默认格式化的小数位为6\n",
    "\n",
    "print(\"%.30f\" % (1/3))  # 格式化时，如果小数位超过17位，尽管能够显示出来，但是17位后面的数值都是不准确的，所以即使显式了，也没有太大的意义。"
   ]
  },
  {
   "cell_type": "markdown",
   "id": "340974bb-b989-49ea-baea-8ea26de91bd4",
   "metadata": {},
   "source": [
    "# 浮点数取四舍五入"
   ]
  },
  {
   "cell_type": "code",
   "execution_count": 6,
   "id": "08d4164d-5a83-4d0e-b241-66ca6b29dfd2",
   "metadata": {},
   "outputs": [
    {
     "name": "stdout",
     "output_type": "stream",
     "text": [
      "0.17647058823529413\n",
      "0\n",
      "0.17647\n",
      "3 3\n",
      "2 2\n"
     ]
    }
   ],
   "source": [
    "from math import ceil, floor\n",
    "\n",
    "a = 3/17\n",
    "print(a)\n",
    "\n",
    "print(round(a)) # 先上取整\n",
    "\n",
    "print(round(a, 5))  # 向上去五位小数\n",
    "\n",
    "print(ceil(2.6), ceil(2.3))  # 取大于或等于x的最小整数\n",
    "print(floor(2.6), floor(2.3)) # 取小于或等于x的最大整数\n"
   ]
  },
  {
   "cell_type": "markdown",
   "id": "8e33b66f-d6bc-49ca-8b4b-1fa3873f9f9e",
   "metadata": {},
   "source": [
    "# 需要进行高精度计算(要求超过17位的精度分析)，可以使用decimal模块，配合getcontext来设置计算精度"
   ]
  },
  {
   "cell_type": "code",
   "execution_count": 7,
   "id": "aa85eec7-a877-4b1d-95c4-ecaf78eb7bcf",
   "metadata": {},
   "outputs": [
    {
     "name": "stdout",
     "output_type": "stream",
     "text": [
      "Context(prec=28, rounding=ROUND_HALF_EVEN, Emin=-999999, Emax=999999, capitals=1, clamp=0, flags=[], traps=[InvalidOperation, DivisionByZero, Overflow])\n",
      "0.3333333333333333333333333333 0.05882352941176470588235294118\n",
      "0.3333333333333333 0.058823529411764705\n",
      "30 18\n",
      "0.33333333333333333333 0.058823529411764705882\n",
      "0.3333333333333333 0.058823529411764705\n",
      "0.33333333333333333333333333333333333333333333333333 0.058823529411764705882352941176470588235294117647059\n",
      "0.3333333333333333 0.058823529411764705\n"
     ]
    }
   ],
   "source": [
    "# Python 3.X对于浮点数默认的是提供17位数字的精度。\n",
    "from decimal import *\n",
    "\n",
    "print(getcontext()) # prec=28, context里面的这rounding=ROUND_HALF_EVEN 参数。ROUND_HALF_EVEN， 当half的时候，靠近even.\n",
    "\n",
    "i1 = Decimal(1)/Decimal(3)\n",
    "i2 = Decimal(1)/Decimal(17)\n",
    "print(i1, i2)\n",
    "print(float(i1), float(i2))\n",
    "print(len(str(i1)), len(str(float(i1))))\n",
    "\n",
    "getcontext().prec = 20\n",
    "a1 = Decimal(1)/Decimal(3)\n",
    "a2 = Decimal(1)/Decimal(17)\n",
    "print(a1, a2)\n",
    "print(float(a1), float(a2))\n",
    "\n",
    "getcontext().prec = 50\n",
    "b1 = Decimal(1)/Decimal(3)\n",
    "b2 = Decimal(1)/Decimal(17)\n",
    "print(b1, b2)\n",
    "print(float(b1), float(b2))"
   ]
  },
  {
   "cell_type": "code",
   "execution_count": null,
   "id": "99146cf3-6bb5-46f1-92a2-e63e0cfc3cae",
   "metadata": {},
   "outputs": [],
   "source": []
  }
 ],
 "metadata": {
  "kernelspec": {
   "display_name": "Python 3 (ipykernel)",
   "language": "python",
   "name": "python3"
  },
  "language_info": {
   "codemirror_mode": {
    "name": "ipython",
    "version": 3
   },
   "file_extension": ".py",
   "mimetype": "text/x-python",
   "name": "python",
   "nbconvert_exporter": "python",
   "pygments_lexer": "ipython3",
   "version": "3.10.4"
  }
 },
 "nbformat": 4,
 "nbformat_minor": 5
}
