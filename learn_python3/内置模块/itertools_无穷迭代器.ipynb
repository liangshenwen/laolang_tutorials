{
 "cells": [
  {
   "cell_type": "code",
   "execution_count": 1,
   "id": "b649fe70-f906-4a94-964a-494ff6e9f1f1",
   "metadata": {},
   "outputs": [],
   "source": [
    "import itertools"
   ]
  },
  {
   "cell_type": "markdown",
   "id": "fd4c0696-e1c1-4cc9-8d15-c6612ae95f4f",
   "metadata": {},
   "source": [
    "# itertools.count(start=0, step=1)\n",
    "创建一个迭代器，它从 start 值开始，返回均匀间隔的值。"
   ]
  },
  {
   "cell_type": "code",
   "execution_count": 2,
   "id": "5bd82811-41b4-48bb-9105-fc75a61d3d9f",
   "metadata": {},
   "outputs": [
    {
     "name": "stdout",
     "output_type": "stream",
     "text": [
      "10\n",
      "11\n",
      "12\n",
      "13\n",
      "14\n",
      "15\n",
      "16\n",
      "17\n",
      "18\n",
      "19\n"
     ]
    }
   ],
   "source": [
    "for i in itertools.count(start=10, step=1):\n",
    "    if i == 20: # if not break here. 'for' cycle will never stop.\n",
    "        break\n",
    "    print(i)"
   ]
  },
  {
   "cell_type": "markdown",
   "id": "3e2a92b8-3a91-40bc-89c7-d7c40dd2663f",
   "metadata": {},
   "source": [
    "# itertools.cycle(iterable)\n",
    "创建一个迭代器，返回 iterable 中所有元素并保存一个副本。当取完 iterable 中所有元素，返回副本中的所有元素。"
   ]
  },
  {
   "cell_type": "code",
   "execution_count": 3,
   "id": "67af0de2-bb81-4e61-924a-694c2de1de31",
   "metadata": {},
   "outputs": [
    {
     "name": "stdout",
     "output_type": "stream",
     "text": [
      "A\n",
      "B\n",
      "C\n",
      "D\n",
      "A\n",
      "B\n",
      "C\n",
      "D\n",
      "A\n",
      "B\n"
     ]
    }
   ],
   "source": [
    "cnt = 1\n",
    "for i in itertools.cycle('ABCD'):\n",
    "    if cnt > 10:\n",
    "        break\n",
    "    print(i)\n",
    "    cnt += 1"
   ]
  },
  {
   "cell_type": "markdown",
   "id": "5b2ba5dd-0048-480c-949b-8a82de11c3fa",
   "metadata": {},
   "source": [
    "# itertools.repeat(object[, times])\n",
    "创建一个迭代器，不断重复 object 。除非设定参数 times ，否则将无限重复。"
   ]
  },
  {
   "cell_type": "code",
   "execution_count": 4,
   "id": "d12475aa-2ec4-4cf1-adea-60b13c324613",
   "metadata": {},
   "outputs": [
    {
     "name": "stdout",
     "output_type": "stream",
     "text": [
      "ABCD\n",
      "ABCD\n",
      "ABCD\n",
      "ABCD\n"
     ]
    }
   ],
   "source": [
    "for i in itertools.repeat('ABCD', 4):\n",
    "    print(i)"
   ]
  },
  {
   "cell_type": "code",
   "execution_count": null,
   "id": "eb99d92f-b55b-4c92-a139-91bb5ae1576a",
   "metadata": {},
   "outputs": [],
   "source": []
  }
 ],
 "metadata": {
  "kernelspec": {
   "display_name": "Python 3 (ipykernel)",
   "language": "python",
   "name": "python3"
  },
  "language_info": {
   "codemirror_mode": {
    "name": "ipython",
    "version": 3
   },
   "file_extension": ".py",
   "mimetype": "text/x-python",
   "name": "python",
   "nbconvert_exporter": "python",
   "pygments_lexer": "ipython3",
   "version": "3.10.4"
  }
 },
 "nbformat": 4,
 "nbformat_minor": 5
}
