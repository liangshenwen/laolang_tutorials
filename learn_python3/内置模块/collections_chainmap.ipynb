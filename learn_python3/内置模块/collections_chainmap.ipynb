{
 "cells": [
  {
   "cell_type": "markdown",
   "id": "bb25f5ad-253e-4398-b6ea-fa0a7604044f",
   "metadata": {},
   "source": [
    "https://docs.python.org/zh-cn/3/library/collections.html#chainmap-objects    \n",
    "\n",
    "一个 ChainMap 类是为了将多个映射快速的链接到一起，这样它们就可以作为一个单元处理。**它通常比创建一个新字典和多次调用 update() 要快很多**。\n",
    "\n",
    "这个类可以用于模拟嵌套作用域，并且在模版化的时候比较有用。"
   ]
  },
  {
   "cell_type": "code",
   "execution_count": 1,
   "id": "b336fa37-2fbe-42c1-8264-db7ebdb777be",
   "metadata": {},
   "outputs": [],
   "source": [
    "from collections import ChainMap"
   ]
  },
  {
   "cell_type": "code",
   "execution_count": 2,
   "id": "f7979673-ec78-4358-8fe0-68f0bf10d355",
   "metadata": {},
   "outputs": [
    {
     "data": {
      "text/plain": [
       "ChainMap({'art': 'van gogh', 'opera': 'carmen'}, {'music': 'bach', 'art': 'rembrandt'})"
      ]
     },
     "execution_count": 2,
     "metadata": {},
     "output_type": "execute_result"
    }
   ],
   "source": [
    "baseline = {'music': 'bach', 'art': 'rembrandt'}\n",
    "adjustments = {'art': 'van gogh', 'opera': 'carmen'}\n",
    "chainMap = ChainMap(adjustments, baseline)\n",
    "chainMap"
   ]
  },
  {
   "cell_type": "code",
   "execution_count": 3,
   "id": "b6c462ed-ff80-421b-888e-29ca7b8edc22",
   "metadata": {},
   "outputs": [
    {
     "data": {
      "text/plain": [
       "KeysView(ChainMap({'art': 'van gogh', 'opera': 'carmen'}, {'music': 'bach', 'art': 'rembrandt'}))"
      ]
     },
     "execution_count": 3,
     "metadata": {},
     "output_type": "execute_result"
    }
   ],
   "source": [
    "chainMap.keys()"
   ]
  },
  {
   "cell_type": "code",
   "execution_count": 4,
   "id": "eb4e8c82-6ac1-4be6-bef3-4b26ce2e25c3",
   "metadata": {},
   "outputs": [
    {
     "data": {
      "text/plain": [
       "ValuesView(ChainMap({'art': 'van gogh', 'opera': 'carmen'}, {'music': 'bach', 'art': 'rembrandt'}))"
      ]
     },
     "execution_count": 4,
     "metadata": {},
     "output_type": "execute_result"
    }
   ],
   "source": [
    "chainMap.values()"
   ]
  },
  {
   "cell_type": "code",
   "execution_count": 5,
   "id": "e6ded1bb-cc3c-4db1-aede-b86091defa7c",
   "metadata": {},
   "outputs": [
    {
     "data": {
      "text/plain": [
       "'van gogh'"
      ]
     },
     "execution_count": 5,
     "metadata": {},
     "output_type": "execute_result"
    }
   ],
   "source": [
    "chainMap['art']"
   ]
  },
  {
   "cell_type": "code",
   "execution_count": 6,
   "id": "63a3bdee-9859-4aec-bca4-34fc931e5ebe",
   "metadata": {},
   "outputs": [
    {
     "data": {
      "text/plain": [
       "['music', 'art', 'opera']"
      ]
     },
     "execution_count": 6,
     "metadata": {},
     "output_type": "execute_result"
    }
   ],
   "source": [
    "list(chainMap.keys())"
   ]
  },
  {
   "cell_type": "code",
   "execution_count": 7,
   "id": "151fc8bb-c5e7-47d1-96f3-a04f97a0d6cd",
   "metadata": {},
   "outputs": [
    {
     "data": {
      "text/plain": [
       "['bach', 'van gogh', 'carmen']"
      ]
     },
     "execution_count": 7,
     "metadata": {},
     "output_type": "execute_result"
    }
   ],
   "source": [
    "list(chainMap.values())"
   ]
  },
  {
   "cell_type": "code",
   "execution_count": 8,
   "id": "32d7041c-540c-472d-909d-bcf12d6537bf",
   "metadata": {},
   "outputs": [
    {
     "data": {
      "text/plain": [
       "['music', 'art', 'opera']"
      ]
     },
     "execution_count": 8,
     "metadata": {},
     "output_type": "execute_result"
    }
   ],
   "source": [
    "# 这给出了与 dict.update() 调用序列相同的顺序，从最后一个映射开始:\n",
    "combined = baseline.copy()\n",
    "combined.update(adjustments)\n",
    "list(combined)"
   ]
  },
  {
   "cell_type": "code",
   "execution_count": 10,
   "id": "a3daa569-3748-44f7-892b-ce83e64f64b0",
   "metadata": {},
   "outputs": [
    {
     "data": {
      "text/plain": [
       "ChainMap({'__name__': '__main__', '__doc__': 'Automatically created module for IPython interactive environment', '__package__': None, '__loader__': None, '__spec__': None, '__builtin__': <module 'builtins' (built-in)>, '__builtins__': <module 'builtins' (built-in)>, '_ih': ['', 'from collections import ChainMap', \"baseline = {'music': 'bach', 'art': 'rembrandt'}\\nadjustments = {'art': 'van gogh', 'opera': 'carmen'}\\nchainMap = ChainMap(adjustments, baseline)\\nchainMap\", 'chainMap.keys()', 'chainMap.values()', \"chainMap['art']\", 'list(chainMap.keys())', 'list(chainMap.values())', '# 这给出了与 dict.update() 调用序列相同的顺序，从最后一个映射开始:\\ncombined = baseline.copy()\\ncombined.update(adjustments)\\nlist(combined)', '# 模拟Python内部lookup链的例子\\nimport builtins\\npylookup = ChainMap(locals(), globals(), vars(builtins))', '# 模拟Python内部lookup链的例子\\nimport builtins\\npylookup = ChainMap(locals(), globals(), vars(builtins))\\npylookup'], '_oh': {2: ChainMap({'art': 'van gogh', 'opera': 'carmen'}, {'music': 'bach', 'art': 'rembrandt'}), 3: KeysView(ChainMap({'art': 'van gogh', 'opera': 'carmen'}, {'music': 'bach', 'art': 'rembrandt'})), 4: ValuesView(ChainMap({'art': 'van gogh', 'opera': 'carmen'}, {'music': 'bach', 'art': 'rembrandt'})), 5: 'van gogh', 6: ['music', 'art', 'opera'], 7: ['bach', 'van gogh', 'carmen'], 8: ['music', 'art', 'opera']}, '_dh': [WindowsPath('C:/Users/sliang/development/github/laolang_tutorials/learn_python3/内置模块')], 'In': ['', 'from collections import ChainMap', \"baseline = {'music': 'bach', 'art': 'rembrandt'}\\nadjustments = {'art': 'van gogh', 'opera': 'carmen'}\\nchainMap = ChainMap(adjustments, baseline)\\nchainMap\", 'chainMap.keys()', 'chainMap.values()', \"chainMap['art']\", 'list(chainMap.keys())', 'list(chainMap.values())', '# 这给出了与 dict.update() 调用序列相同的顺序，从最后一个映射开始:\\ncombined = baseline.copy()\\ncombined.update(adjustments)\\nlist(combined)', '# 模拟Python内部lookup链的例子\\nimport builtins\\npylookup = ChainMap(locals(), globals(), vars(builtins))', '# 模拟Python内部lookup链的例子\\nimport builtins\\npylookup = ChainMap(locals(), globals(), vars(builtins))\\npylookup'], 'Out': {2: ChainMap({'art': 'van gogh', 'opera': 'carmen'}, {'music': 'bach', 'art': 'rembrandt'}), 3: KeysView(ChainMap({'art': 'van gogh', 'opera': 'carmen'}, {'music': 'bach', 'art': 'rembrandt'})), 4: ValuesView(ChainMap({'art': 'van gogh', 'opera': 'carmen'}, {'music': 'bach', 'art': 'rembrandt'})), 5: 'van gogh', 6: ['music', 'art', 'opera'], 7: ['bach', 'van gogh', 'carmen'], 8: ['music', 'art', 'opera']}, 'get_ipython': <bound method InteractiveShell.get_ipython of <ipykernel.zmqshell.ZMQInteractiveShell object at 0x00000264ADFA1210>>, 'exit': <IPython.core.autocall.ZMQExitAutocall object at 0x00000264ADFA1C00>, 'quit': <IPython.core.autocall.ZMQExitAutocall object at 0x00000264ADFA1C00>, '_': ['music', 'art', 'opera'], '__': ['bach', 'van gogh', 'carmen'], '___': ['music', 'art', 'opera'], '_i': '# 模拟Python内部lookup链的例子\\nimport builtins\\npylookup = ChainMap(locals(), globals(), vars(builtins))', '_ii': '# 这给出了与 dict.update() 调用序列相同的顺序，从最后一个映射开始:\\ncombined = baseline.copy()\\ncombined.update(adjustments)\\nlist(combined)', '_iii': 'list(chainMap.values())', '_i1': 'from collections import ChainMap', 'ChainMap': <class 'collections.ChainMap'>, '_i2': \"baseline = {'music': 'bach', 'art': 'rembrandt'}\\nadjustments = {'art': 'van gogh', 'opera': 'carmen'}\\nchainMap = ChainMap(adjustments, baseline)\\nchainMap\", 'baseline': {'music': 'bach', 'art': 'rembrandt'}, 'adjustments': {'art': 'van gogh', 'opera': 'carmen'}, 'chainMap': ChainMap({'art': 'van gogh', 'opera': 'carmen'}, {'music': 'bach', 'art': 'rembrandt'}), '_2': ChainMap({'art': 'van gogh', 'opera': 'carmen'}, {'music': 'bach', 'art': 'rembrandt'}), '_i3': 'chainMap.keys()', '_3': KeysView(ChainMap({'art': 'van gogh', 'opera': 'carmen'}, {'music': 'bach', 'art': 'rembrandt'})), '_i4': 'chainMap.values()', '_4': ValuesView(ChainMap({'art': 'van gogh', 'opera': 'carmen'}, {'music': 'bach', 'art': 'rembrandt'})), '_i5': \"chainMap['art']\", '_5': 'van gogh', '_i6': 'list(chainMap.keys())', '_6': ['music', 'art', 'opera'], '_i7': 'list(chainMap.values())', '_7': ['bach', 'van gogh', 'carmen'], '_i8': '# 这给出了与 dict.update() 调用序列相同的顺序，从最后一个映射开始:\\ncombined = baseline.copy()\\ncombined.update(adjustments)\\nlist(combined)', 'combined': {'music': 'bach', 'art': 'van gogh', 'opera': 'carmen'}, '_8': ['music', 'art', 'opera'], '_i9': '# 模拟Python内部lookup链的例子\\nimport builtins\\npylookup = ChainMap(locals(), globals(), vars(builtins))', 'builtins': <module 'builtins' (built-in)>, 'pylookup': ..., '_i10': '# 模拟Python内部lookup链的例子\\nimport builtins\\npylookup = ChainMap(locals(), globals(), vars(builtins))\\npylookup'}, {'__name__': '__main__', '__doc__': 'Automatically created module for IPython interactive environment', '__package__': None, '__loader__': None, '__spec__': None, '__builtin__': <module 'builtins' (built-in)>, '__builtins__': <module 'builtins' (built-in)>, '_ih': ['', 'from collections import ChainMap', \"baseline = {'music': 'bach', 'art': 'rembrandt'}\\nadjustments = {'art': 'van gogh', 'opera': 'carmen'}\\nchainMap = ChainMap(adjustments, baseline)\\nchainMap\", 'chainMap.keys()', 'chainMap.values()', \"chainMap['art']\", 'list(chainMap.keys())', 'list(chainMap.values())', '# 这给出了与 dict.update() 调用序列相同的顺序，从最后一个映射开始:\\ncombined = baseline.copy()\\ncombined.update(adjustments)\\nlist(combined)', '# 模拟Python内部lookup链的例子\\nimport builtins\\npylookup = ChainMap(locals(), globals(), vars(builtins))', '# 模拟Python内部lookup链的例子\\nimport builtins\\npylookup = ChainMap(locals(), globals(), vars(builtins))\\npylookup'], '_oh': {2: ChainMap({'art': 'van gogh', 'opera': 'carmen'}, {'music': 'bach', 'art': 'rembrandt'}), 3: KeysView(ChainMap({'art': 'van gogh', 'opera': 'carmen'}, {'music': 'bach', 'art': 'rembrandt'})), 4: ValuesView(ChainMap({'art': 'van gogh', 'opera': 'carmen'}, {'music': 'bach', 'art': 'rembrandt'})), 5: 'van gogh', 6: ['music', 'art', 'opera'], 7: ['bach', 'van gogh', 'carmen'], 8: ['music', 'art', 'opera']}, '_dh': [WindowsPath('C:/Users/sliang/development/github/laolang_tutorials/learn_python3/内置模块')], 'In': ['', 'from collections import ChainMap', \"baseline = {'music': 'bach', 'art': 'rembrandt'}\\nadjustments = {'art': 'van gogh', 'opera': 'carmen'}\\nchainMap = ChainMap(adjustments, baseline)\\nchainMap\", 'chainMap.keys()', 'chainMap.values()', \"chainMap['art']\", 'list(chainMap.keys())', 'list(chainMap.values())', '# 这给出了与 dict.update() 调用序列相同的顺序，从最后一个映射开始:\\ncombined = baseline.copy()\\ncombined.update(adjustments)\\nlist(combined)', '# 模拟Python内部lookup链的例子\\nimport builtins\\npylookup = ChainMap(locals(), globals(), vars(builtins))', '# 模拟Python内部lookup链的例子\\nimport builtins\\npylookup = ChainMap(locals(), globals(), vars(builtins))\\npylookup'], 'Out': {2: ChainMap({'art': 'van gogh', 'opera': 'carmen'}, {'music': 'bach', 'art': 'rembrandt'}), 3: KeysView(ChainMap({'art': 'van gogh', 'opera': 'carmen'}, {'music': 'bach', 'art': 'rembrandt'})), 4: ValuesView(ChainMap({'art': 'van gogh', 'opera': 'carmen'}, {'music': 'bach', 'art': 'rembrandt'})), 5: 'van gogh', 6: ['music', 'art', 'opera'], 7: ['bach', 'van gogh', 'carmen'], 8: ['music', 'art', 'opera']}, 'get_ipython': <bound method InteractiveShell.get_ipython of <ipykernel.zmqshell.ZMQInteractiveShell object at 0x00000264ADFA1210>>, 'exit': <IPython.core.autocall.ZMQExitAutocall object at 0x00000264ADFA1C00>, 'quit': <IPython.core.autocall.ZMQExitAutocall object at 0x00000264ADFA1C00>, '_': ['music', 'art', 'opera'], '__': ['bach', 'van gogh', 'carmen'], '___': ['music', 'art', 'opera'], '_i': '# 模拟Python内部lookup链的例子\\nimport builtins\\npylookup = ChainMap(locals(), globals(), vars(builtins))', '_ii': '# 这给出了与 dict.update() 调用序列相同的顺序，从最后一个映射开始:\\ncombined = baseline.copy()\\ncombined.update(adjustments)\\nlist(combined)', '_iii': 'list(chainMap.values())', '_i1': 'from collections import ChainMap', 'ChainMap': <class 'collections.ChainMap'>, '_i2': \"baseline = {'music': 'bach', 'art': 'rembrandt'}\\nadjustments = {'art': 'van gogh', 'opera': 'carmen'}\\nchainMap = ChainMap(adjustments, baseline)\\nchainMap\", 'baseline': {'music': 'bach', 'art': 'rembrandt'}, 'adjustments': {'art': 'van gogh', 'opera': 'carmen'}, 'chainMap': ChainMap({'art': 'van gogh', 'opera': 'carmen'}, {'music': 'bach', 'art': 'rembrandt'}), '_2': ChainMap({'art': 'van gogh', 'opera': 'carmen'}, {'music': 'bach', 'art': 'rembrandt'}), '_i3': 'chainMap.keys()', '_3': KeysView(ChainMap({'art': 'van gogh', 'opera': 'carmen'}, {'music': 'bach', 'art': 'rembrandt'})), '_i4': 'chainMap.values()', '_4': ValuesView(ChainMap({'art': 'van gogh', 'opera': 'carmen'}, {'music': 'bach', 'art': 'rembrandt'})), '_i5': \"chainMap['art']\", '_5': 'van gogh', '_i6': 'list(chainMap.keys())', '_6': ['music', 'art', 'opera'], '_i7': 'list(chainMap.values())', '_7': ['bach', 'van gogh', 'carmen'], '_i8': '# 这给出了与 dict.update() 调用序列相同的顺序，从最后一个映射开始:\\ncombined = baseline.copy()\\ncombined.update(adjustments)\\nlist(combined)', 'combined': {'music': 'bach', 'art': 'van gogh', 'opera': 'carmen'}, '_8': ['music', 'art', 'opera'], '_i9': '# 模拟Python内部lookup链的例子\\nimport builtins\\npylookup = ChainMap(locals(), globals(), vars(builtins))', 'builtins': <module 'builtins' (built-in)>, 'pylookup': ..., '_i10': '# 模拟Python内部lookup链的例子\\nimport builtins\\npylookup = ChainMap(locals(), globals(), vars(builtins))\\npylookup'}, {'__name__': 'builtins', '__doc__': \"Built-in functions, exceptions, and other objects.\\n\\nNoteworthy: None is the `nil' object; Ellipsis represents `...' in slices.\", '__package__': '', '__loader__': <class '_frozen_importlib.BuiltinImporter'>, '__spec__': ModuleSpec(name='builtins', loader=<class '_frozen_importlib.BuiltinImporter'>, origin='built-in'), '__build_class__': <built-in function __build_class__>, '__import__': <built-in function __import__>, 'abs': <built-in function abs>, 'all': <built-in function all>, 'any': <built-in function any>, 'ascii': <built-in function ascii>, 'bin': <built-in function bin>, 'breakpoint': <built-in function breakpoint>, 'callable': <built-in function callable>, 'chr': <built-in function chr>, 'compile': <built-in function compile>, 'delattr': <built-in function delattr>, 'dir': <built-in function dir>, 'divmod': <built-in function divmod>, 'eval': <built-in function eval>, 'exec': <built-in function exec>, 'format': <built-in function format>, 'getattr': <built-in function getattr>, 'globals': <built-in function globals>, 'hasattr': <built-in function hasattr>, 'hash': <built-in function hash>, 'hex': <built-in function hex>, 'id': <built-in function id>, 'input': <bound method Kernel.raw_input of <ipykernel.ipkernel.IPythonKernel object at 0x00000264ADF53EB0>>, 'isinstance': <built-in function isinstance>, 'issubclass': <built-in function issubclass>, 'iter': <built-in function iter>, 'aiter': <built-in function aiter>, 'len': <built-in function len>, 'locals': <built-in function locals>, 'max': <built-in function max>, 'min': <built-in function min>, 'next': <built-in function next>, 'anext': <built-in function anext>, 'oct': <built-in function oct>, 'ord': <built-in function ord>, 'pow': <built-in function pow>, 'print': <built-in function print>, 'repr': <built-in function repr>, 'round': <built-in function round>, 'setattr': <built-in function setattr>, 'sorted': <built-in function sorted>, 'sum': <built-in function sum>, 'vars': <built-in function vars>, 'None': None, 'Ellipsis': Ellipsis, 'NotImplemented': NotImplemented, 'False': False, 'True': True, 'bool': <class 'bool'>, 'memoryview': <class 'memoryview'>, 'bytearray': <class 'bytearray'>, 'bytes': <class 'bytes'>, 'classmethod': <class 'classmethod'>, 'complex': <class 'complex'>, 'dict': <class 'dict'>, 'enumerate': <class 'enumerate'>, 'filter': <class 'filter'>, 'float': <class 'float'>, 'frozenset': <class 'frozenset'>, 'property': <class 'property'>, 'int': <class 'int'>, 'list': <class 'list'>, 'map': <class 'map'>, 'object': <class 'object'>, 'range': <class 'range'>, 'reversed': <class 'reversed'>, 'set': <class 'set'>, 'slice': <class 'slice'>, 'staticmethod': <class 'staticmethod'>, 'str': <class 'str'>, 'super': <class 'super'>, 'tuple': <class 'tuple'>, 'type': <class 'type'>, 'zip': <class 'zip'>, '__debug__': True, 'BaseException': <class 'BaseException'>, 'Exception': <class 'Exception'>, 'TypeError': <class 'TypeError'>, 'StopAsyncIteration': <class 'StopAsyncIteration'>, 'StopIteration': <class 'StopIteration'>, 'GeneratorExit': <class 'GeneratorExit'>, 'SystemExit': <class 'SystemExit'>, 'KeyboardInterrupt': <class 'KeyboardInterrupt'>, 'ImportError': <class 'ImportError'>, 'ModuleNotFoundError': <class 'ModuleNotFoundError'>, 'OSError': <class 'OSError'>, 'EnvironmentError': <class 'OSError'>, 'IOError': <class 'OSError'>, 'WindowsError': <class 'OSError'>, 'EOFError': <class 'EOFError'>, 'RuntimeError': <class 'RuntimeError'>, 'RecursionError': <class 'RecursionError'>, 'NotImplementedError': <class 'NotImplementedError'>, 'NameError': <class 'NameError'>, 'UnboundLocalError': <class 'UnboundLocalError'>, 'AttributeError': <class 'AttributeError'>, 'SyntaxError': <class 'SyntaxError'>, 'IndentationError': <class 'IndentationError'>, 'TabError': <class 'TabError'>, 'LookupError': <class 'LookupError'>, 'IndexError': <class 'IndexError'>, 'KeyError': <class 'KeyError'>, 'ValueError': <class 'ValueError'>, 'UnicodeError': <class 'UnicodeError'>, 'UnicodeEncodeError': <class 'UnicodeEncodeError'>, 'UnicodeDecodeError': <class 'UnicodeDecodeError'>, 'UnicodeTranslateError': <class 'UnicodeTranslateError'>, 'AssertionError': <class 'AssertionError'>, 'ArithmeticError': <class 'ArithmeticError'>, 'FloatingPointError': <class 'FloatingPointError'>, 'OverflowError': <class 'OverflowError'>, 'ZeroDivisionError': <class 'ZeroDivisionError'>, 'SystemError': <class 'SystemError'>, 'ReferenceError': <class 'ReferenceError'>, 'MemoryError': <class 'MemoryError'>, 'BufferError': <class 'BufferError'>, 'Warning': <class 'Warning'>, 'UserWarning': <class 'UserWarning'>, 'EncodingWarning': <class 'EncodingWarning'>, 'DeprecationWarning': <class 'DeprecationWarning'>, 'PendingDeprecationWarning': <class 'PendingDeprecationWarning'>, 'SyntaxWarning': <class 'SyntaxWarning'>, 'RuntimeWarning': <class 'RuntimeWarning'>, 'FutureWarning': <class 'FutureWarning'>, 'ImportWarning': <class 'ImportWarning'>, 'UnicodeWarning': <class 'UnicodeWarning'>, 'BytesWarning': <class 'BytesWarning'>, 'ResourceWarning': <class 'ResourceWarning'>, 'ConnectionError': <class 'ConnectionError'>, 'BlockingIOError': <class 'BlockingIOError'>, 'BrokenPipeError': <class 'BrokenPipeError'>, 'ChildProcessError': <class 'ChildProcessError'>, 'ConnectionAbortedError': <class 'ConnectionAbortedError'>, 'ConnectionRefusedError': <class 'ConnectionRefusedError'>, 'ConnectionResetError': <class 'ConnectionResetError'>, 'FileExistsError': <class 'FileExistsError'>, 'FileNotFoundError': <class 'FileNotFoundError'>, 'IsADirectoryError': <class 'IsADirectoryError'>, 'NotADirectoryError': <class 'NotADirectoryError'>, 'InterruptedError': <class 'InterruptedError'>, 'PermissionError': <class 'PermissionError'>, 'ProcessLookupError': <class 'ProcessLookupError'>, 'TimeoutError': <class 'TimeoutError'>, 'open': <built-in function open>, 'copyright': Copyright (c) 2001-2022 Python Software Foundation.\n",
       "All Rights Reserved.\n",
       "\n",
       "Copyright (c) 2000 BeOpen.com.\n",
       "All Rights Reserved.\n",
       "\n",
       "Copyright (c) 1995-2001 Corporation for National Research Initiatives.\n",
       "All Rights Reserved.\n",
       "\n",
       "Copyright (c) 1991-1995 Stichting Mathematisch Centrum, Amsterdam.\n",
       "All Rights Reserved., 'credits':     Thanks to CWI, CNRI, BeOpen.com, Zope Corporation and a cast of thousands\n",
       "    for supporting Python development.  See www.python.org for more information., 'license': Type license() to see the full license text, 'help': Type help() for interactive help, or help(object) for help about object., 'execfile': <function execfile at 0x00000264ADBB5F30>, 'runfile': <function runfile at 0x00000264ADD05000>, '__IPYTHON__': True, 'display': <function display at 0x00000264AC472B90>, 'get_ipython': <bound method InteractiveShell.get_ipython of <ipykernel.zmqshell.ZMQInteractiveShell object at 0x00000264ADFA1210>>})"
      ]
     },
     "execution_count": 10,
     "metadata": {},
     "output_type": "execute_result"
    }
   ],
   "source": [
    "# 模拟Python内部lookup链的例子\n",
    "import builtins\n",
    "pylookup = ChainMap(locals(), globals(), vars(builtins))\n",
    "pylookup"
   ]
  },
  {
   "cell_type": "code",
   "execution_count": 14,
   "id": "432d88cd-3607-4f58-aebe-2018cb3a4f68",
   "metadata": {},
   "outputs": [
    {
     "name": "stdout",
     "output_type": "stream",
     "text": [
      "blue\n",
      "guest\n"
     ]
    }
   ],
   "source": [
    "! python chain_map_test.py -c blue"
   ]
  },
  {
   "cell_type": "code",
   "execution_count": 18,
   "id": "153ffd96-2ba2-4f4d-9d9e-acda33b38726",
   "metadata": {},
   "outputs": [
    {
     "name": "stdout",
     "output_type": "stream",
     "text": [
      "ChainMap({'a': '1', 'b': '2'})\n",
      "ChainMap({}, {'a': '1', 'b': '2'})\n",
      "ChainMap({}, {'a': '1', 'b': '2'})\n"
     ]
    }
   ],
   "source": [
    "# 用 ChainMap 类模拟嵌套上下文的例子\n",
    "c = ChainMap({'a': '1', 'b': '2'})        # Create root context\n",
    "d = c.new_child()     # Create nested child context\n",
    "e = c.new_child()     # Child of c, independent from d\n",
    "print(c)\n",
    "print(d)\n",
    "print(e)\n"
   ]
  },
  {
   "cell_type": "code",
   "execution_count": 19,
   "id": "5351f0e3-b7e1-40a5-b537-09b465bf02ec",
   "metadata": {},
   "outputs": [
    {
     "name": "stdout",
     "output_type": "stream",
     "text": [
      "{}\n",
      "{'a': '1', 'b': '2'}\n",
      "ChainMap({'a': '1', 'b': '2'})\n"
     ]
    }
   ],
   "source": [
    "print(e.maps[0])             # Current context dictionary -- like Python's locals()\n",
    "print(e.maps[-1])            # Root context -- like Python's globals()\n",
    "print(e.parents)             # Enclosing context chain -- like Python's nonlocals\n",
    "\n"
   ]
  },
  {
   "cell_type": "code",
   "execution_count": 20,
   "id": "4067a25c-4c9b-4fca-9e9a-006a71381450",
   "metadata": {},
   "outputs": [
    {
     "name": "stdout",
     "output_type": "stream",
     "text": [
      "1\n",
      "['a', 'b']\n",
      "False\n",
      "2\n",
      "ItemsView(ChainMap({}, {'a': '1', 'b': '2'}))\n",
      "{'a': '1', 'b': '2'}\n"
     ]
    }
   ],
   "source": [
    "d['x'] = 1            # Set value in current context\n",
    "print(d['x'])                # Get first key in the chain of contexts\n",
    "del d['x']            # Delete from current context\n",
    "print(list(d))               # All nested values\n",
    "print('x' in d)                # Check all nested values\n",
    "print(len(d))                # Number of nested values\n",
    "print(d.items())             # All nested items\n",
    "print(dict(d))               # Flatten into a regular dictionary"
   ]
  },
  {
   "cell_type": "code",
   "execution_count": 21,
   "id": "74d18ebe-9d5d-4fcb-bdbf-720f507f8171",
   "metadata": {},
   "outputs": [
    {
     "name": "stdout",
     "output_type": "stream",
     "text": [
      "DeepChainMap({'zebra': 'black'}, {'elephant': 'blue'}, {'lion': 'yellow'})\n",
      "DeepChainMap({'zebra': 'black'}, {'elephant': 'blue'}, {'lion': 'orange'})\n",
      "DeepChainMap({'zebra': 'black', 'snake': 'red'}, {'elephant': 'blue'}, {'lion': 'orange'})\n",
      "DeepChainMap({'zebra': 'black', 'snake': 'red'}, {}, {'lion': 'orange'})\n"
     ]
    }
   ],
   "source": [
    "# ChainMap 类只更新链中的第一个映射，但lookup会搜索整个链。 然而，如果需要深度写和删除，也可以很容易的通过定义一个子类来实现它\n",
    "class DeepChainMap(ChainMap):\n",
    "    'Variant of ChainMap that allows direct updates to inner scopes'\n",
    "\n",
    "    def __setitem__(self, key, value):\n",
    "        for mapping in self.maps:\n",
    "            if key in mapping:\n",
    "                mapping[key] = value\n",
    "                return\n",
    "        self.maps[0][key] = value\n",
    "\n",
    "    def __delitem__(self, key):\n",
    "        for mapping in self.maps:\n",
    "            if key in mapping:\n",
    "                del mapping[key]\n",
    "                return\n",
    "        raise KeyError(key)\n",
    "\n",
    "d = DeepChainMap({'zebra': 'black'}, {'elephant': 'blue'}, {'lion': 'yellow'})\n",
    "print(d)\n",
    "d['lion'] = 'orange'         # update an existing key two levels down\n",
    "print(d)\n",
    "d['snake'] = 'red'           # new keys get added to the topmost dict\n",
    "print(d)\n",
    "del d['elephant']            # remove an existing key one level down\n",
    "print(d)                          # display result"
   ]
  },
  {
   "cell_type": "code",
   "execution_count": 22,
   "id": "7145b076-14a0-4272-992b-90b6faf86fc8",
   "metadata": {},
   "outputs": [
    {
     "name": "stdout",
     "output_type": "stream",
     "text": [
      "ChainMap({'zebra': 'black'}, {'elephant': 'blue'}, {'lion': 'yellow'})\n",
      "ChainMap({'zebra': 'black', 'lion': 'orange'}, {'elephant': 'blue'}, {'lion': 'yellow'})\n",
      "ChainMap({'zebra': 'black', 'lion': 'orange', 'snake': 'red'}, {'elephant': 'blue'}, {'lion': 'yellow'})\n"
     ]
    },
    {
     "ename": "KeyError",
     "evalue": "\"Key not found in the first mapping: 'elephant'\"",
     "output_type": "error",
     "traceback": [
      "\u001b[1;31m---------------------------------------------------------------------------\u001b[0m",
      "\u001b[1;31mKeyError\u001b[0m                                  Traceback (most recent call last)",
      "File \u001b[1;32m~\\development\\Python\\Python310\\lib\\collections\\__init__.py:1042\u001b[0m, in \u001b[0;36mChainMap.__delitem__\u001b[1;34m(self, key)\u001b[0m\n\u001b[0;32m   1041\u001b[0m \u001b[38;5;28;01mtry\u001b[39;00m:\n\u001b[1;32m-> 1042\u001b[0m     \u001b[38;5;28;01mdel\u001b[39;00m \u001b[38;5;28mself\u001b[39m\u001b[38;5;241m.\u001b[39mmaps[\u001b[38;5;241m0\u001b[39m][key]\n\u001b[0;32m   1043\u001b[0m \u001b[38;5;28;01mexcept\u001b[39;00m \u001b[38;5;167;01mKeyError\u001b[39;00m:\n",
      "\u001b[1;31mKeyError\u001b[0m: 'elephant'",
      "\nDuring handling of the above exception, another exception occurred:\n",
      "\u001b[1;31mKeyError\u001b[0m                                  Traceback (most recent call last)",
      "Input \u001b[1;32mIn [22]\u001b[0m, in \u001b[0;36m<cell line: 7>\u001b[1;34m()\u001b[0m\n\u001b[0;32m      5\u001b[0m d[\u001b[38;5;124m'\u001b[39m\u001b[38;5;124msnake\u001b[39m\u001b[38;5;124m'\u001b[39m] \u001b[38;5;241m=\u001b[39m \u001b[38;5;124m'\u001b[39m\u001b[38;5;124mred\u001b[39m\u001b[38;5;124m'\u001b[39m           \u001b[38;5;66;03m# new keys get added to the topmost dict\u001b[39;00m\n\u001b[0;32m      6\u001b[0m \u001b[38;5;28mprint\u001b[39m(d)\n\u001b[1;32m----> 7\u001b[0m \u001b[38;5;28;01mdel\u001b[39;00m d[\u001b[38;5;124m'\u001b[39m\u001b[38;5;124melephant\u001b[39m\u001b[38;5;124m'\u001b[39m]            \u001b[38;5;66;03m# remove an existing key one level down\u001b[39;00m\n\u001b[0;32m      8\u001b[0m \u001b[38;5;28mprint\u001b[39m(d)\n",
      "File \u001b[1;32m~\\development\\Python\\Python310\\lib\\collections\\__init__.py:1044\u001b[0m, in \u001b[0;36mChainMap.__delitem__\u001b[1;34m(self, key)\u001b[0m\n\u001b[0;32m   1042\u001b[0m     \u001b[38;5;28;01mdel\u001b[39;00m \u001b[38;5;28mself\u001b[39m\u001b[38;5;241m.\u001b[39mmaps[\u001b[38;5;241m0\u001b[39m][key]\n\u001b[0;32m   1043\u001b[0m \u001b[38;5;28;01mexcept\u001b[39;00m \u001b[38;5;167;01mKeyError\u001b[39;00m:\n\u001b[1;32m-> 1044\u001b[0m     \u001b[38;5;28;01mraise\u001b[39;00m \u001b[38;5;167;01mKeyError\u001b[39;00m(\u001b[38;5;124mf\u001b[39m\u001b[38;5;124m'\u001b[39m\u001b[38;5;124mKey not found in the first mapping: \u001b[39m\u001b[38;5;132;01m{\u001b[39;00mkey\u001b[38;5;132;01m!r}\u001b[39;00m\u001b[38;5;124m'\u001b[39m)\n",
      "\u001b[1;31mKeyError\u001b[0m: \"Key not found in the first mapping: 'elephant'\""
     ]
    }
   ],
   "source": [
    "d = ChainMap({'zebra': 'black'}, {'elephant': 'blue'}, {'lion': 'yellow'})\n",
    "print(d)\n",
    "d['lion'] = 'orange'         # update an existing key two levels down\n",
    "print(d)\n",
    "d['snake'] = 'red'           # new keys get added to the topmost dict\n",
    "print(d)\n",
    "del d['elephant']            # remove an existing key one level down\n",
    "print(d)         "
   ]
  },
  {
   "cell_type": "code",
   "execution_count": null,
   "id": "e1ccfcfa-2706-44db-a53d-41efa53ca072",
   "metadata": {},
   "outputs": [],
   "source": []
  }
 ],
 "metadata": {
  "kernelspec": {
   "display_name": "Python 3 (ipykernel)",
   "language": "python",
   "name": "python3"
  },
  "language_info": {
   "codemirror_mode": {
    "name": "ipython",
    "version": 3
   },
   "file_extension": ".py",
   "mimetype": "text/x-python",
   "name": "python",
   "nbconvert_exporter": "python",
   "pygments_lexer": "ipython3",
   "version": "3.10.5"
  }
 },
 "nbformat": 4,
 "nbformat_minor": 5
}
