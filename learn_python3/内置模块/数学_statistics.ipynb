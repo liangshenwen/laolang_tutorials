{
 "cells": [
  {
   "cell_type": "markdown",
   "id": "ebc67525-8342-430a-b524-4a20898caaa8",
   "metadata": {},
   "source": [
    "# 平均值以及对中心位置的评估\n",
    "这些函数用于计算一个总体或样本的平均值或者典型值。"
   ]
  },
  {
   "cell_type": "code",
   "execution_count": 27,
   "id": "c5f5030e-312d-4507-b74e-d419def3e0a0",
   "metadata": {},
   "outputs": [],
   "source": [
    "from statistics import *\n",
    "from math import *"
   ]
  },
  {
   "cell_type": "markdown",
   "id": "ac198817-fa57-4b2e-ac19-0f07a3f0e0e7",
   "metadata": {},
   "source": [
    "## statistics.mean(data)\n",
    "返回 data 的样本算术平均数，形式为序列或迭代器。\n",
    "\n",
    "算术平均数是数据之和与数据点个数的商。通常称作“平均数”，尽管它指示诸多数学平均数之一。它是数据的中心位置的度量。"
   ]
  },
  {
   "cell_type": "code",
   "execution_count": 2,
   "id": "22a9ffb9-a80d-4b01-9f92-bda8e1f39558",
   "metadata": {},
   "outputs": [
    {
     "data": {
      "text/plain": [
       "2.8"
      ]
     },
     "execution_count": 2,
     "metadata": {},
     "output_type": "execute_result"
    }
   ],
   "source": [
    "mean([1, 2, 3, 4, 4])"
   ]
  },
  {
   "cell_type": "code",
   "execution_count": 3,
   "id": "679380c1-81eb-4125-94c3-111a95e0e440",
   "metadata": {},
   "outputs": [
    {
     "data": {
      "text/plain": [
       "2.625"
      ]
     },
     "execution_count": 3,
     "metadata": {},
     "output_type": "execute_result"
    }
   ],
   "source": [
    "mean([-1.0, 2.5, 3.25, 5.75])"
   ]
  },
  {
   "cell_type": "code",
   "execution_count": 4,
   "id": "a95740cf-03bb-4031-8c5f-ab3c2a0b4a13",
   "metadata": {},
   "outputs": [
    {
     "data": {
      "text/plain": [
       "Fraction(13, 21)"
      ]
     },
     "execution_count": 4,
     "metadata": {},
     "output_type": "execute_result"
    }
   ],
   "source": [
    "from fractions import Fraction as F\n",
    "mean([F(3, 7), F(1, 21), F(5, 3), F(1, 3)])"
   ]
  },
  {
   "cell_type": "code",
   "execution_count": 5,
   "id": "a252c616-988b-402a-a22d-6268671510d1",
   "metadata": {},
   "outputs": [
    {
     "data": {
      "text/plain": [
       "Decimal('0.5625')"
      ]
     },
     "execution_count": 5,
     "metadata": {},
     "output_type": "execute_result"
    }
   ],
   "source": [
    "from decimal import Decimal as D\n",
    "mean([D(\"0.5\"), D(\"0.75\"), D(\"0.625\"), D(\"0.375\")])"
   ]
  },
  {
   "cell_type": "markdown",
   "id": "7ce8ad1f-6b74-4db0-8946-8aaedea54034",
   "metadata": {},
   "source": [
    "## statistics.fmean(data)\n",
    "将 data 转换成浮点数并且计算算术平均数。\n",
    "\n",
    "此函数的运行速度比 mean() 函数快并且它总是返回一个 float。 data 可以为序列或可迭代对象。 "
   ]
  },
  {
   "cell_type": "code",
   "execution_count": 6,
   "id": "f34946ed-cd10-4ca2-9934-739c89d48935",
   "metadata": {},
   "outputs": [
    {
     "data": {
      "text/plain": [
       "4.25"
      ]
     },
     "execution_count": 6,
     "metadata": {},
     "output_type": "execute_result"
    }
   ],
   "source": [
    "fmean([3.5, 4.0, 5.25])"
   ]
  },
  {
   "cell_type": "markdown",
   "id": "d4f83f82-5841-44ab-ae02-eacc0465bc9b",
   "metadata": {},
   "source": [
    "## statistics.geometric_mean(data)\n",
    "将 data 转换成浮点数并且计算几何平均数。\n",
    "\n",
    "几何平均值使用值的乘积表示 数据 的中心趋势或典型值（与使用它们的总和的算术平均值相反）。\n",
    "\n",
    "如果输入数据集为空、包含零或包含负值则将引发 StatisticsError。 data 可以是序列或可迭代对象。\n",
    "\n",
    "几何平均数主要是针对正实数而言。n个正实数的几何平均数，就是这n个正实数乘积的非负n次方根。"
   ]
  },
  {
   "cell_type": "code",
   "execution_count": 7,
   "id": "be7b4071-990b-4c35-a925-032c83f46e5a",
   "metadata": {},
   "outputs": [
    {
     "data": {
      "text/plain": [
       "36.0"
      ]
     },
     "execution_count": 7,
     "metadata": {},
     "output_type": "execute_result"
    }
   ],
   "source": [
    "round(geometric_mean([54, 24, 36]), 1)"
   ]
  },
  {
   "cell_type": "markdown",
   "id": "1de17ee9-13c3-4592-97d2-995bda2ad7ca",
   "metadata": {},
   "source": [
    "## statistics.harmonic_mean(data, weights=None)\n",
    "返回包含实数值的序列或可迭代对象 data 的调和平均数。 如果 weights 被省略或为 None，则会假定权重相等。\n",
    "\n",
    "调和平均数是数据的倒数的算术平均值 mean() 的倒数。 例如，三个数值 a, b 和 c 的调和平均数将等于 3/(1/a + 1/b + 1/c)。 如果其中一个值为零，则结果也将为零。\n",
    "\n",
    "调和平均数是均值的一种，是对数据的中心位置的度量。 它通常适用于求比率和比例（如速度）的均值。"
   ]
  },
  {
   "cell_type": "code",
   "execution_count": 8,
   "id": "6de947a5-95bc-4650-9981-10b8e7b26ea2",
   "metadata": {},
   "outputs": [],
   "source": [
    "# 假设一辆车在 40 km/hr 的速度下行驶了 10 km ，然后又以 60 km/hr 的速度行驶了 10 km 。车辆的平均速率是多少？"
   ]
  },
  {
   "cell_type": "code",
   "execution_count": 9,
   "id": "702a3fed-1d67-4098-a086-95012aca99f6",
   "metadata": {},
   "outputs": [
    {
     "data": {
      "text/plain": [
       "48.0"
      ]
     },
     "execution_count": 9,
     "metadata": {},
     "output_type": "execute_result"
    }
   ],
   "source": [
    "harmonic_mean([40, 60])"
   ]
  },
  {
   "cell_type": "code",
   "execution_count": 10,
   "id": "0a559c99-3986-45a8-8566-b3c62834177f",
   "metadata": {},
   "outputs": [
    {
     "data": {
      "text/plain": [
       "56.0"
      ]
     },
     "execution_count": 10,
     "metadata": {},
     "output_type": "execute_result"
    }
   ],
   "source": [
    "# 假设一辆汽车以速度 40 公里/小时行驶了 5 公里，当道路变得畅通后，提速到 60 公里/小时行驶了行程中剩余的 30 km。 请问其平均速度是多少？\n",
    "harmonic_mean([40, 60], weights=[5, 30])"
   ]
  },
  {
   "cell_type": "markdown",
   "id": "0c2343e6-9a20-47ab-a0dc-c484d3c083e9",
   "metadata": {},
   "source": [
    "## statistics.median(data)\n",
    "使用普通的“取中间两数平均值”方法返回数值数据的中位数（中间值）。"
   ]
  },
  {
   "cell_type": "code",
   "execution_count": 11,
   "id": "24539c10-18d1-4073-aa83-1ad78caae1ec",
   "metadata": {},
   "outputs": [
    {
     "data": {
      "text/plain": [
       "3"
      ]
     },
     "execution_count": 11,
     "metadata": {},
     "output_type": "execute_result"
    }
   ],
   "source": [
    "# 当数据点的总数为奇数时，将返回中间数据点：\n",
    "median([1, 3, 5])"
   ]
  },
  {
   "cell_type": "code",
   "execution_count": 12,
   "id": "8644929f-c84b-4953-bf97-0cc90633845a",
   "metadata": {},
   "outputs": [
    {
     "data": {
      "text/plain": [
       "4.0"
      ]
     },
     "execution_count": 12,
     "metadata": {},
     "output_type": "execute_result"
    }
   ],
   "source": [
    "# 当数据点的总数为偶数时，中位数将通过对两个中间值求平均进行插值得出：\n",
    "median([1, 3, 5, 7])"
   ]
  },
  {
   "cell_type": "markdown",
   "id": "1b873fda-32ca-4a3c-b905-33a251a01799",
   "metadata": {},
   "source": [
    "## statistics.median_low(data)\n",
    "返回数值数据的低中位数。 如果 data 为空则将引发 StatisticsError。 data 可以是序列或可迭代对象。\n",
    "\n",
    "低中位数一定是数据集的成员。 当数据点总数为奇数时，将返回中间值。 当其为偶数时，将返回两个中间值中较小的那个。\n"
   ]
  },
  {
   "cell_type": "code",
   "execution_count": 13,
   "id": "223896b2-b82c-4dac-a27f-435884cb2caf",
   "metadata": {},
   "outputs": [
    {
     "data": {
      "text/plain": [
       "3"
      ]
     },
     "execution_count": 13,
     "metadata": {},
     "output_type": "execute_result"
    }
   ],
   "source": [
    "median_low([1, 3, 5])"
   ]
  },
  {
   "cell_type": "code",
   "execution_count": 14,
   "id": "62c77dbd-0fb6-46e7-b80e-eb985a49f0c2",
   "metadata": {},
   "outputs": [
    {
     "data": {
      "text/plain": [
       "3"
      ]
     },
     "execution_count": 14,
     "metadata": {},
     "output_type": "execute_result"
    }
   ],
   "source": [
    "median_low([1, 3, 5, 7])"
   ]
  },
  {
   "cell_type": "markdown",
   "id": "adf88439-4608-4652-83a4-547ab0923e4a",
   "metadata": {},
   "source": [
    "## statistics.median_high(data)\n",
    "返回数据的高中位数。 "
   ]
  },
  {
   "cell_type": "code",
   "execution_count": 15,
   "id": "efca4ecc-650b-4aef-8d73-3a38d16ef068",
   "metadata": {},
   "outputs": [
    {
     "data": {
      "text/plain": [
       "5"
      ]
     },
     "execution_count": 15,
     "metadata": {},
     "output_type": "execute_result"
    }
   ],
   "source": [
    "median_high([1, 3, 5, 7])"
   ]
  },
  {
   "cell_type": "code",
   "execution_count": 16,
   "id": "844d3a70-4255-49d3-a6cb-3d4f3635fb62",
   "metadata": {},
   "outputs": [
    {
     "data": {
      "text/plain": [
       "3"
      ]
     },
     "execution_count": 16,
     "metadata": {},
     "output_type": "execute_result"
    }
   ],
   "source": [
    "median_high([1, 3, 5])"
   ]
  },
  {
   "cell_type": "markdown",
   "id": "9012b8ab-f24b-43b0-b7e4-bcf93ae47969",
   "metadata": {},
   "source": [
    "## statistics.median_grouped(data, interval=1)\n",
    "返回分组的连续数据的中位数，根据第 50 个百分点的位置使用插值来计算。"
   ]
  },
  {
   "cell_type": "code",
   "execution_count": 17,
   "id": "fe7cff73-60f3-4eb0-b397-a9bbd9b17ed0",
   "metadata": {},
   "outputs": [
    {
     "data": {
      "text/plain": [
       "52.5"
      ]
     },
     "execution_count": 17,
     "metadata": {},
     "output_type": "execute_result"
    }
   ],
   "source": [
    "median_grouped([52, 52, 53, 54])"
   ]
  },
  {
   "cell_type": "code",
   "execution_count": 18,
   "id": "d07fe321-af81-4299-b39b-ddd45c1f4591",
   "metadata": {},
   "outputs": [
    {
     "data": {
      "text/plain": [
       "3.7"
      ]
     },
     "execution_count": 18,
     "metadata": {},
     "output_type": "execute_result"
    }
   ],
   "source": [
    "# 在下面的示例中，数据已经过舍入，这样每个值都代表数据分类的中间点，例如 1 是 0.5--1.5 分类的中间点，2 是 1.5--2.5 分类的中间点，\n",
    "# 3 是 2.5--3.5 的中间点等待。 根据给定的数据，中间值应落在 3.5--4.5 分类之内，并可使用插值法来进行估算：\n",
    "median_grouped([1, 2, 2, 3, 4, 4, 4, 4, 4, 5])"
   ]
  },
  {
   "cell_type": "code",
   "execution_count": 23,
   "id": "70b1b096-651c-4495-901e-1a6fb8ef952b",
   "metadata": {},
   "outputs": [
    {
     "data": {
      "text/plain": [
       "3.25"
      ]
     },
     "execution_count": 23,
     "metadata": {},
     "output_type": "execute_result"
    }
   ],
   "source": [
    "# 可选参数 interval 表示分类间隔，默认值为 1。 改变分类间隔自然会改变插件结果：\n",
    "median_grouped([1, 3, 3, 5, 7], interval=1)"
   ]
  },
  {
   "cell_type": "code",
   "execution_count": 20,
   "id": "9216d195-d8c3-4124-9f98-9e0ed1197f48",
   "metadata": {},
   "outputs": [
    {
     "data": {
      "text/plain": [
       "3.5"
      ]
     },
     "execution_count": 20,
     "metadata": {},
     "output_type": "execute_result"
    }
   ],
   "source": [
    "median_grouped([1, 3, 3, 5, 7], interval=2)"
   ]
  },
  {
   "cell_type": "markdown",
   "id": "06fbaad0-0838-4c23-be3d-14edb47b79bd",
   "metadata": {},
   "source": [
    "## statistics.mode(data)\n",
    "从离散或标称的 data 返回单个出现最多的数据点。 此众数（如果存在）是最典型的值，并可用来度量中心的位置。\n",
    "\n",
    "如果存在具有相同频率的多个众数，则返回在 data 中遇到的第一个。 "
   ]
  },
  {
   "cell_type": "code",
   "execution_count": 21,
   "id": "e64d1f0b-b359-42c7-b832-27ddaf74f7df",
   "metadata": {},
   "outputs": [
    {
     "data": {
      "text/plain": [
       "3"
      ]
     },
     "execution_count": 21,
     "metadata": {},
     "output_type": "execute_result"
    }
   ],
   "source": [
    "mode([1, 1, 2, 3, 3, 3, 3, 4])"
   ]
  },
  {
   "cell_type": "code",
   "execution_count": 22,
   "id": "6bfb1a06-934c-44d7-bacd-c3b1d95c1622",
   "metadata": {},
   "outputs": [
    {
     "data": {
      "text/plain": [
       "'red'"
      ]
     },
     "execution_count": 22,
     "metadata": {},
     "output_type": "execute_result"
    }
   ],
   "source": [
    "mode([\"red\", \"blue\", \"blue\", \"red\", \"green\", \"red\", \"red\"])"
   ]
  },
  {
   "cell_type": "markdown",
   "id": "d23dcf11-3dff-4731-ae22-23e0d2ce2c05",
   "metadata": {},
   "source": [
    "## statistics.multimode(data)\n",
    "返回最频繁出现的值的列表，并按它们在 data 中首次出现的位置排序。 如果存在多个众数则将返回一个以上的众数，或者如果 data 为空则将返回空列表"
   ]
  },
  {
   "cell_type": "code",
   "execution_count": 24,
   "id": "ad7df651-421e-41a8-a98d-8ae1e7da0fd9",
   "metadata": {},
   "outputs": [
    {
     "data": {
      "text/plain": [
       "['b', 'd', 'f']"
      ]
     },
     "execution_count": 24,
     "metadata": {},
     "output_type": "execute_result"
    }
   ],
   "source": [
    "multimode('aabbbbccddddeeffffgg')"
   ]
  },
  {
   "cell_type": "code",
   "execution_count": 25,
   "id": "75da32c2-37c6-4bcb-a36c-0adb0acf8e35",
   "metadata": {},
   "outputs": [
    {
     "data": {
      "text/plain": [
       "[]"
      ]
     },
     "execution_count": 25,
     "metadata": {},
     "output_type": "execute_result"
    }
   ],
   "source": [
    "multimode('')"
   ]
  },
  {
   "cell_type": "markdown",
   "id": "9fe5db4d-125c-429e-b05a-acfe64a7acf3",
   "metadata": {},
   "source": [
    "## statistics.quantiles(data, *, n=4, method='exclusive')\n",
    "将 data 分隔为具有相等概率的 n 个连续区间。 返回分隔这些区间的 n - 1 个分隔点的列表。\n",
    "\n",
    "将 n 设为 4 以使用四分位（默认值）。 将 n 设为 10 以使用十分位。 将 n 设为 100 以使用百分位，即给出 99 个分隔点来将 data 分隔为 100 个大小相等的组。"
   ]
  },
  {
   "cell_type": "code",
   "execution_count": 38,
   "id": "f3467545-d168-4ae5-b510-63a7e47f73e7",
   "metadata": {},
   "outputs": [
    {
     "name": "stdout",
     "output_type": "stream",
     "text": [
      "[81.0, 86.2, 89.0, 99.4, 102.5, 103.6, 106.0, 109.8, 111.0]\n",
      "[87.0, 102.5, 108.25]\n",
      "[81.0, 86.2, 89.0, 99.4, 102.5, 103.6, 106.0, 109.8, 111.0]\n",
      "[1, 2, 3, 4, 5, 6, 7, 8, 9, 10, 11, 12, 13, 14, 15, 16, 17, 18, 19, 20, 21, 22, 23, 24, 25, 26, 27, 28, 29, 30, 31, 32, 33, 34, 35, 36, 37, 38, 39, 40, 41, 42, 43, 44, 45, 46, 47, 48, 49, 50, 51, 52, 53, 54, 55, 56, 57, 58, 59, 60, 61, 62, 63, 64, 65, 66, 67, 68, 69, 70, 71, 72, 73, 74, 75, 76, 77, 78, 79, 80, 81, 82, 83, 84, 85, 86, 87, 88, 89, 90, 91, 92, 93, 94, 95, 96, 97, 98, 99, 100]\n",
      "[10.1, 20.2, 30.3, 40.4, 50.5, 60.6, 70.7, 80.8, 90.9]\n",
      "[10.9, 20.8, 30.7, 40.6, 50.5, 60.4, 70.3, 80.2, 90.1]\n",
      "[25.25, 50.5, 75.75]\n"
     ]
    }
   ],
   "source": [
    "data = [105, 129, 87, 86, 111, 111, 89, 81, 108, 92, 110,\n",
    "        100, 75, 105, 103, 109, 76, 119, 99, 91, 103, 129,\n",
    "        106, 101, 84, 111, 74, 87, 86, 103, 103, 106, 86,\n",
    "        111, 75, 87, 102, 121, 111, 88, 89, 101, 106, 95,\n",
    "        103, 107, 101, 81, 109, 104]\n",
    "print(list(quantiles(data, n=10)))\n",
    "print(list(quantiles(data, n=4)))\n",
    "print([round(q, 1) for q in quantiles(data, n=10)])\n",
    "\n",
    "data = list(i + 1 for i in range(100))\n",
    "print(data)\n",
    "print(list(quantiles(data, n=10)))\n",
    "print(list(quantiles(data, n=10, method='inclusive')))\n",
    "print(list(quantiles(data, n=4)))\n"
   ]
  },
  {
   "cell_type": "markdown",
   "id": "3ee22d70-d857-4e4b-ad4c-6b03d30fbbc4",
   "metadata": {},
   "source": [
    "# 对分散程度的评估\n",
    "这些函数用于计算总体或样本与典型值或平均值的偏离程度。"
   ]
  },
  {
   "cell_type": "markdown",
   "id": "485e41f2-7ba1-4c20-9d71-b92399ca1572",
   "metadata": {},
   "source": [
    "## statistics.pstdev(data, mu=None)\n",
    "返回总体标准差（总体方差的平方根）。"
   ]
  },
  {
   "cell_type": "code",
   "execution_count": 40,
   "id": "8db445e9-b564-42a6-b18e-ce51afdf3ed7",
   "metadata": {},
   "outputs": [
    {
     "data": {
      "text/plain": [
       "0.986893273527251"
      ]
     },
     "execution_count": 40,
     "metadata": {},
     "output_type": "execute_result"
    }
   ],
   "source": [
    "pstdev([1.5, 2.5, 2.5, 2.75, 3.25, 4.75])"
   ]
  },
  {
   "cell_type": "markdown",
   "id": "ec596de4-087c-491a-8d1b-b12c4ea9f348",
   "metadata": {},
   "source": [
    "## statistics.pvariance(data, mu=None)\n",
    "返回非空序列或包含实数值的可迭代对象 data 的总体方差。 方差或称相对于均值的二阶距，是对数据变化幅度（延展度或分散度）的度量。 方差值较大表明数据的散布范围较大；方差值较小表明它紧密聚集于均值附近。"
   ]
  },
  {
   "cell_type": "code",
   "execution_count": 41,
   "id": "6d12b63f-cb53-4707-b041-008dc1b1eba2",
   "metadata": {},
   "outputs": [
    {
     "data": {
      "text/plain": [
       "1.25"
      ]
     },
     "execution_count": 41,
     "metadata": {},
     "output_type": "execute_result"
    }
   ],
   "source": [
    "data = [0.0, 0.25, 0.25, 1.25, 1.5, 1.75, 2.75, 3.25]\n",
    "pvariance(data)"
   ]
  },
  {
   "cell_type": "code",
   "execution_count": 42,
   "id": "aada5e17-5fd3-438f-9a93-438e4e1f1b29",
   "metadata": {},
   "outputs": [
    {
     "data": {
      "text/plain": [
       "1.25"
      ]
     },
     "execution_count": 42,
     "metadata": {},
     "output_type": "execute_result"
    }
   ],
   "source": [
    "# 如果你已经计算过数据的平均值，你可以将其作为可选的第二个参数 mu 传入以避免重复计算：\n",
    "mu = mean(data)\n",
    "pvariance(data, mu)"
   ]
  },
  {
   "cell_type": "code",
   "execution_count": 44,
   "id": "ed3b347b-b845-4caf-b845-9523c9926052",
   "metadata": {},
   "outputs": [
    {
     "data": {
      "text/plain": [
       "10.25"
      ]
     },
     "execution_count": 44,
     "metadata": {},
     "output_type": "execute_result"
    }
   ],
   "source": [
    "pvariance(data, mean(data)+3)"
   ]
  },
  {
   "cell_type": "code",
   "execution_count": 45,
   "id": "a8658e59-a8fa-483f-9fe2-f6abba2eb9ae",
   "metadata": {},
   "outputs": [
    {
     "data": {
      "text/plain": [
       "Decimal('24.815')"
      ]
     },
     "execution_count": 45,
     "metadata": {},
     "output_type": "execute_result"
    }
   ],
   "source": [
    "from decimal import Decimal as D\n",
    "pvariance([D(\"27.5\"), D(\"30.25\"), D(\"30.25\"), D(\"34.5\"), D(\"41.75\")])"
   ]
  },
  {
   "cell_type": "code",
   "execution_count": 46,
   "id": "badfdfd7-1f6c-4573-b783-bf1308b599f0",
   "metadata": {},
   "outputs": [
    {
     "data": {
      "text/plain": [
       "Fraction(13, 72)"
      ]
     },
     "execution_count": 46,
     "metadata": {},
     "output_type": "execute_result"
    }
   ],
   "source": [
    "from fractions import Fraction as F\n",
    "pvariance([F(1, 4), F(5, 4), F(1, 2)])"
   ]
  },
  {
   "cell_type": "markdown",
   "id": "6421517b-8bed-438f-b8af-43b9e7dc8944",
   "metadata": {},
   "source": [
    "## statistics.stdev(data, xbar=None)\n",
    "返回样本标准差（样本方差的平方根）。 "
   ]
  },
  {
   "cell_type": "code",
   "execution_count": 47,
   "id": "818fb475-44a6-41c4-8024-45b7201727b7",
   "metadata": {},
   "outputs": [
    {
     "data": {
      "text/plain": [
       "1.0810874155219827"
      ]
     },
     "execution_count": 47,
     "metadata": {},
     "output_type": "execute_result"
    }
   ],
   "source": [
    "stdev([1.5, 2.5, 2.5, 2.75, 3.25, 4.75])"
   ]
  },
  {
   "cell_type": "markdown",
   "id": "3e02870a-311c-4d8d-8649-e5bdc1c76b56",
   "metadata": {},
   "source": [
    "# statistics.variance(data, xbar=None)\n",
    "返回包含至少两个实数值的可迭代对象 data 的样本方差。 方差或称相对于均值的二阶矩，是对数据变化幅度（延展度或分散度）的度量。 方差值较大表明数据的散布范围较大；方差值较小表明它紧密聚集于均值附近。\n",
    "\n",
    "如果给出了可选的第二个参数 xbar，它应当是 data 的均值。 如果该参数省略或为 None (默认值)，则会自动进行均值的计算。"
   ]
  },
  {
   "cell_type": "code",
   "execution_count": 48,
   "id": "6794c639-9672-48fa-9381-a863b56d0618",
   "metadata": {},
   "outputs": [
    {
     "data": {
      "text/plain": [
       "1.3720238095238095"
      ]
     },
     "execution_count": 48,
     "metadata": {},
     "output_type": "execute_result"
    }
   ],
   "source": [
    "data = [2.75, 1.75, 1.25, 0.25, 0.5, 1.25, 3.5]\n",
    "variance(data)"
   ]
  },
  {
   "cell_type": "code",
   "execution_count": 50,
   "id": "7f182768-a51a-4e48-bbd3-4155f1bb1746",
   "metadata": {},
   "outputs": [
    {
     "data": {
      "text/plain": [
       "1.3720238095238095"
      ]
     },
     "execution_count": 50,
     "metadata": {},
     "output_type": "execute_result"
    }
   ],
   "source": [
    "# 如果你已经计算过数据的平均值，你可以将其作为可选的第二个参数 xbar 传入以避免重复计算\n",
    "m = mean(data)\n",
    "variance(data, m)"
   ]
  },
  {
   "cell_type": "code",
   "execution_count": 51,
   "id": "48e60f33-e966-4160-8832-0726e6da7e42",
   "metadata": {},
   "outputs": [
    {
     "data": {
      "text/plain": [
       "Decimal('31.01875')"
      ]
     },
     "execution_count": 51,
     "metadata": {},
     "output_type": "execute_result"
    }
   ],
   "source": [
    "from decimal import Decimal as D\n",
    "variance([D(\"27.5\"), D(\"30.25\"), D(\"30.25\"), D(\"34.5\"), D(\"41.75\")])"
   ]
  },
  {
   "cell_type": "code",
   "execution_count": 52,
   "id": "a82fb913-d9cd-4fd3-9a1d-18e4a448ad51",
   "metadata": {},
   "outputs": [
    {
     "data": {
      "text/plain": [
       "Fraction(67, 108)"
      ]
     },
     "execution_count": 52,
     "metadata": {},
     "output_type": "execute_result"
    }
   ],
   "source": [
    "from fractions import Fraction as F\n",
    "variance([F(1, 6), F(1, 2), F(5, 3)])"
   ]
  },
  {
   "cell_type": "markdown",
   "id": "d937664a-92f1-4e84-b383-c0acc39a564f",
   "metadata": {},
   "source": [
    "# 对两个输入之间关系的统计\n",
    "这些函数计算两个输入之间关系的统计值。"
   ]
  },
  {
   "cell_type": "markdown",
   "id": "31dbdf71-9ce1-4b05-9053-1c7623e19c08",
   "metadata": {},
   "source": [
    "## statistics.covariance(x, y, /)\n",
    "返回两个输入 x 和 y 的样本协方差。 样本协方差是对两个输入的同步变化性的度量。\n",
    "\n",
    "两个输入必须具有相同的长度（不少于两个元素）"
   ]
  },
  {
   "cell_type": "code",
   "execution_count": 54,
   "id": "a2e4d198-aa85-4bc5-af23-4aa5219dbd0c",
   "metadata": {},
   "outputs": [
    {
     "name": "stdout",
     "output_type": "stream",
     "text": [
      "0.75\n",
      "-7.5\n",
      "-0.75\n"
     ]
    }
   ],
   "source": [
    "x = [1, 2, 3, 4, 5, 6, 7, 8, 9]\n",
    "y = [1, 2, 3, 1, 2, 3, 1, 2, 3]\n",
    "z = [9, 8, 7, 6, 5, 4, 3, 2, 1]\n",
    "print(covariance(x, y))\n",
    "print(covariance(x, z))\n",
    "print(covariance(y, z))"
   ]
  },
  {
   "cell_type": "markdown",
   "id": "fac3bc1b-0c96-4a16-95a2-72843b395faf",
   "metadata": {},
   "source": [
    "## statistics.correlation(x, y, /)\n",
    "返回两个输入的 皮尔逊相关系数。 皮尔逊相关系数 r 的取值在 -1 到 +1 之间。 它衡量线性相关的强度和方向，其中 +1 表示非常强的正线性相关，-1 表示非常强的负线性相关，0 表示无线性相关。  \n",
    "两个输入必须具有相同的长度（不少于两个元素），并且不必为常量"
   ]
  },
  {
   "cell_type": "code",
   "execution_count": 55,
   "id": "91a93dc2-843c-4ab5-a054-b234ce9b77cf",
   "metadata": {},
   "outputs": [
    {
     "name": "stdout",
     "output_type": "stream",
     "text": [
      "1.0\n",
      "-1.0\n"
     ]
    }
   ],
   "source": [
    "x = [1, 2, 3, 4, 5, 6, 7, 8, 9]\n",
    "y = [9, 8, 7, 6, 5, 4, 3, 2, 1]\n",
    "print(correlation(x, x))\n",
    "print(correlation(x, y))"
   ]
  },
  {
   "cell_type": "markdown",
   "id": "4b5fb2fa-cb74-4232-850a-09af9457d2b0",
   "metadata": {},
   "source": [
    "## statistics.linear_regression(x, y, /)\n",
    "返回使用普通最小二乘法估计得到的 简单线性回归 参数的斜率和截距。 简单纯属回归通过此线性函数来描述自变量 x 和因变量 y 之间的关系。\n",
    "\n",
    "y = slope * x + intercept + noise\n",
    "\n",
    "其中 slope 和 intercept 是估计得到的回归参数，而 noise 代表不可由线性回归解释的数据变异性（它等于因变量的预测值和实际值之间的差异）。\n",
    "\n",
    "两个输入必须具有相同的长度（不少于两个元素），并且自变量 x 不可为常量"
   ]
  },
  {
   "cell_type": "code",
   "execution_count": 56,
   "id": "f81e21eb-9ec3-470e-a1ec-e2b8fe1e963b",
   "metadata": {},
   "outputs": [
    {
     "data": {
      "text/plain": [
       "16"
      ]
     },
     "execution_count": 56,
     "metadata": {},
     "output_type": "execute_result"
    }
   ],
   "source": [
    "# 例如，我们可以使用 Monty Python 系列电影的发布日期 在假定出品方保持现有步调的情况下预测到 2019 年时产出的 Monty Python 电影的累计数量。\n",
    "year = [1971, 1975, 1979, 1982, 1983]\n",
    "films_total = [1, 2, 3, 4, 5]\n",
    "slope, intercept = linear_regression(year, films_total)\n",
    "round(slope * 2019 + intercept)"
   ]
  },
  {
   "cell_type": "code",
   "execution_count": null,
   "id": "cdb5d9a0-bc31-42f3-8100-fb26377a43bf",
   "metadata": {},
   "outputs": [],
   "source": []
  }
 ],
 "metadata": {
  "kernelspec": {
   "display_name": "Python 3 (ipykernel)",
   "language": "python",
   "name": "python3"
  },
  "language_info": {
   "codemirror_mode": {
    "name": "ipython",
    "version": 3
   },
   "file_extension": ".py",
   "mimetype": "text/x-python",
   "name": "python",
   "nbconvert_exporter": "python",
   "pygments_lexer": "ipython3",
   "version": "3.10.4"
  }
 },
 "nbformat": 4,
 "nbformat_minor": 5
}
