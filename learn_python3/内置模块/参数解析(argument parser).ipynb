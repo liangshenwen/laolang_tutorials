{
 "cells": [
  {
   "cell_type": "markdown",
   "id": "71728d7f-7982-45ab-b780-c4dd4fc06e9c",
   "metadata": {},
   "source": [
    "https://docs.python.org/3/howto/argparse.html\n",
    "\n",
    "https://docs.python.org/zh-cn/3/library/argparse.html"
   ]
  }
 ],
 "metadata": {
  "kernelspec": {
   "display_name": "Python 3 (ipykernel)",
   "language": "python",
   "name": "python3"
  },
  "language_info": {
   "codemirror_mode": {
    "name": "ipython",
    "version": 3
   },
   "file_extension": ".py",
   "mimetype": "text/x-python",
   "name": "python",
   "nbconvert_exporter": "python",
   "pygments_lexer": "ipython3",
   "version": "3.10.5"
  }
 },
 "nbformat": 4,
 "nbformat_minor": 5
}
