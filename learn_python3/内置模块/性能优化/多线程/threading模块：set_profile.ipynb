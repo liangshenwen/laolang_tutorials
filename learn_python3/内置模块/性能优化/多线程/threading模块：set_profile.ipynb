{
 "cells": [
  {
   "cell_type": "markdown",
   "id": "6c338b62",
   "metadata": {},
   "source": [
    "https://www.includehelp.com/python/threading-settrace-method-with-example.aspx\n",
    "\n",
    "Python `threading.setprofile()` Method  \n",
    "`setprofile()` is an inbuilt method of the threading module in Python. It is used to set a profile function for all the threads that are created by the threading module. The func function is passed to sys.profile() for each method.\n",
    "\n",
    "Module:  \n",
    "\n",
    "    import threading\n",
    "Syntax:  \n",
    "\n",
    "    setprofile(func)  \n",
    "Parameter(s):  \n",
    "\n",
    "func: It is a required parameter, which is passed to sys.setprofile() for each thread. This function is executed before the run() method.  \n",
    "Return value:  \n",
    "\n",
    "The return type of this method is <class 'NoneType'>, it does not return anything. It sets a profile function for all the threads.\n",
    "\n",
    "Example:"
   ]
  },
  {
   "cell_type": "code",
   "execution_count": 1,
   "id": "dcdc334f",
   "metadata": {},
   "outputs": [
    {
     "name": "stdout",
     "output_type": "stream",
     "text": [
      "Current thread's profile\n",
      "Name: MainThread\n",
      "Thread id: 23812\n",
      "Current thread's profile\n",
      "Name: Thread-6 (thread_2)\n",
      "Thread id: 10160\n",
      "Value by Thread-2: 2\n",
      "\n",
      "Current thread's profile\n",
      "Name: Thread-8 (thread_4)\n",
      "Thread id: 13352\n",
      "Value by Thread-4: 4\n",
      "\n",
      "Current thread's profile\n",
      "Name: Thread-7 (thread_3)\n",
      "Thread id: 21584\n",
      "Value by Thread-3: 3\n",
      "\n",
      "Current thread's profile\n",
      "Name: Thread-5 (thread_1)\n",
      "Thread id: 29316\n",
      "Value by Thread-1: 1\n",
      "\n"
     ]
    }
   ],
   "source": [
    "# Python program to explain the use of \n",
    "# setprofile()  method in Threading Module\n",
    "\n",
    "import time\n",
    "import threading\n",
    "\n",
    "def trace_profile(): \n",
    "    print(\"Current thread's profile\")\n",
    "    print(\"Name:\", str(threading.current_thread().name))\n",
    "    print(\"Thread id:\", threading.get_ident())\n",
    "\n",
    "def thread_1(i):\n",
    "    time.sleep(5)\n",
    "    threading.setprofile(trace_profile())\n",
    "    print(\"Value by Thread-1:\",i)\n",
    "    print()\n",
    "    \n",
    "def thread_2(i):\n",
    "    threading.setprofile(trace_profile())\n",
    "    print(\"Value by Thread-2:\",i)\n",
    "    print()\n",
    "    \n",
    "def thread_3(i):\n",
    "    time.sleep(4)\n",
    "    threading.setprofile(trace_profile())\n",
    "    print(\"Value by Thread-3:\",i)\n",
    "    print()\n",
    "    \n",
    "def thread_4(i):\n",
    "    time.sleep(1)\n",
    "    threading.setprofile(trace_profile())\n",
    "    print(\"Value by Thread-4:\",i)\n",
    "    print()\n",
    "\n",
    "# Creating sample threads \n",
    "threading.setprofile(trace_profile())\n",
    "thread1 = threading.Thread(target=thread_1, args=(1,))\n",
    "thread2 = threading.Thread(target=thread_2, args=(2,))\n",
    "thread3 = threading.Thread(target=thread_3, args=(3,))\n",
    "thread4 = threading.Thread(target=thread_4, args=(4,))\n",
    "\n",
    "# Starting the threads\n",
    "thread1.start()\n",
    "thread2.start()\n",
    "thread3.start()\n",
    "thread4.start()"
   ]
  },
  {
   "cell_type": "code",
   "execution_count": null,
   "id": "47795990",
   "metadata": {},
   "outputs": [],
   "source": []
  }
 ],
 "metadata": {
  "kernelspec": {
   "display_name": "Python 3 (ipykernel)",
   "language": "python",
   "name": "python3"
  },
  "language_info": {
   "codemirror_mode": {
    "name": "ipython",
    "version": 3
   },
   "file_extension": ".py",
   "mimetype": "text/x-python",
   "name": "python",
   "nbconvert_exporter": "python",
   "pygments_lexer": "ipython3",
   "version": "3.10.5"
  }
 },
 "nbformat": 4,
 "nbformat_minor": 5
}
