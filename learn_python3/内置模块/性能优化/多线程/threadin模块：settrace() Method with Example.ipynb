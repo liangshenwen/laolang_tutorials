{
 "cells": [
  {
   "cell_type": "markdown",
   "id": "1ecb593d",
   "metadata": {},
   "source": [
    "https://www.includehelp.com/python/threading-settrace-method-with-example.aspx\n",
    "    \n",
    "    "
   ]
  },
  {
   "cell_type": "markdown",
   "id": "fce4fdca",
   "metadata": {},
   "source": [
    "Python `threading.settrace()` Method  \n",
    "`settrace()` is an inbuilt method of the threading module in Python. It is used to set a trace function for all the threads that are created by threading module. The func function is passed to `sys.settrace()` for each method.\n",
    "\n",
    "Module:  \n",
    "\n",
    "    import threading  \n",
    "Syntax:  \n",
    "\n",
    "    settrace(func)  \n",
    "Parameter(s):  \n",
    "\n",
    "func: It is a required parameter, which is passed to sys.settrace() for each thread. **This function is executed before the run() method. **\n",
    "\n",
    "Return value:  \n",
    "\n",
    "The return type of this method is <class 'NoneType'>, it does not return anything. It sets a trace function for all the threads.  \n",
    " \n",
    "Example:  "
   ]
  },
  {
   "cell_type": "code",
   "execution_count": 4,
   "id": "35f2b69a",
   "metadata": {},
   "outputs": [
    {
     "name": "stdout",
     "output_type": "stream",
     "text": [
      "Passing the trace function and current thread is: MainThread\n",
      "Passing the trace function and current thread is: Thread-10 (thread_2)\n",
      "Value by Thread-2: 2\n",
      "\n",
      "Passing the trace function and current thread is: Thread-12 (thread_4)\n",
      "Value by Thread-4: 4\n",
      "\n",
      "Passing the trace function and current thread is: Thread-11 (thread_3)\n",
      "Value by Thread-3: 3\n",
      "\n",
      "Passing the trace function and current thread is: Thread-9 (thread_1)\n",
      "Value by Thread-1: 1\n",
      "\n"
     ]
    }
   ],
   "source": [
    "# Python program to explain the use of \n",
    "# settrace()  method in Threading Module\n",
    "\n",
    "import time\n",
    "import threading\n",
    "\n",
    "def trace_function(): \n",
    "    print(\"Passing the trace function and current thread is:\", str(threading.current_thread().name))\n",
    "\n",
    "def thread_1(i):\n",
    "    time.sleep(5)\n",
    "    threading.settrace(trace_function())\n",
    "    print(\"Value by Thread-1:\",i)\n",
    "    print()\n",
    "    \n",
    "def thread_2(i):\n",
    "    threading.settrace(trace_function())\n",
    "    print(\"Value by Thread-2:\",i)\n",
    "    print()\n",
    "    \n",
    "def thread_3(i):\n",
    "    time.sleep(4)\n",
    "    threading.settrace(trace_function())\n",
    "    print(\"Value by Thread-3:\",i)\n",
    "    print()\n",
    "    \n",
    "def thread_4(i):\n",
    "    time.sleep(1)\n",
    "    threading.settrace(trace_function())\n",
    "    print(\"Value by Thread-4:\",i)\n",
    "    print()\n",
    "\n",
    "# Creating sample threads \n",
    "threading.settrace(trace_function())\n",
    "thread1 = threading.Thread(target=thread_1, args=(1,))\n",
    "thread2 = threading.Thread(target=thread_2, args=(2,))\n",
    "thread3 = threading.Thread(target=thread_3, args=(3,))\n",
    "thread4 = threading.Thread(target=thread_4, args=(4,))\n",
    "\n",
    "# Starting the threads\n",
    "thread1.start()\n",
    "thread2.start()\n",
    "thread3.start()\n",
    "thread4.start()"
   ]
  },
  {
   "cell_type": "code",
   "execution_count": null,
   "id": "d92fa183",
   "metadata": {},
   "outputs": [],
   "source": []
  }
 ],
 "metadata": {
  "kernelspec": {
   "display_name": "Python 3 (ipykernel)",
   "language": "python",
   "name": "python3"
  },
  "language_info": {
   "codemirror_mode": {
    "name": "ipython",
    "version": 3
   },
   "file_extension": ".py",
   "mimetype": "text/x-python",
   "name": "python",
   "nbconvert_exporter": "python",
   "pygments_lexer": "ipython3",
   "version": "3.10.5"
  }
 },
 "nbformat": 4,
 "nbformat_minor": 5
}
