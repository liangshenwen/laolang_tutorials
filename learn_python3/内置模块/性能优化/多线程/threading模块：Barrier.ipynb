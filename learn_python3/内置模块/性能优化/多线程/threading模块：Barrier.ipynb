{
 "cells": [
  {
   "cell_type": "markdown",
   "id": "399d9aef",
   "metadata": {},
   "source": [
    "构造方法：\n",
    "\n",
    "`threading.Barrier(parties, action=None, timeout=None)`    \n",
    "\n",
    "构建Barrier对象，parties 指定参与方数目，timeout是wait方法未指定时超时的默认值。  \n",
    "\n",
    "n_waiting    当前在栅栏中等待的线程数 \n",
    "\n",
    "parties        通过栅栏所需的线程数\n",
    "\n",
    "wait(timeout=None) 等待通过栅栏，返回0到线程数-1的整数(barrier_id)，每个线程返回不同。如果wait方法设置了超时，并超时发送，栅栏将处于broken状态。  \n",
    "\n",
    "例子1：  "
   ]
  },
  {
   "cell_type": "code",
   "execution_count": 1,
   "id": "bfb5386e",
   "metadata": {},
   "outputs": [
    {
     "name": "stderr",
     "output_type": "stream",
     "text": [
      "[-] Barrier-1 n_waiting = 0\n",
      "[-] Barrier-2 n_waiting = 1\n",
      "[-] Barrier-3 n_waiting = 2\n",
      "[-] Barrier-3 after barrier 2\n",
      "[-] Barrier-1 after barrier 0\n",
      "[-] Barrier-2 after barrier 1\n"
     ]
    }
   ],
   "source": [
    "#Barrier 栅栏\n",
    "import threading,logging\n",
    "logging.basicConfig(level=logging.INFO,format=\"[-] %(threadName)s %(message)s\")\n",
    " \n",
    "def work(barrier:threading.Barrier):\n",
    "    logging.info(\"n_waiting = {}\".format(barrier.n_waiting))   # 等待的线程数\n",
    "    bid = barrier.wait()   # 参与者的id，返回0到线程数减1的数值\n",
    "    logging.info(\"after barrier {}\".format(bid))  # 栅栏之后\n",
    " \n",
    "barrier = threading.Barrier(3) # 3个参与者，每3个开闸放行，0,1,2  4,5,6\n",
    " \n",
    "for x in range(1,4):  # 所有参数者个数，4,5,6,10,15\n",
    "    threading.Event().wait(1)\n",
    "    threading.Thread(target=work,args=(barrier,),name=\"Barrier-{}\".format(x)).start()"
   ]
  },
  {
   "cell_type": "markdown",
   "id": "21a8d32f",
   "metadata": {},
   "source": [
    "每一个进来就等待，不够3个就阻塞，直到够3个就开闸放行。\n",
    "\n",
    " \n",
    "\n",
    "Barrier实例的方法：  \n",
    "\n",
    "broken  检测栅栏是否处于打破的状态，返回True或False  \n",
    "\n",
    "abort()  将栅栏置于broken状态，等待中的线程或者调用等待方法的线程都会抛出threading.BrokenBarrieError异常，直到reset方法来恢复栅栏  \n",
    "\n",
    "reset()  恢复栅栏，重新开始拦截  \n",
    "\n",
    "例子2：  "
   ]
  },
  {
   "cell_type": "code",
   "execution_count": 3,
   "id": "2324efac",
   "metadata": {},
   "outputs": [
    {
     "name": "stderr",
     "output_type": "stream",
     "text": [
      "[-] Barrier-1 n_waiting = 0\n",
      "[-] Barrier-2 n_waiting = 1\n",
      "[-] Barrier-1 Broken Barrier in <Thread(Barrier-1, started 18020)>\n",
      "[-] Barrier-2 Broken Barrier in <Thread(Barrier-2, started 10908)>\n",
      "[-] Barrier-3 n_waiting = 0\n",
      "[-] Barrier-3 Broken Barrier in <Thread(Barrier-3, started 14032)>\n",
      "[-] Barrier-4 n_waiting = 0\n",
      "[-] Barrier-4 Broken Barrier in <Thread(Barrier-4, started 8272)>\n",
      "[-] Barrier-5 n_waiting = 0\n",
      "[-] Barrier-6 n_waiting = 1\n",
      "[-] Barrier-7 n_waiting = 2\n",
      "[-] Barrier-7 after barrier 2\n",
      "[-] Barrier-5 after barrier 0\n",
      "[-] Barrier-6 after barrier 1\n",
      "[-] Barrier-8 n_waiting = 0\n",
      "[-] Barrier-9 n_waiting = 1\n",
      "[-] Barrier-10 n_waiting = 2\n",
      "[-] Barrier-10 after barrier 2\n",
      "[-] Barrier-8 after barrier 0\n",
      "[-] Barrier-9 after barrier 1\n",
      "[-] Barrier-11 n_waiting = 0\n"
     ]
    }
   ],
   "source": [
    "#Barrier 栅栏\n",
    "import threading,logging\n",
    "logging.basicConfig(level=logging.INFO,format=\"[-] %(threadName)s %(message)s\")\n",
    " \n",
    "def work(barrier:threading.Barrier):\n",
    "    logging.info(\"n_waiting = {}\".format(barrier.n_waiting))\n",
    "    try:\n",
    "        bid = barrier.wait()\n",
    "        logging.info(\"after barrier {}\".format(bid))\n",
    "    except threading.BrokenBarrierError:\n",
    "        logging.info(\"Broken Barrier in {}\".format(threading.current_thread()))\n",
    " \n",
    "barrier = threading.Barrier(3)\n",
    " \n",
    "for x in range(1,12): #12个\n",
    "    if x == 3:\n",
    "        barrier.abort() #有一个人坏了规矩\n",
    "    elif x == 6:\n",
    "        barrier.reset()\n",
    "    threading.Event().wait(1)\n",
    "    threading.Thread(target=work,args=(barrier,),name=\"Barrier-{}\".format(x)).start()"
   ]
  },
  {
   "cell_type": "markdown",
   "id": "c0716b29",
   "metadata": {},
   "source": [
    "一共有12个参与者，依次开始，1和2处于等待状态，到达第3的时候，进入了broken状态，则直到第6个，才恢复栅栏，从6开始继续拦截，达到3个(6,7,8)就放行，9,10,11也放行。\n",
    "\n",
    "例3：\n",
    "\n",
    "wait方法\n",
    "\n"
   ]
  },
  {
   "cell_type": "code",
   "execution_count": 4,
   "id": "8213cabe",
   "metadata": {},
   "outputs": [
    {
     "name": "stderr",
     "output_type": "stream",
     "text": [
      "[-] Barrier-1 n_waiting = 0\n",
      "[-] Barrier-1 Broken Barrier in <Thread(Barrier-1, started 19300)>\n",
      "[-] Barrier-2 n_waiting = 0\n",
      "[-] Barrier-2 Broken Barrier in <Thread(Barrier-2, started 18932)>\n",
      "[-] Barrier-3 n_waiting = 0\n",
      "[-] Barrier-3 Broken Barrier in <Thread(Barrier-3, started 20912)>\n",
      "[-] Barrier-4 n_waiting = 0\n",
      "[-] Barrier-4 Broken Barrier in <Thread(Barrier-4, started 11556)>\n",
      "[-] Barrier-5 n_waiting = 0\n",
      "[-] Barrier-5 Broken Barrier in <Thread(Barrier-5, started 22448)>\n",
      "[-] Barrier-6 n_waiting = 0\n",
      "[-] Barrier-7 n_waiting = 1\n",
      "[-] Barrier-8 n_waiting = 2\n",
      "[-] Barrier-8 after barrier 2\n",
      "[-] Barrier-7 after barrier 1\n",
      "[-] Barrier-6 after barrier 0\n",
      "[-] Barrier-9 n_waiting = 0\n",
      "[-] Barrier-10 n_waiting = 1\n"
     ]
    }
   ],
   "source": [
    "#Barrier 栅栏\n",
    "import threading,logging\n",
    "logging.basicConfig(level=logging.INFO,format=\"[-] %(threadName)s %(message)s\")\n",
    " \n",
    "def work(barrier:threading.Barrier,i:int):\n",
    "    logging.info(\"n_waiting = {}\".format(barrier.n_waiting))\n",
    "    try:\n",
    "        if i < 3:\n",
    "            bid = barrier.wait(1)  #超时1秒就将栅栏置于broken状态，抛出异常后续语句不会执行\n",
    "        else:\n",
    "            if i == 6:\n",
    "                barrier.reset() #恢复栅栏\n",
    "            bid = barrier.wait()\n",
    "        # logging.info(\"broken status = {}\".format(barrier.broken))  #是否处于broken状态\n",
    "        logging.info(\"after barrier {}\".format(bid))\n",
    "    except threading.BrokenBarrierError:\n",
    "        logging.info(\"Broken Barrier in {}\".format(threading.current_thread()))\n",
    " \n",
    "barrier = threading.Barrier(3)\n",
    " \n",
    "for i in range(1,11): #10个\n",
    "    threading.Event().wait(2) #强制延迟2秒,让出时间片\n",
    "    threading.Thread(target=work,args=(barrier,i),name=\"Barrier-{}\".format(i)).start()"
   ]
  },
  {
   "cell_type": "markdown",
   "id": "9451f582",
   "metadata": {},
   "source": [
    "wait方法在等待超时1秒后，就强制将栅栏置于broken状态，直到第6个的时候才reset恢复，然后6,7,8放行，9,10,继续阻塞。如果此时有第11个，就会9,10,11放行。\n",
    "\n",
    " \n",
    "\n",
    "应用场景：  \n",
    "\n",
    "并发初始化  \n",
    "\n",
    "所有线程都必须初始化完成后，才能继续工作，例如运行前加载数据，检查，如果这些工作没完成就不能正常工作运行。  \n",
    " \n",
    "10个线程做10种工作准备，每个线程负责一种工作，只有10个线程都完成后，才能继续工作，先完成的要等待后完成的线程。  \n",
    "\n",
    "例如，启动一个程序，需要先加载磁盘文件、缓存预热、初始化连接池等工作，这些工作可以齐头并进，不过只有都满足了，程序才能继续向后执行。假设数据库链接失败，则初始化工作失败，就要abort，栅栏broken，所有线程收到异常退出。\n",
    "\n",
    " \n",
    "\n",
    "工作量  \n",
    "\n",
    "有10个计算任务，完成6个，就算工作完成。  "
   ]
  },
  {
   "cell_type": "code",
   "execution_count": null,
   "id": "5dc20925",
   "metadata": {},
   "outputs": [],
   "source": []
  }
 ],
 "metadata": {
  "kernelspec": {
   "display_name": "Python 3 (ipykernel)",
   "language": "python",
   "name": "python3"
  },
  "language_info": {
   "codemirror_mode": {
    "name": "ipython",
    "version": 3
   },
   "file_extension": ".py",
   "mimetype": "text/x-python",
   "name": "python",
   "nbconvert_exporter": "python",
   "pygments_lexer": "ipython3",
   "version": "3.10.5"
  }
 },
 "nbformat": 4,
 "nbformat_minor": 5
}
