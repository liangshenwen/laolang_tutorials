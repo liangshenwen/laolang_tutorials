{
 "cells": [
  {
   "cell_type": "markdown",
   "id": "7f2573d6",
   "metadata": {},
   "source": [
    "https://blog.csdn.net/brucewong0516/article/details/81050939\n",
    "    \n",
    "在使用多线程的应用下，如何保证线程安全，以及线程之间的同步，或者访问共享变量等问题是十分棘手的问题，也是使用多线程下面临的问题，如果处理不好，会带来较严重的后果，使用python多线程中提供Lock 、Rlock 、Semaphore 、Event 、Condition 用来保证线程之间的同步，后者保证访问共享变量的互斥问题。 \n",
    "\n",
    "Lock & RLock：互斥锁，用来保证多线程访问共享变量的问题  \n",
    "Semaphore对象：Lock互斥锁的加强版，可以被多个线程同时拥有，而Lock只能被某一个线程同时拥有。  \n",
    "Event对象：它是线程间通信的方式，相当于信号，一个线程可以给另外一个线程发送信号后让其执行操作。  \n",
    "Condition对象：其可以在某些事件触发或者达到特定的条件后才处理数据  \n",
    "\n",
    "# 1、Lock(互斥锁)\n",
    "请求锁定 — 进入锁定池等待 — — 获取锁 — 已锁定— — 释放锁  \n",
    "Lock（指令锁）是可用的最低级的同步指令。Lock处于锁定状态时，不被特定的线程拥有。Lock包含两种状态——锁定和非锁定，以及两个基本的方法。 \n",
    "可以认为Lock有一个锁定池，当线程请求锁定时，将线程至于池中，直到获得锁定后出池。池中的线程处于状态图中的同步阻塞状态。  \n",
    "\n",
    "构造方法：mylock = Threading.Lock( )  \n",
    "实例方法：\n",
    "\n",
    "acquire([timeout]): 使线程进入同步阻塞状态，尝试获得锁定。  \n",
    "release(): 释放锁。使用前线程必须已获得锁定，否则将抛出异常。  \n",
    "\n",
    "\n",
    "实例一（未使用锁）：\n"
   ]
  },
  {
   "cell_type": "code",
   "execution_count": 1,
   "id": "4e117fcc",
   "metadata": {},
   "outputs": [
    {
     "name": "stdout",
     "output_type": "stream",
     "text": [
      "main thread stop\n",
      "bb :1bb :2\n",
      "bb :3\n",
      "bb :4\n",
      "bb :5\n",
      "\n"
     ]
    }
   ],
   "source": [
    "import threading\n",
    "import time\n",
    "\n",
    "num = 0\n",
    "\n",
    "def show(arg):\n",
    "    global num\n",
    "    time.sleep(1)\n",
    "    num +=1\n",
    "    print('bb :{}'.format(num))\n",
    "\n",
    "for i in range(5):\n",
    "    t = threading.Thread(target=show, args=(i,))  # 注意传入参数后一定要有【，】逗号\n",
    "    t.start()\n",
    "\n",
    "print('main thread stop')"
   ]
  },
  {
   "cell_type": "markdown",
   "id": "df03e909",
   "metadata": {},
   "source": [
    "实例二（使用锁）"
   ]
  },
  {
   "cell_type": "code",
   "execution_count": 2,
   "id": "c86247d1",
   "metadata": {},
   "outputs": [
    {
     "name": "stdout",
     "output_type": "stream",
     "text": [
      "1\n",
      "2\n",
      "3\n",
      "4\n",
      "5\n",
      "6\n",
      "7\n",
      "8\n",
      "9\n",
      "10\n"
     ]
    }
   ],
   "source": [
    "import threading\n",
    "import time\n",
    "\n",
    "num = 0\n",
    "\n",
    "lock = threading.RLock()\n",
    "\n",
    "\n",
    "# 调用acquire([timeout])时，线程将一直阻塞，\n",
    "# 直到获得锁定或者直到timeout秒后（timeout参数可选）。\n",
    "# 返回是否获得锁。\n",
    "def Func():\n",
    "    lock.acquire()\n",
    "    global num\n",
    "    num += 1\n",
    "    time.sleep(1)\n",
    "    print(num)\n",
    "    lock.release()\n",
    "\n",
    "\n",
    "for i in range(10):\n",
    "    t = threading.Thread(target=Func)\n",
    "    t.start()"
   ]
  },
  {
   "cell_type": "markdown",
   "id": "3e3b9fea",
   "metadata": {},
   "source": [
    "对于Lock对象而言，如果一个线程连续两次acquire，使得线程死锁。所以Lock不常用，一般采用Rlock进行线程锁的设定。"
   ]
  },
  {
   "cell_type": "code",
   "execution_count": 8,
   "id": "6391f002",
   "metadata": {},
   "outputs": [
    {
     "name": "stdout",
     "output_type": "stream",
     "text": [
      "Thread-49 set num to 1 Thread-49\n"
     ]
    }
   ],
   "source": [
    "import threading\n",
    "import time\n",
    "\n",
    "class MyThread(threading.Thread):\n",
    "    def run(self):\n",
    "        global num \n",
    "        time.sleep(1)\n",
    "\n",
    "        if lock.acquire(1):  \n",
    "            num = num+1\n",
    "            msg = self.name+' set num to '+str(num)\n",
    "            print(msg,  threading.current_thread().name)\n",
    "            lock.acquire()\n",
    "            print('to release:', threading.current_thread().name)\n",
    "            lock.release()\n",
    "            lock.release()\n",
    "num = 0\n",
    "lock = threading.Lock()\n",
    "def test():\n",
    "    for i in range(5):\n",
    "        t = MyThread()\n",
    "        t.start()\n",
    "        \n",
    "if __name__ == '__main__':\n",
    "    test()"
   ]
  },
  {
   "cell_type": "markdown",
   "id": "dc32aee1",
   "metadata": {},
   "source": [
    "# 2、RLock(可重入锁)\n",
    "RLock（可重入锁）是一个可以被同一个线程请求多次的同步指令。RLock使用了“拥有的线程”和“递归等级”的概念，处于锁定状态时，RLock被某个线程拥有。拥有RLock的线程可以再次调用acquire()，释放锁时需要调用release()相同次数。可以认为RLock包含一个锁定池和一个初始值为0的计数器，每次成功调用 acquire()/release()，计数器将+1/-1，为0时锁处于未锁定状态。\n",
    "\n",
    "构造方法：mylock = Threading.RLock()  \n",
    "实例方法：acquire([timeout])/release(): 跟Lock差不多。\n",
    "\n",
    "实例解决死锁，调用相同次数的acquire和release，保证成对出现。\n"
   ]
  },
  {
   "cell_type": "code",
   "execution_count": 10,
   "id": "b1da5522",
   "metadata": {},
   "outputs": [
    {
     "name": "stdout",
     "output_type": "stream",
     "text": [
      "True\n"
     ]
    }
   ],
   "source": [
    "import threading\n",
    "rLock = threading.RLock()  #RLock对象\n",
    "rLock.acquire()\n",
    "rLock.acquire() #在同一线程内，程序不会堵塞。\n",
    "rLock.release()\n",
    "rLock.release()\n",
    "\n",
    "print(rLock.acquire())\n"
   ]
  },
  {
   "cell_type": "code",
   "execution_count": 11,
   "id": "109c9995",
   "metadata": {},
   "outputs": [
    {
     "name": "stdout",
     "output_type": "stream",
     "text": [
      "\n",
      "A-Worker locked, number: 0\n",
      "\n",
      "A-Worker released, number: 1\n",
      "\n",
      "A-Worker locked, number: 1\n",
      "\n",
      "A-Worker released, number: 2\n",
      "\n",
      "A-Worker locked, number: 2\n",
      "\n",
      "A-Worker released, number: 2\n",
      "\n",
      "B-Worker locked, number: 2\n",
      "\n",
      "B-Worker released, number: 2\n"
     ]
    }
   ],
   "source": [
    "import threading\n",
    "mylock = threading.RLock()\n",
    "num = 0\n",
    "class WorkThread(threading.Thread):\n",
    "    def __init__(self, name):\n",
    "        threading.Thread.__init__(self)\n",
    "        self.t_name = name\n",
    "    def run(self):\n",
    "        global num\n",
    "        while True:\n",
    "            mylock.acquire()\n",
    "            print('\\n%s locked, number: %d' % (self.t_name, num))\n",
    "            if num >= 2:\n",
    "                mylock.release()\n",
    "                print('\\n%s released, number: %d' % (self.t_name, num))\n",
    "                break\n",
    "            num += 1\n",
    "            print('\\n%s released, number: %d' % (self.t_name, num))\n",
    "            mylock.release()\n",
    "def test():\n",
    "    thread1 = WorkThread('A-Worker')\n",
    "    thread2 = WorkThread('B-Worker')\n",
    "    thread1.start()\n",
    "    thread2.start()\n",
    "if __name__ == '__main__':\n",
    "    test() "
   ]
  },
  {
   "cell_type": "code",
   "execution_count": null,
   "id": "96bcd40b",
   "metadata": {},
   "outputs": [],
   "source": []
  }
 ],
 "metadata": {
  "kernelspec": {
   "display_name": "Python 3 (ipykernel)",
   "language": "python",
   "name": "python3"
  },
  "language_info": {
   "codemirror_mode": {
    "name": "ipython",
    "version": 3
   },
   "file_extension": ".py",
   "mimetype": "text/x-python",
   "name": "python",
   "nbconvert_exporter": "python",
   "pygments_lexer": "ipython3",
   "version": "3.10.5"
  }
 },
 "nbformat": 4,
 "nbformat_minor": 5
}
