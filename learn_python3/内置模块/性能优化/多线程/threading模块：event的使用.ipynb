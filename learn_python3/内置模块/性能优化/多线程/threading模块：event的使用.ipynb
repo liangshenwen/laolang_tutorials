{
 "cells": [
  {
   "cell_type": "markdown",
   "id": "b6826d37",
   "metadata": {},
   "source": [
    "通过threading.Event()可以创建一个事件管理标志，该标志（event）默认为False，event对象主要有四种方法可以调用：\n",
    "\n",
    "    event.wait(timeout=None)：调用该方法的线程会被阻塞，如果设置了timeout参数，超时后，线程会停止阻塞继续执行；  \n",
    "    event.set()：将event的标志设置为True，调用wait方法的所有线程将被唤醒；  \n",
    "    event.clear()：将event的标志设置为False，调用wait方法的所有线程将被阻塞；  \n",
    "    event.isSet()：判断event的标志是否为True。 \n",
    "    \n",
    "\n",
    "下面通过一个例子来说明：\n",
    "\n",
    "  首先创建了两个子线程，并通过主线程的event对象来控制子线程什么时候开始执行（使用event.wait()方法阻塞子线程）。通过结果可以看出，在主线程sleep 3秒期间（主线程event.set()之前，此时event.isSet()为False），每个子线程都是在打印“...is ready”，并没有继续执行后面的代码。\n",
    "\n",
    "   接着，主线程调用了event.set()后，event的标志为True，此时event.isSet()为True，所以每个线程开始打印“...is running”。\n",
    "\n",
    "   最后，主线程又sleep 3秒后，主线程调用event.clear()方法使event的标志又变成了False，所以在主线程打印“event is clear”后，其它子线程不再打印“...is running”并退出，整个程序也结束运行。\n",
    "\n"
   ]
  },
  {
   "cell_type": "code",
   "execution_count": 5,
   "id": "9b7b4502",
   "metadata": {},
   "outputs": [
    {
     "name": "stdout",
     "output_type": "stream",
     "text": [
      "Thread 0 is ready\n",
      "Thread 1 is ready\n",
      "Thread 0 is readyThread 1 is ready\n",
      "\n",
      "Thread 1 is ready\n",
      "Thread 0 is ready\n",
      "----- event is set -----\n",
      "Thread 1 is running\n",
      "Thread 0 is running\n",
      "Thread 1 is runningThread 0 is running\n",
      "\n",
      "Thread 1 is runningThread 0 is running\n",
      "\n",
      "----- event is clear -----\n"
     ]
    }
   ],
   "source": [
    "import threading\n",
    "from time import sleep\n",
    " \n",
    "def test(n, event):\n",
    "    while not event.is_set():\n",
    "        print('Thread %s is ready' % n)\n",
    "        sleep(1)\n",
    "    event.wait()\n",
    "    while event.is_set():\n",
    "        print('Thread %s is running' % n)\n",
    "        sleep(1)\n",
    " \n",
    "def main():\n",
    "    event = threading.Event()\n",
    "    for i in range(0, 2):\n",
    "        th = threading.Thread(target=test, args=(i, event))\n",
    "        th.start()\n",
    "    sleep(3)\n",
    "    print('----- event is set -----')\n",
    "    event.set()\n",
    "    sleep(3)\n",
    "    print('----- event is clear -----')\n",
    "    event.clear()\n",
    " \n",
    "if __name__ == '__main__':\n",
    "    main()"
   ]
  },
  {
   "cell_type": "markdown",
   "id": "c4a61a95",
   "metadata": {},
   "source": [
    "下面再说一下event.wait(timeout)中timeout的用法，不使用timeout的时候："
   ]
  },
  {
   "cell_type": "code",
   "execution_count": 6,
   "id": "5b9e085f",
   "metadata": {},
   "outputs": [
    {
     "name": "stdout",
     "output_type": "stream",
     "text": [
      "Thread 0 is ready\n",
      "Thread 1 is ready\n"
     ]
    }
   ],
   "source": [
    "import threading\n",
    " \n",
    " \n",
    "def test1(n, event):\n",
    "    print('Thread %s is ready' % n)\n",
    "    event.wait()\n",
    "    print('Thread %s is running' % n)\n",
    " \n",
    "def main():\n",
    "    event = threading.Event()\n",
    "    for i in range(0, 2):\n",
    "        th = threading.Thread(target=test1, args=(i, event))\n",
    "        th.start()\n",
    " \n",
    "if __name__ == '__main__':\n",
    "    main()"
   ]
  },
  {
   "cell_type": "markdown",
   "id": "b3e68609",
   "metadata": {},
   "source": [
    "此时如果不手动停止程序，两个子线程将一直处于阻塞状态，永远不会打印后面的“... is running”。"
   ]
  },
  {
   "cell_type": "code",
   "execution_count": 7,
   "id": "1d478503",
   "metadata": {},
   "outputs": [
    {
     "name": "stdout",
     "output_type": "stream",
     "text": [
      "Thread 0 is readyThread 1 is ready\n",
      "\n",
      "Thread 0 is runningThread 1 is running\n",
      "\n"
     ]
    }
   ],
   "source": [
    "import threading\n",
    " \n",
    " \n",
    "def test1(n, event):\n",
    "    print('Thread %s is ready' % n)\n",
    "    event.wait(2)\n",
    "    print('Thread %s is running' % n)\n",
    " \n",
    "def main():\n",
    "    event = threading.Event()\n",
    "    for i in range(0, 2):\n",
    "        th = threading.Thread(target=test1, args=(i, event))\n",
    "        th.start()\n",
    " \n",
    "if __name__ == '__main__':\n",
    "    main()"
   ]
  },
  {
   "cell_type": "markdown",
   "id": "1d23dc52",
   "metadata": {},
   "source": [
    "此时可以看到，两个线程分别阻塞了1秒后继续执行了后面的代码，没有等待主线程的event标志变成True。"
   ]
  }
 ],
 "metadata": {
  "kernelspec": {
   "display_name": "Python 3 (ipykernel)",
   "language": "python",
   "name": "python3"
  },
  "language_info": {
   "codemirror_mode": {
    "name": "ipython",
    "version": 3
   },
   "file_extension": ".py",
   "mimetype": "text/x-python",
   "name": "python",
   "nbconvert_exporter": "python",
   "pygments_lexer": "ipython3",
   "version": "3.10.5"
  }
 },
 "nbformat": 4,
 "nbformat_minor": 5
}
