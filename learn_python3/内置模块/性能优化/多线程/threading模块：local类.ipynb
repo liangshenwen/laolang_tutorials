{
 "cells": [
  {
   "cell_type": "markdown",
   "id": "2ec8bc23",
   "metadata": {},
   "source": [
    "在 python 中，threading 模块是使用最多，也是官方推荐首选的线程模块。  \n",
    "\n",
    "threading 模块提供了许多类，不同的类，具有不同的功能。 \n",
    "\n",
    "其中，`threading.local` 是非常特别的一个类，我们接下来详细介绍它。 \n",
    "\n",
    "# 一、threading.local() 类的理解\n",
    "local 类，是 threading 模块中非常特别的一个类，用于表示 thread-local 数据。\n",
    "\n",
    "## 1.1、什么是 thread-local 数据？\n",
    "有人翻译为“线程本地数据”或“线程局部数据”，感觉都不是很形象，容易让人找不到北，我索性就用英文吧~  \n",
    "\n",
    "**thread-local 数据，是特定的线程数据，用于多个线程之间的变量共享和数据隔离**。   \n",
    "\n",
    "这里看似有些矛盾，既然是共享变量，为何又要数据隔离？ \n",
    "\n",
    "要回答这个问题，需要先了解局部变量和全局变量。  \n",
    "\n",
    "全局变量和局部变量的区别在于作用域，全局变量在整个 .py 文件中声明，全局范围内可用； \n",
    "局部变量是在某个函数、类的内部声明，只能在函数、类内部使用，如果超出使用范围，则会报错。  \n",
    "\n",
    "### 1.1.1、多线程中的局部变量\n",
    "\n",
    "局部变量，是在某个函数、class内部声明的，只能在函数、class内部使用。  \n",
    "\n",
    "多线程中，如果每个线程内部使用局部变量，互相不影响。  \n",
    "\n",
    "例如： "
   ]
  },
  {
   "cell_type": "code",
   "execution_count": 1,
   "id": "79f7c344",
   "metadata": {},
   "outputs": [
    {
     "name": "stdout",
     "output_type": "stream",
     "text": [
      "线程id：25096，局部变量：10线程id：22524，局部变量：10\n",
      "\n",
      "线程id：14984，局部变量：10\n"
     ]
    }
   ],
   "source": [
    "import threading\n",
    "\n",
    "\n",
    "def func():\n",
    "    # 声明局部变量 local_var\n",
    "    local_var = 0\n",
    "    for k in range(10):\n",
    "        local_var += 1\n",
    "    print(f'线程id：{threading.get_ident()}，局部变量：{local_var}')\n",
    "\n",
    "\n",
    "# 创建3个线程，并启动\n",
    "for th in range(3):\n",
    "    threading.Thread(target=func).start()\n"
   ]
  },
  {
   "cell_type": "markdown",
   "id": "4adc42b1",
   "metadata": {},
   "source": [
    "从上面的示例中，可以看到，每个线程内的局部变量 local_var 的值，都能正确累加，互不影响。\n",
    "\n",
    "threading.Thread() 类，用于创建线程。  \n",
    "threading.get_ident()方法，用于获取当前线程id。  "
   ]
  },
  {
   "cell_type": "markdown",
   "id": "9bb5511e",
   "metadata": {},
   "source": [
    "### 1.1.2、多线程中的全局变量\n",
    "\n",
    "全局变量，在所有的函数、class外面，基于整个.py文件声明，全局范围内可以使用； \n",
    "\n",
    "使用global:  \n",
    "如果想要在函数内为一个定义在函数外的全局变量赋值，那么就得告诉 python 这个变量名不是局部的，而是全局的，使用 global 语句可以完成这一功能。  \n",
    "多线程中，如果多个线程使用同一全局变量，会互相影响。  \n",
    "\n",
    "例如："
   ]
  },
  {
   "cell_type": "code",
   "execution_count": 2,
   "id": "a469e0c8",
   "metadata": {},
   "outputs": [
    {
     "name": "stdout",
     "output_type": "stream",
     "text": [
      "线程id：19360，全局变量：298线程id：1904，全局变量：299\n",
      "线程id：28724，全局变量：300\n",
      "\n"
     ]
    }
   ],
   "source": [
    "import threading\n",
    "import time\n",
    "\n",
    "\n",
    "# 声明全局变量 global_var\n",
    "global_var = 0\n",
    "\n",
    "\n",
    "def func():\n",
    "    # 在函数内部，使用global语句，告知函数global_var为全局变量\n",
    "    global global_var\n",
    "    global_var = 0\n",
    "    for k in range(100):\n",
    "        # sleep一定时间，等待其他线程操作全局变量\n",
    "        time.sleep(0.01)\n",
    "        global_var += 1\n",
    "    print(f'线程id：{threading.get_ident()}，全局变量：{global_var}')\n",
    "\n",
    "\n",
    "# 创建3个线程，并启动\n",
    "for th in range(3):\n",
    "    threading.Thread(target=func).start()"
   ]
  },
  {
   "cell_type": "markdown",
   "id": "6665b51c",
   "metadata": {},
   "source": [
    "上面的例子中，当在主线程中声明全局变量 global_var 后，global_var 就变成了公共资源(也就是同一个对象)，每个子线程中使用 global_var，会互相干扰，最终导致了错误的计算结果。  \n",
    "\n",
    "问：如何在不同线程中，使用同一个全局对象，并且让各个线程中该对象的值互不干扰呢？  \n",
    "\n",
    "答：使用 thread-local 数据！  \n",
    "\n",
    "上面说到：“thread-local 数据，是特定的线程数据，用于多个线程之间的变量共享和数据隔离。”  \n",
    "\n",
    "既是共享变量，又能数据隔离，这是不矛盾的。  \n",
    "\n",
    "thread-local 数据，允许多个线程共享一个变量对象，但是在各个线程内，该对象的属性值，相互独立。  "
   ]
  },
  {
   "cell_type": "markdown",
   "id": "78647ba5",
   "metadata": {},
   "source": [
    "# 二、threading.local() 类的使用方法\n",
    "我们再来接着讲 local 类的使用方法！  \n",
    "\n",
    "local 类，是 threading 模块中，用于表示 thread-local 数据的类。  \n",
    "\n",
    "通过实例化 local 类，得到一个 local 类的对象：  \n",
    "\n",
    "```python\n",
    "import threading  \n",
    "\n",
    "local_obj = threading.local()  \n",
    "```\n",
    "在主线程中实例化一个 local 类的对象后，在不同的线程中使用这个对象存储的数据，其它线程不可见，即：各个线程中，该对象的值互不干扰。  \n",
    "\n",
    "local类，本质上就是不同的线程使用这个对象时，为其创建一个独立的空间，存放数据。  \n",
    "\n",
    "例如："
   ]
  },
  {
   "cell_type": "code",
   "execution_count": 3,
   "id": "d9f834da",
   "metadata": {},
   "outputs": [
    {
     "name": "stdout",
     "output_type": "stream",
     "text": [
      "线程id：20312，thread-local数据：100\n",
      "线程id：22596，thread-local数据：100\n",
      "线程id：12948，thread-local数据：100\n"
     ]
    }
   ],
   "source": [
    "import threading\n",
    "import time\n",
    "\n",
    "\n",
    "# 利用local类，创建一个全局对象 local_obj\n",
    "local_obj = threading.local()\n",
    "\n",
    "\n",
    "def func():\n",
    "    # 为local_obj对象声明一个属性 var\n",
    "    local_obj.var = 0\n",
    "    for k in range(100):\n",
    "        # sleep一定时间，等待其他线程操作全局变量\n",
    "        time.sleep(0.01)\n",
    "        local_obj.var += 1\n",
    "    print(f'线程id：{threading.get_ident()}，thread-local数据：{local_obj.var}')\n",
    "\n",
    "\n",
    "# 创建3个线程，并启动\n",
    "for th in range(3):\n",
    "    threading.Thread(target=func).start()"
   ]
  },
  {
   "cell_type": "markdown",
   "id": "a59018f5",
   "metadata": {},
   "source": [
    "上面的示例中，各个线程中使用同一对象 local_obj，但是 local_obj 对象在不同线程中的属性值互不干扰，均能正确输出计算结果。\n",
    "\n",
    "需要注意，即使是在主线程中定义了 local 类的对象的属性，子线程中也访问不到主线程中的属性。  \n",
    "\n",
    "对象属性，通过“.”取值；  \n",
    "“键-值”通过“[]”取值，比如字典：dict_demo['key']。  \n",
    "\n",
    "# 三、threading.local() 类的使用场景\n",
    "这时候，大家也许会比较迷惑，  \n",
    "\n",
    "如果需要数据隔离，使用局部变量，  \n",
    "\n",
    "如果需要共享数据并同步，使用全局变量加锁就好了呀！  \n",
    "\n",
    "为什么要有一个thread-local 数据？为什么要用 local() 类？local() 类，有什么使用场景呢？  \n",
    "\n",
    "别急，我们接着慢慢看。  \n",
    "  \n",
    "在多线程环境下，每个线程都有自己的数据。   \n",
    "\n",
    "所以，当我们使用线程的时候，能用线程的局部变量，就尽量不要用全局变量。  \n",
    "\n",
    "因为使用全局变量涉及数据同步的问题，对于全局变量的修改必须加锁，保持各个线程中的数据同步。  \n",
    "\n",
    "\n",
    "\n",
    "但是，有时候使用局部变量也不太方便。  \n",
    "\n",
    "比如，多线程中涉及函数调用时，  \n",
    "\n",
    "如果使用局部变量，那么必须通过参数传递变量；  \n",
    "\n",
    "这时候如果使用全局变量也不行，因为每个线程处理的对象不同。  \n",
    "\n",
    "\n",
    "\n",
    "这时候，使用 `threading.local`，就能发挥出作用了。  \n",
    "\n",
    "在全局作用域，通过实例化 `threading.local` 类，得到一个 thread-local 数据对象，该thread-local 数据即为一个全局变量，但是每个线程却可以利用它来保存属于自己的私有属性，这些私有属性对其他线程也是不可见的。\n",
    "\n",
    "通过调用全局对象的私有属性，自动获取当前线程对应的属性值，使代码更优雅简洁！\n",
    "\n",
    "例如："
   ]
  },
  {
   "cell_type": "code",
   "execution_count": 4,
   "id": "a705ad71",
   "metadata": {},
   "outputs": [
    {
     "name": "stdout",
     "output_type": "stream",
     "text": [
      "线程id：14040，thread-local数据：100线程id：19444，thread-local数据：100\n",
      "线程id：28980，thread-local数据：100\n",
      "\n"
     ]
    }
   ],
   "source": [
    "import threading\n",
    "import time\n",
    "\n",
    "\n",
    "# 利用local类，创建一个全局对象 local_obj\n",
    "local_obj = threading.local()\n",
    "\n",
    "\n",
    "def func():\n",
    "    local_obj.var = 0\n",
    "    # 如果使用局部变量，函数调用需要传参\n",
    "    func_print()\n",
    "\n",
    "def func_print():\n",
    "    for k in range(100):\n",
    "        time.sleep(0.01)\n",
    "        # 直接使用local_obj.var，自动获取当前线程对应的属性值\n",
    "        local_obj.var += 1\n",
    "    print(f'线程id：{threading.get_ident()}，thread-local数据：{local_obj.var}')\n",
    "\n",
    "# 创建3个线程，并启动\n",
    "for th in range(3):\n",
    "    threading.Thread(target=func,).start()"
   ]
  },
  {
   "cell_type": "code",
   "execution_count": null,
   "id": "bb0b943c",
   "metadata": {},
   "outputs": [],
   "source": []
  }
 ],
 "metadata": {
  "kernelspec": {
   "display_name": "Python 3 (ipykernel)",
   "language": "python",
   "name": "python3"
  },
  "language_info": {
   "codemirror_mode": {
    "name": "ipython",
    "version": 3
   },
   "file_extension": ".py",
   "mimetype": "text/x-python",
   "name": "python",
   "nbconvert_exporter": "python",
   "pygments_lexer": "ipython3",
   "version": "3.10.5"
  }
 },
 "nbformat": 4,
 "nbformat_minor": 5
}
