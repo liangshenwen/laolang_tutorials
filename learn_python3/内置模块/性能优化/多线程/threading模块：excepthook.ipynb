{
 "cells": [
  {
   "cell_type": "markdown",
   "id": "03f3feb0",
   "metadata": {},
   "source": [
    "threading.excepthook() can be overridden to control how uncaught exceptions raised by Thread.run() are handled."
   ]
  },
  {
   "cell_type": "code",
   "execution_count": 2,
   "id": "10ff0a7a",
   "metadata": {},
   "outputs": [
    {
     "name": "stdout",
     "output_type": "stream",
     "text": [
      "got exception (_thread._ExceptHookArgs(exc_type=<class 'ZeroDivisionError'>, exc_value=ZeroDivisionError('division by zero'), exc_traceback=<traceback object at 0x000002F03C685500>, thread=<Thread(Thread-6 (foo), started 27356)>),)\n"
     ]
    }
   ],
   "source": [
    "import sys, threading\n",
    "\n",
    "def log_exception(*args):\n",
    "    print('got exception %s' % (args,))\n",
    "\n",
    "threading.excepthook = log_exception\n",
    "\n",
    "def foo():\n",
    "    a = 1 / 0\n",
    "\n",
    "    \n",
    "threading.Thread(target=foo).start()"
   ]
  },
  {
   "cell_type": "code",
   "execution_count": null,
   "id": "f5637769",
   "metadata": {},
   "outputs": [],
   "source": []
  },
  {
   "cell_type": "code",
   "execution_count": null,
   "id": "ed7d0767",
   "metadata": {},
   "outputs": [],
   "source": []
  },
  {
   "cell_type": "code",
   "execution_count": null,
   "id": "d16db976",
   "metadata": {},
   "outputs": [],
   "source": []
  }
 ],
 "metadata": {
  "kernelspec": {
   "display_name": "Python 3 (ipykernel)",
   "language": "python",
   "name": "python3"
  },
  "language_info": {
   "codemirror_mode": {
    "name": "ipython",
    "version": 3
   },
   "file_extension": ".py",
   "mimetype": "text/x-python",
   "name": "python",
   "nbconvert_exporter": "python",
   "pygments_lexer": "ipython3",
   "version": "3.10.5"
  }
 },
 "nbformat": 4,
 "nbformat_minor": 5
}
