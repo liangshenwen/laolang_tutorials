{
 "cells": [
  {
   "cell_type": "markdown",
   "id": "f78182dd",
   "metadata": {},
   "source": [
    "https://docs.python.org/zh-cn/3/library/concurrent.futures.html\n",
    "    \n",
    "concurrent.futures 模块提供异步执行可调用对象高层接口。\n",
    "\n",
    "异步执行可以由 ThreadPoolExecutor 使用线程或由 ProcessPoolExecutor 使用单独的进程来实现。 两者都是实现抽像类 Executor 定义的接口。\n",
    "\n",
    "# ThreadPoolExecutor\n",
    "\n",
    "ThreadPoolExecutor 是 Executor 的子类，它使用线程池来异步执行调用。\n",
    "\n",
    "当回调已关联了一个 Future 然后再等待另一个 Future 的结果时就会发产死锁情况。例如:"
   ]
  },
  {
   "cell_type": "code",
   "execution_count": 1,
   "id": "3ff62be0",
   "metadata": {},
   "outputs": [],
   "source": [
    "# 死锁例子1\n",
    "import time\n",
    "from concurrent.futures import ThreadPoolExecutor,as_completed\n",
    "\n",
    "def wait_on_b():\n",
    "    time.sleep(5)\n",
    "    print(b.result())  # b will never complete because it is waiting on a.\n",
    "    return 5\n",
    "\n",
    "def wait_on_a():\n",
    "    time.sleep(5)\n",
    "    print(a.result())  # a will never complete because it is waiting on b.\n",
    "    return 6\n",
    "\n",
    "\n",
    "executor = ThreadPoolExecutor(max_workers=2)\n",
    "a = executor.submit(wait_on_b)\n",
    "b = executor.submit(wait_on_a)"
   ]
  },
  {
   "cell_type": "code",
   "execution_count": 2,
   "id": "ee738526",
   "metadata": {},
   "outputs": [
    {
     "data": {
      "text/plain": [
       "<Future at 0x22ac7693ac0 state=running>"
      ]
     },
     "execution_count": 2,
     "metadata": {},
     "output_type": "execute_result"
    }
   ],
   "source": [
    "# 死锁例子2\n",
    "def wait_on_future():\n",
    "    f = executor.submit(pow, 5, 2)\n",
    "    # This will never complete because there is only one worker thread and\n",
    "    # it is executing this function.\n",
    "    print(f.result())\n",
    "\n",
    "executor = ThreadPoolExecutor(max_workers=1)\n",
    "executor.submit(wait_on_future)"
   ]
  },
  {
   "cell_type": "markdown",
   "id": "c6fdf202",
   "metadata": {},
   "source": [
    "# ThreadPoolExecutor 例子"
   ]
  },
  {
   "cell_type": "code",
   "execution_count": 5,
   "id": "4aa1bb43",
   "metadata": {},
   "outputs": [
    {
     "name": "stdout",
     "output_type": "stream",
     "text": [
      "'http://www.bbc.co.uk/' generated an exception: [WinError 10054] An existing connection was forcibly closed by the remote host\n",
      "'http://www.cnn.com/' generated an exception: <urlopen error [WinError 10054] An existing connection was forcibly closed by the remote host>\n",
      "'http://europe.wsj.com/' generated an exception: [WinError 10054] An existing connection was forcibly closed by the remote host\n",
      "'http://some-made-up-domain.com/' generated an exception: <urlopen error [Errno 11001] getaddrinfo failed>\n",
      "'http://www.foxnews.com/' page is 283254 bytes\n"
     ]
    }
   ],
   "source": [
    "from concurrent.futures import ThreadPoolExecutor, as_completed\n",
    "import urllib.request\n",
    "\n",
    "URLS = ['http://www.foxnews.com/',\n",
    "        'http://www.cnn.com/',\n",
    "        'http://europe.wsj.com/',\n",
    "        'http://www.bbc.co.uk/',\n",
    "        'http://some-made-up-domain.com/']\n",
    "\n",
    "# Retrieve a single page and report the URL and contents\n",
    "def load_url(url, timeout):\n",
    "    with urllib.request.urlopen(url, timeout=timeout) as conn:\n",
    "        return conn.read()\n",
    "\n",
    "# We can use a with statement to ensure threads are cleaned up promptly\n",
    "with ThreadPoolExecutor(max_workers=5) as executor:\n",
    "    # Start the load operations and mark each future with its URL\n",
    "    future_to_url = {executor.submit(load_url, url, 60): url for url in URLS}\n",
    "    for future in as_completed(future_to_url):\n",
    "        url = future_to_url[future]\n",
    "        try:\n",
    "            data = future.result()\n",
    "        except Exception as exc:\n",
    "            print('%r generated an exception: %s' % (url, exc))\n",
    "        else:\n",
    "            print('%r page is %d bytes' % (url, len(data)))"
   ]
  },
  {
   "cell_type": "code",
   "execution_count": 7,
   "id": "b03f3897",
   "metadata": {},
   "outputs": [
    {
     "name": "stdout",
     "output_type": "stream",
     "text": [
      "4\n",
      "9\n",
      "16\n",
      "25\n"
     ]
    }
   ],
   "source": [
    "from concurrent.futures import ThreadPoolExecutor\n",
    "from concurrent.futures import as_completed\n",
    "values = [2,3,4,5]\n",
    "def square(n):\n",
    "   return n * n\n",
    "\n",
    "def main():\n",
    "   with ThreadPoolExecutor(max_workers = 3) as executor:\n",
    "      results = executor.map(square, values)\n",
    "        \n",
    "   for result in results:\n",
    "      print(result)\n",
    "        \n",
    "if __name__ == '__main__':\n",
    "   main()"
   ]
  },
  {
   "cell_type": "code",
   "execution_count": 8,
   "id": "6dcd965e",
   "metadata": {},
   "outputs": [
    {
     "name": "stdout",
     "output_type": "stream",
     "text": [
      "False\n",
      "True\n",
      "Completed\n"
     ]
    }
   ],
   "source": [
    "from concurrent.futures import ThreadPoolExecutor\n",
    "from time import sleep\n",
    "def task(message):\n",
    "   sleep(2)\n",
    "   return message\n",
    "\n",
    "def main():\n",
    "   executor = ThreadPoolExecutor(5)\n",
    "   future = executor.submit(task, (\"Completed\"))\n",
    "   print(future.done())\n",
    "   sleep(2)\n",
    "   print(future.done())\n",
    "   print(future.result())\n",
    "    \n",
    "if __name__ == '__main__':\n",
    "    main()"
   ]
  },
  {
   "cell_type": "code",
   "execution_count": null,
   "id": "1579bde7",
   "metadata": {},
   "outputs": [],
   "source": []
  }
 ],
 "metadata": {
  "kernelspec": {
   "display_name": "Python 3 (ipykernel)",
   "language": "python",
   "name": "python3"
  },
  "language_info": {
   "codemirror_mode": {
    "name": "ipython",
    "version": 3
   },
   "file_extension": ".py",
   "mimetype": "text/x-python",
   "name": "python",
   "nbconvert_exporter": "python",
   "pygments_lexer": "ipython3",
   "version": "3.10.5"
  }
 },
 "nbformat": 4,
 "nbformat_minor": 5
}
