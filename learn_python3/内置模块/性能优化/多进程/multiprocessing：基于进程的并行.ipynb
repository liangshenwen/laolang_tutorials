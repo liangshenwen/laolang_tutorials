{
 "cells": [
  {
   "cell_type": "markdown",
   "id": "6db11bf4",
   "metadata": {},
   "source": [
    "https://docs.python.org/zh-cn/3/library/multiprocessing.html\n",
    "    \n",
    "multiprocessing 是一个支持使用与 threading 模块类似的 API 来产生进程的包。 multiprocessing 包同时提供了本地和远程并发操作，通过使用子进程而非线程有效地绕过了 全局解释器锁。 因此，multiprocessing 模块允许程序员充分利用给定机器上的多个处理器。 它在 Unix 和 Windows 上均可运行。\n",
    "\n",
    "multiprocessing 不能工作在交互式解释器中。\n",
    "\n",
    "multiprocessing 模块还引入了在 threading 模块中没有的API。一个主要的例子就是 Pool 对象，它提供了一种快捷的方法，赋予函数并行化处理一系列输入值的能力，可以将输入数据分配给不同进程处理（数据并行）。下面的例子演示了在模块中定义此类函数的常见做法，以便子进程可以成功导入该模块。这个数据并行的基本例子使用了 Pool ，  \n",
    "\n",
    "```python\n",
    "from multiprocessing import Pool\n",
    "\n",
    "def f(x):\n",
    "    return x*x\n",
    "\n",
    "if __name__ == '__main__':\n",
    "    with Pool(5) as p:\n",
    "        print(p.map(f, [1, 2, 3]))\n",
    "```"
   ]
  },
  {
   "cell_type": "code",
   "execution_count": 1,
   "id": "0681c275",
   "metadata": {},
   "outputs": [
    {
     "name": "stdout",
     "output_type": "stream",
     "text": [
      "[1, 4, 9]\n"
     ]
    }
   ],
   "source": [
    "!python multiprocessing_pool_1.py"
   ]
  },
  {
   "cell_type": "markdown",
   "id": "b7bcf74b",
   "metadata": {},
   "source": [
    "# Process 类\n",
    "在 multiprocessing 中，通过创建一个 Process 对象然后调用它的 start() 方法来生成进程。 Process 和 threading.Thread API 相同。 一个简单的多进程程序示例是:  \n",
    "```python\n",
    "from multiprocessing import Process\n",
    "\n",
    "def f(name):\n",
    "    print('hello', name)\n",
    "\n",
    "if __name__ == '__main__':\n",
    "    p = Process(target=f, args=('bob',))\n",
    "    p.start()\n",
    "    p.join()\n",
    "```"
   ]
  },
  {
   "cell_type": "code",
   "execution_count": 4,
   "id": "68bb3150",
   "metadata": {},
   "outputs": [
    {
     "name": "stdout",
     "output_type": "stream",
     "text": [
      "hello bob\n",
      "end sub process\n",
      "start main process\n",
      "start sub process\n",
      "end main process\n"
     ]
    }
   ],
   "source": [
    "!python multiprocessing_process_1.py"
   ]
  },
  {
   "cell_type": "markdown",
   "id": "3af9d189",
   "metadata": {},
   "source": [
    "要显示所涉及的各个进程ID，这是一个扩展示例:\n",
    "```python\n",
    "from multiprocessing import Process\n",
    "import os\n",
    "\n",
    "def info(title):\n",
    "    print(title)\n",
    "    print('module name:', __name__)\n",
    "    print('parent process:', os.getppid())\n",
    "    print('process id:', os.getpid())\n",
    "\n",
    "def f(name):\n",
    "    info('function f')\n",
    "    print('hello', name)\n",
    "\n",
    "if __name__ == '__main__':\n",
    "    info('main line')\n",
    "    p = Process(target=f, args=('bob',))\n",
    "    p.start()\n",
    "    p.join()\n",
    "```"
   ]
  },
  {
   "cell_type": "code",
   "execution_count": 5,
   "id": "9812f650",
   "metadata": {},
   "outputs": [
    {
     "name": "stdout",
     "output_type": "stream",
     "text": [
      "function f\n",
      "module name: __mp_main__\n",
      "parent process: 24092\n",
      "process id: 10192\n",
      "hello bob\n",
      "main line\n",
      "module name: __main__\n",
      "parent process: 30028\n",
      "process id: 24092\n"
     ]
    }
   ],
   "source": [
    "!python multiprocessing_process_2.py"
   ]
  },
  {
   "cell_type": "code",
   "execution_count": null,
   "id": "eda90631",
   "metadata": {},
   "outputs": [],
   "source": []
  }
 ],
 "metadata": {
  "kernelspec": {
   "display_name": "Python 3 (ipykernel)",
   "language": "python",
   "name": "python3"
  },
  "language_info": {
   "codemirror_mode": {
    "name": "ipython",
    "version": 3
   },
   "file_extension": ".py",
   "mimetype": "text/x-python",
   "name": "python",
   "nbconvert_exporter": "python",
   "pygments_lexer": "ipython3",
   "version": "3.10.5"
  }
 },
 "nbformat": 4,
 "nbformat_minor": 5
}
