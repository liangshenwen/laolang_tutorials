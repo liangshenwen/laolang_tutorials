{
 "cells": [
  {
   "cell_type": "code",
   "execution_count": 7,
   "id": "1f480c1d-d330-4938-9954-d19f1eb5007f",
   "metadata": {},
   "outputs": [],
   "source": [
    "import itertools\n",
    "import operator"
   ]
  },
  {
   "cell_type": "markdown",
   "id": "bbf67797-35a8-41ad-bab2-fd9160e0d742",
   "metadata": {},
   "source": [
    "# itertools.accumulate(iterable[, func, *, initial=None])\n",
    "创建一个迭代器，返回累积汇总值或其他双目运算函数的累积结果值（通过可选的 func 参数指定）。  \n",
    "如果提供了 func，它应当为带有两个参数的函数。 输入 iterable 的元素可以是能被 func 接受为参数的任意类型。"
   ]
  },
  {
   "cell_type": "code",
   "execution_count": 8,
   "id": "0daf4087-a1e4-4819-a7a7-a3a04b6a5842",
   "metadata": {},
   "outputs": [
    {
     "data": {
      "text/plain": [
       "[3, 12, 72, 144, 144, 1296, 0, 0, 0, 0]"
      ]
     },
     "execution_count": 8,
     "metadata": {},
     "output_type": "execute_result"
    }
   ],
   "source": [
    "data = [3, 4, 6, 2, 1, 9, 0, 7, 5, 8]\n",
    "list(itertools.accumulate(data, operator.mul)) "
   ]
  },
  {
   "cell_type": "code",
   "execution_count": 10,
   "id": "03d38431-eda6-452f-8261-bdc0916e10c8",
   "metadata": {},
   "outputs": [
    {
     "data": {
      "text/plain": [
       "[3, 4, 6, 6, 6, 9, 9, 9, 9, 9]"
      ]
     },
     "execution_count": 10,
     "metadata": {},
     "output_type": "execute_result"
    }
   ],
   "source": [
    "list(itertools.accumulate(data, max)) "
   ]
  },
  {
   "cell_type": "code",
   "execution_count": 11,
   "id": "da2c5caf-ce31-40f4-a113-d60815c1403c",
   "metadata": {},
   "outputs": [
    {
     "data": {
      "text/plain": [
       "[1000, 960.0, 918.0, 873.9000000000001, 827.5950000000001]"
      ]
     },
     "execution_count": 11,
     "metadata": {},
     "output_type": "execute_result"
    }
   ],
   "source": [
    "cashflows = [1000, -90, -90, -90, -90]\n",
    "list(itertools.accumulate(cashflows, lambda bal, pmt: bal*1.05 + pmt))"
   ]
  },
  {
   "cell_type": "code",
   "execution_count": 13,
   "id": "f6b726e3-c3ee-4774-9ecd-6da6c92c59d9",
   "metadata": {},
   "outputs": [
    {
     "data": {
      "text/plain": [
       "['0.40',\n",
       " '0.91',\n",
       " '0.30',\n",
       " '0.81',\n",
       " '0.60',\n",
       " '0.92',\n",
       " '0.29',\n",
       " '0.79',\n",
       " '0.63',\n",
       " '0.88',\n",
       " '0.39',\n",
       " '0.90',\n",
       " '0.33',\n",
       " '0.84',\n",
       " '0.52',\n",
       " '0.95',\n",
       " '0.18',\n",
       " '0.57',\n",
       " '0.93',\n",
       " '0.25',\n",
       " '0.71',\n",
       " '0.79',\n",
       " '0.63',\n",
       " '0.88',\n",
       " '0.39',\n",
       " '0.91',\n",
       " '0.32',\n",
       " '0.83',\n",
       " '0.54',\n",
       " '0.95',\n",
       " '0.20',\n",
       " '0.60',\n",
       " '0.91',\n",
       " '0.30',\n",
       " '0.80',\n",
       " '0.60']"
      ]
     },
     "execution_count": 13,
     "metadata": {},
     "output_type": "execute_result"
    }
   ],
   "source": [
    "logistic_map = lambda x, _:  r * x * (1 - x)\n",
    "r = 3.8\n",
    "x0 = 0.4\n",
    "inputs = itertools.repeat(x0, 36)     # only the initial value is used\n",
    "[format(x, '.2f') for x in itertools.accumulate(inputs, logistic_map)]"
   ]
  },
  {
   "cell_type": "markdown",
   "id": "107cb541-b623-4d1f-a7e4-bc92852e167d",
   "metadata": {},
   "source": [
    "# itertools.chain(*iterables)\n",
    "创建一个迭代器，它首先返回第一个可迭代对象中所有元素，接着返回下一个可迭代对象中所有元素，直到耗尽所有可迭代对象中的元素。可将多个序列处理为单个序列。"
   ]
  },
  {
   "cell_type": "code",
   "execution_count": 15,
   "id": "ce4d0815-1fb7-4304-8c0c-e57c1b8ce987",
   "metadata": {},
   "outputs": [
    {
     "data": {
      "text/plain": [
       "['A', 'B', 'C', 'D', 'E', 'F']"
      ]
     },
     "execution_count": 15,
     "metadata": {},
     "output_type": "execute_result"
    }
   ],
   "source": [
    "list(itertools.chain('ABC', 'DEF'))"
   ]
  },
  {
   "cell_type": "code",
   "execution_count": 16,
   "id": "c5f42697-9b63-4b17-b195-c7cac739709b",
   "metadata": {},
   "outputs": [
    {
     "data": {
      "text/plain": [
       "['A', 'B', 'C', 'D', 'E', 'F', '1', '2', '3']"
      ]
     },
     "execution_count": 16,
     "metadata": {},
     "output_type": "execute_result"
    }
   ],
   "source": [
    "list(itertools.chain('ABC', 'DEF','123'))"
   ]
  },
  {
   "cell_type": "markdown",
   "id": "0b275dd2-5120-44c4-9dab-0f37c66a0699",
   "metadata": {},
   "source": [
    "# classmethod chain.from_iterable(iterable)\n",
    "构建类似 chain() 迭代器的另一个选择。从一个单独的可迭代参数中得到链式输入，该参数是延迟计算的。大致相当于："
   ]
  },
  {
   "cell_type": "code",
   "execution_count": 18,
   "id": "a169e5c6-a763-4b2c-9a49-979c60262d7a",
   "metadata": {},
   "outputs": [
    {
     "data": {
      "text/plain": [
       "['A', 'B', 'C', 'D', 'E', 'F']"
      ]
     },
     "execution_count": 18,
     "metadata": {},
     "output_type": "execute_result"
    }
   ],
   "source": [
    "list(itertools.chain.from_iterable(['ABC', 'DEF']))"
   ]
  },
  {
   "cell_type": "code",
   "execution_count": 23,
   "id": "77b8122e-ce32-44a9-94b2-290fda3fbbcd",
   "metadata": {},
   "outputs": [
    {
     "data": {
      "text/plain": [
       "['A', 'B', 'C', 'D', 'E', 'F', '1', '2', '3']"
      ]
     },
     "execution_count": 23,
     "metadata": {},
     "output_type": "execute_result"
    }
   ],
   "source": [
    "list(itertools.chain.from_iterable(['ABC', 'DEF','123']))"
   ]
  },
  {
   "cell_type": "markdown",
   "id": "0748d09a-a075-41ee-a3b2-19376142303b",
   "metadata": {},
   "source": [
    "# itertools.compress(data, selectors)\n",
    "创建一个迭代器，它返回 data 中经 selectors 真值测试为 True 的元素。迭代器在两者较短的长度处停止。"
   ]
  },
  {
   "cell_type": "code",
   "execution_count": 24,
   "id": "953152e6-d3a0-40f4-b815-f71e807feb8a",
   "metadata": {},
   "outputs": [
    {
     "data": {
      "text/plain": [
       "['A', 'C', 'E', 'F']"
      ]
     },
     "execution_count": 24,
     "metadata": {},
     "output_type": "execute_result"
    }
   ],
   "source": [
    "list(itertools.compress('ABCDEF', [1,0,1,0,1,1]))"
   ]
  },
  {
   "cell_type": "code",
   "execution_count": 25,
   "id": "11e58cd1-9d0e-4172-900a-8fd0cb1e963f",
   "metadata": {},
   "outputs": [
    {
     "data": {
      "text/plain": [
       "[False, False, True, False, False]"
      ]
     },
     "execution_count": 25,
     "metadata": {},
     "output_type": "execute_result"
    }
   ],
   "source": [
    "address = [\n",
    "     '5001 N Clark',\n",
    "     '5002 N Clark', \n",
    "     '5003 E 58TH', \n",
    "     '5004 N RAVENSWOOD', \n",
    "     '5005 w ADDISON'\n",
    "]\n",
    "counts = [0,3,10,4,1]\n",
    "more5 = [n>5 for n in counts]\n",
    "more5"
   ]
  },
  {
   "cell_type": "code",
   "execution_count": 26,
   "id": "87cee0f1-ff4b-4fbd-96d0-c132dde40288",
   "metadata": {},
   "outputs": [
    {
     "data": {
      "text/plain": [
       "['5003 E 58TH']"
      ]
     },
     "execution_count": 26,
     "metadata": {},
     "output_type": "execute_result"
    }
   ],
   "source": [
    "list(itertools.compress(address,more5))"
   ]
  },
  {
   "cell_type": "markdown",
   "id": "08cf1504-cdf2-4f5e-9510-c9f308fd6cb4",
   "metadata": {},
   "source": [
    "# itertools.dropwhile(predicate, iterable)\n",
    "创建一个迭代器，如果 predicate 为true，迭代器丢弃这些元素，然后返回其他元素。注意，迭代器在 predicate 首次为false之前不会产生任何输出，所以可能需要一定长度的启动时间。\n"
   ]
  },
  {
   "cell_type": "code",
   "execution_count": 27,
   "id": "31708f8d-63c7-49cb-b557-54133864f4ef",
   "metadata": {},
   "outputs": [
    {
     "data": {
      "text/plain": [
       "[6, 4, 1]"
      ]
     },
     "execution_count": 27,
     "metadata": {},
     "output_type": "execute_result"
    }
   ],
   "source": [
    "list(itertools.dropwhile(lambda x: x<5, [1,4,6,4,1]))"
   ]
  },
  {
   "cell_type": "markdown",
   "id": "ae4928a3-abcc-4397-ab8e-11b5ba444a75",
   "metadata": {},
   "source": [
    "# itertools.filterfalse(predicate, iterable)\n",
    "创建一个迭代器，只返回 iterable 中 predicate 为 False 的元素。如果 predicate 是 None，返回真值测试为false的元素。"
   ]
  },
  {
   "cell_type": "code",
   "execution_count": 29,
   "id": "275e2f1c-dfe3-4970-bbef-b4b5b934ffc5",
   "metadata": {},
   "outputs": [
    {
     "data": {
      "text/plain": [
       "[1, 3, 5, 7, 9]"
      ]
     },
     "execution_count": 29,
     "metadata": {},
     "output_type": "execute_result"
    }
   ],
   "source": [
    "list(itertools.filterfalse(lambda x: x%2==0, range(10)))"
   ]
  },
  {
   "cell_type": "code",
   "execution_count": 30,
   "id": "4ea9c19b-743c-458f-a047-6e80cbda3c7a",
   "metadata": {},
   "outputs": [
    {
     "data": {
      "text/plain": [
       "[0, 2, 4, 6, 8]"
      ]
     },
     "execution_count": 30,
     "metadata": {},
     "output_type": "execute_result"
    }
   ],
   "source": [
    "list(itertools.filterfalse(lambda x: x%2==1, range(10)))"
   ]
  },
  {
   "cell_type": "markdown",
   "id": "9df4da80-dd31-4748-a359-5fde00406c60",
   "metadata": {},
   "source": [
    "# itertools.groupby(iterable, key=None)\n",
    "创建一个迭代器，返回 iterable 中连续的键和组。key 是一个计算元素键值函数。如果未指定或为 None，key 缺省为恒等函数（identity function），返回元素不变。一般来说，iterable 需用同一个键值函数预先排序。"
   ]
  },
  {
   "cell_type": "code",
   "execution_count": 31,
   "id": "b616db6e-e477-49cb-9b63-83239bc16e87",
   "metadata": {},
   "outputs": [
    {
     "data": {
      "text/plain": [
       "['A', 'B', 'C', 'D', 'A', 'B']"
      ]
     },
     "execution_count": 31,
     "metadata": {},
     "output_type": "execute_result"
    }
   ],
   "source": [
    "[k for k, g in itertools.groupby('AAAABBBCCDAABBB')]"
   ]
  },
  {
   "cell_type": "code",
   "execution_count": 32,
   "id": "f1ed645d-6661-474c-b4db-741b39af2afe",
   "metadata": {},
   "outputs": [
    {
     "data": {
      "text/plain": [
       "[['A', 'A', 'A', 'A'], ['B', 'B', 'B'], ['C', 'C'], ['D']]"
      ]
     },
     "execution_count": 32,
     "metadata": {},
     "output_type": "execute_result"
    }
   ],
   "source": [
    "[list(g) for k, g in itertools.groupby('AAAABBBCCD')]"
   ]
  },
  {
   "cell_type": "code",
   "execution_count": 33,
   "id": "7a8d7516-6184-4fbb-a1b0-b5c88a27a33a",
   "metadata": {},
   "outputs": [
    {
     "data": {
      "text/plain": [
       "[['A', 'A', 'A', 'A'],\n",
       " ['B', 'B', 'B'],\n",
       " ['C', 'C'],\n",
       " ['D'],\n",
       " ['A', 'A'],\n",
       " ['B', 'B', 'B']]"
      ]
     },
     "execution_count": 33,
     "metadata": {},
     "output_type": "execute_result"
    }
   ],
   "source": [
    "[list(g) for k, g in itertools.groupby('AAAABBBCCDAABBB')]"
   ]
  },
  {
   "cell_type": "markdown",
   "id": "7b8ad5d6-40fa-42d3-a080-30be7de7ed17",
   "metadata": {},
   "source": [
    "# itertools.islice(iterable, stop)\n",
    "# itertools.islice(iterable, start, stop[, step])\n",
    "创建一个迭代器，返回从 iterable 里选中的元素。如果 start 不是0，跳过 iterable 中的元素，直到到达 start 这个位置。之后迭代器连续返回元素，除非 step 设置的值很高导致被跳过。如果 stop 为 None，迭代器耗光为止；否则，在指定的位置停止。与普通的切片不同，islice() 不支持将 start ， stop ，或 step 设为负值。"
   ]
  },
  {
   "cell_type": "code",
   "execution_count": 35,
   "id": "d56b9881-691a-45a9-be8d-361a54334206",
   "metadata": {},
   "outputs": [
    {
     "data": {
      "text/plain": [
       "['A', 'B']"
      ]
     },
     "execution_count": 35,
     "metadata": {},
     "output_type": "execute_result"
    }
   ],
   "source": [
    "list(itertools.islice('ABCDEFG', 2))"
   ]
  },
  {
   "cell_type": "code",
   "execution_count": 36,
   "id": "20896654-8afb-4e31-a3a6-f079622be806",
   "metadata": {},
   "outputs": [
    {
     "data": {
      "text/plain": [
       "['C', 'D']"
      ]
     },
     "execution_count": 36,
     "metadata": {},
     "output_type": "execute_result"
    }
   ],
   "source": [
    "list(itertools.islice('ABCDEFG', 2, 4))"
   ]
  },
  {
   "cell_type": "code",
   "execution_count": 38,
   "id": "02e8c3bf-1e8c-4f8f-b6b7-b31409b4c9d8",
   "metadata": {},
   "outputs": [
    {
     "data": {
      "text/plain": [
       "['C', 'D', 'E', 'F', 'G']"
      ]
     },
     "execution_count": 38,
     "metadata": {},
     "output_type": "execute_result"
    }
   ],
   "source": [
    "list(itertools.islice('ABCDEFG', 2, None))"
   ]
  },
  {
   "cell_type": "code",
   "execution_count": 37,
   "id": "85ce0d9f-5ca7-4b63-9a42-e9c44f06b2fd",
   "metadata": {},
   "outputs": [
    {
     "data": {
      "text/plain": [
       "['A', 'C', 'E', 'G']"
      ]
     },
     "execution_count": 37,
     "metadata": {},
     "output_type": "execute_result"
    }
   ],
   "source": [
    "list(itertools.islice('ABCDEFG', 0, None, 2) )"
   ]
  },
  {
   "cell_type": "markdown",
   "id": "b0fcc7a1-8d82-417d-98f9-e6baf547479f",
   "metadata": {},
   "source": [
    "# itertools.pairwise(iterable)\n",
    "返回从输入 iterable 中获取的连续重叠对。\n",
    "\n",
    "输出迭代器中 2 元组的数量将比输入的数量少一个。 如果输入可迭代对象中少于两个值则它将为空。"
   ]
  },
  {
   "cell_type": "code",
   "execution_count": 39,
   "id": "71a4e6e2-e435-4577-b37b-f2170e7ac6ec",
   "metadata": {},
   "outputs": [
    {
     "data": {
      "text/plain": [
       "[('A', 'B'), ('B', 'C'), ('C', 'D'), ('D', 'E'), ('E', 'F'), ('F', 'G')]"
      ]
     },
     "execution_count": 39,
     "metadata": {},
     "output_type": "execute_result"
    }
   ],
   "source": [
    "list(itertools.pairwise('ABCDEFG'))"
   ]
  },
  {
   "cell_type": "code",
   "execution_count": 40,
   "id": "1cd27933-fbe3-4bc9-af63-3b3e0f50b179",
   "metadata": {},
   "outputs": [
    {
     "data": {
      "text/plain": [
       "[('A', 'B')]"
      ]
     },
     "execution_count": 40,
     "metadata": {},
     "output_type": "execute_result"
    }
   ],
   "source": [
    "list(itertools.pairwise('AB'))"
   ]
  },
  {
   "cell_type": "code",
   "execution_count": 41,
   "id": "502431ba-8d43-4f5c-8436-fb43767e345b",
   "metadata": {},
   "outputs": [
    {
     "data": {
      "text/plain": [
       "[]"
      ]
     },
     "execution_count": 41,
     "metadata": {},
     "output_type": "execute_result"
    }
   ],
   "source": [
    "list(itertools.pairwise('A'))"
   ]
  },
  {
   "cell_type": "markdown",
   "id": "c7f660db-d0f5-41ea-804c-bab24d1c83a4",
   "metadata": {},
   "source": [
    "# itertools.starmap(function, iterable)\n",
    "创建一个迭代器，使用从可迭代对象中获取的参数来计算该函数。当参数对应的形参已从一个单独可迭代对象组合为元组时（数据已被“预组对”）可用此函数代替 map()。map() 与 starmap() 之间的区别可以类比 function(a,b) 与 function(*c) 的区别。"
   ]
  },
  {
   "cell_type": "code",
   "execution_count": 42,
   "id": "f744b868-b79e-4c6f-bcda-974c62faba3c",
   "metadata": {},
   "outputs": [
    {
     "data": {
      "text/plain": [
       "[32, 9, 1000]"
      ]
     },
     "execution_count": 42,
     "metadata": {},
     "output_type": "execute_result"
    }
   ],
   "source": [
    "list(itertools.starmap(pow, [(2,5), (3,2), (10,3)]))"
   ]
  },
  {
   "cell_type": "markdown",
   "id": "a25b0f24-fcb7-4d35-a5bd-687db68c06e0",
   "metadata": {},
   "source": [
    "# itertools.takewhile(predicate, iterable)\n",
    "创建一个迭代器，只要 predicate 为真就从可迭代对象中返回元素。"
   ]
  },
  {
   "cell_type": "code",
   "execution_count": 43,
   "id": "08bd71a6-0d5a-4cd6-ba83-d50fe34f1d2c",
   "metadata": {},
   "outputs": [
    {
     "data": {
      "text/plain": [
       "[1, 4]"
      ]
     },
     "execution_count": 43,
     "metadata": {},
     "output_type": "execute_result"
    }
   ],
   "source": [
    "list(itertools.takewhile(lambda x: x<5, [1,4,6,4,1]))"
   ]
  },
  {
   "cell_type": "markdown",
   "id": "bded5af3-375c-465e-9a32-e88f46192cee",
   "metadata": {},
   "source": [
    "# itertools.tee(iterable, n=2)\n",
    "从一个可迭代对象中返回 n 个独立的迭代器。\n",
    "\n",
    "一旦 tee() 实施了一次分裂，原有的 iterable 不应再被使用；否则tee对象无法得知 iterable 可能已向后迭代。"
   ]
  },
  {
   "cell_type": "code",
   "execution_count": 49,
   "id": "0e8c00a4-a77e-49a1-b9ff-44af2506b571",
   "metadata": {},
   "outputs": [],
   "source": [
    "iterator1, iterator2 = itertools.tee([1, 2, 3, 4, 5], 2)"
   ]
  },
  {
   "cell_type": "code",
   "execution_count": 50,
   "id": "a90f646e-bc6a-4333-88ba-1a18317b3f33",
   "metadata": {},
   "outputs": [
    {
     "data": {
      "text/plain": [
       "[1, 2, 3, 4, 5]"
      ]
     },
     "execution_count": 50,
     "metadata": {},
     "output_type": "execute_result"
    }
   ],
   "source": [
    "list(iterator1)"
   ]
  },
  {
   "cell_type": "code",
   "execution_count": 51,
   "id": "3813891e-168f-4f06-8b56-fbef3eddba9b",
   "metadata": {},
   "outputs": [
    {
     "data": {
      "text/plain": [
       "[1, 2, 3, 4, 5]"
      ]
     },
     "execution_count": 51,
     "metadata": {},
     "output_type": "execute_result"
    }
   ],
   "source": [
    "list(iterator2)"
   ]
  },
  {
   "cell_type": "markdown",
   "id": "ef007ce6-af0b-422c-8892-6c2b54d1f539",
   "metadata": {},
   "source": [
    "# tertools.zip_longest(*iterables, fillvalue=None)\n",
    "创建一个迭代器，从每个可迭代对象中收集元素。如果可迭代对象的长度未对齐，将根据 fillvalue 填充缺失值。迭代持续到耗光最长的可迭代对象。"
   ]
  },
  {
   "cell_type": "code",
   "execution_count": 53,
   "id": "8ab64317-9133-4432-9742-a1f788291d63",
   "metadata": {},
   "outputs": [
    {
     "data": {
      "text/plain": [
       "[('A', 'x'), ('B', 'y'), ('C', '-'), ('D', '-')]"
      ]
     },
     "execution_count": 53,
     "metadata": {},
     "output_type": "execute_result"
    }
   ],
   "source": [
    "list(itertools.zip_longest('ABCD', 'xy', fillvalue='-'))"
   ]
  },
  {
   "cell_type": "code",
   "execution_count": 57,
   "id": "907df86a-e393-49d5-ade9-469f6da39853",
   "metadata": {},
   "outputs": [
    {
     "data": {
      "text/plain": [
       "[('A', 'x'), ('B', 'y')]"
      ]
     },
     "execution_count": 57,
     "metadata": {},
     "output_type": "execute_result"
    }
   ],
   "source": [
    "list(zip('ABCD', 'xy'))"
   ]
  },
  {
   "cell_type": "code",
   "execution_count": null,
   "id": "df8464db-4d7b-441a-85db-885e0d0aa50c",
   "metadata": {},
   "outputs": [],
   "source": []
  }
 ],
 "metadata": {
  "kernelspec": {
   "display_name": "Python 3 (ipykernel)",
   "language": "python",
   "name": "python3"
  },
  "language_info": {
   "codemirror_mode": {
    "name": "ipython",
    "version": 3
   },
   "file_extension": ".py",
   "mimetype": "text/x-python",
   "name": "python",
   "nbconvert_exporter": "python",
   "pygments_lexer": "ipython3",
   "version": "3.10.4"
  }
 },
 "nbformat": 4,
 "nbformat_minor": 5
}
