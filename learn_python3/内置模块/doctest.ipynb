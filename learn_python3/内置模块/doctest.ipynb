{
 "cells": [
  {
   "cell_type": "markdown",
   "id": "68785f98-8efd-4e4d-9bbc-3f9e75669e69",
   "metadata": {},
   "source": [
    "doctest 模块寻找像Python交互式代码的文本，然后执行这些代码来确保它们的确就像展示的那样正确运行，有许多方法来使用doctest：\n",
    "\n",
    "通过验证所有交互式示例仍然按照记录的方式工作，以此来检查模块的文档字符串是否是最新的。\n",
    "\n",
    "通过验证来自一个测试文件或一个测试对象的交互式示例按预期工作，来进行回归测试。\n",
    "\n",
    "为一个包写指导性的文档，用输入输出的例子来说明。 取决于是强调例子还是说明性的文字，这有一种 \"文本测试 \"或 \"可执行文档 \"的风格。\n",
    "\n",
    "下面是一个小却完整的示例模块:"
   ]
  },
  {
   "cell_type": "code",
   "execution_count": 6,
   "id": "3a6dc47a-541e-43b8-b0e6-2a2b7892700a",
   "metadata": {},
   "outputs": [
    {
     "data": {
      "text/plain": [
       "TestResults(failed=0, attempted=7)"
      ]
     },
     "execution_count": 6,
     "metadata": {},
     "output_type": "execute_result"
    }
   ],
   "source": [
    "\"\"\"\n",
    "This is the \"example\" module.\n",
    "\n",
    "The example module supplies one function, factorial().  For example,\n",
    "\n",
    ">>> factorial(5)\n",
    "120\n",
    "\"\"\"\n",
    "\n",
    "def factorial(n):\n",
    "    \"\"\"Return the factorial of n, an exact integer >= 0.\n",
    "\n",
    "    >>> [factorial(n) for n in range(6)]\n",
    "    [1, 1, 2, 6, 24, 120]\n",
    "    >>> factorial(30)\n",
    "    265252859812191058636308480000000\n",
    "    >>> factorial(-1)\n",
    "    Traceback (most recent call last):\n",
    "        ...\n",
    "    ValueError: n must be >= 0\n",
    "\n",
    "    Factorials of floats are OK, but the float must be an exact integer:\n",
    "    >>> factorial(30.1)\n",
    "    Traceback (most recent call last):\n",
    "        ...\n",
    "    ValueError: n must be exact integer\n",
    "    >>> factorial(30.0)\n",
    "    265252859812191058636308480000000\n",
    "\n",
    "    It must also not be ridiculously large:\n",
    "    >>> factorial(1e100)\n",
    "    Traceback (most recent call last):\n",
    "        ...\n",
    "    OverflowError: n too large\n",
    "    \"\"\"\n",
    "\n",
    "    import math\n",
    "    if not n >= 0:\n",
    "        raise ValueError(\"n must be >= 0\")\n",
    "    if math.floor(n) != n:\n",
    "        raise ValueError(\"n must be exact integer\")\n",
    "    if n+1 == n:  # catch a value like 1e300\n",
    "        raise OverflowError(\"n too large\")\n",
    "    result = 1\n",
    "    factor = 2\n",
    "    while factor <= n:\n",
    "        result *= factor\n",
    "        factor += 1\n",
    "    return result\n",
    "\n",
    "import doctest\n",
    "doctest.testmod()"
   ]
  },
  {
   "cell_type": "code",
   "execution_count": null,
   "id": "e6eb2494-a65e-45d4-8e1d-d0923fb25719",
   "metadata": {},
   "outputs": [],
   "source": []
  }
 ],
 "metadata": {
  "kernelspec": {
   "display_name": "Python 3 (ipykernel)",
   "language": "python",
   "name": "python3"
  },
  "language_info": {
   "codemirror_mode": {
    "name": "ipython",
    "version": 3
   },
   "file_extension": ".py",
   "mimetype": "text/x-python",
   "name": "python",
   "nbconvert_exporter": "python",
   "pygments_lexer": "ipython3",
   "version": "3.10.5"
  }
 },
 "nbformat": 4,
 "nbformat_minor": 5
}
