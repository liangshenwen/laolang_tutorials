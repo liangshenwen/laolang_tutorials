{
 "cells": [
  {
   "cell_type": "markdown",
   "id": "f0365183-5dec-446a-ab9d-844c8aae191a",
   "metadata": {},
   "source": [
    "如果你需要实现比较功能，需要引入 operator 模块，适合任何对象，包含的方法有：\n",
    "\n",
    "operator 模块包含的方法 \n",
    "```python\n",
    "operator.lt(a, b)\n",
    "operator.le(a, b)\n",
    "operator.eq(a, b)\n",
    "operator.ne(a, b)\n",
    "operator.ge(a, b)\n",
    "operator.gt(a, b)\n",
    "operator.__lt__(a, b)\n",
    "operator.__le__(a, b)\n",
    "operator.__eq__(a, b)\n",
    "operator.__ne__(a, b)\n",
    "operator.__ge__(a, b)\n",
    "operator.__gt__(a, b)\n",
    "```\n",
    "https://www.runoob.com/python3/python-operator.html"
   ]
  },
  {
   "cell_type": "code",
   "execution_count": 1,
   "id": "ba49a148-e170-4580-8993-b123d223b0c7",
   "metadata": {},
   "outputs": [
    {
     "name": "stdout",
     "output_type": "stream",
     "text": [
      "x: 10 , y: 20\n",
      "operator.lt(x,y):  True\n",
      "operator.gt(y,x):  True\n",
      "operator.eq(x,x):  True\n",
      "operator.ne(y,y):  False\n",
      "operator.le(x,y):  True\n",
      "operator.ge(y,x):  True\n",
      "\n",
      "x: Google , y: Runoob\n",
      "operator.lt(x,y):  True\n",
      "operator.gt(y,x):  True\n",
      "operator.eq(x,x):  True\n",
      "operator.ne(y,y):  False\n",
      "operator.le(x,y):  True\n",
      "operator.ge(y,x):  True\n",
      "\n",
      "type((operator.lt(x,y)):  <class 'bool'>\n"
     ]
    }
   ],
   "source": [
    "# 导入 operator 模块\n",
    "import operator\n",
    " \n",
    "# 数字\n",
    "x = 10\n",
    "y = 20\n",
    "\n",
    "print(\"x:\",x, \", y:\",y)\n",
    "print(\"operator.lt(x,y): \", operator.lt(x,y))\n",
    "print(\"operator.gt(y,x): \", operator.gt(y,x))\n",
    "print(\"operator.eq(x,x): \", operator.eq(x,x))\n",
    "print(\"operator.ne(y,y): \", operator.ne(y,y))\n",
    "print(\"operator.le(x,y): \", operator.le(x,y))\n",
    "print(\"operator.ge(y,x): \", operator.ge(y,x))\n",
    "print()\n",
    "\n",
    "# 字符串\n",
    "x = \"Google\"\n",
    "y = \"Runoob\"\n",
    "\n",
    "print(\"x:\",x, \", y:\",y)\n",
    "print(\"operator.lt(x,y): \", operator.lt(x,y))\n",
    "print(\"operator.gt(y,x): \", operator.gt(y,x))\n",
    "print(\"operator.eq(x,x): \", operator.eq(x,x))\n",
    "print(\"operator.ne(y,y): \", operator.ne(y,y))\n",
    "print(\"operator.le(x,y): \", operator.le(x,y))\n",
    "print(\"operator.ge(y,x): \", operator.ge(y,x))\n",
    "print()\n",
    "\n",
    "# 查看返回值\n",
    "print(\"type((operator.lt(x,y)): \", type(operator.lt(x,y)))"
   ]
  },
  {
   "cell_type": "code",
   "execution_count": 2,
   "id": "f21f9e4e-0341-49f9-9b4b-46580a6c5e8b",
   "metadata": {},
   "outputs": [
    {
     "name": "stdout",
     "output_type": "stream",
     "text": [
      "operator.eq(a,b):  False\n",
      "operator.eq(c,b):  True\n"
     ]
    }
   ],
   "source": [
    "# 比较两个列表：\n",
    "# 导入 operator 模块\n",
    "import operator\n",
    "\n",
    "a = [1, 2]\n",
    "b = [2, 3]\n",
    "c = [2, 3]\n",
    "print(\"operator.eq(a,b): \", operator.eq(a,b))\n",
    "print(\"operator.eq(c,b): \", operator.eq(c,b))"
   ]
  },
  {
   "cell_type": "markdown",
   "id": "affa6584-dac3-4e54-ab2a-8f2018696130",
   "metadata": {},
   "source": [
    "**运算符函数**  \n",
    "operator 模块提供了一套与 Python 的内置运算符对应的高效率函数。例如，operator.add(x, y) 与表达式 x+y 相同。 \n",
    "\n",
    "函数包含的种类有：对象的比较运算、逻辑运算、数学运算以及序列运算。\n",
    " \n",
    "对象比较函数适用于所有的对象，函数名根据它们对应的比较运算符命名。\n",
    "\n",
    "许多函数名与特殊方法名相同，只是没有双下划线。为了向后兼容性，也保留了许多包含双下划线的函数，为了表述清楚，建议使用没有双下划线的函数。"
   ]
  },
  {
   "cell_type": "code",
   "execution_count": 3,
   "id": "718e005c-62af-4386-aa4f-28e81e2b437e",
   "metadata": {},
   "outputs": [
    {
     "name": "stdout",
     "output_type": "stream",
     "text": [
      "add() 运算结果 :7\n",
      "sub() 运算结果 :1\n",
      "mul() 运算结果 :12\n"
     ]
    }
   ],
   "source": [
    "# Python 实例\n",
    "# add(), sub(), mul()\n",
    " \n",
    "# 导入  operator 模块\n",
    "import operator\n",
    " \n",
    "# 初始化变量\n",
    "a = 4\n",
    " \n",
    "b = 3\n",
    " \n",
    "# 使用 add() 让两个值相加\n",
    "print (\"add() 运算结果 :\",end=\"\");\n",
    "print (operator.add(a, b))\n",
    " \n",
    "# 使用 sub() 让两个值相减\n",
    "print (\"sub() 运算结果 :\",end=\"\");\n",
    "print (operator.sub(a, b))\n",
    " \n",
    "# 使用 mul() 让两个值相乘\n",
    "print (\"mul() 运算结果 :\",end=\"\");\n",
    "print (operator.mul(a, b))"
   ]
  },
  {
   "cell_type": "code",
   "execution_count": null,
   "id": "de9765b7-aeea-43b4-8ad4-53a5baf76417",
   "metadata": {},
   "outputs": [],
   "source": []
  }
 ],
 "metadata": {
  "kernelspec": {
   "display_name": "Python 3 (ipykernel)",
   "language": "python",
   "name": "python3"
  },
  "language_info": {
   "codemirror_mode": {
    "name": "ipython",
    "version": 3
   },
   "file_extension": ".py",
   "mimetype": "text/x-python",
   "name": "python",
   "nbconvert_exporter": "python",
   "pygments_lexer": "ipython3",
   "version": "3.10.4"
  }
 },
 "nbformat": 4,
 "nbformat_minor": 5
}
