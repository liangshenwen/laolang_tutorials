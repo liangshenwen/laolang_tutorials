{
 "cells": [
  {
   "cell_type": "code",
   "execution_count": 1,
   "id": "f4431fbb-7b1f-4a66-92dd-7518a1267029",
   "metadata": {},
   "outputs": [],
   "source": [
    "import itertools"
   ]
  },
  {
   "cell_type": "markdown",
   "id": "df5274be-42cf-40c4-a215-0aac0355ccb5",
   "metadata": {},
   "source": [
    "# itertools.product(*iterables, repeat=1)\n",
    "可迭代对象输入的笛卡儿积。\n",
    "\n",
    "大致相当于生成器表达式中的嵌套循环。例如， product(A, B) 和 ((x,y) for x in A for y in B) 返回结果一样。"
   ]
  },
  {
   "cell_type": "code",
   "execution_count": 2,
   "id": "27fb4e63-e565-4dc4-867d-f03902478c95",
   "metadata": {},
   "outputs": [
    {
     "data": {
      "text/plain": [
       "[('A', 'x'),\n",
       " ('A', 'y'),\n",
       " ('B', 'x'),\n",
       " ('B', 'y'),\n",
       " ('C', 'x'),\n",
       " ('C', 'y'),\n",
       " ('D', 'x'),\n",
       " ('D', 'y')]"
      ]
     },
     "execution_count": 2,
     "metadata": {},
     "output_type": "execute_result"
    }
   ],
   "source": [
    "list(itertools.product('ABCD', 'xy'))"
   ]
  },
  {
   "cell_type": "markdown",
   "id": "c2cdfdf7-3e2c-4d98-93ac-24addb82f013",
   "metadata": {},
   "source": [
    "# itertools.permutations(iterable, r=None)\n",
    "连续返回由 iterable 元素生成长度为 r 的排列。"
   ]
  },
  {
   "cell_type": "code",
   "execution_count": 3,
   "id": "d0788b0e-e199-48e6-991c-75b38ae9a2bc",
   "metadata": {},
   "outputs": [
    {
     "data": {
      "text/plain": [
       "[('A', 'B'),\n",
       " ('A', 'C'),\n",
       " ('A', 'D'),\n",
       " ('B', 'A'),\n",
       " ('B', 'C'),\n",
       " ('B', 'D'),\n",
       " ('C', 'A'),\n",
       " ('C', 'B'),\n",
       " ('C', 'D'),\n",
       " ('D', 'A'),\n",
       " ('D', 'B'),\n",
       " ('D', 'C')]"
      ]
     },
     "execution_count": 3,
     "metadata": {},
     "output_type": "execute_result"
    }
   ],
   "source": [
    "list(itertools.permutations('ABCD', 2))"
   ]
  },
  {
   "cell_type": "code",
   "execution_count": 4,
   "id": "b09d2909-de08-4e00-a059-974327bc6007",
   "metadata": {},
   "outputs": [
    {
     "data": {
      "text/plain": [
       "[(0, 1, 2), (0, 2, 1), (1, 0, 2), (1, 2, 0), (2, 0, 1), (2, 1, 0)]"
      ]
     },
     "execution_count": 4,
     "metadata": {},
     "output_type": "execute_result"
    }
   ],
   "source": [
    "list(itertools.permutations(range(3)))"
   ]
  },
  {
   "cell_type": "markdown",
   "id": "0c047a20-c1f4-4f89-8842-4f32528d634c",
   "metadata": {},
   "source": [
    "# itertools.combinations(iterable, r)\n",
    "返回由输入 iterable 中元素组成长度为 r 的子序列。\n",
    "\n",
    "组合元组会以字典顺序根据所输入 iterable 的顺序发出。 因此，如果所输入 iterable 是已排序的，组合元组也将按已排序的顺序生成。\n",
    "\n",
    "即使元素的值相同，不同位置的元素也被认为是不同的。如果元素各自不同，那么每个组合中没有重复元素。"
   ]
  },
  {
   "cell_type": "code",
   "execution_count": 5,
   "id": "988a24fe-9434-4901-a4eb-45a32dccf084",
   "metadata": {},
   "outputs": [
    {
     "data": {
      "text/plain": [
       "[('A', 'B'), ('A', 'C'), ('A', 'D'), ('B', 'C'), ('B', 'D'), ('C', 'D')]"
      ]
     },
     "execution_count": 5,
     "metadata": {},
     "output_type": "execute_result"
    }
   ],
   "source": [
    "list(itertools.combinations('ABCD', 2))"
   ]
  },
  {
   "cell_type": "code",
   "execution_count": 9,
   "id": "2fafe8b9-240a-4fda-93e9-5c431cb0273b",
   "metadata": {},
   "outputs": [
    {
     "data": {
      "text/plain": [
       "[('A', 'B', 'C'), ('A', 'B', 'D'), ('A', 'C', 'D'), ('B', 'C', 'D')]"
      ]
     },
     "execution_count": 9,
     "metadata": {},
     "output_type": "execute_result"
    }
   ],
   "source": [
    "list(itertools.combinations('ABCD', 3))"
   ]
  },
  {
   "cell_type": "code",
   "execution_count": 10,
   "id": "f11fdd44-7bdb-4527-89f6-abd645728600",
   "metadata": {},
   "outputs": [
    {
     "data": {
      "text/plain": [
       "[('A',), ('B',), ('C',), ('D',)]"
      ]
     },
     "execution_count": 10,
     "metadata": {},
     "output_type": "execute_result"
    }
   ],
   "source": [
    "list(itertools.combinations('ABCD', 1))"
   ]
  },
  {
   "cell_type": "markdown",
   "id": "1beb79b4-7dc9-47fa-b638-280d5506632b",
   "metadata": {},
   "source": [
    "# itertools.combinations_with_replacement(iterable, r)\n",
    "返回由输入 iterable 中元素组成的长度为 r 的子序列，允许每个元素可重复出现。\n",
    "\n",
    "组合元组会以字典顺序根据所输入 iterable 的顺序发出。 因此，如果所输入 iterable 是已排序的，组合元组也将按已排序的顺序生成。\n",
    "\n",
    "不同位置的元素是不同的，即使它们的值相同。因此如果输入中的元素都是不同的话，返回的组合中元素也都会不同。"
   ]
  },
  {
   "cell_type": "code",
   "execution_count": 11,
   "id": "fb3e8f33-89a3-408e-9707-451d4ac30c6e",
   "metadata": {},
   "outputs": [
    {
     "data": {
      "text/plain": [
       "[('A', 'A'), ('A', 'B'), ('A', 'C'), ('B', 'B'), ('B', 'C'), ('C', 'C')]"
      ]
     },
     "execution_count": 11,
     "metadata": {},
     "output_type": "execute_result"
    }
   ],
   "source": [
    "list(itertools.combinations_with_replacement('ABC', 2))"
   ]
  },
  {
   "cell_type": "code",
   "execution_count": 12,
   "id": "c1ad0313-5e15-457c-a075-cea05d3f2bce",
   "metadata": {},
   "outputs": [
    {
     "data": {
      "text/plain": [
       "[('A', 'A'),\n",
       " ('A', 'B'),\n",
       " ('A', 'C'),\n",
       " ('A', 'D'),\n",
       " ('B', 'B'),\n",
       " ('B', 'C'),\n",
       " ('B', 'D'),\n",
       " ('C', 'C'),\n",
       " ('C', 'D'),\n",
       " ('D', 'D')]"
      ]
     },
     "execution_count": 12,
     "metadata": {},
     "output_type": "execute_result"
    }
   ],
   "source": [
    "list(itertools.combinations_with_replacement('ABCD', 2))"
   ]
  },
  {
   "cell_type": "code",
   "execution_count": null,
   "id": "68ce26c7-81c3-48c2-9488-3028065d319a",
   "metadata": {},
   "outputs": [],
   "source": []
  }
 ],
 "metadata": {
  "kernelspec": {
   "display_name": "Python 3 (ipykernel)",
   "language": "python",
   "name": "python3"
  },
  "language_info": {
   "codemirror_mode": {
    "name": "ipython",
    "version": 3
   },
   "file_extension": ".py",
   "mimetype": "text/x-python",
   "name": "python",
   "nbconvert_exporter": "python",
   "pygments_lexer": "ipython3",
   "version": "3.10.4"
  }
 },
 "nbformat": 4,
 "nbformat_minor": 5
}
