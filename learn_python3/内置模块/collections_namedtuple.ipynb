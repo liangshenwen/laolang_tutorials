{
 "cells": [
  {
   "cell_type": "markdown",
   "id": "9e13c129",
   "metadata": {},
   "source": [
    "# namedtuple\n",
    "namedtuple是继承自tuple的子类。namedtuple创建一个和tuple类似的对象，而且对象拥有可访问的属性。"
   ]
  },
  {
   "cell_type": "code",
   "execution_count": 1,
   "id": "2578c860",
   "metadata": {},
   "outputs": [
    {
     "name": "stdout",
     "output_type": "stream",
     "text": [
      "User(name='kongxx', sex='male', age=21)\n",
      "kongxx\n",
      "male\n",
      "21\n",
      "User(name='kongxx', sex='male', age=22)\n",
      "{'name': 'kongxx', 'sex': 'male', 'age': 22}\n"
     ]
    }
   ],
   "source": [
    "from collections import namedtuple\n",
    " \n",
    "# 定义一个namedtuple类型User，并包含name，sex和age属性。\n",
    "User = namedtuple('User', ['name', 'sex', 'age'])\n",
    " \n",
    "# 创建一个User对象\n",
    "user = User(name='kongxx', sex='male', age=21)\n",
    " \n",
    "# 也可以通过一个list来创建一个User对象，这里注意需要使用\"_make\"方法\n",
    "user = User._make(['kongxx', 'male', 21])\n",
    " \n",
    "print(user)\n",
    "# User(name='user1', sex='male', age=21)\n",
    " \n",
    "# 获取用户的属性\n",
    "print(user.name)\n",
    "print(user.sex)\n",
    "print(user.age)\n",
    " \n",
    "# 修改对象属性，注意要使用\"_replace\"方法\n",
    "user = user._replace(age=22)\n",
    "print(user)\n",
    "# User(name='user1', sex='male', age=21)\n",
    " \n",
    "# 将User对象转换成字典，注意要使用\"_asdict\"\n",
    "print(user._asdict())\n",
    "# OrderedDict([('name', 'kongxx'), ('sex', 'male'), ('age', 22)])"
   ]
  },
  {
   "cell_type": "code",
   "execution_count": 2,
   "id": "440cc6ce",
   "metadata": {},
   "outputs": [
    {
     "name": "stdout",
     "output_type": "stream",
     "text": [
      "Help on function namedtuple in module collections:\n",
      "\n",
      "namedtuple(typename, field_names, *, rename=False, defaults=None, module=None)\n",
      "    Returns a new subclass of tuple with named fields.\n",
      "    \n",
      "    >>> Point = namedtuple('Point', ['x', 'y'])\n",
      "    >>> Point.__doc__                   # docstring for the new class\n",
      "    'Point(x, y)'\n",
      "    >>> p = Point(11, y=22)             # instantiate with positional args or keywords\n",
      "    >>> p[0] + p[1]                     # indexable like a plain tuple\n",
      "    33\n",
      "    >>> x, y = p                        # unpack like a regular tuple\n",
      "    >>> x, y\n",
      "    (11, 22)\n",
      "    >>> p.x + p.y                       # fields also accessible by name\n",
      "    33\n",
      "    >>> d = p._asdict()                 # convert to a dictionary\n",
      "    >>> d['x']\n",
      "    11\n",
      "    >>> Point(**d)                      # convert from a dictionary\n",
      "    Point(x=11, y=22)\n",
      "    >>> p._replace(x=100)               # _replace() is like str.replace() but targets named fields\n",
      "    Point(x=100, y=22)\n",
      "\n"
     ]
    }
   ],
   "source": [
    "help(namedtuple)"
   ]
  },
  {
   "cell_type": "code",
   "execution_count": null,
   "id": "bef7d8f8",
   "metadata": {},
   "outputs": [],
   "source": []
  }
 ],
 "metadata": {
  "kernelspec": {
   "display_name": "Python 3 (ipykernel)",
   "language": "python",
   "name": "python3"
  },
  "language_info": {
   "codemirror_mode": {
    "name": "ipython",
    "version": 3
   },
   "file_extension": ".py",
   "mimetype": "text/x-python",
   "name": "python",
   "nbconvert_exporter": "python",
   "pygments_lexer": "ipython3",
   "version": "3.10.4"
  }
 },
 "nbformat": 4,
 "nbformat_minor": 5
}
