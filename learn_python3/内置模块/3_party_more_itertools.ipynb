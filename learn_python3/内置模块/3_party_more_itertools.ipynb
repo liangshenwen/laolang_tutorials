{
 "cells": [
  {
   "cell_type": "code",
   "execution_count": 2,
   "id": "a75fbaa8-f865-44cc-83a0-c6d4e04e90bf",
   "metadata": {},
   "outputs": [
    {
     "name": "stdout",
     "output_type": "stream",
     "text": [
      "Looking in indexes: http://pypi.douban.com/simple, https://pypi.org/simple\n",
      "Requirement already satisfied: more-itertools in c:\\my_python_world\\python310\\lib\\site-packages (8.13.0)\n"
     ]
    },
    {
     "name": "stderr",
     "output_type": "stream",
     "text": [
      "WARNING: There was an error checking the latest version of pip.\n"
     ]
    }
   ],
   "source": [
    "! python -m pip install more-itertools"
   ]
  },
  {
   "cell_type": "markdown",
   "id": "dd2b15a3-a38c-49b7-9f55-4b21fa0379c5",
   "metadata": {},
   "source": [
    "Python’s itertools library is a gem - you can compose elegant solutions for a variety of problems with the functions it provides. In more-itertools we collect additional building blocks, recipes, and routines for working with Python iterables.\n",
    "\n",
    "https://pypi.org/project/more-itertools/\n",
    "\n",
    "https://docs.python.org/3/library/itertools.html#itertools-recipes"
   ]
  },
  {
   "cell_type": "code",
   "execution_count": 6,
   "id": "60af6cd7-c2da-499e-93eb-799c613aba00",
   "metadata": {},
   "outputs": [],
   "source": [
    "import more_itertools"
   ]
  },
  {
   "cell_type": "code",
   "execution_count": 7,
   "id": "1c15dfa5-a918-4d01-b643-a4df751f31b8",
   "metadata": {},
   "outputs": [
    {
     "data": {
      "text/plain": [
       "[0, 1, 2]"
      ]
     },
     "execution_count": 7,
     "metadata": {},
     "output_type": "execute_result"
    }
   ],
   "source": [
    "more_itertools.take(3, range(10))"
   ]
  },
  {
   "cell_type": "code",
   "execution_count": null,
   "id": "b87bdb7c-b283-4293-8ee4-8125249f098a",
   "metadata": {},
   "outputs": [],
   "source": []
  }
 ],
 "metadata": {
  "kernelspec": {
   "display_name": "Python 3 (ipykernel)",
   "language": "python",
   "name": "python3"
  },
  "language_info": {
   "codemirror_mode": {
    "name": "ipython",
    "version": 3
   },
   "file_extension": ".py",
   "mimetype": "text/x-python",
   "name": "python",
   "nbconvert_exporter": "python",
   "pygments_lexer": "ipython3",
   "version": "3.10.4"
  }
 },
 "nbformat": 4,
 "nbformat_minor": 5
}
