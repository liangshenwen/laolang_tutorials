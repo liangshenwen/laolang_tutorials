{
 "cells": [
  {
   "cell_type": "code",
   "execution_count": 1,
   "id": "18a8c4d4-35ee-4af6-9e8d-72ccc123db28",
   "metadata": {},
   "outputs": [
    {
     "name": "stdout",
     "output_type": "stream",
     "text": [
      "b'Hello Python!\\n'\n",
      "b'Hello'\n",
      "b'Hello  world!\\n'\n"
     ]
    }
   ],
   "source": [
    "import mmap\n",
    "\n",
    "# write a simple example file\n",
    "with open(\"hello.txt\", \"wb\") as f:\n",
    "    f.write(b\"Hello Python!\\n\")\n",
    "\n",
    "with open(\"hello.txt\", \"r+b\") as f:\n",
    "    # memory-map the file, size 0 means whole file\n",
    "    mm = mmap.mmap(f.fileno(), 0)\n",
    "    # read content via standard file methods\n",
    "    print(mm.readline())  # prints b\"Hello Python!\\n\"\n",
    "    # read content via slice notation\n",
    "    print(mm[:5])  # prints b\"Hello\"\n",
    "    # update content using slice notation;\n",
    "    # note that new content must have same size\n",
    "    mm[6:] = b\" world!\\n\"\n",
    "    # ... and read again using standard file methods\n",
    "    mm.seek(0)\n",
    "    print(mm.readline())  # prints b\"Hello  world!\\n\"\n",
    "    # close the map\n",
    "    mm.close()"
   ]
  },
  {
   "cell_type": "code",
   "execution_count": 8,
   "id": "64ce61cd-541b-4a9a-9f00-de3b0bac7a19",
   "metadata": {},
   "outputs": [
    {
     "name": "stdout",
     "output_type": "stream",
     "text": [
      "b''\n"
     ]
    }
   ],
   "source": [
    "import mmap\n",
    "\n",
    "with mmap.mmap(-1, 13) as mm:\n",
    "    mm.write(b\"Hello world!\\n\")"
   ]
  },
  {
   "cell_type": "code",
   "execution_count": 9,
   "id": "6fd85239-88d9-43cc-bf60-6ad3744e1a83",
   "metadata": {},
   "outputs": [
    {
     "ename": "AttributeError",
     "evalue": "module 'os' has no attribute 'fork'",
     "output_type": "error",
     "traceback": [
      "\u001b[1;31m---------------------------------------------------------------------------\u001b[0m",
      "\u001b[1;31mAttributeError\u001b[0m                            Traceback (most recent call last)",
      "Input \u001b[1;32mIn [9]\u001b[0m, in \u001b[0;36m<cell line: 7>\u001b[1;34m()\u001b[0m\n\u001b[0;32m      4\u001b[0m mm \u001b[38;5;241m=\u001b[39m mmap\u001b[38;5;241m.\u001b[39mmmap(\u001b[38;5;241m-\u001b[39m\u001b[38;5;241m1\u001b[39m, \u001b[38;5;241m13\u001b[39m)\n\u001b[0;32m      5\u001b[0m mm\u001b[38;5;241m.\u001b[39mwrite(\u001b[38;5;124mb\u001b[39m\u001b[38;5;124m\"\u001b[39m\u001b[38;5;124mHello world!\u001b[39m\u001b[38;5;124m\"\u001b[39m)\n\u001b[1;32m----> 7\u001b[0m pid \u001b[38;5;241m=\u001b[39m \u001b[43mos\u001b[49m\u001b[38;5;241;43m.\u001b[39;49m\u001b[43mfork\u001b[49m()\n\u001b[0;32m      9\u001b[0m \u001b[38;5;28;01mif\u001b[39;00m pid \u001b[38;5;241m==\u001b[39m \u001b[38;5;241m0\u001b[39m:  \u001b[38;5;66;03m# In a child process\u001b[39;00m\n\u001b[0;32m     10\u001b[0m     mm\u001b[38;5;241m.\u001b[39mseek(\u001b[38;5;241m0\u001b[39m)\n",
      "\u001b[1;31mAttributeError\u001b[0m: module 'os' has no attribute 'fork'"
     ]
    }
   ],
   "source": [
    "import mmap\n",
    "import os\n",
    "\n",
    "mm = mmap.mmap(-1, 13)\n",
    "mm.write(b\"Hello world!\")\n",
    "\n",
    "pid = os.fork() # only support for linux\n",
    "\n",
    "if pid == 0:  # In a child process\n",
    "    mm.seek(0)\n",
    "    print(mm.readline())\n",
    "\n",
    "    mm.close()"
   ]
  },
  {
   "cell_type": "code",
   "execution_count": null,
   "id": "aa4451b6-04b7-498e-9e0d-2c56caf4163d",
   "metadata": {},
   "outputs": [],
   "source": []
  }
 ],
 "metadata": {
  "kernelspec": {
   "display_name": "Python 3 (ipykernel)",
   "language": "python",
   "name": "python3"
  },
  "language_info": {
   "codemirror_mode": {
    "name": "ipython",
    "version": 3
   },
   "file_extension": ".py",
   "mimetype": "text/x-python",
   "name": "python",
   "nbconvert_exporter": "python",
   "pygments_lexer": "ipython3",
   "version": "3.10.5"
  }
 },
 "nbformat": 4,
 "nbformat_minor": 5
}
