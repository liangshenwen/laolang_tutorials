{
 "cells": [
  {
   "cell_type": "code",
   "execution_count": 1,
   "id": "b75326f7-74b1-4b9d-a751-42f080078493",
   "metadata": {},
   "outputs": [],
   "source": [
    "import keyword"
   ]
  },
  {
   "cell_type": "code",
   "execution_count": 2,
   "id": "1c691984-7f47-4082-9c29-215c24eabd00",
   "metadata": {},
   "outputs": [
    {
     "data": {
      "text/plain": [
       "['False',\n",
       " 'None',\n",
       " 'True',\n",
       " 'and',\n",
       " 'as',\n",
       " 'assert',\n",
       " 'async',\n",
       " 'await',\n",
       " 'break',\n",
       " 'class',\n",
       " 'continue',\n",
       " 'def',\n",
       " 'del',\n",
       " 'elif',\n",
       " 'else',\n",
       " 'except',\n",
       " 'finally',\n",
       " 'for',\n",
       " 'from',\n",
       " 'global',\n",
       " 'if',\n",
       " 'import',\n",
       " 'in',\n",
       " 'is',\n",
       " 'lambda',\n",
       " 'nonlocal',\n",
       " 'not',\n",
       " 'or',\n",
       " 'pass',\n",
       " 'raise',\n",
       " 'return',\n",
       " 'try',\n",
       " 'while',\n",
       " 'with',\n",
       " 'yield']"
      ]
     },
     "execution_count": 2,
     "metadata": {},
     "output_type": "execute_result"
    }
   ],
   "source": [
    "keyword.kwlist"
   ]
  },
  {
   "cell_type": "code",
   "execution_count": 3,
   "id": "be73111e-4948-4a87-b281-71b168caf8c8",
   "metadata": {},
   "outputs": [
    {
     "data": {
      "text/plain": [
       "True"
      ]
     },
     "execution_count": 3,
     "metadata": {},
     "output_type": "execute_result"
    }
   ],
   "source": [
    "keyword.iskeyword('yield')"
   ]
  },
  {
   "cell_type": "markdown",
   "id": "3bb569a5-0e64-4cbf-8089-df0cc8bdb6dc",
   "metadata": {},
   "source": [
    "某些标识符仅在特定上下文中被保留。 它们被称为 **软关键字**。 match, case 和 _ 等标识符在模式匹配语句相关的上下文中具有相当于关键字的语义，但这种区分是在解析器层级完成，而不是在形符化的时候。\n",
    "\n",
    "作为软关键字，它们能够与模式匹配一起使用，同时仍然保持与使用 match, case 和 _ 作为标识符名称的现有代码的兼容性。"
   ]
  },
  {
   "cell_type": "code",
   "execution_count": 4,
   "id": "c37b7f06-97be-4339-a515-0c381432dea0",
   "metadata": {},
   "outputs": [
    {
     "data": {
      "text/plain": [
       "['_', 'case', 'match']"
      ]
     },
     "execution_count": 4,
     "metadata": {},
     "output_type": "execute_result"
    }
   ],
   "source": [
    "keyword.softkwlist"
   ]
  },
  {
   "cell_type": "code",
   "execution_count": 5,
   "id": "52e7a41e-a9d8-4ee5-8e14-2bc507880a03",
   "metadata": {},
   "outputs": [
    {
     "data": {
      "text/plain": [
       "True"
      ]
     },
     "execution_count": 5,
     "metadata": {},
     "output_type": "execute_result"
    }
   ],
   "source": [
    "keyword.issoftkeyword('_')"
   ]
  },
  {
   "cell_type": "code",
   "execution_count": null,
   "id": "89d531a2-fa99-499e-a1a6-568f5f52bcc7",
   "metadata": {},
   "outputs": [],
   "source": []
  }
 ],
 "metadata": {
  "kernelspec": {
   "display_name": "Python 3 (ipykernel)",
   "language": "python",
   "name": "python3"
  },
  "language_info": {
   "codemirror_mode": {
    "name": "ipython",
    "version": 3
   },
   "file_extension": ".py",
   "mimetype": "text/x-python",
   "name": "python",
   "nbconvert_exporter": "python",
   "pygments_lexer": "ipython3",
   "version": "3.10.5"
  }
 },
 "nbformat": 4,
 "nbformat_minor": 5
}
