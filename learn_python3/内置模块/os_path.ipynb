{
 "cells": [
  {
   "cell_type": "code",
   "execution_count": 1,
   "id": "b5870362-3548-4e23-a311-f85d25edf0c5",
   "metadata": {},
   "outputs": [],
   "source": [
    "import os"
   ]
  },
  {
   "cell_type": "code",
   "execution_count": 2,
   "id": "0edc6efe-e44b-4a71-8c91-a9c3d31f90b3",
   "metadata": {},
   "outputs": [
    {
     "ename": "NameError",
     "evalue": "name 'o' is not defined",
     "output_type": "error",
     "traceback": [
      "\u001b[1;31m---------------------------------------------------------------------------\u001b[0m",
      "\u001b[1;31mNameError\u001b[0m                                 Traceback (most recent call last)",
      "Input \u001b[1;32mIn [2]\u001b[0m, in \u001b[0;36m<cell line: 1>\u001b[1;34m()\u001b[0m\n\u001b[1;32m----> 1\u001b[0m \u001b[43mo\u001b[49m\u001b[38;5;241m.\u001b[39msplitext(\u001b[38;5;124mr\u001b[39m\u001b[38;5;124m'\u001b[39m\u001b[38;5;124mc:\u001b[39m\u001b[38;5;124m\\\u001b[39m\u001b[38;5;124mabc\u001b[39m\u001b[38;5;124m\\\u001b[39m\u001b[38;5;124ma.txt\u001b[39m\u001b[38;5;124m'\u001b[39m)\n",
      "\u001b[1;31mNameError\u001b[0m: name 'o' is not defined"
     ]
    }
   ],
   "source": [
    "o.splitext(r'c:\\abc\\a.txt')"
   ]
  },
  {
   "cell_type": "code",
   "execution_count": null,
   "id": "0edd8770-4fa1-469d-9468-952151bd8fc0",
   "metadata": {},
   "outputs": [],
   "source": [
    "os.path.splitdrive(\"c:/dir\")"
   ]
  },
  {
   "cell_type": "code",
   "execution_count": null,
   "id": "d669e92a-9fa7-4cfc-ae4b-ba977ac9b62f",
   "metadata": {},
   "outputs": [],
   "source": [
    "os.path.split(r'c:\\abc\\a.txt')"
   ]
  },
  {
   "cell_type": "code",
   "execution_count": null,
   "id": "446ceaf2-aff3-4f33-8bbd-72ffb0f093a0",
   "metadata": {},
   "outputs": [],
   "source": [
    "os.path.normpath(r'c:\\abc\\dbef\\..\\abc\\a.txt')"
   ]
  },
  {
   "cell_type": "code",
   "execution_count": null,
   "id": "acb758f6-a753-4a88-8c98-ca830dc40c96",
   "metadata": {},
   "outputs": [],
   "source": [
    "os.path.expanduser(r'~\\abc.txt')"
   ]
  },
  {
   "cell_type": "code",
   "execution_count": null,
   "id": "7cac127e-f369-4606-be28-7fc62a06a177",
   "metadata": {},
   "outputs": [],
   "source": [
    "os.path.expandvars(r'%JAVA_HOME%\\abc.txt')"
   ]
  },
  {
   "cell_type": "code",
   "execution_count": null,
   "id": "15345292-1c6d-4c45-a5a7-0d69b381e861",
   "metadata": {},
   "outputs": [],
   "source": [
    "os.path.pathsep"
   ]
  },
  {
   "cell_type": "code",
   "execution_count": null,
   "id": "9a2e7af8-5d7a-49cf-aaf1-f05100614fd0",
   "metadata": {},
   "outputs": [],
   "source": [
    "dir(os.path)"
   ]
  },
  {
   "cell_type": "code",
   "execution_count": null,
   "id": "41902cc0-b651-4827-ae91-dc5615b29fd9",
   "metadata": {},
   "outputs": [],
   "source": [
    "os.path.sep"
   ]
  },
  {
   "cell_type": "code",
   "execution_count": null,
   "id": "36a4df91-e606-4c2e-bc9d-27858b708df3",
   "metadata": {},
   "outputs": [],
   "source": [
    "os.path.extsep"
   ]
  },
  {
   "cell_type": "code",
   "execution_count": null,
   "id": "f4bedf02-3f1d-4063-8058-beeeef69ddf5",
   "metadata": {},
   "outputs": [],
   "source": []
  }
 ],
 "metadata": {
  "kernelspec": {
   "display_name": "Python 3 (ipykernel)",
   "language": "python",
   "name": "python3"
  },
  "language_info": {
   "codemirror_mode": {
    "name": "ipython",
    "version": 3
   },
   "file_extension": ".py",
   "mimetype": "text/x-python",
   "name": "python",
   "nbconvert_exporter": "python",
   "pygments_lexer": "ipython3",
   "version": "3.10.5"
  }
 },
 "nbformat": 4,
 "nbformat_minor": 5
}
