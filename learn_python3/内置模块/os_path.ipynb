{
 "cells": [
  {
   "cell_type": "code",
   "execution_count": 1,
   "id": "b5870362-3548-4e23-a311-f85d25edf0c5",
   "metadata": {},
   "outputs": [],
   "source": [
    "import os"
   ]
  },
  {
   "cell_type": "code",
   "execution_count": 2,
   "id": "0edc6efe-e44b-4a71-8c91-a9c3d31f90b3",
   "metadata": {},
   "outputs": [
    {
     "data": {
      "text/plain": [
       "('c:\\\\abc\\\\a', '.txt')"
      ]
     },
     "execution_count": 2,
     "metadata": {},
     "output_type": "execute_result"
    }
   ],
   "source": [
    "os.path.splitext(r'c:\\abc\\a.txt')"
   ]
  },
  {
   "cell_type": "code",
   "execution_count": 3,
   "id": "0edd8770-4fa1-469d-9468-952151bd8fc0",
   "metadata": {},
   "outputs": [
    {
     "data": {
      "text/plain": [
       "('c:', '/dir')"
      ]
     },
     "execution_count": 3,
     "metadata": {},
     "output_type": "execute_result"
    }
   ],
   "source": [
    "os.path.splitdrive(\"c:/dir\")"
   ]
  },
  {
   "cell_type": "code",
   "execution_count": 4,
   "id": "d669e92a-9fa7-4cfc-ae4b-ba977ac9b62f",
   "metadata": {},
   "outputs": [
    {
     "data": {
      "text/plain": [
       "('c:\\\\abc', 'a.txt')"
      ]
     },
     "execution_count": 4,
     "metadata": {},
     "output_type": "execute_result"
    }
   ],
   "source": [
    "os.path.split(r'c:\\abc\\a.txt')"
   ]
  },
  {
   "cell_type": "code",
   "execution_count": 5,
   "id": "446ceaf2-aff3-4f33-8bbd-72ffb0f093a0",
   "metadata": {},
   "outputs": [
    {
     "data": {
      "text/plain": [
       "'c:\\\\abc\\\\abc\\\\a.txt'"
      ]
     },
     "execution_count": 5,
     "metadata": {},
     "output_type": "execute_result"
    }
   ],
   "source": [
    "os.path.normpath(r'c:\\abc\\dbef\\..\\abc\\a.txt')"
   ]
  },
  {
   "cell_type": "code",
   "execution_count": 6,
   "id": "acb758f6-a753-4a88-8c98-ca830dc40c96",
   "metadata": {},
   "outputs": [
    {
     "data": {
      "text/plain": [
       "'C:\\\\Users\\\\sliang\\\\abc.txt'"
      ]
     },
     "execution_count": 6,
     "metadata": {},
     "output_type": "execute_result"
    }
   ],
   "source": [
    "os.path.expanduser(r'~\\abc.txt')"
   ]
  },
  {
   "cell_type": "code",
   "execution_count": 7,
   "id": "7cac127e-f369-4606-be28-7fc62a06a177",
   "metadata": {},
   "outputs": [
    {
     "data": {
      "text/plain": [
       "'C:\\\\Users\\\\sliang\\\\development\\\\Java\\\\jdk1.8.0_341\\\\abc.txt'"
      ]
     },
     "execution_count": 7,
     "metadata": {},
     "output_type": "execute_result"
    }
   ],
   "source": [
    "os.path.expandvars(r'%JAVA_HOME%\\abc.txt')"
   ]
  },
  {
   "cell_type": "code",
   "execution_count": 8,
   "id": "15345292-1c6d-4c45-a5a7-0d69b381e861",
   "metadata": {},
   "outputs": [
    {
     "data": {
      "text/plain": [
       "';'"
      ]
     },
     "execution_count": 8,
     "metadata": {},
     "output_type": "execute_result"
    }
   ],
   "source": [
    "os.path.pathsep"
   ]
  },
  {
   "cell_type": "code",
   "execution_count": 9,
   "id": "9a2e7af8-5d7a-49cf-aaf1-f05100614fd0",
   "metadata": {},
   "outputs": [
    {
     "data": {
      "text/plain": [
       "['__all__',\n",
       " '__builtins__',\n",
       " '__cached__',\n",
       " '__doc__',\n",
       " '__file__',\n",
       " '__loader__',\n",
       " '__name__',\n",
       " '__package__',\n",
       " '__spec__',\n",
       " '_abspath_fallback',\n",
       " '_get_bothseps',\n",
       " '_getfinalpathname',\n",
       " '_getfinalpathname_nonstrict',\n",
       " '_getfullpathname',\n",
       " '_getvolumepathname',\n",
       " '_nt_readlink',\n",
       " '_readlink_deep',\n",
       " 'abspath',\n",
       " 'altsep',\n",
       " 'basename',\n",
       " 'commonpath',\n",
       " 'commonprefix',\n",
       " 'curdir',\n",
       " 'defpath',\n",
       " 'devnull',\n",
       " 'dirname',\n",
       " 'exists',\n",
       " 'expanduser',\n",
       " 'expandvars',\n",
       " 'extsep',\n",
       " 'genericpath',\n",
       " 'getatime',\n",
       " 'getctime',\n",
       " 'getmtime',\n",
       " 'getsize',\n",
       " 'isabs',\n",
       " 'isdir',\n",
       " 'isfile',\n",
       " 'islink',\n",
       " 'ismount',\n",
       " 'join',\n",
       " 'lexists',\n",
       " 'normcase',\n",
       " 'normpath',\n",
       " 'os',\n",
       " 'pardir',\n",
       " 'pathsep',\n",
       " 'realpath',\n",
       " 'relpath',\n",
       " 'samefile',\n",
       " 'sameopenfile',\n",
       " 'samestat',\n",
       " 'sep',\n",
       " 'split',\n",
       " 'splitdrive',\n",
       " 'splitext',\n",
       " 'stat',\n",
       " 'supports_unicode_filenames',\n",
       " 'sys']"
      ]
     },
     "execution_count": 9,
     "metadata": {},
     "output_type": "execute_result"
    }
   ],
   "source": [
    "dir(os.path)"
   ]
  },
  {
   "cell_type": "code",
   "execution_count": 10,
   "id": "41902cc0-b651-4827-ae91-dc5615b29fd9",
   "metadata": {},
   "outputs": [
    {
     "data": {
      "text/plain": [
       "'\\\\'"
      ]
     },
     "execution_count": 10,
     "metadata": {},
     "output_type": "execute_result"
    }
   ],
   "source": [
    "os.path.sep"
   ]
  },
  {
   "cell_type": "code",
   "execution_count": 11,
   "id": "36a4df91-e606-4c2e-bc9d-27858b708df3",
   "metadata": {},
   "outputs": [
    {
     "data": {
      "text/plain": [
       "'.'"
      ]
     },
     "execution_count": 11,
     "metadata": {},
     "output_type": "execute_result"
    }
   ],
   "source": [
    "os.path.extsep"
   ]
  },
  {
   "cell_type": "code",
   "execution_count": null,
   "id": "f4bedf02-3f1d-4063-8058-beeeef69ddf5",
   "metadata": {},
   "outputs": [],
   "source": []
  }
 ],
 "metadata": {
  "kernelspec": {
   "display_name": "Python 3 (ipykernel)",
   "language": "python",
   "name": "python3"
  },
  "language_info": {
   "codemirror_mode": {
    "name": "ipython",
    "version": 3
   },
   "file_extension": ".py",
   "mimetype": "text/x-python",
   "name": "python",
   "nbconvert_exporter": "python",
   "pygments_lexer": "ipython3",
   "version": "3.10.5"
  }
 },
 "nbformat": 4,
 "nbformat_minor": 5
}
