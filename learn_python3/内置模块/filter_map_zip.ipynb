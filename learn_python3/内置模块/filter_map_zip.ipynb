{
 "cells": [
  {
   "cell_type": "markdown",
   "id": "61d5e61b-1c08-4745-803d-0299dfa00e70",
   "metadata": {},
   "source": [
    "# filter(function, iterable)   \n",
    "用 iterable 中函数 function 返回真的那些元素，构建一个新的迭代器。iterable 可以是一个序列，一个支持迭代的容器，或一个迭代器。如果 function 是 None ，则会假设它是一个身份函数，即 iterable 中所有返回假的元素会被移除。"
   ]
  },
  {
   "cell_type": "code",
   "execution_count": 12,
   "id": "d372d2c2-25b7-4f36-b8c5-2a69235bd306",
   "metadata": {},
   "outputs": [
    {
     "name": "stdout",
     "output_type": "stream",
     "text": [
      "<filter object at 0x00000185514215D0>\n",
      "[1, 3, 5, 7, 9]\n"
     ]
    }
   ],
   "source": [
    "# 过滤出列表中的所有奇数：\n",
    "def is_odd(n):\n",
    "    return n % 2 == 1\n",
    " \n",
    "tmplist = filter(is_odd, [1, 2, 3, 4, 5, 6, 7, 8, 9, 10])\n",
    "print(tmplist)\n",
    "newlist = list(tmplist)\n",
    "print(newlist)"
   ]
  },
  {
   "cell_type": "code",
   "execution_count": 13,
   "id": "31b08ef0-4591-4c1e-acca-e20fdf040732",
   "metadata": {},
   "outputs": [
    {
     "name": "stdout",
     "output_type": "stream",
     "text": [
      "<filter object at 0x0000018552506590>\n",
      "[1, 4, 9, 16, 25, 36, 49, 64, 81, 100]\n"
     ]
    }
   ],
   "source": [
    "# 过滤出1~100中平方根是整数的数：\n",
    "import math\n",
    "def is_sqr(x):\n",
    "    return math.sqrt(x) % 1 == 0\n",
    " \n",
    "tmplist = filter(is_sqr, range(1, 101))\n",
    "print(tmplist)\n",
    "newlist = list(tmplist)\n",
    "print(newlist)"
   ]
  },
  {
   "cell_type": "markdown",
   "id": "0f722fdb-d57f-4677-af38-9379d4206390",
   "metadata": {},
   "source": [
    "# map(func， *iterables) -> map对象\n",
    "\n",
    "创建一个迭代器，使用来自的参数计算函数每个迭代器。当最短的迭代器耗尽时停止。\n",
    "作用：\n",
    "\n",
    "map(func, lst) ，将传⼊的函数变量 func 作⽤到 lst 变量的每个元素中，并将结果组成新迭代器(Python3) 返回。\n",
    "\n",
    "注意：\n",
    "\n",
    "map()返回的是一个迭代器，直接打印map()的结果是返回的一个对象。"
   ]
  },
  {
   "cell_type": "code",
   "execution_count": 16,
   "id": "2aa0da9d-76d4-41ed-bf80-856fca8e74f6",
   "metadata": {},
   "outputs": [
    {
     "name": "stdout",
     "output_type": "stream",
     "text": [
      "['1', '2', '3', '4', '5', '6']\n",
      "<map object at 0x000001855258C4F0>\n",
      "1 2 3 4 5 6 \n",
      "[]\n"
     ]
    }
   ],
   "source": [
    "lst = ['1', '2', '3', '4', '5', '6']\n",
    "print(lst)\n",
    "lst_int = map(lambda x: int(x), lst)\n",
    "print(lst_int)\n",
    "for i in lst_int:\n",
    "    print(i, end=' ')\n",
    "print()\n",
    "print(list(lst_int))"
   ]
  },
  {
   "cell_type": "code",
   "execution_count": 17,
   "id": "62f7681a-6e09-493a-812e-23a23c88489d",
   "metadata": {},
   "outputs": [
    {
     "name": "stdout",
     "output_type": "stream",
     "text": [
      "['0', '1', '2', '3', '4', '5', '6', '7', '8', '9']\n",
      "['0', '1', '2', '3', '4']\n"
     ]
    }
   ],
   "source": [
    "lst = map(str, [i for i in range(10)])\n",
    "print(list(lst))\n",
    "lst_2 = map(str, range(5))\n",
    "print(list(lst_2))"
   ]
  },
  {
   "cell_type": "code",
   "execution_count": 18,
   "id": "ef792487-37ac-435f-ae11-a705c237f25a",
   "metadata": {},
   "outputs": [
    {
     "name": "stdout",
     "output_type": "stream",
     "text": [
      "<map object at 0x00000185513076A0>\n",
      "[1, 4, 9, 16, 25]\n"
     ]
    }
   ],
   "source": [
    "list1 = [1, 2, 3, 4, 5]\n",
    "def func(x):\n",
    "    return x ** 2\n",
    "result = map(func, list1)\n",
    "print(result)\n",
    "print(list(result))"
   ]
  },
  {
   "cell_type": "code",
   "execution_count": 19,
   "id": "68a48a84-7569-4d76-81a9-04f236fb1926",
   "metadata": {},
   "outputs": [
    {
     "name": "stdout",
     "output_type": "stream",
     "text": [
      "<map object at 0x0000018551426590>\n",
      "[3, 6, 9, 12, 15]\n",
      "<map object at 0x0000018551427FD0>\n",
      "[(1, 1, 1), (2, 2, 2), (3, 3, 3), (4, 4, 4), (5, 5, 5)]\n"
     ]
    }
   ],
   "source": [
    "list1 = [1, 2, 3, 4, 5]\n",
    "list2 = [1, 2, 3, 4, 5, 6]\n",
    "list3 = [1, 2, 3, 4, 5, 6, 7]\n",
    "def func1(x, y, z):\n",
    "    return x + y + z\n",
    "def func2(x, y, z):\n",
    "    return x, y, z\n",
    "result1 = map(func1, list1, list2, list3)\n",
    "print(result1)\n",
    "print(list(result1))\n",
    "result2 = map(func2, list1, list2, list3)\n",
    "print(result2)\n",
    "print(list(result2))"
   ]
  },
  {
   "cell_type": "markdown",
   "id": "37ae2b91-a635-4558-b9d9-36c64d530bb3",
   "metadata": {},
   "source": [
    "# zip(*iterables, strict=False)\n",
    "在多个迭代器上并行迭代，从每个迭代器返回一个数据项组成元组。\n",
    "\n",
    "更正式的说法： zip() 返回元组的迭代器，其中第 i 个元组包含的是每个参数迭代器的第 i 个元素。\n",
    "\n",
    "不妨换一种方式认识 zip() ：它会把行变成列，把列变成行。这类似于 矩阵转置 。\n",
    "\n",
    "zip() 是延迟执行的：直至迭代时才会对元素进行处理，比如 for 循环或放入 list 中。"
   ]
  },
  {
   "cell_type": "code",
   "execution_count": 20,
   "id": "4e44642c-5031-4d76-ba57-29f3ccdda80e",
   "metadata": {},
   "outputs": [
    {
     "name": "stdout",
     "output_type": "stream",
     "text": [
      "(1, 'sugar')\n",
      "(2, 'spice')\n",
      "(3, 'everything nice')\n"
     ]
    }
   ],
   "source": [
    "for item in zip([1, 2, 3], ['sugar', 'spice', 'everything nice']):\n",
    "    print(item)"
   ]
  },
  {
   "cell_type": "markdown",
   "id": "b3b6ade0-fbd0-41a7-87d3-6f99380b71f8",
   "metadata": {},
   "source": [
    "值得考虑的是，传给 zip() 的可迭代对象可能长度不同；有时是有意为之，有时是因为准备这些对象的代码存在错误。Python 提供了三种不同的处理方案："
   ]
  },
  {
   "cell_type": "code",
   "execution_count": 21,
   "id": "d61412a3-8592-44b8-8250-449a579c098f",
   "metadata": {},
   "outputs": [
    {
     "data": {
      "text/plain": [
       "[(0, 'fee'), (1, 'fi'), (2, 'fo')]"
      ]
     },
     "execution_count": 21,
     "metadata": {},
     "output_type": "execute_result"
    }
   ],
   "source": [
    "list(zip(range(3), ['fee', 'fi', 'fo', 'fum']))"
   ]
  },
  {
   "cell_type": "code",
   "execution_count": 22,
   "id": "30aef725-24fd-43f1-be82-71e2a728585b",
   "metadata": {},
   "outputs": [
    {
     "data": {
      "text/plain": [
       "[('a', 1), ('b', 2), ('c', 3)]"
      ]
     },
     "execution_count": 22,
     "metadata": {},
     "output_type": "execute_result"
    }
   ],
   "source": [
    "list(zip(('a', 'b', 'c'), (1, 2, 3), strict=True))"
   ]
  },
  {
   "cell_type": "code",
   "execution_count": 24,
   "id": "b55945ad-751f-4895-afa2-c9fd490352d9",
   "metadata": {},
   "outputs": [
    {
     "data": {
      "text/plain": [
       "[(0, 'fee'), (1, 'fi'), (2, 'fo')]"
      ]
     },
     "execution_count": 24,
     "metadata": {},
     "output_type": "execute_result"
    }
   ],
   "source": [
    "list(zip(range(3), ['fee', 'fi', 'fo', 'fum'], strict=False))"
   ]
  },
  {
   "cell_type": "code",
   "execution_count": 25,
   "id": "91656ced-b887-414e-bd94-4d37697a9650",
   "metadata": {},
   "outputs": [
    {
     "ename": "ValueError",
     "evalue": "zip() argument 2 is longer than argument 1",
     "output_type": "error",
     "traceback": [
      "\u001b[1;31m---------------------------------------------------------------------------\u001b[0m",
      "\u001b[1;31mValueError\u001b[0m                                Traceback (most recent call last)",
      "Input \u001b[1;32mIn [25]\u001b[0m, in \u001b[0;36m<cell line: 1>\u001b[1;34m()\u001b[0m\n\u001b[1;32m----> 1\u001b[0m \u001b[38;5;28;43mlist\u001b[39;49m\u001b[43m(\u001b[49m\u001b[38;5;28;43mzip\u001b[39;49m\u001b[43m(\u001b[49m\u001b[38;5;28;43mrange\u001b[39;49m\u001b[43m(\u001b[49m\u001b[38;5;241;43m3\u001b[39;49m\u001b[43m)\u001b[49m\u001b[43m,\u001b[49m\u001b[43m \u001b[49m\u001b[43m[\u001b[49m\u001b[38;5;124;43m'\u001b[39;49m\u001b[38;5;124;43mfee\u001b[39;49m\u001b[38;5;124;43m'\u001b[39;49m\u001b[43m,\u001b[49m\u001b[43m \u001b[49m\u001b[38;5;124;43m'\u001b[39;49m\u001b[38;5;124;43mfi\u001b[39;49m\u001b[38;5;124;43m'\u001b[39;49m\u001b[43m,\u001b[49m\u001b[43m \u001b[49m\u001b[38;5;124;43m'\u001b[39;49m\u001b[38;5;124;43mfo\u001b[39;49m\u001b[38;5;124;43m'\u001b[39;49m\u001b[43m,\u001b[49m\u001b[43m \u001b[49m\u001b[38;5;124;43m'\u001b[39;49m\u001b[38;5;124;43mfum\u001b[39;49m\u001b[38;5;124;43m'\u001b[39;49m\u001b[43m]\u001b[49m\u001b[43m,\u001b[49m\u001b[43m \u001b[49m\u001b[43mstrict\u001b[49m\u001b[38;5;241;43m=\u001b[39;49m\u001b[38;5;28;43;01mTrue\u001b[39;49;00m\u001b[43m)\u001b[49m\u001b[43m)\u001b[49m\n",
      "\u001b[1;31mValueError\u001b[0m: zip() argument 2 is longer than argument 1"
     ]
    }
   ],
   "source": [
    "list(zip(range(3), ['fee', 'fi', 'fo', 'fum'], strict=True))"
   ]
  },
  {
   "cell_type": "code",
   "execution_count": 26,
   "id": "869753e0-d7c8-4099-b2e1-e340657c9d7d",
   "metadata": {},
   "outputs": [
    {
     "data": {
      "text/plain": [
       "[(0, 'fee'), (1, 'fi'), (2, 'fo'), (None, 'fum')]"
      ]
     },
     "execution_count": 26,
     "metadata": {},
     "output_type": "execute_result"
    }
   ],
   "source": [
    "# 为了让所有的可迭代对象具有相同的长度，长度较短的可用常量进行填充。这可由 itertools.zip_longest() 来完成。\n",
    "import itertools\n",
    "list(itertools.zip_longest(range(3), ['fee', 'fi', 'fo', 'fum']))"
   ]
  },
  {
   "cell_type": "markdown",
   "id": "7fc5f36d-3de3-4b1f-916c-9c8a85a0a5d8",
   "metadata": {},
   "source": [
    "极端例子是只有一个可迭代对象参数，zip() 会返回一个一元组的迭代器。如果未给出参数，则返回一个空的迭代器。"
   ]
  },
  {
   "cell_type": "code",
   "execution_count": 28,
   "id": "9f7588d2-31bc-466c-9183-fb80a95de72d",
   "metadata": {},
   "outputs": [
    {
     "data": {
      "text/plain": [
       "[(0,), (1,), (2,), (3,), (4,)]"
      ]
     },
     "execution_count": 28,
     "metadata": {},
     "output_type": "execute_result"
    }
   ],
   "source": [
    "list(zip(range(5)))"
   ]
  },
  {
   "cell_type": "code",
   "execution_count": 29,
   "id": "8c13f61f-473e-462b-a79d-67793317c6a2",
   "metadata": {},
   "outputs": [
    {
     "data": {
      "text/plain": [
       "[]"
      ]
     },
     "execution_count": 29,
     "metadata": {},
     "output_type": "execute_result"
    }
   ],
   "source": [
    "list(zip())"
   ]
  },
  {
   "cell_type": "markdown",
   "id": "f232fea1-dcfa-46b3-a2f6-c2b50b49979c",
   "metadata": {},
   "source": [
    "小技巧：\n",
    "\n",
    "可确保迭代器的求值顺序是从左到右的。这样就能用 zip(*[iter(s)]*n, strict=True) 将数据列表按长度 n 进行分组。这将重复 相同 的迭代器 n 次，输出的每个元组都包含 n 次调用迭代器的结果。这样做的效果是把输入拆分为长度为 n 的块。\n"
   ]
  },
  {
   "cell_type": "markdown",
   "id": "48ff0cef-a76b-40fb-ad32-3c3eb55a381c",
   "metadata": {},
   "source": [
    "zip() 与 * 运算符相结合可以用来拆解一个列表:"
   ]
  },
  {
   "cell_type": "code",
   "execution_count": 31,
   "id": "56964b30-24af-42f8-8432-f557c3ae23da",
   "metadata": {},
   "outputs": [
    {
     "data": {
      "text/plain": [
       "[(1, 4), (2, 5), (3, 6)]"
      ]
     },
     "execution_count": 31,
     "metadata": {},
     "output_type": "execute_result"
    }
   ],
   "source": [
    "x = [1, 2, 3]\n",
    "y = [4, 5, 6]\n",
    "list(zip(x, y))"
   ]
  },
  {
   "cell_type": "code",
   "execution_count": 32,
   "id": "21066cb4-220b-4491-9c26-800e20c82a06",
   "metadata": {},
   "outputs": [
    {
     "data": {
      "text/plain": [
       "True"
      ]
     },
     "execution_count": 32,
     "metadata": {},
     "output_type": "execute_result"
    }
   ],
   "source": [
    "x2, y2 = zip(*zip(x, y))\n",
    "x == list(x2) and y == list(y2)"
   ]
  },
  {
   "cell_type": "code",
   "execution_count": 37,
   "id": "acf16557-4408-44df-8d34-5dbf85e9c9b6",
   "metadata": {},
   "outputs": [
    {
     "data": {
      "text/plain": [
       "<zip at 0x18552e27bc0>"
      ]
     },
     "execution_count": 37,
     "metadata": {},
     "output_type": "execute_result"
    }
   ],
   "source": [
    "zip(*zip(x, y))"
   ]
  },
  {
   "cell_type": "code",
   "execution_count": 38,
   "id": "03cd0cd7-94c4-4c54-876c-5e1c33526512",
   "metadata": {},
   "outputs": [
    {
     "name": "stdout",
     "output_type": "stream",
     "text": [
      "(1, 4) (2, 5) (3, 6)\n"
     ]
    }
   ],
   "source": [
    "print(*zip(x, y))"
   ]
  },
  {
   "cell_type": "code",
   "execution_count": null,
   "id": "27e36f85-f85e-4cbc-a800-0c3383ba371e",
   "metadata": {},
   "outputs": [],
   "source": []
  }
 ],
 "metadata": {
  "kernelspec": {
   "display_name": "Python 3 (ipykernel)",
   "language": "python",
   "name": "python3"
  },
  "language_info": {
   "codemirror_mode": {
    "name": "ipython",
    "version": 3
   },
   "file_extension": ".py",
   "mimetype": "text/x-python",
   "name": "python",
   "nbconvert_exporter": "python",
   "pygments_lexer": "ipython3",
   "version": "3.10.4"
  }
 },
 "nbformat": 4,
 "nbformat_minor": 5
}
