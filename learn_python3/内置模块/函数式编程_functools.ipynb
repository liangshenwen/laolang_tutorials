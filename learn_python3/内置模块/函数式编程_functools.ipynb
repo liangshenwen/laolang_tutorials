{
 "cells": [
  {
   "cell_type": "markdown",
   "id": "0646576e-6a4e-4ac5-a8fb-f8b31ed53988",
   "metadata": {},
   "source": [
    "functools 模块应用于高阶函数，即参数或（和）返回值为其他函数的函数。 通常来说，此模块的功能适用于所有可调用对象。\n",
    "\n",
    "https://docs.python.org/zh-cn/3/library/functools.html"
   ]
  },
  {
   "cell_type": "code",
   "execution_count": 1,
   "id": "962e97b5-a14b-4ea8-b904-931bbfcf8921",
   "metadata": {},
   "outputs": [],
   "source": [
    "from functools import *"
   ]
  },
  {
   "cell_type": "markdown",
   "id": "b0c915a6-4001-4219-8ddb-de540c638a08",
   "metadata": {},
   "source": [
    "## @functools.cache(user_function)\n",
    "简单轻量级未绑定函数缓存。 有时称为 \"memoize\"。\n",
    "\n",
    "返回值与 lru_cache(maxsize=None) 相同，创建一个查找函数参数的字典的简单包装器。 因为它不需要移出旧值，所以比带有大小限制的 lru_cache() 更小更快。"
   ]
  },
  {
   "cell_type": "code",
   "execution_count": 2,
   "id": "e550bea8-cc90-4da3-87b3-878512874119",
   "metadata": {},
   "outputs": [
    {
     "name": "stdout",
     "output_type": "stream",
     "text": [
      "3628800\n",
      "120\n",
      "479001600\n"
     ]
    }
   ],
   "source": [
    "@cache\n",
    "def factorial(n):\n",
    "    return n * factorial(n-1) if n else 1\n",
    "\n",
    "print(factorial(10))      # no previously cached result, makes 11 recursive calls\n",
    "print(factorial(5))       # just looks up cached value result\n",
    "print(factorial(12))      # makes two new recursive calls, the other 10 are cached"
   ]
  },
  {
   "cell_type": "markdown",
   "id": "005dd155-dbc3-43fe-bfe1-fd2111185472",
   "metadata": {},
   "source": [
    "## @functools.cached_property(func)\n",
    "将一个类方法转换为特征属性，一次性计算该特征属性的值，然后将其缓存为实例生命周期内的普通属性。 类似于 property() 但增加了缓存功能。 对于在其他情况下实际不可变的高计算资源消耗的实例特征属性来说该函数非常有用。"
   ]
  },
  {
   "cell_type": "code",
   "execution_count": 3,
   "id": "7861c1be-26da-41e5-abe2-0a433f0b0d24",
   "metadata": {},
   "outputs": [],
   "source": [
    "class DataSet:\n",
    "    def __init__(self, sequence_of_numbers):\n",
    "        self._data = tuple(sequence_of_numbers)\n",
    "\n",
    "    @cached_property\n",
    "    def stdev(self):\n",
    "        return statistics.stdev(self._data)"
   ]
  },
  {
   "cell_type": "markdown",
   "id": "98ae8e4c-2393-4dae-aeea-dfbe9215ccc7",
   "metadata": {},
   "source": [
    "## functools.lru_cache  \n",
    "@functools.lru_cache(user_function)  \n",
    "@functools.lru_cache(maxsize=128, typed=False)  \n",
    "一个为函数提供缓存功能的装饰器，缓存 maxsize 组传入参数，在下次以相同参数调用时直接返回上一次的结果。用以节约高开销或I/O函数的调用时间。"
   ]
  },
  {
   "cell_type": "code",
   "execution_count": 4,
   "id": "2fa209fc-5d02-40c1-98d6-0f2026d35f1c",
   "metadata": {},
   "outputs": [],
   "source": [
    "@lru_cache(maxsize=None)\n",
    "def fib(n):\n",
    "    if n < 2:\n",
    "        return n\n",
    "    return fib(n-1) + fib(n-2)\n"
   ]
  },
  {
   "cell_type": "code",
   "execution_count": 5,
   "id": "d571982d-df71-48d0-8b33-8353674c2591",
   "metadata": {},
   "outputs": [
    {
     "data": {
      "text/plain": [
       "[0, 1, 1, 2, 3, 5, 8, 13, 21, 34, 55, 89, 144, 233, 377, 610]"
      ]
     },
     "execution_count": 5,
     "metadata": {},
     "output_type": "execute_result"
    }
   ],
   "source": [
    "[fib(n) for n in range(16)]"
   ]
  },
  {
   "cell_type": "code",
   "execution_count": 6,
   "id": "cb20e351-1106-4a85-a935-1891d00e51ee",
   "metadata": {},
   "outputs": [
    {
     "data": {
      "text/plain": [
       "CacheInfo(hits=28, misses=16, maxsize=None, currsize=16)"
      ]
     },
     "execution_count": 6,
     "metadata": {},
     "output_type": "execute_result"
    }
   ],
   "source": [
    "fib.cache_info()"
   ]
  },
  {
   "cell_type": "code",
   "execution_count": 7,
   "id": "5e548840-b9da-4488-867a-3f3b7454af34",
   "metadata": {},
   "outputs": [],
   "source": [
    "import urllib\n",
    "@lru_cache(maxsize=32)\n",
    "def get_pep(num):\n",
    "    'Retrieve text of a Python Enhancement Proposal'\n",
    "    resource = 'https://www.python.org/dev/peps/pep-%04d/' % num\n",
    "    try:\n",
    "        with urllib.request.urlopen(resource) as s:\n",
    "            return s.read()\n",
    "    except urllib.error.HTTPError:\n",
    "        return 'Not Found'"
   ]
  },
  {
   "cell_type": "code",
   "execution_count": 8,
   "id": "cbffc29b-696b-4e4f-9515-19cacded8202",
   "metadata": {},
   "outputs": [
    {
     "name": "stdout",
     "output_type": "stream",
     "text": [
      "8 118091\n",
      "290 52781\n",
      "308 40877\n",
      "320 21105\n",
      "8 118091\n",
      "218 20328\n",
      "320 21105\n",
      "279 19799\n",
      "289 30033\n",
      "320 21105\n",
      "9991 9\n"
     ]
    }
   ],
   "source": [
    "for n in 8, 290, 308, 320, 8, 218, 320, 279, 289, 320, 9991:\n",
    "    pep = get_pep(n)\n",
    "    print(n, len(pep))"
   ]
  },
  {
   "cell_type": "code",
   "execution_count": 9,
   "id": "dd122269-e7d2-40d8-8cfa-4b372b02fad3",
   "metadata": {},
   "outputs": [
    {
     "data": {
      "text/plain": [
       "CacheInfo(hits=3, misses=8, maxsize=32, currsize=8)"
      ]
     },
     "execution_count": 9,
     "metadata": {},
     "output_type": "execute_result"
    }
   ],
   "source": [
    "get_pep.cache_info()"
   ]
  },
  {
   "cell_type": "code",
   "execution_count": 10,
   "id": "97f01f6c-e3ec-43a0-b3f8-9cf3881fed51",
   "metadata": {},
   "outputs": [
    {
     "name": "stdout",
     "output_type": "stream",
     "text": [
      "8 118091\n",
      "290 52781\n",
      "308 40877\n",
      "320 21105\n",
      "8 118091\n",
      "218 20328\n",
      "320 21105\n",
      "279 19799\n",
      "289 30033\n",
      "320 21105\n",
      "9991 9\n"
     ]
    }
   ],
   "source": [
    "for n in 8, 290, 308, 320, 8, 218, 320, 279, 289, 320, 9991:\n",
    "    pep = get_pep(n)\n",
    "    print(n, len(pep))"
   ]
  },
  {
   "cell_type": "code",
   "execution_count": 11,
   "id": "d05e4edd-a113-441b-b94c-21c4bbbad89b",
   "metadata": {},
   "outputs": [
    {
     "data": {
      "text/plain": [
       "CacheInfo(hits=14, misses=8, maxsize=32, currsize=8)"
      ]
     },
     "execution_count": 11,
     "metadata": {},
     "output_type": "execute_result"
    }
   ],
   "source": [
    "get_pep.cache_info()"
   ]
  },
  {
   "cell_type": "markdown",
   "id": "46af57d1-e282-4440-b56e-bbeb45f22214",
   "metadata": {},
   "source": [
    "## functools.partial(func, /, *args, **keywords)\n",
    "返回一个新的 部分对象，当被调用时其行为类似于 func 附带位置参数 args 和关键字参数 keywords 被调用。 如果为调用提供了更多的参数，它们会被附加到 args。 如果提供了额外的关键字参数，它们会扩展并重载 keywords。"
   ]
  },
  {
   "cell_type": "code",
   "execution_count": 12,
   "id": "33f4d66e-5b92-4885-b7c0-76434850823d",
   "metadata": {},
   "outputs": [
    {
     "data": {
      "text/plain": [
       "18"
      ]
     },
     "execution_count": 12,
     "metadata": {},
     "output_type": "execute_result"
    }
   ],
   "source": [
    "from functools import partial\n",
    "basetwo = partial(int, base=2)\n",
    "basetwo.__doc__ = 'Convert base 2 string to an int.'\n",
    "basetwo('10010')"
   ]
  },
  {
   "cell_type": "markdown",
   "id": "a2aeeaa8-a111-4cd3-a197-10d8460e0e32",
   "metadata": {},
   "source": [
    "## class functools.partialmethod(func, /, *args, **keywords)\n",
    "返回一个新的 partialmethod 描述器，其行为类似 partial 但它被设计用作方法定义而非直接用作可调用对象。"
   ]
  },
  {
   "cell_type": "code",
   "execution_count": 13,
   "id": "751e8e4d-1339-4731-a588-7487c0b5928a",
   "metadata": {},
   "outputs": [
    {
     "name": "stdout",
     "output_type": "stream",
     "text": [
      "False\n",
      "True\n",
      "False\n"
     ]
    }
   ],
   "source": [
    "class Cell:\n",
    "    def __init__(self):\n",
    "        self._alive = False\n",
    "    @property\n",
    "    def alive(self):\n",
    "        return self._alive\n",
    "    \n",
    "    def set_state(self, state):\n",
    "        self._alive = bool(state)\n",
    "    \n",
    "    set_alive = partialmethod(set_state, True)\n",
    "    set_dead = partialmethod(set_state, False)\n",
    "    \n",
    "c = Cell()\n",
    "print(c.alive)\n",
    "c.set_alive()\n",
    "print(c.alive)\n",
    "c.set_dead()\n",
    "print(c.alive)"
   ]
  },
  {
   "cell_type": "markdown",
   "id": "c4fb8439-6d51-4700-8077-7ee9d84b9bbc",
   "metadata": {},
   "source": [
    "## functools.reduce(function, iterable[, initializer])\n",
    "将两个参数的 function 从左至右积累地应用到 iterable 的条目，以便将该可迭代对象缩减为单一的值。 例如，reduce(lambda x, y: x+y, [1, 2, 3, 4, 5]) 是计算 ((((1+2)+3)+4)+5) 的值。 左边的参数 x 是积累值而右边的参数 y 则是来自 iterable 的更新值。 如果存在可选项 initializer，它会被放在参与计算的可迭代对象的条目之前，并在可迭代对象为空时作为默认值。 如果没有给出 initializer 并且 iterable 仅包含一个条目，则将返回第一项。"
   ]
  },
  {
   "cell_type": "code",
   "execution_count": 14,
   "id": "358af0ed-2def-4b1a-811a-03717c29e49b",
   "metadata": {},
   "outputs": [
    {
     "name": "stdout",
     "output_type": "stream",
     "text": [
      "15\n",
      "15\n",
      "15\n"
     ]
    }
   ],
   "source": [
    "def add(x, y) :            # 两数相加\n",
    "    return x + y\n",
    "sum1 = reduce(add, [1,2,3,4,5])   # 计算列表和：1+2+3+4+5\n",
    "sum2 = reduce(lambda x, y: x+y, [1,2,3,4,5])  # 使用 lambda 匿名函数\n",
    "print(sum1)\n",
    "print(sum2)\n",
    "print(sum([1,2,3,4,5]))"
   ]
  },
  {
   "cell_type": "markdown",
   "id": "ff63f4b7-dd1f-400b-b855-bbcf77a5bc7b",
   "metadata": {},
   "source": [
    "## @functools.wraps(wrapped, assigned=WRAPPER_ASSIGNMENTS, updated=WRAPPER_UPDATES)\n",
    "这是一个便捷函数，用于在定义包装器函数时发起调用 update_wrapper() 作为函数装饰器。 它等价于 partial(update_wrapper, wrapped=wrapped, assigned=assigned, updated=updated)。 "
   ]
  },
  {
   "cell_type": "code",
   "execution_count": 15,
   "id": "80dd1584-64f7-439f-8aa6-41cd62ada7c7",
   "metadata": {},
   "outputs": [],
   "source": [
    "def my_decorator(f):\n",
    "     @wraps(f)\n",
    "     def wrapper(*args, **kwds):\n",
    "         print('Calling decorated function')\n",
    "         return f(*args, **kwds)\n",
    "     return wrapper\n",
    "    \n",
    "def my_decorator_1(f):\n",
    "     def wrapper(*args, **kwds):\n",
    "         \"\"\"wrapper docstring\"\"\"\n",
    "         print('Calling decorated function')\n",
    "         return f(*args, **kwds)\n",
    "     return wrapper"
   ]
  },
  {
   "cell_type": "code",
   "execution_count": 16,
   "id": "8f092234-e04c-4cb8-8804-781583dfdcdc",
   "metadata": {},
   "outputs": [],
   "source": [
    "@my_decorator\n",
    "def example():\n",
    "    \"\"\"Docstring\"\"\"\n",
    "    print('Called example function')\n",
    "    \n",
    "@my_decorator_1\n",
    "def example_1():\n",
    "    \"\"\"Docstring\"\"\"\n",
    "    print('Called example function')"
   ]
  },
  {
   "cell_type": "code",
   "execution_count": 17,
   "id": "b055fc7b-c633-4650-9345-73cfda3bdbe3",
   "metadata": {},
   "outputs": [
    {
     "name": "stdout",
     "output_type": "stream",
     "text": [
      "Calling decorated function\n",
      "Called example function\n"
     ]
    }
   ],
   "source": [
    "example()"
   ]
  },
  {
   "cell_type": "code",
   "execution_count": 18,
   "id": "e5aa5c26-8474-4e01-992a-aec6b38de356",
   "metadata": {},
   "outputs": [
    {
     "data": {
      "text/plain": [
       "'example'"
      ]
     },
     "execution_count": 18,
     "metadata": {},
     "output_type": "execute_result"
    }
   ],
   "source": [
    "example.__name__"
   ]
  },
  {
   "cell_type": "code",
   "execution_count": 19,
   "id": "1ba03c26-dcb9-4492-ba70-d0a5bf6d94c7",
   "metadata": {},
   "outputs": [
    {
     "data": {
      "text/plain": [
       "'Docstring'"
      ]
     },
     "execution_count": 19,
     "metadata": {},
     "output_type": "execute_result"
    }
   ],
   "source": [
    "example.__doc__"
   ]
  },
  {
   "cell_type": "code",
   "execution_count": 20,
   "id": "1e5d3355-16d8-477b-803b-bda3063c1b85",
   "metadata": {},
   "outputs": [
    {
     "name": "stdout",
     "output_type": "stream",
     "text": [
      "Calling decorated function\n",
      "Called example function\n"
     ]
    }
   ],
   "source": [
    "example_1()"
   ]
  },
  {
   "cell_type": "code",
   "execution_count": 21,
   "id": "e537c448-74b4-4159-9daa-2b29782d6930",
   "metadata": {},
   "outputs": [
    {
     "data": {
      "text/plain": [
       "'wrapper'"
      ]
     },
     "execution_count": 21,
     "metadata": {},
     "output_type": "execute_result"
    }
   ],
   "source": [
    "example_1.__name__"
   ]
  },
  {
   "cell_type": "code",
   "execution_count": 22,
   "id": "a18d562d-0c62-4673-9e2b-a73e3f11edcd",
   "metadata": {},
   "outputs": [
    {
     "data": {
      "text/plain": [
       "'wrapper docstring'"
      ]
     },
     "execution_count": 22,
     "metadata": {},
     "output_type": "execute_result"
    }
   ],
   "source": [
    "example_1.__doc__"
   ]
  },
  {
   "cell_type": "code",
   "execution_count": null,
   "id": "6ca92a39-d038-4388-96ff-7e8c755e5f20",
   "metadata": {},
   "outputs": [],
   "source": []
  }
 ],
 "metadata": {
  "kernelspec": {
   "display_name": "Python 3 (ipykernel)",
   "language": "python",
   "name": "python3"
  },
  "language_info": {
   "codemirror_mode": {
    "name": "ipython",
    "version": 3
   },
   "file_extension": ".py",
   "mimetype": "text/x-python",
   "name": "python",
   "nbconvert_exporter": "python",
   "pygments_lexer": "ipython3",
   "version": "3.10.4"
  }
 },
 "nbformat": 4,
 "nbformat_minor": 5
}
