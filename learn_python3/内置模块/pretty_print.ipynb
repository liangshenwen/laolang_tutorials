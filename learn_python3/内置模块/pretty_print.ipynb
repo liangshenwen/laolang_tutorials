{
 "cells": [
  {
   "cell_type": "markdown",
   "id": "6d10cf34",
   "metadata": {},
   "source": [
    "https://docs.python.org/zh-cn/3/library/pprint.html\n",
    "\n",
    "pprint 模块提供了“美化打印”任意 Python 数据结构的功能，这种美化形式可用作对解释器的输入。 如果经格式化的结构包含非基本 Python 类型的对象，则其美化形式可能无法被加载。 包含文件、套接字或类对象，以及许多其他不能用 Python 字面值来表示的对象都有可能导致这样的结果。"
   ]
  },
  {
   "cell_type": "code",
   "execution_count": 3,
   "id": "fc03cf43",
   "metadata": {},
   "outputs": [
    {
     "name": "stdout",
     "output_type": "stream",
     "text": [
      "[1, 2, 3, 4, 5, 23, 45]\n"
     ]
    }
   ],
   "source": [
    "from pprint import pprint\n",
    "\n",
    "lst = [1, 2, 3, 4, 5, 23, 45]\n",
    "\n",
    "print(lst)"
   ]
  },
  {
   "cell_type": "code",
   "execution_count": 4,
   "id": "a042a2d3",
   "metadata": {},
   "outputs": [
    {
     "name": "stdout",
     "output_type": "stream",
     "text": [
      "[1, 2, 3, 4, 5, 23, 45]\n"
     ]
    }
   ],
   "source": [
    "pprint(lst)"
   ]
  },
  {
   "cell_type": "code",
   "execution_count": 8,
   "id": "c0e3c97f",
   "metadata": {},
   "outputs": [
    {
     "name": "stdout",
     "output_type": "stream",
     "text": [
      "{'concurrent.futures': <Logger concurrent.futures (WARNING)>, 'concurrent': <logging.PlaceHolder object at 0x0000024BA8ED2830>, 'asyncio': <Logger asyncio (WARNING)>, 'tornado.access': <Logger tornado.access (WARNING)>, 'tornado': <Logger tornado (WARNING)>, 'tornado.application': <Logger tornado.application (WARNING)>, 'tornado.general': <Logger tornado.general (WARNING)>, 'stack_data.serializing': <Logger stack_data.serializing (WARNING)>, 'stack_data': <logging.PlaceHolder object at 0x0000024BAB31D060>, 'prompt_toolkit.buffer': <Logger prompt_toolkit.buffer (WARNING)>, 'prompt_toolkit': <logging.PlaceHolder object at 0x0000024BAB654F40>, 'parso.python.diff': <Logger parso.python.diff (WARNING)>, 'parso.python': <logging.PlaceHolder object at 0x0000024BABB7C160>, 'parso': <logging.PlaceHolder object at 0x0000024BABB7D000>, 'parso.cache': <Logger parso.cache (WARNING)>, 'IPKernelApp': <Logger IPKernelApp (DEBUG)>}\n"
     ]
    }
   ],
   "source": [
    "import logging\n",
    "import asyncio\n",
    "print(logging.Logger.manager.loggerDict)"
   ]
  },
  {
   "cell_type": "code",
   "execution_count": 9,
   "id": "51293c37",
   "metadata": {},
   "outputs": [
    {
     "name": "stdout",
     "output_type": "stream",
     "text": [
      "{'IPKernelApp': <Logger IPKernelApp (DEBUG)>,\n",
      " 'asyncio': <Logger asyncio (WARNING)>,\n",
      " 'concurrent': <logging.PlaceHolder object at 0x0000024BA8ED2830>,\n",
      " 'concurrent.futures': <Logger concurrent.futures (WARNING)>,\n",
      " 'parso': <logging.PlaceHolder object at 0x0000024BABB7D000>,\n",
      " 'parso.cache': <Logger parso.cache (WARNING)>,\n",
      " 'parso.python': <logging.PlaceHolder object at 0x0000024BABB7C160>,\n",
      " 'parso.python.diff': <Logger parso.python.diff (WARNING)>,\n",
      " 'prompt_toolkit': <logging.PlaceHolder object at 0x0000024BAB654F40>,\n",
      " 'prompt_toolkit.buffer': <Logger prompt_toolkit.buffer (WARNING)>,\n",
      " 'stack_data': <logging.PlaceHolder object at 0x0000024BAB31D060>,\n",
      " 'stack_data.serializing': <Logger stack_data.serializing (WARNING)>,\n",
      " 'tornado': <Logger tornado (WARNING)>,\n",
      " 'tornado.access': <Logger tornado.access (WARNING)>,\n",
      " 'tornado.application': <Logger tornado.application (WARNING)>,\n",
      " 'tornado.general': <Logger tornado.general (WARNING)>}\n"
     ]
    }
   ],
   "source": [
    "pprint(logging.Logger.manager.loggerDict)"
   ]
  },
  {
   "cell_type": "code",
   "execution_count": 10,
   "id": "f2c14689",
   "metadata": {},
   "outputs": [
    {
     "name": "stdout",
     "output_type": "stream",
     "text": [
      "Help on function pprint in module pprint:\n",
      "\n",
      "pprint(object, stream=None, indent=1, width=80, depth=None, *, compact=False, sort_dicts=True, underscore_numbers=False)\n",
      "    Pretty-print a Python object to a stream [default is sys.stdout].\n",
      "\n"
     ]
    }
   ],
   "source": [
    "help(pprint)"
   ]
  },
  {
   "cell_type": "code",
   "execution_count": null,
   "id": "e4343a3f",
   "metadata": {},
   "outputs": [],
   "source": []
  }
 ],
 "metadata": {
  "kernelspec": {
   "display_name": "Python 3 (ipykernel)",
   "language": "python",
   "name": "python3"
  },
  "language_info": {
   "codemirror_mode": {
    "name": "ipython",
    "version": 3
   },
   "file_extension": ".py",
   "mimetype": "text/x-python",
   "name": "python",
   "nbconvert_exporter": "python",
   "pygments_lexer": "ipython3",
   "version": "3.10.5"
  }
 },
 "nbformat": 4,
 "nbformat_minor": 5
}
