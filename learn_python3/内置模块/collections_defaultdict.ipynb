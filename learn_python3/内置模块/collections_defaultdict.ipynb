{
 "cells": [
  {
   "cell_type": "markdown",
   "id": "aa8257d6",
   "metadata": {},
   "source": [
    "众所周知，在Python中如果访问字典中不存在的键，会引发KeyError异常（JavaScript中如果对象中不存在某个属性，则返回undefined）。但是有时候，字典中的每个键都存在默认值是非常方便的。例如下面的例子："
   ]
  },
  {
   "cell_type": "code",
   "execution_count": 5,
   "id": "c922c4c7",
   "metadata": {},
   "outputs": [
    {
     "ename": "KeyError",
     "evalue": "'puppy'",
     "output_type": "error",
     "traceback": [
      "\u001b[1;31m---------------------------------------------------------------------------\u001b[0m",
      "\u001b[1;31mKeyError\u001b[0m                                  Traceback (most recent call last)",
      "Input \u001b[1;32mIn [5]\u001b[0m, in \u001b[0;36m<cell line: 5>\u001b[1;34m()\u001b[0m\n\u001b[0;32m      3\u001b[0m counts \u001b[38;5;241m=\u001b[39m {}\n\u001b[0;32m      5\u001b[0m \u001b[38;5;28;01mfor\u001b[39;00m kw \u001b[38;5;129;01min\u001b[39;00m strings:\n\u001b[1;32m----> 6\u001b[0m     counts[kw] \u001b[38;5;241m+\u001b[39m\u001b[38;5;241m=\u001b[39m \u001b[38;5;241m1\u001b[39m\n",
      "\u001b[1;31mKeyError\u001b[0m: 'puppy'"
     ]
    }
   ],
   "source": [
    "strings = ('puppy', 'kitten', 'puppy', 'puppy',\n",
    "           'weasel', 'puppy', 'kitten', 'puppy')\n",
    "counts = {}\n",
    "\n",
    "for kw in strings:\n",
    "    counts[kw] += 1"
   ]
  },
  {
   "cell_type": "markdown",
   "id": "6d0ad8a2",
   "metadata": {},
   "source": [
    "该例子统计strings中某个单词出现的次数，并在counts字典中作记录。单词每出现一次，在counts相对应的键所存的值数字加1。但是事实上，运行这段代码会抛出KeyError异常，出现的时机是每个单词第一次统计的时候，因为Python的dict中不存在默认值的说法，可以在Python命令行中验证："
   ]
  },
  {
   "cell_type": "code",
   "execution_count": 6,
   "id": "63ed3d59",
   "metadata": {},
   "outputs": [
    {
     "ename": "KeyError",
     "evalue": "'puppy'",
     "output_type": "error",
     "traceback": [
      "\u001b[1;31m---------------------------------------------------------------------------\u001b[0m",
      "\u001b[1;31mKeyError\u001b[0m                                  Traceback (most recent call last)",
      "Input \u001b[1;32mIn [6]\u001b[0m, in \u001b[0;36m<cell line: 2>\u001b[1;34m()\u001b[0m\n\u001b[0;32m      1\u001b[0m counts \u001b[38;5;241m=\u001b[39m \u001b[38;5;28mdict\u001b[39m()\n\u001b[1;32m----> 2\u001b[0m counts[\u001b[38;5;124m'\u001b[39m\u001b[38;5;124mpuppy\u001b[39m\u001b[38;5;124m'\u001b[39m] \u001b[38;5;241m+\u001b[39m\u001b[38;5;241m=\u001b[39m \u001b[38;5;241m1\u001b[39m\n",
      "\u001b[1;31mKeyError\u001b[0m: 'puppy'"
     ]
    }
   ],
   "source": [
    "counts = dict()\n",
    "counts['puppy'] += 1"
   ]
  },
  {
   "cell_type": "markdown",
   "id": "0e053e90",
   "metadata": {},
   "source": [
    "# 使用判断语句检查\n",
    "既然如此，首先可能想到的方法是在单词第一次统计的时候，在counts中相应的键存下默认值1。这需要在处理的时候添加一个判断语句："
   ]
  },
  {
   "cell_type": "code",
   "execution_count": 8,
   "id": "328c133a",
   "metadata": {},
   "outputs": [
    {
     "data": {
      "text/plain": [
       "{'puppy': 5, 'kitten': 2, 'weasel': 1}"
      ]
     },
     "execution_count": 8,
     "metadata": {},
     "output_type": "execute_result"
    }
   ],
   "source": [
    "strings = ('puppy', 'kitten', 'puppy', 'puppy',\n",
    "           'weasel', 'puppy', 'kitten', 'puppy')\n",
    "counts = {}\n",
    "\n",
    "for kw in strings:\n",
    "    if kw not in counts:\n",
    "        counts[kw] = 1\n",
    "    else:\n",
    "        counts[kw] += 1\n",
    "\n",
    "counts"
   ]
  },
  {
   "cell_type": "markdown",
   "id": "1629c585",
   "metadata": {},
   "source": [
    "# 使用dict.setdefault()方法\n",
    "也可以通过dict.setdefault()方法来设置默认值："
   ]
  },
  {
   "cell_type": "code",
   "execution_count": 9,
   "id": "c91dac81",
   "metadata": {},
   "outputs": [
    {
     "data": {
      "text/plain": [
       "{'puppy': 5, 'kitten': 2, 'weasel': 1}"
      ]
     },
     "execution_count": 9,
     "metadata": {},
     "output_type": "execute_result"
    }
   ],
   "source": [
    "strings = ('puppy', 'kitten', 'puppy', 'puppy',\n",
    "           'weasel', 'puppy', 'kitten', 'puppy')\n",
    "counts = {}\n",
    "\n",
    "for kw in strings:\n",
    "    counts.setdefault(kw, 0)\n",
    "    counts[kw] += 1\n",
    "counts"
   ]
  },
  {
   "cell_type": "markdown",
   "id": "e5282485",
   "metadata": {},
   "source": [
    "dict.setdefault()方法接收两个参数，第一个参数是健的名称，第二个参数是默认值。假如字典中不存在给定的键，则返回参数中提供的默认值；反之，则返回字典中保存的值。利用dict.setdefault()方法的返回值可以重写for循环中的代码，使其更加简洁："
   ]
  },
  {
   "cell_type": "code",
   "execution_count": 10,
   "id": "e45424d9",
   "metadata": {},
   "outputs": [
    {
     "data": {
      "text/plain": [
       "{'puppy': 5, 'kitten': 2, 'weasel': 1}"
      ]
     },
     "execution_count": 10,
     "metadata": {},
     "output_type": "execute_result"
    }
   ],
   "source": [
    "strings = ('puppy', 'kitten', 'puppy', 'puppy',\n",
    "           'weasel', 'puppy', 'kitten', 'puppy')\n",
    "counts = {}\n",
    "\n",
    "for kw in strings:\n",
    "    counts[kw] = counts.setdefault(kw, 0) + 1\n",
    "counts"
   ]
  },
  {
   "cell_type": "markdown",
   "id": "8e7a4b55",
   "metadata": {},
   "source": [
    "# 使用collections.defaultdict类\n",
    "以上的方法虽然在一定程度上解决了dict中不存在默认值的问题，但是这时候我们会想，有没有一种字典它本身提供了默认值的功能呢？答案是肯定的，那就是collections.defaultdict。\n",
    "\n",
    "defaultdict类就好像是一个dict，但是它是使用一个类型来初始化的："
   ]
  },
  {
   "cell_type": "code",
   "execution_count": 11,
   "id": "8a47c326",
   "metadata": {},
   "outputs": [
    {
     "data": {
      "text/plain": [
       "defaultdict(list, {})"
      ]
     },
     "execution_count": 11,
     "metadata": {},
     "output_type": "execute_result"
    }
   ],
   "source": [
    "from collections import defaultdict\n",
    "dd = defaultdict(list)\n",
    "dd"
   ]
  },
  {
   "cell_type": "markdown",
   "id": "e7b86a13",
   "metadata": {},
   "source": [
    "defaultdict类的初始化函数接受一个类型作为参数，当所访问的键不存在的时候，可以实例化一个值作为默认值："
   ]
  },
  {
   "cell_type": "code",
   "execution_count": 12,
   "id": "74f5aaf3",
   "metadata": {},
   "outputs": [
    {
     "data": {
      "text/plain": [
       "[]"
      ]
     },
     "execution_count": 12,
     "metadata": {},
     "output_type": "execute_result"
    }
   ],
   "source": [
    "dd['foo']"
   ]
  },
  {
   "cell_type": "code",
   "execution_count": 13,
   "id": "150e253c",
   "metadata": {},
   "outputs": [
    {
     "data": {
      "text/plain": [
       "defaultdict(list, {'foo': []})"
      ]
     },
     "execution_count": 13,
     "metadata": {},
     "output_type": "execute_result"
    }
   ],
   "source": [
    "dd"
   ]
  },
  {
   "cell_type": "code",
   "execution_count": 14,
   "id": "e6997ef3",
   "metadata": {},
   "outputs": [],
   "source": [
    "dd['bar'].append('quux')"
   ]
  },
  {
   "cell_type": "code",
   "execution_count": 15,
   "id": "f37324f6",
   "metadata": {},
   "outputs": [
    {
     "data": {
      "text/plain": [
       "defaultdict(list, {'foo': [], 'bar': ['quux']})"
      ]
     },
     "execution_count": 15,
     "metadata": {},
     "output_type": "execute_result"
    }
   ],
   "source": [
    "dd"
   ]
  },
  {
   "cell_type": "markdown",
   "id": "c3569779",
   "metadata": {},
   "source": [
    "需要注意的是，这种形式的默认值只有在通过dict[key]或者dict.__getitem__(key)访问的时候才有效，这其中的原因在下文会介绍。"
   ]
  },
  {
   "cell_type": "code",
   "execution_count": 16,
   "id": "89ed1882",
   "metadata": {},
   "outputs": [
    {
     "data": {
      "text/plain": [
       "defaultdict(list, {})"
      ]
     },
     "execution_count": 16,
     "metadata": {},
     "output_type": "execute_result"
    }
   ],
   "source": [
    "from collections import defaultdict\n",
    "dd = defaultdict(list)\n",
    "dd"
   ]
  },
  {
   "cell_type": "code",
   "execution_count": 17,
   "id": "e429810b",
   "metadata": {},
   "outputs": [
    {
     "data": {
      "text/plain": [
       "False"
      ]
     },
     "execution_count": 17,
     "metadata": {},
     "output_type": "execute_result"
    }
   ],
   "source": [
    "'something' in dd"
   ]
  },
  {
   "cell_type": "code",
   "execution_count": 18,
   "id": "c32ebaef",
   "metadata": {},
   "outputs": [
    {
     "ename": "KeyError",
     "evalue": "'something'",
     "output_type": "error",
     "traceback": [
      "\u001b[1;31m---------------------------------------------------------------------------\u001b[0m",
      "\u001b[1;31mKeyError\u001b[0m                                  Traceback (most recent call last)",
      "Input \u001b[1;32mIn [18]\u001b[0m, in \u001b[0;36m<cell line: 1>\u001b[1;34m()\u001b[0m\n\u001b[1;32m----> 1\u001b[0m \u001b[43mdd\u001b[49m\u001b[38;5;241;43m.\u001b[39;49m\u001b[43mpop\u001b[49m\u001b[43m(\u001b[49m\u001b[38;5;124;43m'\u001b[39;49m\u001b[38;5;124;43msomething\u001b[39;49m\u001b[38;5;124;43m'\u001b[39;49m\u001b[43m)\u001b[49m\n",
      "\u001b[1;31mKeyError\u001b[0m: 'something'"
     ]
    }
   ],
   "source": [
    "dd.pop('something')"
   ]
  },
  {
   "cell_type": "code",
   "execution_count": 19,
   "id": "4d1bd233",
   "metadata": {},
   "outputs": [],
   "source": [
    "dd.get('something')"
   ]
  },
  {
   "cell_type": "code",
   "execution_count": 21,
   "id": "c97f139f",
   "metadata": {},
   "outputs": [
    {
     "data": {
      "text/plain": [
       "[]"
      ]
     },
     "execution_count": 21,
     "metadata": {},
     "output_type": "execute_result"
    }
   ],
   "source": [
    "dd['something']"
   ]
  },
  {
   "cell_type": "markdown",
   "id": "005b6a42",
   "metadata": {},
   "source": [
    "defaultdict类除了接受类型名称作为初始化函数的参数之外，还可以使用任何不带参数的可调用函数，到时该函数的返回结果作为默认值，这样使得默认值的取值更加灵活。下面用一个例子来说明，如何用自定义的不带参数的函数zero()作为defaultdict类的初始化函数的参数："
   ]
  },
  {
   "cell_type": "code",
   "execution_count": 22,
   "id": "dcfb408b",
   "metadata": {},
   "outputs": [
    {
     "data": {
      "text/plain": [
       "defaultdict(<function __main__.zero()>, {})"
      ]
     },
     "execution_count": 22,
     "metadata": {},
     "output_type": "execute_result"
    }
   ],
   "source": [
    "from collections import defaultdict\n",
    "def zero():\n",
    "    return 0\n",
    "\n",
    "dd = defaultdict(zero)\n",
    "dd"
   ]
  },
  {
   "cell_type": "code",
   "execution_count": 23,
   "id": "e192e910",
   "metadata": {},
   "outputs": [
    {
     "data": {
      "text/plain": [
       "0"
      ]
     },
     "execution_count": 23,
     "metadata": {},
     "output_type": "execute_result"
    }
   ],
   "source": [
    "dd['foo']"
   ]
  },
  {
   "cell_type": "code",
   "execution_count": 24,
   "id": "f0243bbb",
   "metadata": {},
   "outputs": [
    {
     "data": {
      "text/plain": [
       "defaultdict(<function __main__.zero()>, {'foo': 0})"
      ]
     },
     "execution_count": 24,
     "metadata": {},
     "output_type": "execute_result"
    }
   ],
   "source": [
    "dd"
   ]
  },
  {
   "cell_type": "markdown",
   "id": "e619d6fe",
   "metadata": {},
   "source": [
    "利用collections.defaultdict来解决最初的单词统计问题，代码如下："
   ]
  },
  {
   "cell_type": "code",
   "execution_count": 25,
   "id": "3218d284",
   "metadata": {},
   "outputs": [
    {
     "data": {
      "text/plain": [
       "defaultdict(<function __main__.<lambda>()>,\n",
       "            {'puppy': 5, 'kitten': 2, 'weasel': 1})"
      ]
     },
     "execution_count": 25,
     "metadata": {},
     "output_type": "execute_result"
    }
   ],
   "source": [
    "from collections import defaultdict\n",
    "\n",
    "strings = ('puppy', 'kitten', 'puppy', 'puppy',\n",
    "           'weasel', 'puppy', 'kitten', 'puppy')\n",
    "counts = defaultdict(lambda: 0)  # 使用lambda来定义简单的函数\n",
    "\n",
    "for s in strings:\n",
    "    counts[s] += 1\n",
    "\n",
    "counts"
   ]
  },
  {
   "cell_type": "markdown",
   "id": "0d9de5aa",
   "metadata": {},
   "source": [
    "# defaultdict类是如何实现的\n",
    "通过上面的内容，想必大家已经了解了defaultdict类的用法，那么在defaultdict类中又是如何来实现默认值的功能呢？这其中的关键是使用了看__missing__()这个方法："
   ]
  },
  {
   "cell_type": "code",
   "execution_count": 28,
   "id": "f703f46c",
   "metadata": {},
   "outputs": [
    {
     "name": "stdout",
     "output_type": "stream",
     "text": [
      "__missing__(key) # Called by __getitem__ for missing key; pseudo-code:\n",
      "  if self.default_factory is None: raise KeyError((key,))\n",
      "  self[key] = value = self.default_factory()\n",
      "  return value\n",
      "\n"
     ]
    }
   ],
   "source": [
    "from collections import defaultdict\n",
    "print(defaultdict.__missing__.__doc__)"
   ]
  },
  {
   "cell_type": "markdown",
   "id": "16ff6bc8",
   "metadata": {},
   "source": [
    "通过查看__missing__()方法的docstring，可以看出当使用__getitem__()方法访问一个不存在的键时(dict[key]这种形式实际上是__getitem__()方法的简化形式)，会调用__missing__()方法获取默认值，并将该键添加到字典中去。\n",
    "\n",
    "关于__missing__()方法的具体介绍可以参考Python官方文档中的\"[Mapping Types — dict](http://docs.python.org/library/stdtypes.html#dict)\"一节。\n",
    "\n",
    "文档中介绍，从2.5版本开始，如果派生自dict的子类定义了__missing__()方法，当访问不存在的键时，dict[key]会调用__missing__()方法取得默认值。\n",
    "\n",
    "从中可以看出，虽然dict支持__missing__()方法，但是在dict本身是不存在这个方法的，而是需要在派生的子类中自行实现这个方法。可以简单的验证这一点："
   ]
  },
  {
   "cell_type": "code",
   "execution_count": 29,
   "id": "aa888b19",
   "metadata": {},
   "outputs": [
    {
     "ename": "AttributeError",
     "evalue": "type object 'dict' has no attribute '__missing__'",
     "output_type": "error",
     "traceback": [
      "\u001b[1;31m---------------------------------------------------------------------------\u001b[0m",
      "\u001b[1;31mAttributeError\u001b[0m                            Traceback (most recent call last)",
      "Input \u001b[1;32mIn [29]\u001b[0m, in \u001b[0;36m<cell line: 1>\u001b[1;34m()\u001b[0m\n\u001b[1;32m----> 1\u001b[0m \u001b[38;5;28mprint\u001b[39m(\u001b[38;5;28;43mdict\u001b[39;49m\u001b[38;5;241;43m.\u001b[39;49m\u001b[38;5;21;43m__missing__\u001b[39;49m\u001b[38;5;241m.\u001b[39m\u001b[38;5;18m__doc__\u001b[39m)\n",
      "\u001b[1;31mAttributeError\u001b[0m: type object 'dict' has no attribute '__missing__'"
     ]
    }
   ],
   "source": [
    "print(dict.__missing__.__doc__)"
   ]
  },
  {
   "cell_type": "markdown",
   "id": "85154580",
   "metadata": {},
   "source": [
    "同时，我们可以进一步的做实验，定义一个子类Missing并实现__missing__()方法:"
   ]
  },
  {
   "cell_type": "code",
   "execution_count": 30,
   "id": "5e29b064",
   "metadata": {},
   "outputs": [],
   "source": [
    "class Missing(dict):\n",
    "    def __missing__(self, key):\n",
    "        return 'missing'"
   ]
  },
  {
   "cell_type": "code",
   "execution_count": 33,
   "id": "249207ce",
   "metadata": {},
   "outputs": [
    {
     "data": {
      "text/plain": [
       "{}"
      ]
     },
     "execution_count": 33,
     "metadata": {},
     "output_type": "execute_result"
    }
   ],
   "source": [
    "d = Missing()\n",
    "d"
   ]
  },
  {
   "cell_type": "code",
   "execution_count": 34,
   "id": "30a34697",
   "metadata": {},
   "outputs": [
    {
     "data": {
      "text/plain": [
       "'missing'"
      ]
     },
     "execution_count": 34,
     "metadata": {},
     "output_type": "execute_result"
    }
   ],
   "source": [
    "d['foo']"
   ]
  },
  {
   "cell_type": "code",
   "execution_count": 35,
   "id": "e80a68f7",
   "metadata": {},
   "outputs": [
    {
     "data": {
      "text/plain": [
       "{}"
      ]
     },
     "execution_count": 35,
     "metadata": {},
     "output_type": "execute_result"
    }
   ],
   "source": [
    "d"
   ]
  },
  {
   "cell_type": "markdown",
   "id": "3a5426ea",
   "metadata": {},
   "source": [
    "返回结果反映了__missing__()方法确实发挥了作用。在此基础上，我们稍许修改__missing__()方法,使得该子类同defautldict类一样为不存在的键设置一个默认值："
   ]
  },
  {
   "cell_type": "code",
   "execution_count": 44,
   "id": "4d5cfb89",
   "metadata": {},
   "outputs": [],
   "source": [
    "class Defaulting(dict):\n",
    "    def __missing__(self, key):\n",
    "        print('__missing__', key)\n",
    "        self[key] = 'default'\n",
    "        return 'default'"
   ]
  },
  {
   "cell_type": "code",
   "execution_count": 45,
   "id": "fb5d979c",
   "metadata": {},
   "outputs": [
    {
     "data": {
      "text/plain": [
       "{}"
      ]
     },
     "execution_count": 45,
     "metadata": {},
     "output_type": "execute_result"
    }
   ],
   "source": [
    "d = Defaulting()\n",
    "d"
   ]
  },
  {
   "cell_type": "code",
   "execution_count": 46,
   "id": "a990fefb",
   "metadata": {},
   "outputs": [
    {
     "name": "stdout",
     "output_type": "stream",
     "text": [
      "__missing__ foo\n"
     ]
    },
    {
     "data": {
      "text/plain": [
       "'default'"
      ]
     },
     "execution_count": 46,
     "metadata": {},
     "output_type": "execute_result"
    }
   ],
   "source": [
    "d['foo']"
   ]
  },
  {
   "cell_type": "code",
   "execution_count": 47,
   "id": "dcee0650",
   "metadata": {},
   "outputs": [
    {
     "data": {
      "text/plain": [
       "{'foo': 'default'}"
      ]
     },
     "execution_count": 47,
     "metadata": {},
     "output_type": "execute_result"
    }
   ],
   "source": [
    "d"
   ]
  },
  {
   "cell_type": "code",
   "execution_count": 48,
   "id": "da091a17",
   "metadata": {},
   "outputs": [
    {
     "data": {
      "text/plain": [
       "'default'"
      ]
     },
     "execution_count": 48,
     "metadata": {},
     "output_type": "execute_result"
    }
   ],
   "source": [
    "d['foo']"
   ]
  },
  {
   "cell_type": "code",
   "execution_count": 49,
   "id": "c4af83af",
   "metadata": {},
   "outputs": [
    {
     "name": "stdout",
     "output_type": "stream",
     "text": [
      "Help on class defaultdict in module collections:\n",
      "\n",
      "class defaultdict(builtins.dict)\n",
      " |  defaultdict(default_factory=None, /, [...]) --> dict with default factory\n",
      " |  \n",
      " |  The default factory is called without arguments to produce\n",
      " |  a new value when a key is not present, in __getitem__ only.\n",
      " |  A defaultdict compares equal to a dict with the same items.\n",
      " |  All remaining arguments are treated the same as if they were\n",
      " |  passed to the dict constructor, including keyword arguments.\n",
      " |  \n",
      " |  Method resolution order:\n",
      " |      defaultdict\n",
      " |      builtins.dict\n",
      " |      builtins.object\n",
      " |  \n",
      " |  Methods defined here:\n",
      " |  \n",
      " |  __copy__(...)\n",
      " |      D.copy() -> a shallow copy of D.\n",
      " |  \n",
      " |  __getattribute__(self, name, /)\n",
      " |      Return getattr(self, name).\n",
      " |  \n",
      " |  __init__(self, /, *args, **kwargs)\n",
      " |      Initialize self.  See help(type(self)) for accurate signature.\n",
      " |  \n",
      " |  __missing__(...)\n",
      " |      __missing__(key) # Called by __getitem__ for missing key; pseudo-code:\n",
      " |      if self.default_factory is None: raise KeyError((key,))\n",
      " |      self[key] = value = self.default_factory()\n",
      " |      return value\n",
      " |  \n",
      " |  __or__(self, value, /)\n",
      " |      Return self|value.\n",
      " |  \n",
      " |  __reduce__(...)\n",
      " |      Return state information for pickling.\n",
      " |  \n",
      " |  __repr__(self, /)\n",
      " |      Return repr(self).\n",
      " |  \n",
      " |  __ror__(self, value, /)\n",
      " |      Return value|self.\n",
      " |  \n",
      " |  copy(...)\n",
      " |      D.copy() -> a shallow copy of D.\n",
      " |  \n",
      " |  ----------------------------------------------------------------------\n",
      " |  Class methods defined here:\n",
      " |  \n",
      " |  __class_getitem__(...) from builtins.type\n",
      " |      See PEP 585\n",
      " |  \n",
      " |  ----------------------------------------------------------------------\n",
      " |  Data descriptors defined here:\n",
      " |  \n",
      " |  default_factory\n",
      " |      Factory for default value called by __missing__().\n",
      " |  \n",
      " |  ----------------------------------------------------------------------\n",
      " |  Methods inherited from builtins.dict:\n",
      " |  \n",
      " |  __contains__(self, key, /)\n",
      " |      True if the dictionary has the specified key, else False.\n",
      " |  \n",
      " |  __delitem__(self, key, /)\n",
      " |      Delete self[key].\n",
      " |  \n",
      " |  __eq__(self, value, /)\n",
      " |      Return self==value.\n",
      " |  \n",
      " |  __ge__(self, value, /)\n",
      " |      Return self>=value.\n",
      " |  \n",
      " |  __getitem__(...)\n",
      " |      x.__getitem__(y) <==> x[y]\n",
      " |  \n",
      " |  __gt__(self, value, /)\n",
      " |      Return self>value.\n",
      " |  \n",
      " |  __ior__(self, value, /)\n",
      " |      Return self|=value.\n",
      " |  \n",
      " |  __iter__(self, /)\n",
      " |      Implement iter(self).\n",
      " |  \n",
      " |  __le__(self, value, /)\n",
      " |      Return self<=value.\n",
      " |  \n",
      " |  __len__(self, /)\n",
      " |      Return len(self).\n",
      " |  \n",
      " |  __lt__(self, value, /)\n",
      " |      Return self<value.\n",
      " |  \n",
      " |  __ne__(self, value, /)\n",
      " |      Return self!=value.\n",
      " |  \n",
      " |  __reversed__(self, /)\n",
      " |      Return a reverse iterator over the dict keys.\n",
      " |  \n",
      " |  __setitem__(self, key, value, /)\n",
      " |      Set self[key] to value.\n",
      " |  \n",
      " |  __sizeof__(...)\n",
      " |      D.__sizeof__() -> size of D in memory, in bytes\n",
      " |  \n",
      " |  clear(...)\n",
      " |      D.clear() -> None.  Remove all items from D.\n",
      " |  \n",
      " |  get(self, key, default=None, /)\n",
      " |      Return the value for key if key is in the dictionary, else default.\n",
      " |  \n",
      " |  items(...)\n",
      " |      D.items() -> a set-like object providing a view on D's items\n",
      " |  \n",
      " |  keys(...)\n",
      " |      D.keys() -> a set-like object providing a view on D's keys\n",
      " |  \n",
      " |  pop(...)\n",
      " |      D.pop(k[,d]) -> v, remove specified key and return the corresponding value.\n",
      " |      \n",
      " |      If the key is not found, return the default if given; otherwise,\n",
      " |      raise a KeyError.\n",
      " |  \n",
      " |  popitem(self, /)\n",
      " |      Remove and return a (key, value) pair as a 2-tuple.\n",
      " |      \n",
      " |      Pairs are returned in LIFO (last-in, first-out) order.\n",
      " |      Raises KeyError if the dict is empty.\n",
      " |  \n",
      " |  setdefault(self, key, default=None, /)\n",
      " |      Insert key with a value of default if key is not in the dictionary.\n",
      " |      \n",
      " |      Return the value for key if key is in the dictionary, else default.\n",
      " |  \n",
      " |  update(...)\n",
      " |      D.update([E, ]**F) -> None.  Update D from dict/iterable E and F.\n",
      " |      If E is present and has a .keys() method, then does:  for k in E: D[k] = E[k]\n",
      " |      If E is present and lacks a .keys() method, then does:  for k, v in E: D[k] = v\n",
      " |      In either case, this is followed by: for k in F:  D[k] = F[k]\n",
      " |  \n",
      " |  values(...)\n",
      " |      D.values() -> an object providing a view on D's values\n",
      " |  \n",
      " |  ----------------------------------------------------------------------\n",
      " |  Class methods inherited from builtins.dict:\n",
      " |  \n",
      " |  fromkeys(iterable, value=None, /) from builtins.type\n",
      " |      Create a new dictionary with keys from iterable and values set to value.\n",
      " |  \n",
      " |  ----------------------------------------------------------------------\n",
      " |  Static methods inherited from builtins.dict:\n",
      " |  \n",
      " |  __new__(*args, **kwargs) from builtins.type\n",
      " |      Create and return a new object.  See help(type) for accurate signature.\n",
      " |  \n",
      " |  ----------------------------------------------------------------------\n",
      " |  Data and other attributes inherited from builtins.dict:\n",
      " |  \n",
      " |  __hash__ = None\n",
      "\n"
     ]
    }
   ],
   "source": [
    "help(defaultdict)"
   ]
  },
  {
   "cell_type": "code",
   "execution_count": null,
   "id": "487f39fb",
   "metadata": {},
   "outputs": [],
   "source": []
  }
 ],
 "metadata": {
  "kernelspec": {
   "display_name": "Python 3 (ipykernel)",
   "language": "python",
   "name": "python3"
  },
  "language_info": {
   "codemirror_mode": {
    "name": "ipython",
    "version": 3
   },
   "file_extension": ".py",
   "mimetype": "text/x-python",
   "name": "python",
   "nbconvert_exporter": "python",
   "pygments_lexer": "ipython3",
   "version": "3.10.4"
  }
 },
 "nbformat": 4,
 "nbformat_minor": 5
}
