{
 "cells": [
  {
   "cell_type": "markdown",
   "id": "c8b259c1-ab8a-4b1d-a34d-52d36d06b810",
   "metadata": {},
   "source": [
    "https://docs.python.org/zh-cn/3/library/__main__.html\n",
    "\n",
    "In Python, the special name `__main__` is used for two important constructs:\n",
    "\n",
    "the name of the top-level environment of the program, which can be checked using the `__name__ == '__main__'` expression; and\n",
    "\n",
    "the `__main__.py` file in Python packages.\n",
    "\n",
    "Both of these mechanisms are related to Python modules; how users interact with them and how they interact with each other. They are explained in detail below. If you're new to Python modules, see the tutorial section [模块](https://docs.python.org/zh-cn/3/tutorial/modules.html#tut-modules) for an introduction."
   ]
  },
  {
   "cell_type": "markdown",
   "id": "74597edc-0315-4ab3-b6a7-c6a6dca57e22",
   "metadata": {},
   "source": [
    "# __name__ == '__main__'\n",
    "\n",
    "When a Python module or package is imported, `__name__` is set to the module's name. Usually, this is the name of the Python file itself without the `.py` extension:"
   ]
  },
  {
   "cell_type": "code",
   "execution_count": 1,
   "id": "20188e99-8776-4f4b-9588-ad34a3aa8344",
   "metadata": {},
   "outputs": [
    {
     "data": {
      "text/plain": [
       "'configparser'"
      ]
     },
     "execution_count": 1,
     "metadata": {},
     "output_type": "execute_result"
    }
   ],
   "source": [
    "import configparser\n",
    "configparser.__name__"
   ]
  },
  {
   "cell_type": "markdown",
   "id": "fc1ef050-e207-4fac-bb88-f32db1d5938a",
   "metadata": {},
   "source": [
    "If the file is part of a package, `__name__` will also include the parent package's path:"
   ]
  },
  {
   "cell_type": "code",
   "execution_count": 2,
   "id": "a0a6bcb8-99c3-4db6-a079-0566cbec6a12",
   "metadata": {},
   "outputs": [
    {
     "data": {
      "text/plain": [
       "'concurrent.futures.process'"
      ]
     },
     "execution_count": 2,
     "metadata": {},
     "output_type": "execute_result"
    }
   ],
   "source": [
    "from concurrent.futures import process\n",
    "process.__name__"
   ]
  },
  {
   "cell_type": "code",
   "execution_count": 4,
   "id": "045d0472-d2cc-45a4-8491-0c125c577dd5",
   "metadata": {},
   "outputs": [
    {
     "data": {
      "text/plain": [
       "'concurrent.futures'"
      ]
     },
     "execution_count": 4,
     "metadata": {},
     "output_type": "execute_result"
    }
   ],
   "source": [
    "import concurrent.futures\n",
    "concurrent.futures.__name__"
   ]
  },
  {
   "cell_type": "markdown",
   "id": "b645001b-6193-4ba1-b34e-7ba9a68a8d1b",
   "metadata": {},
   "source": [
    "However, if the module is executed in the top-level code environment, its `__name__` is set to the string '`__main__`'."
   ]
  },
  {
   "cell_type": "markdown",
   "id": "9f0d0825-508c-48b1-997a-4f5b01d7b1d9",
   "metadata": {},
   "source": [
    "# What is the \"top-level code environment\"?\n",
    "`__main__` is the name of the environment where top-level code is run. \"Top-level code\" is the first user-specified Python module that starts running. It's \"top-level\" because it imports all other modules that the program needs. Sometimes \"top-level code\" is called an entry point to the application.\n",
    "\n",
    "The top-level code environment can be:"
   ]
  },
  {
   "cell_type": "markdown",
   "id": "7814831b-4fbf-4c23-b400-63b6be27421f",
   "metadata": {},
   "source": [
    "- the scope of an interactive prompt:"
   ]
  },
  {
   "cell_type": "code",
   "execution_count": 7,
   "id": "0432d803-d0fe-4c80-8627-16f811e71820",
   "metadata": {},
   "outputs": [
    {
     "data": {
      "text/plain": [
       "'__main__'"
      ]
     },
     "execution_count": 7,
     "metadata": {},
     "output_type": "execute_result"
    }
   ],
   "source": [
    "__name__"
   ]
  },
  {
   "cell_type": "markdown",
   "id": "0726ac7d-3c9c-4619-a46c-ecf84bc56d3b",
   "metadata": {},
   "source": [
    "- the Python module passed to the Python interpreter as a file argument:"
   ]
  },
  {
   "cell_type": "code",
   "execution_count": 12,
   "id": "2cc61748-d4ee-4b96-8ff6-905d1ffe0217",
   "metadata": {},
   "outputs": [
    {
     "name": "stdout",
     "output_type": "stream",
     "text": [
      "enter helloworld module\n",
      "Say Hello World\n"
     ]
    }
   ],
   "source": [
    "!python helloworld.py"
   ]
  },
  {
   "cell_type": "markdown",
   "id": "7c8e46c8-bd79-4246-8159-22ca0e310d23",
   "metadata": {},
   "source": [
    "- the Python module or package passed to the Python interpreter with the -m argument:"
   ]
  },
  {
   "cell_type": "code",
   "execution_count": 13,
   "id": "268f255a-3a03-4bb6-ac08-b04a31d4084e",
   "metadata": {},
   "outputs": [
    {
     "name": "stdout",
     "output_type": "stream",
     "text": [
      "enter helloworld module\n",
      "Say Hello World\n"
     ]
    }
   ],
   "source": [
    "!python -m helloworld"
   ]
  },
  {
   "cell_type": "code",
   "execution_count": 14,
   "id": "6dc4c069-be15-47e3-ab7f-bdddee3199f6",
   "metadata": {},
   "outputs": [
    {
     "name": "stdout",
     "output_type": "stream",
     "text": [
      "enter helloworld module\n"
     ]
    }
   ],
   "source": [
    "import helloworld"
   ]
  },
  {
   "cell_type": "code",
   "execution_count": 15,
   "id": "da63fc1f-ac92-4c0c-96fb-aa0c0a05bbb5",
   "metadata": {},
   "outputs": [
    {
     "name": "stderr",
     "output_type": "stream",
     "text": [
      "usage: tarfile.py [-h] [-v]\n",
      "                  (-l <tarfile> | -e <tarfile> [<output_dir> ...] | -c <name> [<file> ...] | -t <tarfile>)\n",
      "tarfile.py: error: one of the arguments -l/--list -e/--extract -c/--create -t/--test is required\n"
     ]
    }
   ],
   "source": [
    "!python -m tarfile"
   ]
  },
  {
   "cell_type": "markdown",
   "id": "dd16aae6-0b3b-43f6-bfb3-7a1ef2f7ae03",
   "metadata": {},
   "source": [
    "- Python code read by the Python interpreter from standard input:"
   ]
  },
  {
   "cell_type": "code",
   "execution_count": 21,
   "id": "3c2bd2c9-54f1-415b-9ae7-38138fadf8a4",
   "metadata": {},
   "outputs": [],
   "source": [
    "# run in linux\n",
    "! echo \"import this\" | python"
   ]
  },
  {
   "cell_type": "markdown",
   "id": "620e6134-b287-49e7-92cc-66c7df8b5c5a",
   "metadata": {},
   "source": [
    "- Python code passed to the Python interpreter with the -c argument:"
   ]
  },
  {
   "cell_type": "code",
   "execution_count": 19,
   "id": "a0b48faa-00ee-41b6-a7c6-61555b15cc71",
   "metadata": {},
   "outputs": [
    {
     "name": "stdout",
     "output_type": "stream",
     "text": [
      "The Zen of Python, by Tim Peters\n",
      "\n",
      "Beautiful is better than ugly.\n",
      "Explicit is better than implicit.\n",
      "Simple is better than complex.\n",
      "Complex is better than complicated.\n",
      "Flat is better than nested.\n",
      "Sparse is better than dense.\n",
      "Readability counts.\n",
      "Special cases aren't special enough to break the rules.\n",
      "Although practicality beats purity.\n",
      "Errors should never pass silently.\n",
      "Unless explicitly silenced.\n",
      "In the face of ambiguity, refuse the temptation to guess.\n",
      "There should be one-- and preferably only one --obvious way to do it.\n",
      "Although that way may not be obvious at first unless you're Dutch.\n",
      "Now is better than never.\n",
      "Although never is often better than *right* now.\n",
      "If the implementation is hard to explain, it's a bad idea.\n",
      "If the implementation is easy to explain, it may be a good idea.\n",
      "Namespaces are one honking great idea -- let's do more of those!\n"
     ]
    }
   ],
   "source": [
    "!python -c \"import this\""
   ]
  },
  {
   "cell_type": "markdown",
   "id": "3bf06839-20e9-433b-b1f5-94be5c931eb5",
   "metadata": {},
   "source": [
    "In each of these situations, the top-level module's `__name__` is set to '`__main__`'.\n",
    "\n",
    "As a result, a module can discover whether or not it is running in the top-level environment by checking its own `__name_`_, which allows a common idiom for conditionally executing code when the module is not initialized from an import statement:\n",
    "\n",
    "```\n",
    "if __name__ == '__main__':\n",
    "    # Execute when the module is not initialized from an import statement.\n",
    "    ...\n",
    "```"
   ]
  },
  {
   "cell_type": "markdown",
   "id": "46920f00-2669-4530-b6fc-dff5258208b5",
   "metadata": {},
   "source": [
    "# __main__.py in Python Packages"
   ]
  },
  {
   "cell_type": "code",
   "execution_count": 26,
   "id": "fc13d617-edab-4726-92e5-8fa3da5966ce",
   "metadata": {},
   "outputs": [
    {
     "name": "stdout",
     "output_type": "stream",
     "text": [
      "'C:\\my_python_world\\Python310\\lib\\site-packages\\ipykernel_launcher.py' -f 'C:\\Users\\sliang\\AppData\\Roaming\\jupyter\\runtime\\kernel-118fb837-9899-4900-91b8-05e88bfb51ba.json'\n"
     ]
    },
    {
     "data": {
      "text/plain": [
       "0"
      ]
     },
     "execution_count": 26,
     "metadata": {},
     "output_type": "execute_result"
    }
   ],
   "source": [
    "import echo\n",
    "echo.main()"
   ]
  },
  {
   "cell_type": "code",
   "execution_count": 27,
   "id": "6b14c7a5-04ea-408d-8ebb-683a882eb264",
   "metadata": {},
   "outputs": [
    {
     "name": "stdout",
     "output_type": "stream",
     "text": [
      "start echo\n",
      "./echo.py\n"
     ]
    }
   ],
   "source": [
    "! python ./echo.py"
   ]
  },
  {
   "cell_type": "code",
   "execution_count": 28,
   "id": "2acdbf62-4bdc-431f-a040-3150d7c4923f",
   "metadata": {},
   "outputs": [
    {
     "name": "stdout",
     "output_type": "stream",
     "text": [
      "__init__\n"
     ]
    }
   ],
   "source": [
    "import bandclass"
   ]
  },
  {
   "cell_type": "code",
   "execution_count": 35,
   "id": "882bbaa4-2f18-435b-9f97-a5c2537d483d",
   "metadata": {},
   "outputs": [
    {
     "name": "stdout",
     "output_type": "stream",
     "text": [
      "__init__\n",
      "search  Samon\n",
      "Found student: Samon\n"
     ]
    }
   ],
   "source": [
    "!python -m bandclass Samon"
   ]
  },
  {
   "cell_type": "markdown",
   "id": "24fa8f18-a608-4264-99db-97056de9bd17",
   "metadata": {},
   "source": [
    "# import `__main__`\n",
    "Regardless of which module a Python program was started with, other modules running within that same program can import the top-level environment's scope (namespace) by importing the `__main__` module. This doesn't import a `__main__.py` file but rather whichever module that received the special name '`__main__`'."
   ]
  },
  {
   "cell_type": "code",
   "execution_count": 38,
   "id": "f361c61d-9dc9-4116-9157-8e0b114ad400",
   "metadata": {},
   "outputs": [
    {
     "name": "stderr",
     "output_type": "stream",
     "text": [
      "Define the variable `my_name`!\n"
     ]
    }
   ],
   "source": [
    "! python ./bandclass/start.py"
   ]
  },
  {
   "cell_type": "markdown",
   "id": "feaf738f-6cab-4069-82fe-29de49889629",
   "metadata": {},
   "source": [
    "The exit code of the program would be 1, indicating an error. Uncommenting the line with my_name = \"Dinsdale\" fixes the program and now it exits with status code 0, indicating success:"
   ]
  },
  {
   "cell_type": "code",
   "execution_count": 39,
   "id": "12454e37-ec89-439f-ba3d-989a458ca16e",
   "metadata": {},
   "outputs": [
    {
     "name": "stdout",
     "output_type": "stream",
     "text": [
      "Dinsdale found in file C:\\Users\\sliang\\development\\github\\laolang_tutorials\\learn_python3\\内置模块\\bandclass\\start.py\n"
     ]
    }
   ],
   "source": [
    "! python ./bandclass/start.py"
   ]
  },
  {
   "cell_type": "code",
   "execution_count": null,
   "id": "55cd0c2b-25ee-4e7a-829e-5b7d106e7824",
   "metadata": {},
   "outputs": [],
   "source": []
  }
 ],
 "metadata": {
  "kernelspec": {
   "display_name": "Python 3 (ipykernel)",
   "language": "python",
   "name": "python3"
  },
  "language_info": {
   "codemirror_mode": {
    "name": "ipython",
    "version": 3
   },
   "file_extension": ".py",
   "mimetype": "text/x-python",
   "name": "python",
   "nbconvert_exporter": "python",
   "pygments_lexer": "ipython3",
   "version": "3.10.4"
  }
 },
 "nbformat": 4,
 "nbformat_minor": 5
}
