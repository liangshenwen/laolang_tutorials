{
 "cells": [
  {
   "cell_type": "markdown",
   "id": "f1c31439-9eb7-4317-b176-8fe75515f76c",
   "metadata": {},
   "source": [
    "https://docs.python.org/zh-cn/3/library/collections.html#counter-objects\n",
    "\n",
    "一个计数器工具提供快速和方便的计数。"
   ]
  },
  {
   "cell_type": "code",
   "execution_count": 2,
   "id": "ee139a26-3b0e-4106-b3b8-002abfaceb06",
   "metadata": {},
   "outputs": [
    {
     "data": {
      "text/plain": [
       "Counter({'red': 2, 'blue': 3, 'green': 1})"
      ]
     },
     "execution_count": 2,
     "metadata": {},
     "output_type": "execute_result"
    }
   ],
   "source": [
    "from collections import Counter\n",
    "cnt = Counter()\n",
    "for word in ['red', 'blue', 'red', 'green', 'blue', 'blue']:\n",
    "    cnt[word] += 1\n",
    "cnt"
   ]
  },
  {
   "cell_type": "code",
   "execution_count": 3,
   "id": "72ba7943-6ff9-4527-baa1-fcf94c0599f2",
   "metadata": {},
   "outputs": [
    {
     "data": {
      "text/plain": [
       "Counter({'red': 2, 'blue': 3, 'green': 1})"
      ]
     },
     "execution_count": 3,
     "metadata": {},
     "output_type": "execute_result"
    }
   ],
   "source": [
    "from collections import Counter\n",
    "cnt = Counter(['red', 'blue', 'red', 'green', 'blue', 'blue'])\n",
    "cnt"
   ]
  },
  {
   "cell_type": "code",
   "execution_count": 5,
   "id": "615a4793-1d54-4c7f-971b-1dd4e1ce250b",
   "metadata": {},
   "outputs": [
    {
     "data": {
      "text/plain": [
       "[('一个', 1),\n",
       " ('counter', 1),\n",
       " ('是一个', 1),\n",
       " ('dict', 1),\n",
       " ('的子类', 1),\n",
       " ('用于计数可哈希对象', 1),\n",
       " ('它是一个集合', 1),\n",
       " ('元素像字典键', 1),\n",
       " ('key', 1),\n",
       " ('一样存储', 1)]"
      ]
     },
     "execution_count": 5,
     "metadata": {},
     "output_type": "execute_result"
    }
   ],
   "source": [
    "import re\n",
    "words = re.findall(r'\\w+', open('hamlet.txt', encoding='UTF-8').read().lower())\n",
    "Counter(words).most_common(10)"
   ]
  },
  {
   "cell_type": "code",
   "execution_count": 6,
   "id": "5751a385-27eb-4aca-9566-7efa6c11cee6",
   "metadata": {},
   "outputs": [
    {
     "data": {
      "text/plain": [
       "Counter({'g': 1, 'a': 3, 'l': 2, 'h': 1, 'd': 1})"
      ]
     },
     "execution_count": 6,
     "metadata": {},
     "output_type": "execute_result"
    }
   ],
   "source": [
    "Counter('gallahad')                 # a new counter from an iterable"
   ]
  },
  {
   "cell_type": "code",
   "execution_count": 7,
   "id": "53e90a11-3a9e-4d4f-9c2a-d8613c4eed87",
   "metadata": {},
   "outputs": [
    {
     "data": {
      "text/plain": [
       "Counter({'red': 4, 'blue': 2})"
      ]
     },
     "execution_count": 7,
     "metadata": {},
     "output_type": "execute_result"
    }
   ],
   "source": [
    "Counter({'red': 4, 'blue': 2})      # a new counter from a mapping"
   ]
  },
  {
   "cell_type": "code",
   "execution_count": 8,
   "id": "e182c1a2-a1e8-4e46-b54a-ae3bb412e538",
   "metadata": {},
   "outputs": [
    {
     "data": {
      "text/plain": [
       "Counter({'cats': 4, 'dogs': 8})"
      ]
     },
     "execution_count": 8,
     "metadata": {},
     "output_type": "execute_result"
    }
   ],
   "source": [
    "Counter(cats=4, dogs=8)             # a new counter from keyword args"
   ]
  },
  {
   "cell_type": "code",
   "execution_count": 9,
   "id": "e7c1c2da-8831-405e-83e5-3c8845b5623b",
   "metadata": {},
   "outputs": [
    {
     "data": {
      "text/plain": [
       "0"
      ]
     },
     "execution_count": 9,
     "metadata": {},
     "output_type": "execute_result"
    }
   ],
   "source": [
    "# Counter对象有一个字典接口，如果引用的键没有任何记录，就返回一个0，而不是弹出一个 KeyError :\n",
    "c = Counter(['eggs', 'ham'])\n",
    "c['bacon']                              # count of a missing element is zero"
   ]
  },
  {
   "cell_type": "code",
   "execution_count": 10,
   "id": "4f99543b-b435-4e2e-9001-faf090990889",
   "metadata": {},
   "outputs": [
    {
     "data": {
      "text/plain": [
       "Counter({'a': 3, 'b': 0, 'c': -3, 'd': -6})"
      ]
     },
     "execution_count": 10,
     "metadata": {},
     "output_type": "execute_result"
    }
   ],
   "source": [
    "c = Counter(a=4, b=2, c=0, d=-2)\n",
    "d = Counter(a=1, b=2, c=3, d=4)\n",
    "c.subtract(d)\n",
    "c\n"
   ]
  },
  {
   "cell_type": "code",
   "execution_count": null,
   "id": "c6f37bde-2010-428b-bafd-a4298110641a",
   "metadata": {},
   "outputs": [],
   "source": []
  }
 ],
 "metadata": {
  "kernelspec": {
   "display_name": "Python 3 (ipykernel)",
   "language": "python",
   "name": "python3"
  },
  "language_info": {
   "codemirror_mode": {
    "name": "ipython",
    "version": 3
   },
   "file_extension": ".py",
   "mimetype": "text/x-python",
   "name": "python",
   "nbconvert_exporter": "python",
   "pygments_lexer": "ipython3",
   "version": "3.10.5"
  }
 },
 "nbformat": 4,
 "nbformat_minor": 5
}
