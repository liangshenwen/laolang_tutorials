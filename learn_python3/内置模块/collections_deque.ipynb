{
 "cells": [
  {
   "cell_type": "markdown",
   "id": "e7dcc4f2-e4a9-4c34-bd1c-6d6950cf1a30",
   "metadata": {},
   "source": [
    "https://docs.python.org/zh-cn/3/library/collections.html#deque-objects  \n",
    "\n",
    "Deque队列是由栈或者queue队列生成的（发音是 “deck”，”double-ended queue”的简称）。Deque 支持线程安全，内存高效添加(append)和弹出(pop)，从两端都可以，两个方向的大概开销都是 O(1) 复杂度。"
   ]
  },
  {
   "cell_type": "code",
   "execution_count": 2,
   "id": "71815a88-afd8-442b-83c4-04e1a2758854",
   "metadata": {},
   "outputs": [
    {
     "name": "stdout",
     "output_type": "stream",
     "text": [
      "deque(['g', 'h', 'i'])\n",
      "G\n",
      "H\n",
      "I\n",
      "deque(['f', 'g', 'h', 'i', 'j'])\n",
      "j\n",
      "f\n",
      "['g', 'h', 'i']\n",
      "g\n",
      "i\n",
      "True\n",
      "deque(['g', 'h', 'i', 'j', 'k', 'l'])\n",
      "deque(['l', 'g', 'h', 'i', 'j', 'k'])\n",
      "deque(['g', 'h', 'i', 'j', 'k', 'l'])\n",
      "deque(['l', 'k', 'j', 'i', 'h', 'g'])\n",
      "pop from an empty deque\n",
      "deque(['c', 'b', 'a'])\n"
     ]
    }
   ],
   "source": [
    "from collections import deque\n",
    "d = deque('ghi')                 # make a new deque with three items\n",
    "print(d)\n",
    "for elem in d:                   # iterate over the deque's elements\n",
    "    print(elem.upper())\n",
    "\n",
    "\n",
    "\n",
    "\n",
    "d.append('j')                    # add a new entry to the right side\n",
    "d.appendleft('f')                # add a new entry to the left side\n",
    "print(d)                                # show the representation of the deque\n",
    "\n",
    "\n",
    "print(d.pop())                          # return and remove the rightmost item\n",
    "\n",
    "print(d.popleft())                      # return and remove the leftmost item\n",
    "\n",
    "print(list(d))                          # list the contents of the deque\n",
    "\n",
    "print(d[0])                             # peek at leftmost item\n",
    "\n",
    "print(d[-1])                            # peek at rightmost item\n",
    "\n",
    "\n",
    "list(reversed(d))                # list the contents of a deque in reverse\n",
    "\n",
    "print('h' in d)                         # search the deque\n",
    "\n",
    "d.extend('jkl')                  # add multiple elements at once\n",
    "print(d)\n",
    "\n",
    "d.rotate(1)                      # right rotation\n",
    "print(d)\n",
    "\n",
    "d.rotate(-1)                     # left rotation\n",
    "print(d)\n",
    "\n",
    "\n",
    "print(deque(reversed(d)))               # make a new deque in reverse order\n",
    "\n",
    "d.clear()                        # empty the deque\n",
    "try:\n",
    "    d.pop()                          # cannot pop from an empty deque\n",
    "except IndexError as e:\n",
    "    print(e)\n",
    "\n",
    "         \n",
    "        \n",
    "\n",
    "\n",
    "d.extendleft('abc')              # extendleft() reverses the input order\n",
    "print(d)"
   ]
  },
  {
   "cell_type": "code",
   "execution_count": 3,
   "id": "75f5d254-55e4-437c-a411-0db47a4d01c6",
   "metadata": {},
   "outputs": [
    {
     "data": {
      "text/plain": [
       "deque(['e\\n', 'f\\n', 'g\\n', 'h\\n', 'i\\n', 'j\\n', 'k\\n', 'l\\n', 'm\\n', 'n'])"
      ]
     },
     "execution_count": 3,
     "metadata": {},
     "output_type": "execute_result"
    }
   ],
   "source": [
    "# 限长deque提供了类似Unix tail 过滤功能\n",
    "\n",
    "def tail(filename, n=10):\n",
    "    'Return the last n lines of a file'\n",
    "    with open(filename) as f:\n",
    "        return deque(f, n)\n",
    "    \n",
    "tail('tail_test.txt', n = 10)"
   ]
  },
  {
   "cell_type": "markdown",
   "id": "21b3aed1-e43c-4ed8-9397-7cdff3456710",
   "metadata": {},
   "source": [
    "移动平均(Moving Average)  ：\n",
    "\n",
    "https://www.investopedia.com/terms/m/movingaverage.asp\n",
    "\n",
    "https://zhuanlan.zhihu.com/p/151786842"
   ]
  },
  {
   "cell_type": "code",
   "execution_count": 6,
   "id": "44b43c1b-b733-4a55-b17c-1658b71848bb",
   "metadata": {},
   "outputs": [
    {
     "data": {
      "text/plain": [
       "[40.0, 42.0, 45.0, 43.0]"
      ]
     },
     "execution_count": 6,
     "metadata": {},
     "output_type": "execute_result"
    }
   ],
   "source": [
    "import itertools\n",
    "# 维护一个近期添加元素的序列，通过从右边添加和从左边弹出\n",
    "def moving_average(iterable, n=3):\n",
    "    # moving_average([40, 30, 50, 46, 39, 44]) --> 40.0 42.0 45.0 43.0\n",
    "    # https://en.wikipedia.org/wiki/Moving_average\n",
    "    it = iter(iterable)\n",
    "    d = deque(itertools.islice(it, n-1))\n",
    "    d.appendleft(0)\n",
    "    s = sum(d)\n",
    "    for elem in it:\n",
    "        s += elem - d.popleft()\n",
    "        d.append(elem)\n",
    "        yield s / n\n",
    "        \n",
    "list(moving_average([40, 30, 50, 46, 39, 44]))"
   ]
  },
  {
   "cell_type": "code",
   "execution_count": 8,
   "id": "390e588a-016f-4356-b7fd-5491e5154d10",
   "metadata": {},
   "outputs": [
    {
     "data": {
      "text/plain": [
       "['A', 'D', 'E', 'B', 'F', 'C']"
      ]
     },
     "execution_count": 8,
     "metadata": {},
     "output_type": "execute_result"
    }
   ],
   "source": [
    "# 一个 轮询调度器 可以通过在 deque 中放入迭代器来实现。值从当前迭代器的位置0被取出并暂存(yield)。 如果这个迭代器消耗完毕，就用 popleft() 将其从对列中移去；\n",
    "# 否则，就通过 rotate() 将它移到队列的末尾\n",
    "def roundrobin(*iterables):\n",
    "    \"roundrobin('ABC', 'D', 'EF') --> A D E B F C\"\n",
    "    iterators = deque(map(iter, iterables))\n",
    "    while iterators:\n",
    "        try:\n",
    "            while True:\n",
    "                yield next(iterators[0])\n",
    "                iterators.rotate(-1)\n",
    "        except StopIteration:\n",
    "            # Remove an exhausted iterator.\n",
    "            iterators.popleft()\n",
    "list(roundrobin('ABC', 'D', 'EF'))"
   ]
  },
  {
   "cell_type": "code",
   "execution_count": 14,
   "id": "9f2faf55-3dc3-4b10-8c91-1874072a285e",
   "metadata": {},
   "outputs": [],
   "source": [
    "# help(itertools.islice)"
   ]
  },
  {
   "cell_type": "code",
   "execution_count": 19,
   "id": "2b2ff0ff-0ae6-4ccf-b547-2e4e7cc238e7",
   "metadata": {},
   "outputs": [
    {
     "name": "stdout",
     "output_type": "stream",
     "text": [
      "deque([1, 2, 3, 4, 5, 6, 7, 8, 9, 10])\n",
      "deque([4, 5, 6, 7, 8, 9, 10, 1, 2, 3])\n",
      "deque([5, 6, 7, 8, 9, 10, 1, 2, 3])\n",
      "deque([1, 2, 3, 5, 6, 7, 8, 9, 10])\n"
     ]
    }
   ],
   "source": [
    "# rotate() 方法提供了一种方式来实现 deque 切片和删除。 例如， 一个纯的Python del d[n] 实现依赖于 rotate() 来定位要弹出的元素\n",
    "\n",
    "def delete_nth(d, n):\n",
    "    print(d)\n",
    "    d.rotate(-n)\n",
    "    print(d)\n",
    "    d.popleft()\n",
    "    print(d)\n",
    "    d.rotate(n)\n",
    "    print(d)\n",
    "    \n",
    "\n",
    "d = deque([1, 2, 3, 4, 5, 6, 7, 8, 9, 10])\n",
    "delete_nth(d, 3)"
   ]
  },
  {
   "cell_type": "code",
   "execution_count": null,
   "id": "4688abbb-122b-498f-9b9d-fa73460178cd",
   "metadata": {},
   "outputs": [],
   "source": []
  }
 ],
 "metadata": {
  "kernelspec": {
   "display_name": "Python 3 (ipykernel)",
   "language": "python",
   "name": "python3"
  },
  "language_info": {
   "codemirror_mode": {
    "name": "ipython",
    "version": 3
   },
   "file_extension": ".py",
   "mimetype": "text/x-python",
   "name": "python",
   "nbconvert_exporter": "python",
   "pygments_lexer": "ipython3",
   "version": "3.10.5"
  }
 },
 "nbformat": 4,
 "nbformat_minor": 5
}
