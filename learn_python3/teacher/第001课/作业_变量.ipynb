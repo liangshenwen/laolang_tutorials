{
 "cells": [
  {
   "cell_type": "markdown",
   "id": "42c23678-016a-4ff7-92d5-6d3ab6bb707f",
   "metadata": {},
   "source": [
    "# 作业\n",
    "\n",
    "用变量来描述学生的基本信息（比如姓名，年龄，性别，身高，体重，是否近视），然后把它们打印到屏幕上。"
   ]
  },
  {
   "cell_type": "code",
   "execution_count": 7,
   "id": "df224c2d-b2f2-4cbe-b63e-2b8e5acae8c5",
   "metadata": {},
   "outputs": [
    {
     "name": "stdout",
     "output_type": "stream",
     "text": [
      "姓名: 王小二\n",
      "年龄: 14\n",
      "性别: 男\n",
      "身高: 175.5 cm\n",
      "体重: 65 kg\n",
      "是否近视: False\n",
      "是否近视: False\n"
     ]
    }
   ],
   "source": [
    "stu_name = '王小二'  # 姓名\n",
    "stu_age = 14  # 年龄\n",
    "stu_sex = '男'\n",
    "stu_height = 175.5  # 身高\n",
    "stu_weight = 65  # 体重\n",
    "stu_is_myopia = False  # 是否近视\n",
    "stu_is_jinshi = False  # 是佛近视\n",
    "\n",
    "print('姓名:', stu_name)\n",
    "print('年龄:', stu_age)\n",
    "print('性别:', stu_sex)\n",
    "print('身高:', stu_height, 'cm')\n",
    "print('体重:', stu_weight, 'kg')\n",
    "print('是否近视:', stu_is_myopia)\n",
    "print('是否近视:', stu_is_jinshi)"
   ]
  },
  {
   "cell_type": "code",
   "execution_count": null,
   "id": "f4a976fb-3b85-4447-bb42-28927bc22c2f",
   "metadata": {},
   "outputs": [],
   "source": []
  },
  {
   "cell_type": "code",
   "execution_count": null,
   "id": "fcf65a25-12fc-4d32-8f70-d49110a96da4",
   "metadata": {},
   "outputs": [],
   "source": []
  }
 ],
 "metadata": {
  "kernelspec": {
   "display_name": "Python 3 (ipykernel)",
   "language": "python",
   "name": "python3"
  },
  "language_info": {
   "codemirror_mode": {
    "name": "ipython",
    "version": 3
   },
   "file_extension": ".py",
   "mimetype": "text/x-python",
   "name": "python",
   "nbconvert_exporter": "python",
   "pygments_lexer": "ipython3",
   "version": "3.10.4"
  }
 },
 "nbformat": 4,
 "nbformat_minor": 5
}
