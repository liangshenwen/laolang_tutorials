{
 "cells": [
  {
   "cell_type": "markdown",
   "id": "e34b03ae-6ae2-4975-be3f-29416eca96f0",
   "metadata": {},
   "source": [
    "# 链式比较"
   ]
  },
  {
   "cell_type": "code",
   "execution_count": 1,
   "id": "23efd369-f16e-4cca-860e-dba98845977a",
   "metadata": {},
   "outputs": [
    {
     "name": "stdout",
     "output_type": "stream",
     "text": [
      "True\n"
     ]
    }
   ],
   "source": [
    "a = 1\n",
    "b = 2\n",
    "# 判断a大于0，a和b小于3，并且a小于b\n",
    "# 普通比较\n",
    "print(a > 0 and a < 3 and b > a and b < 3)"
   ]
  },
  {
   "cell_type": "code",
   "execution_count": 2,
   "id": "f02dcff1-0b3d-40f2-94f8-48a52c65a67e",
   "metadata": {},
   "outputs": [
    {
     "name": "stdout",
     "output_type": "stream",
     "text": [
      "True\n"
     ]
    }
   ],
   "source": [
    "# 链式比较\n",
    "print(0 < a < b < 3)"
   ]
  },
  {
   "cell_type": "markdown",
   "id": "94834420-58f3-48be-93ca-87e253e825a1",
   "metadata": {},
   "source": [
    "# 多元赋值"
   ]
  },
  {
   "cell_type": "code",
   "execution_count": 3,
   "id": "ffc2bc89-ca81-4d91-bac0-538cdbbf6a4b",
   "metadata": {},
   "outputs": [
    {
     "name": "stdout",
     "output_type": "stream",
     "text": [
      "2 1\n"
     ]
    }
   ],
   "source": [
    "# 多元赋值（一行代码给多个变量赋值)\n",
    "a, b = 1, 2\n",
    "# 通过临时变量进行交互a和b的值\n",
    "t = a\n",
    "a = b\n",
    "b = t\n",
    "print(a, b)"
   ]
  },
  {
   "cell_type": "code",
   "execution_count": 4,
   "id": "404cdddd-c2b2-455d-a8c6-9dd259a77672",
   "metadata": {},
   "outputs": [
    {
     "name": "stdout",
     "output_type": "stream",
     "text": [
      "2 1\n"
     ]
    }
   ],
   "source": [
    "a = 1\n",
    "b = 2\n",
    "# 通过多元赋值来进行交换\n",
    "a, b = b, a\n",
    "print(a, b)"
   ]
  },
  {
   "cell_type": "markdown",
   "id": "343853a1-0e47-4558-8b98-a95e4b563a97",
   "metadata": {},
   "source": [
    "# 三元运算"
   ]
  },
  {
   "cell_type": "code",
   "execution_count": 5,
   "id": "5ed32d40-5354-4cb8-9c80-d5d9ea06adb4",
   "metadata": {},
   "outputs": [
    {
     "name": "stdout",
     "output_type": "stream",
     "text": [
      "2\n"
     ]
    }
   ],
   "source": [
    "#python不支持c语言中的三元运算\n",
    "a = 1\n",
    "#b = a==1 ? 2:3 # invalid syntax\n",
    "\n",
    "# 使用多行if-else语句实现程序逻辑\n",
    "if a == 1:\n",
    "    b = 2\n",
    "else:\n",
    "    b = 3\n",
    "print(b)"
   ]
  },
  {
   "cell_type": "code",
   "execution_count": 6,
   "id": "7953c5d3-cd3b-40f3-a24c-11178b093094",
   "metadata": {},
   "outputs": [
    {
     "name": "stdout",
     "output_type": "stream",
     "text": [
      "2\n"
     ]
    }
   ],
   "source": [
    "# 使用一行if-else来实现类似c语言的三元运算\n",
    "a = 1\n",
    "b = 2 if a ==1 else 3\n",
    "print(b)"
   ]
  },
  {
   "cell_type": "markdown",
   "id": "dc005e70-8f93-44b5-bda2-07b2c4816587",
   "metadata": {},
   "source": [
    "# 参数解包"
   ]
  },
  {
   "cell_type": "code",
   "execution_count": 7,
   "id": "d2ca873f-48d0-4cfe-8fea-03c73cbe4ee6",
   "metadata": {},
   "outputs": [
    {
     "name": "stdout",
     "output_type": "stream",
     "text": [
      "x:1, y:3\n"
     ]
    }
   ],
   "source": [
    "def print_pose(x, y):\n",
    "    print(f'x:{x}, y:{y}')\n",
    "\n",
    "# 正常的调用\n",
    "pose = [1, 3] # 列表\n",
    "print_pose(pose[0], pose[1])"
   ]
  },
  {
   "cell_type": "code",
   "execution_count": 8,
   "id": "19980d6a-aa70-4ae7-a12a-b7e0f1d5fb88",
   "metadata": {},
   "outputs": [
    {
     "name": "stdout",
     "output_type": "stream",
     "text": [
      "[1, 3]\n",
      "1 3\n",
      "x:1, y:3\n",
      "(1, 3)\n",
      "1 3\n",
      "x:1, y:3\n",
      "13\n",
      "1 3\n",
      "x:1, y:3\n"
     ]
    }
   ],
   "source": [
    "# 对可迭代对象就可以进行通过在变量前面加*表示进行参数解包\n",
    "pose = [1, 3] # 列表\n",
    "print(pose)\n",
    "print(*pose)\n",
    "print_pose(*pose)\n",
    "\n",
    "pose = (1, 3) # 元组\n",
    "print(pose)\n",
    "print(*pose)\n",
    "print_pose(*pose)\n",
    "\n",
    "pose = '13' # 字符串\n",
    "print(pose)\n",
    "print(*pose)\n",
    "print_pose(*pose)"
   ]
  },
  {
   "cell_type": "code",
   "execution_count": 9,
   "id": "f48e5ea8-b18f-44c2-83e9-411a62ab5172",
   "metadata": {},
   "outputs": [
    {
     "name": "stdout",
     "output_type": "stream",
     "text": [
      "x:1, y:3\n",
      "x:1, y:3\n"
     ]
    }
   ],
   "source": [
    "pose = {'x': 1, 'y':3}\n",
    "print_pose(pose['x'], pose['y'])\n",
    "# 对字典对象可以通过在变量前面加**进行参数解包\n",
    "print_pose(**pose)"
   ]
  },
  {
   "cell_type": "markdown",
   "id": "66213d63-080f-4e81-a4e4-8957069e2cfe",
   "metadata": {},
   "source": [
    "# 枚举函数\n",
    "在遍历可迭代对象(比如list)的时候，如果想同时获取元素的索引，你可以使用枚举函数"
   ]
  },
  {
   "cell_type": "code",
   "execution_count": 10,
   "id": "de560cf6-5882-4bc3-82c0-d4c8029e4941",
   "metadata": {},
   "outputs": [
    {
     "name": "stdout",
     "output_type": "stream",
     "text": [
      "index:0, item:a\n",
      "index:1, item:b\n",
      "index:2, item:c\n"
     ]
    }
   ],
   "source": [
    "a = ['a', 'b', 'c']\n",
    "\n",
    "# 普通遍历\n",
    "index = 0\n",
    "while index < len(a):\n",
    "    print(f'index:{index}, item:{a[index]}')\n",
    "    index += 1"
   ]
  },
  {
   "cell_type": "code",
   "execution_count": 11,
   "id": "f2d2ee5f-183b-43f9-9c51-de97cef2159c",
   "metadata": {},
   "outputs": [
    {
     "name": "stdout",
     "output_type": "stream",
     "text": [
      "index:0, item:a\n",
      "index:1, item:b\n",
      "index:2, item:c\n"
     ]
    }
   ],
   "source": [
    "# 使用枚举函数进行遍历\n",
    "for index, item in enumerate(a):\n",
    "    print(f'index:{index}, item:{item}')"
   ]
  },
  {
   "cell_type": "code",
   "execution_count": null,
   "id": "ccf1159b-61b7-440a-9195-e867da5e2881",
   "metadata": {},
   "outputs": [],
   "source": []
  }
 ],
 "metadata": {
  "kernelspec": {
   "display_name": "Python 3 (ipykernel)",
   "language": "python",
   "name": "python3"
  },
  "language_info": {
   "codemirror_mode": {
    "name": "ipython",
    "version": 3
   },
   "file_extension": ".py",
   "mimetype": "text/x-python",
   "name": "python",
   "nbconvert_exporter": "python",
   "pygments_lexer": "ipython3",
   "version": "3.10.4"
  }
 },
 "nbformat": 4,
 "nbformat_minor": 5
}
