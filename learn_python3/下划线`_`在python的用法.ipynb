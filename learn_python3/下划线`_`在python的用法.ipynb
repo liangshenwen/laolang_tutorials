{
 "cells": [
  {
   "cell_type": "markdown",
   "id": "0cd62bf6-3764-40da-bd16-98429b89a38b",
   "metadata": {},
   "source": [
    "# 1. 单个下划线"
   ]
  },
  {
   "cell_type": "markdown",
   "id": "f0cdb7be-6f01-4c50-afef-82c904cfc66c",
   "metadata": {},
   "source": [
    "## 1.1 在python解释器中，单个下划线会指向最后一次执行的表达式"
   ]
  },
  {
   "cell_type": "code",
   "execution_count": 1,
   "id": "dff0f34c-628d-4d37-8ff8-2c56cae95bf8",
   "metadata": {},
   "outputs": [
    {
     "data": {
      "text/plain": [
       "13"
      ]
     },
     "execution_count": 1,
     "metadata": {},
     "output_type": "execute_result"
    }
   ],
   "source": [
    "5 + 8"
   ]
  },
  {
   "cell_type": "code",
   "execution_count": 2,
   "id": "5899985e-12c6-4c50-b384-c4047405ba94",
   "metadata": {},
   "outputs": [
    {
     "data": {
      "text/plain": [
       "13"
      ]
     },
     "execution_count": 2,
     "metadata": {},
     "output_type": "execute_result"
    }
   ],
   "source": [
    "_"
   ]
  },
  {
   "cell_type": "code",
   "execution_count": 3,
   "id": "725465e5-e7d2-4efd-890f-56c5ccf03c67",
   "metadata": {},
   "outputs": [
    {
     "data": {
      "text/plain": [
       "22"
      ]
     },
     "execution_count": 3,
     "metadata": {},
     "output_type": "execute_result"
    }
   ],
   "source": [
    "_ + 9"
   ]
  },
  {
   "cell_type": "code",
   "execution_count": 4,
   "id": "975a7b52-8f11-4527-b335-f76ea0178abb",
   "metadata": {},
   "outputs": [],
   "source": [
    "a = 8"
   ]
  },
  {
   "cell_type": "code",
   "execution_count": 5,
   "id": "2b8527b5-393f-4165-a707-07fd16778202",
   "metadata": {},
   "outputs": [
    {
     "data": {
      "text/plain": [
       "22"
      ]
     },
     "execution_count": 5,
     "metadata": {},
     "output_type": "execute_result"
    }
   ],
   "source": [
    "_"
   ]
  },
  {
   "cell_type": "code",
   "execution_count": 6,
   "id": "3e2b68e2-c368-4cae-b1db-39131d72c9ca",
   "metadata": {},
   "outputs": [
    {
     "data": {
      "text/plain": [
       "30"
      ]
     },
     "execution_count": 6,
     "metadata": {},
     "output_type": "execute_result"
    }
   ],
   "source": [
    "_ + a"
   ]
  },
  {
   "cell_type": "code",
   "execution_count": 7,
   "id": "9b8dc9fb-5f01-4f87-8dcf-274f11c7b422",
   "metadata": {},
   "outputs": [
    {
     "data": {
      "text/plain": [
       "30"
      ]
     },
     "execution_count": 7,
     "metadata": {},
     "output_type": "execute_result"
    }
   ],
   "source": [
    "_"
   ]
  },
  {
   "cell_type": "markdown",
   "id": "5a397101-3dc5-466c-aaae-e966f177fa10",
   "metadata": {},
   "source": [
    "## 1.2 使用单个下划线来格式化变量的值"
   ]
  },
  {
   "cell_type": "code",
   "execution_count": 8,
   "id": "66a7f055-b243-4a0a-9fd2-effb4ab39695",
   "metadata": {},
   "outputs": [
    {
     "name": "stdout",
     "output_type": "stream",
     "text": [
      "<class 'int'>\n"
     ]
    },
    {
     "data": {
      "text/plain": [
       "9000000000"
      ]
     },
     "execution_count": 8,
     "metadata": {},
     "output_type": "execute_result"
    }
   ],
   "source": [
    "# 整型\n",
    "num = 9_000_000_000\n",
    "print(type(num))\n",
    "num"
   ]
  },
  {
   "cell_type": "code",
   "execution_count": 9,
   "id": "e6b91923-ff09-4aec-aa6e-aaaad3a0d397",
   "metadata": {},
   "outputs": [
    {
     "name": "stdout",
     "output_type": "stream",
     "text": [
      "<class 'float'>\n"
     ]
    },
    {
     "data": {
      "text/plain": [
       "1000.005001"
      ]
     },
     "execution_count": 9,
     "metadata": {},
     "output_type": "execute_result"
    }
   ],
   "source": [
    "# 浮点型\n",
    "price = 1_000.005_001\n",
    "print(type(price))\n",
    "price"
   ]
  },
  {
   "cell_type": "markdown",
   "id": "a5e9ace4-3ffe-4f7f-a043-b428bf1ab25c",
   "metadata": {},
   "source": [
    "## 1.3 单个下划线可以使用在循环语句中来表示这个变量可以不被使用(避免IDE中语法检查器告警这个变量没有被使用）"
   ]
  },
  {
   "cell_type": "code",
   "execution_count": 10,
   "id": "8b76ca2e-b169-48af-9e46-a586bddcdcac",
   "metadata": {},
   "outputs": [
    {
     "name": "stdout",
     "output_type": "stream",
     "text": [
      "0\n",
      "1\n",
      "2\n",
      "3\n",
      "4\n"
     ]
    }
   ],
   "source": [
    "# 避免IDE中语法检查器告警这个变量没有被使用\n",
    "for _ in range(5):\n",
    "    pass\n",
    "\n",
    "# 当然你也可以把_当做一个真实变量来使用\n",
    "for _ in range(5):\n",
    "    print(_)"
   ]
  },
  {
   "cell_type": "markdown",
   "id": "a83079bb-a009-4daf-b8fe-34de23c53db1",
   "metadata": {},
   "source": [
    "## 1.4 以单下划线开头来定义变量，函数，方法，类，函数，表示它们是private的，外部不应该使用"
   ]
  },
  {
   "cell_type": "code",
   "execution_count": 11,
   "id": "d591e901-7210-450d-8260-a4b6c6f4b4bc",
   "metadata": {},
   "outputs": [
    {
     "name": "stdout",
     "output_type": "stream",
     "text": [
      "Samo\n",
      "Samo11\n"
     ]
    }
   ],
   "source": [
    "class MyPerson:\n",
    "    def my_func(self, name):\n",
    "        print(name)\n",
    "        \n",
    "    def _my_func(self, name):\n",
    "        print(name)\n",
    "        \n",
    "# 这是一个内部类，外部不应该使用它\n",
    "class _MyPerson:\n",
    "    pass\n",
    "\n",
    "\n",
    "MyPerson().my_func('Samo') # 外部可以使用它\n",
    "\n",
    "MyPerson()._my_func('Samo11') # 外部不应该使用它"
   ]
  },
  {
   "cell_type": "markdown",
   "id": "267440c9-ba99-4ef8-8bf3-655cfdcb9218",
   "metadata": {},
   "source": [
    "## 1.5 使用单个下划线结尾来区分python的关键字\n",
    "在python中，我们是不能够使用保留关键字，比如class, def 等来命名方法，变量等的，如果非用不可，你可以考虑使用单个下划线结尾来区分python的关键字， 但不建议"
   ]
  },
  {
   "cell_type": "code",
   "execution_count": 12,
   "id": "eb98e5d6-2b67-498d-a598-914ce034f032",
   "metadata": {},
   "outputs": [
    {
     "data": {
      "text/plain": [
       "1"
      ]
     },
     "execution_count": 12,
     "metadata": {},
     "output_type": "execute_result"
    }
   ],
   "source": [
    "def_ = 1\n",
    "def_"
   ]
  },
  {
   "cell_type": "code",
   "execution_count": 13,
   "id": "ae0e3871-ffc6-4cdd-bbb7-0ddc1412eaaa",
   "metadata": {},
   "outputs": [
    {
     "data": {
      "text/plain": [
       "'ABC'"
      ]
     },
     "execution_count": 13,
     "metadata": {},
     "output_type": "execute_result"
    }
   ],
   "source": [
    "class_ = 'ABC'\n",
    "class_"
   ]
  },
  {
   "cell_type": "markdown",
   "id": "826256bd-806f-4f05-b5aa-e06afbe47746",
   "metadata": {},
   "source": [
    "# 2. 双下划线"
   ]
  },
  {
   "cell_type": "markdown",
   "id": "d28b3f34-55c6-4f16-a752-a5f8840cc581",
   "metadata": {},
   "source": [
    "## 2.1 定义魔法函数(python内置好的函数 -》两个下划线开头和两个下划线结尾)"
   ]
  },
  {
   "cell_type": "code",
   "execution_count": 14,
   "id": "ab8eeda0-aaca-43a8-b17d-4d876fe73ba2",
   "metadata": {},
   "outputs": [],
   "source": [
    "__all__ = ['Person']\n",
    "\n",
    "class Person:\n",
    "    def __init__(self, name):\n",
    "        self.name = name\n",
    "        \n"
   ]
  },
  {
   "cell_type": "markdown",
   "id": "eded94fb-1830-4c5f-97fb-c100ed83c39e",
   "metadata": {},
   "source": [
    "## 2.2 用双下划线来命名类成员，可以防止子类重新父类的成员"
   ]
  },
  {
   "cell_type": "code",
   "execution_count": 15,
   "id": "1afb49b1-89dc-4a49-b88c-14b85b500186",
   "metadata": {},
   "outputs": [
    {
     "name": "stdout",
     "output_type": "stream",
     "text": [
      "ClassA\n",
      "['_ClassA__age', '__class__', '__delattr__', '__dict__', '__dir__', '__doc__', '__eq__', '__format__', '__ge__', '__getattribute__', '__gt__', '__hash__', '__init__', '__init_subclass__', '__le__', '__lt__', '__module__', '__ne__', '__new__', '__reduce__', '__reduce_ex__', '__repr__', '__setattr__', '__sizeof__', '__str__', '__subclasshook__', '__weakref__', 'name']\n",
      "18\n"
     ]
    }
   ],
   "source": [
    "class ClassA:\n",
    "    def __init__(self):\n",
    "        self.name = 'ClassA'\n",
    "        self.__age = 18\n",
    "        \n",
    "print(ClassA().name)\n",
    "# print(ClassA().__age) # 'ClassA' object has no attribute '__age'\n",
    "print(dir(ClassA())) # __age属性已经被修改为_ClassA__age\n",
    "print(ClassA()._ClassA__age)"
   ]
  },
  {
   "cell_type": "code",
   "execution_count": 17,
   "id": "664a2a87-bb79-44d0-bde2-97eb3acc4d88",
   "metadata": {},
   "outputs": [
    {
     "name": "stdout",
     "output_type": "stream",
     "text": [
      "ClassB\n",
      "['_ClassB__age', '__class__', '__delattr__', '__dict__', '__dir__', '__doc__', '__eq__', '__format__', '__ge__', '__getattribute__', '__gt__', '__hash__', '__init__', '__init_subclass__', '__le__', '__lt__', '__module__', '__ne__', '__new__', '__reduce__', '__reduce_ex__', '__repr__', '__setattr__', '__sizeof__', '__str__', '__subclasshook__', '__weakref__', 'name']\n"
     ]
    }
   ],
   "source": [
    "class ClassB(ClassA):\n",
    "    def __init__(self):\n",
    "        super(ClassA, self).__init__()\n",
    "        self.name = 'ClassB'\n",
    "        self.__age = 12\n",
    "print(ClassB().name)        \n",
    "print(dir(ClassB()))"
   ]
  },
  {
   "cell_type": "code",
   "execution_count": null,
   "id": "0cd05ff5-a9b8-4b4b-88fb-51d62a37071b",
   "metadata": {},
   "outputs": [],
   "source": []
  }
 ],
 "metadata": {
  "kernelspec": {
   "display_name": "Python 3 (ipykernel)",
   "language": "python",
   "name": "python3"
  },
  "language_info": {
   "codemirror_mode": {
    "name": "ipython",
    "version": 3
   },
   "file_extension": ".py",
   "mimetype": "text/x-python",
   "name": "python",
   "nbconvert_exporter": "python",
   "pygments_lexer": "ipython3",
   "version": "3.10.4"
  }
 },
 "nbformat": 4,
 "nbformat_minor": 5
}
